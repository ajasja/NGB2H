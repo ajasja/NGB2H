{
 "cells": [
  {
   "cell_type": "code",
   "execution_count": 1,
   "source": [
    "from __future__ import division, absolute_import, print_function\n",
    "%load_ext autoreload\n",
    "%autoreload 2\n",
    "\n",
    "import os \n",
    "#os.chdir(r\"D:\\data\\ortoCC\\design-with-alignments\\mason_small\")\n",
    "print(os.getcwd()) \n",
    "    \n",
    "import hepran\n",
    "import hepran.bzipscore as bz\n",
    "import hepran.bcipa as bc\n",
    "import hepran.utils as u\n",
    "import hepran.registers as r\n",
    "\n",
    "import hepran.agadir as ag\n",
    "\n",
    "import pandas as pd\n",
    "import numpy as np\n",
    "import seaborn as sns\n",
    "    \n",
    "%matplotlib inline\n",
    "\n",
    "import matplotlib as mpl\n",
    "import matplotlib.pylab as plt\n",
    "\n",
    "import pandas as pd\n",
    "\n",
    "#import fcs_utils\n",
    "#fcs_utils.set_plot_style()\n",
    "    \n",
    "CCO = os.environ.get(\"CCO\",r\"C:\\Projekti_KI\\ortoCC\\CoiledCoilOrtho\")"
   ],
   "outputs": [
    {
     "output_type": "stream",
     "name": "stdout",
     "text": [
      "D:\\data\\ortoCC\\fine_tune_scoring_function\n"
     ]
    }
   ],
   "metadata": {}
  },
  {
   "cell_type": "code",
   "execution_count": 1,
   "source": [
    "for sfunc in \"complete,rfe,vinson_ce,fong_svm,bcipa\".split(','):\n",
    "    print(sfunc)\n",
    "    !python bzipscore-all.py data/mason_small.fasta --sfunc {sfunc}  -o data/mason_small.{sfunc}.score"
   ],
   "outputs": [
    {
     "output_type": "stream",
     "name": "stdout",
     "text": [
      "complete\n",
      "Saved interaction matrix to: data/mason_small.complete.score\n",
      "rfe\n"
     ]
    },
    {
     "output_type": "stream",
     "name": "stderr",
     "text": [
      "dos2unix: converting file 'data/mason_small.fasta' to UNIX format ...\n",
      "dos2unix: problems converting file 'data/mason_small.fasta'\n"
     ]
    },
    {
     "output_type": "stream",
     "name": "stdout",
     "text": [
      "Saved interaction matrix to: data/mason_small.rfe.score\n",
      "vinson_ce\n"
     ]
    },
    {
     "output_type": "stream",
     "name": "stderr",
     "text": [
      "dos2unix: converting file 'data/mason_small.fasta' to UNIX format ...\n",
      "dos2unix: problems converting file 'data/mason_small.fasta'\n"
     ]
    },
    {
     "output_type": "stream",
     "name": "stdout",
     "text": [
      "Saved interaction matrix to: data/mason_small.vinson_ce.score\n",
      "fong_svm\n"
     ]
    },
    {
     "output_type": "stream",
     "name": "stderr",
     "text": [
      "dos2unix: converting file 'data/mason_small.fasta' to UNIX format ...\n",
      "dos2unix: problems converting file 'data/mason_small.fasta'\n"
     ]
    },
    {
     "output_type": "stream",
     "name": "stdout",
     "text": [
      "Saved interaction matrix to: data/mason_small.fong_svm.score\n",
      "bcipa\n"
     ]
    },
    {
     "output_type": "stream",
     "name": "stderr",
     "text": [
      "dos2unix: converting file 'data/mason_small.fasta' to UNIX format ...\n",
      "dos2unix: problems converting file 'data/mason_small.fasta'\n"
     ]
    },
    {
     "output_type": "stream",
     "name": "stdout",
     "text": [
      "Saved interaction matrix to: data/mason_small.bcipa.score\n"
     ]
    },
    {
     "output_type": "stream",
     "name": "stderr",
     "text": [
      "dos2unix: converting file 'data/mason_small.fasta' to UNIX format ...\n",
      "dos2unix: problems converting file 'data/mason_small.fasta'\n"
     ]
    }
   ],
   "metadata": {}
  },
  {
   "cell_type": "code",
   "execution_count": 2,
   "source": [
    "for sfunc in \"complete,rfe,vinson_ce,fong_svm,bcipa\".split(','):\n",
    "    !python bzipscore-all.py data/mason.fasta --sfunc {sfunc}  -o data/mason.{sfunc}.score"
   ],
   "outputs": [
    {
     "output_type": "stream",
     "name": "stdout",
     "text": [
      "Saved interaction matrix to: data/mason.complete.score\n"
     ]
    },
    {
     "output_type": "stream",
     "name": "stderr",
     "text": [
      "dos2unix: converting file 'data/mason.fasta' to UNIX format ...\n",
      "dos2unix: problems converting file 'data/mason.fasta'\n"
     ]
    },
    {
     "output_type": "stream",
     "name": "stdout",
     "text": [
      "Saved interaction matrix to: data/mason.rfe.score\n"
     ]
    },
    {
     "output_type": "stream",
     "name": "stderr",
     "text": [
      "dos2unix: converting file 'data/mason.fasta' to UNIX format ...\n",
      "dos2unix: problems converting file 'data/mason.fasta'\n"
     ]
    },
    {
     "output_type": "stream",
     "name": "stdout",
     "text": [
      "Saved interaction matrix to: data/mason.vinson_ce.score\n"
     ]
    },
    {
     "output_type": "stream",
     "name": "stderr",
     "text": [
      "dos2unix: converting file 'data/mason.fasta' to UNIX format ...\n",
      "dos2unix: problems converting file 'data/mason.fasta'\n"
     ]
    },
    {
     "output_type": "stream",
     "name": "stdout",
     "text": [
      "Saved interaction matrix to: data/mason.fong_svm.score\n"
     ]
    },
    {
     "output_type": "stream",
     "name": "stderr",
     "text": [
      "dos2unix: converting file 'data/mason.fasta' to UNIX format ...\n",
      "dos2unix: problems converting file 'data/mason.fasta'\n"
     ]
    },
    {
     "output_type": "stream",
     "name": "stdout",
     "text": [
      "Saved interaction matrix to: data/mason.bcipa.score\n"
     ]
    },
    {
     "output_type": "stream",
     "name": "stderr",
     "text": [
      "dos2unix: converting file 'data/mason.fasta' to UNIX format ...\n",
      "dos2unix: problems converting file 'data/mason.fasta'\n"
     ]
    }
   ],
   "metadata": {}
  },
  {
   "cell_type": "code",
   "execution_count": 28,
   "source": [
    "\n",
    "\n",
    "def sortIDs(row):\n",
    "    row.ID1,row.ID2 = sorted([row.ID1,row.ID2])\n",
    "    return row\n",
    "\n",
    "\n",
    "def convert_to_xlsx(file_name, skip_save=False):\n",
    "    df = pd.read_csv(file_name, header=None, names=\"ID1 ID2 score\".split())\n",
    "    df = df.apply(sortIDs, axis=1)\n",
    "    df.set_index(keys=\"ID1 ID2\".split(), inplace=True)\n",
    "    if not skip_save:\n",
    "        df.to_excel(u.replace_extension(file_name, \".xlsx\"))\n",
    "    return df\n",
    "\n",
    "\n",
    "\n",
    "for sfunc in \"complete,rfe,vinson_ce,fong_svm,bcipa\".split(','):\n",
    "    name1 = \"data/mason.{sfunc}.score\".format(**locals())\n",
    "    name2 = \"data/mason_small.{sfunc}.score\".format(**locals())\n",
    "    df1 = convert_to_xlsx(name1, skip_save=True)    \n",
    "    df2 = convert_to_xlsx(name2, skip_save=True)    \n",
    "    df1 = df1.append(df2)\n",
    "    df1.to_excel(\"data/mason_both.{sfunc}.score.xlsx\".format(**locals()))"
   ],
   "outputs": [],
   "metadata": {}
  },
  {
   "cell_type": "code",
   "execution_count": 4,
   "source": [
    "df = pd.read_excel(\"data/all.xlsx\", index_col=[0,1])\r\n",
    "pairs = u.load_set_file('data/mason.set')\r\n"
   ],
   "outputs": [],
   "metadata": {}
  },
  {
   "cell_type": "code",
   "execution_count": 29,
   "source": [
    "ids = u.get_ids_from_fasta('data/mason.fasta')\r\n",
    "OO = df.query('(ID1 in @ids) and (ID2 in @ids) and condition==6')"
   ],
   "outputs": [],
   "metadata": {}
  },
  {
   "cell_type": "code",
   "execution_count": 31,
   "source": [
    "\r\n",
    "ln_med_RD = OO[['ln_med_RD']]\r\n",
    "ln_med_RD.columns = ['score']\r\n",
    "ln_med_RD.to_excel(\"data/mason_both.ln_med_RD.score.xlsx\")\r\n"
   ],
   "outputs": [],
   "metadata": {}
  },
  {
   "cell_type": "code",
   "execution_count": 32,
   "source": [
    "ln_med_RD = OO[['ln_mean_RD']]\r\n",
    "ln_med_RD.columns = ['score']\r\n",
    "ln_med_RD.to_excel(\"data/mason_both.ln_mean_RD.score.xlsx\")"
   ],
   "outputs": [],
   "metadata": {}
  },
  {
   "cell_type": "code",
   "execution_count": null,
   "source": [],
   "outputs": [],
   "metadata": {}
  }
 ],
 "metadata": {
  "anaconda-cloud": {},
  "hide_input": false,
  "kernelspec": {
   "display_name": "Python 3",
   "language": "python",
   "name": "python3"
  },
  "language_info": {
   "codemirror_mode": {
    "name": "ipython",
    "version": 3
   },
   "file_extension": ".py",
   "mimetype": "text/x-python",
   "name": "python",
   "nbconvert_exporter": "python",
   "pygments_lexer": "ipython3",
   "version": "3.6.5"
  }
 },
 "nbformat": 4,
 "nbformat_minor": 2
}