{
 "cells": [
  {
   "cell_type": "code",
   "execution_count": 1,
   "metadata": {
    "collapsed": false
   },
   "outputs": [
    {
     "name": "stdout",
     "output_type": "stream",
     "text": [
      "D:\\data\\ortoCC\\fine_tune_scoring_function\n"
     ]
    }
   ],
   "source": [
    "from __future__ import division, absolute_import, print_function\n",
    "%load_ext autoreload\n",
    "%autoreload 2\n",
    "\n",
    "import os \n",
    "print(os.getcwd()) \n",
    "    \n",
    "#import hepran\n",
    "#import hepran.bzipscore as bz\n",
    "#import hepran.bcipa as bc\n",
    "#import hepran.utils as u\n",
    "#import hepran.registers as r\n",
    "#import hepran.agadir as ag\n",
    "\n",
    "import pandas as pd\n",
    "import numpy as np\n",
    "import seaborn as sns\n",
    "    \n",
    "%matplotlib inline\n",
    "\n",
    "import matplotlib as mpl\n",
    "import matplotlib.pylab as plt\n",
    "\n",
    "import sklearn as sk\n",
    "\n",
    "\n",
    "CCO = os.environ.get(\"CCO\",r\"C:\\Projekti_KI\\ortoCC\\CoiledCoilOrtho\")\n",
    "\n",
    "\n",
    "def getRMSE(x, y, df):\n",
    "    return np.sqrt(((df[x]-df[y])**2).mean())"
   ]
  },
  {
   "cell_type": "code",
   "execution_count": 2,
   "metadata": {
    "collapsed": true
   },
   "outputs": [],
   "source": [
    "df = pd.read_excel('data/round0_fiting.xlsx',index_col=[0,1])"
   ]
  },
  {
   "cell_type": "code",
   "execution_count": 3,
   "metadata": {
    "collapsed": false
   },
   "outputs": [
    {
     "data": {
      "text/plain": [
       "Index([u'seq1', u'seq2', u'Tm', u'on_target', u'avg_HP1', u'avg_HP2',\n",
       "       u'avg_HP_12', u'HP1', u'HP2', u'HP_12', u'c_NN', u'c_IN', u'c_II',\n",
       "       u'es_EE', u'es_EK', u'es_KK'],\n",
       "      dtype='object')"
      ]
     },
     "execution_count": 3,
     "metadata": {},
     "output_type": "execute_result"
    }
   ],
   "source": [
    "df.head(5)\n",
    "df.columns"
   ]
  },
  {
   "cell_type": "code",
   "execution_count": 4,
   "metadata": {
    "collapsed": false
   },
   "outputs": [
    {
     "data": {
      "text/plain": [
       "<matplotlib.axes._subplots.AxesSubplot at 0x9fa1150>"
      ]
     },
     "execution_count": 4,
     "metadata": {},
     "output_type": "execute_result"
    },
    {
     "data": {
      "image/png": "[encoded data removed]",
      "text/plain": [
       "<matplotlib.figure.Figure at 0x31e56b0>"
      ]
     },
     "metadata": {},
     "output_type": "display_data"
    }
   ],
   "source": [
    "df.Tm.plot.hist()"
   ]
  },
  {
   "cell_type": "code",
   "execution_count": 51,
   "metadata": {
    "collapsed": false
   },
   "outputs": [
    {
     "data": {
      "text/plain": [
       "<matplotlib.axes._subplots.AxesSubplot at 0xa514630>"
      ]
     },
     "execution_count": 51,
     "metadata": {},
     "output_type": "execute_result"
    },
    {
     "data": {
      "image/png": "[encoded data removed]",
      "text/plain": [
       "<matplotlib.figure.Figure at 0xa3dfe50>"
      ]
     },
     "metadata": {},
     "output_type": "display_data"
    }
   ],
   "source": [
    "df.avg_HP_12.plot.hist()"
   ]
  },
  {
   "cell_type": "code",
   "execution_count": 52,
   "metadata": {
    "collapsed": false
   },
   "outputs": [
    {
     "data": {
      "text/html": [
       "<div>\n",
       "<style>\n",
       "    .dataframe thead tr:only-child th {\n",
       "        text-align: right;\n",
       "    }\n",
       "\n",
       "    .dataframe thead th {\n",
       "        text-align: left;\n",
       "    }\n",
       "\n",
       "    .dataframe tbody tr th {\n",
       "        vertical-align: top;\n",
       "    }\n",
       "</style>\n",
       "<table border=\"1\" class=\"dataframe\">\n",
       "  <thead>\n",
       "    <tr style=\"text-align: right;\">\n",
       "      <th></th>\n",
       "      <th></th>\n",
       "      <th>seq1</th>\n",
       "      <th>seq2</th>\n",
       "      <th>Tm</th>\n",
       "      <th>on_target</th>\n",
       "      <th>avg_HP1</th>\n",
       "      <th>avg_HP2</th>\n",
       "      <th>avg_HP_12</th>\n",
       "      <th>HP1</th>\n",
       "      <th>HP2</th>\n",
       "      <th>HP_12</th>\n",
       "      <th>c_NN</th>\n",
       "      <th>c_IN</th>\n",
       "      <th>c_II</th>\n",
       "      <th>es_EE</th>\n",
       "      <th>es_EK</th>\n",
       "      <th>es_KK</th>\n",
       "    </tr>\n",
       "    <tr>\n",
       "      <th>ID1</th>\n",
       "      <th>ID2</th>\n",
       "      <th></th>\n",
       "      <th></th>\n",
       "      <th></th>\n",
       "      <th></th>\n",
       "      <th></th>\n",
       "      <th></th>\n",
       "      <th></th>\n",
       "      <th></th>\n",
       "      <th></th>\n",
       "      <th></th>\n",
       "      <th></th>\n",
       "      <th></th>\n",
       "      <th></th>\n",
       "      <th></th>\n",
       "      <th></th>\n",
       "      <th></th>\n",
       "    </tr>\n",
       "  </thead>\n",
       "  <tbody>\n",
       "    <tr>\n",
       "      <th>O1</th>\n",
       "      <th>O2</th>\n",
       "      <td>DKNAALKAENAALEYEIAALEAEIAALEG</td>\n",
       "      <td>DENAALEAKNAALKYKIAALKAKIAALKG</td>\n",
       "      <td>72</td>\n",
       "      <td>True</td>\n",
       "      <td>1.286897</td>\n",
       "      <td>1.237241</td>\n",
       "      <td>1.262069</td>\n",
       "      <td>37.32</td>\n",
       "      <td>35.88</td>\n",
       "      <td>73.2</td>\n",
       "      <td>2</td>\n",
       "      <td>0</td>\n",
       "      <td>2</td>\n",
       "      <td>0</td>\n",
       "      <td>8</td>\n",
       "      <td>0</td>\n",
       "    </tr>\n",
       "    <tr>\n",
       "      <th>O3</th>\n",
       "      <th>O4</th>\n",
       "      <td>DEIAALEAKIAALKYENAALEAENAALEG</td>\n",
       "      <td>DKIAALKAEIAALEYKNAALKAKNAALKG</td>\n",
       "      <td>68</td>\n",
       "      <td>True</td>\n",
       "      <td>1.286897</td>\n",
       "      <td>1.237241</td>\n",
       "      <td>1.262069</td>\n",
       "      <td>37.32</td>\n",
       "      <td>35.88</td>\n",
       "      <td>73.2</td>\n",
       "      <td>2</td>\n",
       "      <td>0</td>\n",
       "      <td>2</td>\n",
       "      <td>0</td>\n",
       "      <td>8</td>\n",
       "      <td>0</td>\n",
       "    </tr>\n",
       "    <tr>\n",
       "      <th>O5</th>\n",
       "      <th>O6</th>\n",
       "      <td>DENAALEAEIAALEYKNAALKAEIAALEG</td>\n",
       "      <td>DKNAALKAKIAALKYENAALEAKIAALKG</td>\n",
       "      <td>71</td>\n",
       "      <td>True</td>\n",
       "      <td>1.286897</td>\n",
       "      <td>1.237241</td>\n",
       "      <td>1.262069</td>\n",
       "      <td>37.32</td>\n",
       "      <td>35.88</td>\n",
       "      <td>73.2</td>\n",
       "      <td>2</td>\n",
       "      <td>0</td>\n",
       "      <td>2</td>\n",
       "      <td>0</td>\n",
       "      <td>8</td>\n",
       "      <td>0</td>\n",
       "    </tr>\n",
       "    <tr>\n",
       "      <th>O7</th>\n",
       "      <th>O8</th>\n",
       "      <td>DKIAALKAKNAALKYKIAALKAENAALEG</td>\n",
       "      <td>DEIAALEAENAALEYEIAALEAKNAALKG</td>\n",
       "      <td>68</td>\n",
       "      <td>True</td>\n",
       "      <td>1.237241</td>\n",
       "      <td>1.286897</td>\n",
       "      <td>1.262069</td>\n",
       "      <td>35.88</td>\n",
       "      <td>37.32</td>\n",
       "      <td>73.2</td>\n",
       "      <td>2</td>\n",
       "      <td>0</td>\n",
       "      <td>2</td>\n",
       "      <td>0</td>\n",
       "      <td>8</td>\n",
       "      <td>0</td>\n",
       "    </tr>\n",
       "    <tr>\n",
       "      <th>O10</th>\n",
       "      <th>O9</th>\n",
       "      <td>DKNAALKAENAALEYKIAALKAKIAALKG</td>\n",
       "      <td>DENAALEAKNAALKYEIAALEAEIAALEG</td>\n",
       "      <td>69</td>\n",
       "      <td>True</td>\n",
       "      <td>1.237241</td>\n",
       "      <td>1.286897</td>\n",
       "      <td>1.262069</td>\n",
       "      <td>35.88</td>\n",
       "      <td>37.32</td>\n",
       "      <td>73.2</td>\n",
       "      <td>2</td>\n",
       "      <td>0</td>\n",
       "      <td>2</td>\n",
       "      <td>0</td>\n",
       "      <td>8</td>\n",
       "      <td>0</td>\n",
       "    </tr>\n",
       "    <tr>\n",
       "      <th>O11</th>\n",
       "      <th>O12</th>\n",
       "      <td>DKIAALKAEIAALEYENAALEAENAALEG</td>\n",
       "      <td>DEIAALEAKIAALKYKNAALKAKNAALKG</td>\n",
       "      <td>73</td>\n",
       "      <td>True</td>\n",
       "      <td>1.286897</td>\n",
       "      <td>1.237241</td>\n",
       "      <td>1.262069</td>\n",
       "      <td>37.32</td>\n",
       "      <td>35.88</td>\n",
       "      <td>73.2</td>\n",
       "      <td>2</td>\n",
       "      <td>0</td>\n",
       "      <td>2</td>\n",
       "      <td>0</td>\n",
       "      <td>8</td>\n",
       "      <td>0</td>\n",
       "    </tr>\n",
       "    <tr>\n",
       "      <th>O13</th>\n",
       "      <th>O14</th>\n",
       "      <td>DKNAALKAKIAALKYKNAALKAEIAALEG</td>\n",
       "      <td>DENAALEAEIAALEYENAALEAKIAALKG</td>\n",
       "      <td>75</td>\n",
       "      <td>True</td>\n",
       "      <td>1.237241</td>\n",
       "      <td>1.286897</td>\n",
       "      <td>1.262069</td>\n",
       "      <td>35.88</td>\n",
       "      <td>37.32</td>\n",
       "      <td>73.2</td>\n",
       "      <td>2</td>\n",
       "      <td>0</td>\n",
       "      <td>2</td>\n",
       "      <td>0</td>\n",
       "      <td>8</td>\n",
       "      <td>0</td>\n",
       "    </tr>\n",
       "    <tr>\n",
       "      <th>O15</th>\n",
       "      <th>O16</th>\n",
       "      <td>DEIAALEAENAALEYKIAALKAENAALEG</td>\n",
       "      <td>DKIAALKAKNAALKYEIAALEAKNAALKG</td>\n",
       "      <td>52</td>\n",
       "      <td>True</td>\n",
       "      <td>1.286897</td>\n",
       "      <td>1.237241</td>\n",
       "      <td>1.262069</td>\n",
       "      <td>37.32</td>\n",
       "      <td>35.88</td>\n",
       "      <td>73.2</td>\n",
       "      <td>2</td>\n",
       "      <td>0</td>\n",
       "      <td>2</td>\n",
       "      <td>0</td>\n",
       "      <td>8</td>\n",
       "      <td>0</td>\n",
       "    </tr>\n",
       "    <tr>\n",
       "      <th>Q1</th>\n",
       "      <th>Q2</th>\n",
       "      <td>DENAALEAKNAALKYKIAALKAEIAALEG</td>\n",
       "      <td>DKNAALKAENAALEYEIAALEAKIAALKG</td>\n",
       "      <td>63</td>\n",
       "      <td>True</td>\n",
       "      <td>1.262069</td>\n",
       "      <td>1.262069</td>\n",
       "      <td>1.262069</td>\n",
       "      <td>36.60</td>\n",
       "      <td>36.60</td>\n",
       "      <td>73.2</td>\n",
       "      <td>2</td>\n",
       "      <td>0</td>\n",
       "      <td>2</td>\n",
       "      <td>0</td>\n",
       "      <td>8</td>\n",
       "      <td>0</td>\n",
       "    </tr>\n",
       "    <tr>\n",
       "      <th>Q3</th>\n",
       "      <th>Q4</th>\n",
       "      <td>DEIAALEAEIAALEYENAALEAENAALEG</td>\n",
       "      <td>DKIAALKAKIAALKYKNAALKAKNAALKG</td>\n",
       "      <td>71</td>\n",
       "      <td>True</td>\n",
       "      <td>1.311724</td>\n",
       "      <td>1.212414</td>\n",
       "      <td>1.262069</td>\n",
       "      <td>38.04</td>\n",
       "      <td>35.16</td>\n",
       "      <td>73.2</td>\n",
       "      <td>2</td>\n",
       "      <td>0</td>\n",
       "      <td>2</td>\n",
       "      <td>0</td>\n",
       "      <td>8</td>\n",
       "      <td>0</td>\n",
       "    </tr>\n",
       "    <tr>\n",
       "      <th>Q5</th>\n",
       "      <th>Q6</th>\n",
       "      <td>DKNAALKAEIAALEYKIAALKAENAALEG</td>\n",
       "      <td>DENAALEAKIAALKYEIAALEAKNAALKG</td>\n",
       "      <td>60</td>\n",
       "      <td>True</td>\n",
       "      <td>1.262069</td>\n",
       "      <td>1.262069</td>\n",
       "      <td>1.262069</td>\n",
       "      <td>36.60</td>\n",
       "      <td>36.60</td>\n",
       "      <td>73.2</td>\n",
       "      <td>2</td>\n",
       "      <td>0</td>\n",
       "      <td>2</td>\n",
       "      <td>0</td>\n",
       "      <td>8</td>\n",
       "      <td>0</td>\n",
       "    </tr>\n",
       "    <tr>\n",
       "      <th>Q7</th>\n",
       "      <th>Q8</th>\n",
       "      <td>DKIAALKAKNAALKYENAALEAEIAALEG</td>\n",
       "      <td>DEIAALEAENAALEYKNAALKAKIAALKG</td>\n",
       "      <td>64</td>\n",
       "      <td>True</td>\n",
       "      <td>1.262069</td>\n",
       "      <td>1.262069</td>\n",
       "      <td>1.262069</td>\n",
       "      <td>36.60</td>\n",
       "      <td>36.60</td>\n",
       "      <td>73.2</td>\n",
       "      <td>2</td>\n",
       "      <td>0</td>\n",
       "      <td>2</td>\n",
       "      <td>0</td>\n",
       "      <td>8</td>\n",
       "      <td>0</td>\n",
       "    </tr>\n",
       "  </tbody>\n",
       "</table>\n",
       "</div>"
      ],
      "text/plain": [
       "                                  seq1                           seq2  Tm  \\\n",
       "ID1 ID2                                                                     \n",
       "O1  O2   DKNAALKAENAALEYEIAALEAEIAALEG  DENAALEAKNAALKYKIAALKAKIAALKG  72   \n",
       "O3  O4   DEIAALEAKIAALKYENAALEAENAALEG  DKIAALKAEIAALEYKNAALKAKNAALKG  68   \n",
       "O5  O6   DENAALEAEIAALEYKNAALKAEIAALEG  DKNAALKAKIAALKYENAALEAKIAALKG  71   \n",
       "O7  O8   DKIAALKAKNAALKYKIAALKAENAALEG  DEIAALEAENAALEYEIAALEAKNAALKG  68   \n",
       "O10 O9   DKNAALKAENAALEYKIAALKAKIAALKG  DENAALEAKNAALKYEIAALEAEIAALEG  69   \n",
       "O11 O12  DKIAALKAEIAALEYENAALEAENAALEG  DEIAALEAKIAALKYKNAALKAKNAALKG  73   \n",
       "O13 O14  DKNAALKAKIAALKYKNAALKAEIAALEG  DENAALEAEIAALEYENAALEAKIAALKG  75   \n",
       "O15 O16  DEIAALEAENAALEYKIAALKAENAALEG  DKIAALKAKNAALKYEIAALEAKNAALKG  52   \n",
       "Q1  Q2   DENAALEAKNAALKYKIAALKAEIAALEG  DKNAALKAENAALEYEIAALEAKIAALKG  63   \n",
       "Q3  Q4   DEIAALEAEIAALEYENAALEAENAALEG  DKIAALKAKIAALKYKNAALKAKNAALKG  71   \n",
       "Q5  Q6   DKNAALKAEIAALEYKIAALKAENAALEG  DENAALEAKIAALKYEIAALEAKNAALKG  60   \n",
       "Q7  Q8   DKIAALKAKNAALKYENAALEAEIAALEG  DEIAALEAENAALEYKNAALKAKIAALKG  64   \n",
       "\n",
       "         on_target   avg_HP1   avg_HP2  avg_HP_12    HP1    HP2  HP_12  c_NN  \\\n",
       "ID1 ID2                                                                        \n",
       "O1  O2        True  1.286897  1.237241   1.262069  37.32  35.88   73.2     2   \n",
       "O3  O4        True  1.286897  1.237241   1.262069  37.32  35.88   73.2     2   \n",
       "O5  O6        True  1.286897  1.237241   1.262069  37.32  35.88   73.2     2   \n",
       "O7  O8        True  1.237241  1.286897   1.262069  35.88  37.32   73.2     2   \n",
       "O10 O9        True  1.237241  1.286897   1.262069  35.88  37.32   73.2     2   \n",
       "O11 O12       True  1.286897  1.237241   1.262069  37.32  35.88   73.2     2   \n",
       "O13 O14       True  1.237241  1.286897   1.262069  35.88  37.32   73.2     2   \n",
       "O15 O16       True  1.286897  1.237241   1.262069  37.32  35.88   73.2     2   \n",
       "Q1  Q2        True  1.262069  1.262069   1.262069  36.60  36.60   73.2     2   \n",
       "Q3  Q4        True  1.311724  1.212414   1.262069  38.04  35.16   73.2     2   \n",
       "Q5  Q6        True  1.262069  1.262069   1.262069  36.60  36.60   73.2     2   \n",
       "Q7  Q8        True  1.262069  1.262069   1.262069  36.60  36.60   73.2     2   \n",
       "\n",
       "         c_IN  c_II  es_EE  es_EK  es_KK  \n",
       "ID1 ID2                                   \n",
       "O1  O2      0     2      0      8      0  \n",
       "O3  O4      0     2      0      8      0  \n",
       "O5  O6      0     2      0      8      0  \n",
       "O7  O8      0     2      0      8      0  \n",
       "O10 O9      0     2      0      8      0  \n",
       "O11 O12     0     2      0      8      0  \n",
       "O13 O14     0     2      0      8      0  \n",
       "O15 O16     0     2      0      8      0  \n",
       "Q1  Q2      0     2      0      8      0  \n",
       "Q3  Q4      0     2      0      8      0  \n",
       "Q5  Q6      0     2      0      8      0  \n",
       "Q7  Q8      0     2      0      8      0  "
      ]
     },
     "execution_count": 52,
     "metadata": {},
     "output_type": "execute_result"
    }
   ],
   "source": [
    "df.query('on_target')"
   ]
  },
  {
   "cell_type": "code",
   "execution_count": 31,
   "metadata": {
    "collapsed": false
   },
   "outputs": [
    {
     "name": "stdout",
     "output_type": "stream",
     "text": [
      "95\n"
     ]
    },
    {
     "data": {
      "text/html": [
       "<div>\n",
       "<style>\n",
       "    .dataframe thead tr:only-child th {\n",
       "        text-align: right;\n",
       "    }\n",
       "\n",
       "    .dataframe thead th {\n",
       "        text-align: left;\n",
       "    }\n",
       "\n",
       "    .dataframe tbody tr th {\n",
       "        vertical-align: top;\n",
       "    }\n",
       "</style>\n",
       "<table border=\"1\" class=\"dataframe\">\n",
       "  <thead>\n",
       "    <tr style=\"text-align: right;\">\n",
       "      <th></th>\n",
       "      <th></th>\n",
       "      <th>seq1</th>\n",
       "      <th>seq2</th>\n",
       "      <th>Tm</th>\n",
       "      <th>on_target</th>\n",
       "      <th>avg_HP1</th>\n",
       "      <th>avg_HP2</th>\n",
       "      <th>avg_HP_12</th>\n",
       "      <th>HP1</th>\n",
       "      <th>HP2</th>\n",
       "      <th>HP_12</th>\n",
       "      <th>c_NN</th>\n",
       "      <th>c_IN</th>\n",
       "      <th>c_II</th>\n",
       "      <th>es_EE</th>\n",
       "      <th>es_EK</th>\n",
       "      <th>es_KK</th>\n",
       "    </tr>\n",
       "    <tr>\n",
       "      <th>ID1</th>\n",
       "      <th>ID2</th>\n",
       "      <th></th>\n",
       "      <th></th>\n",
       "      <th></th>\n",
       "      <th></th>\n",
       "      <th></th>\n",
       "      <th></th>\n",
       "      <th></th>\n",
       "      <th></th>\n",
       "      <th></th>\n",
       "      <th></th>\n",
       "      <th></th>\n",
       "      <th></th>\n",
       "      <th></th>\n",
       "      <th></th>\n",
       "      <th></th>\n",
       "      <th></th>\n",
       "    </tr>\n",
       "  </thead>\n",
       "  <tbody>\n",
       "    <tr>\n",
       "      <th>O1</th>\n",
       "      <th>O2</th>\n",
       "      <td>DKNAALKAENAALEYEIAALEAEIAALEG</td>\n",
       "      <td>DENAALEAKNAALKYKIAALKAKIAALKG</td>\n",
       "      <td>72</td>\n",
       "      <td>True</td>\n",
       "      <td>1.286897</td>\n",
       "      <td>1.237241</td>\n",
       "      <td>1.262069</td>\n",
       "      <td>37.32</td>\n",
       "      <td>35.88</td>\n",
       "      <td>73.20</td>\n",
       "      <td>2</td>\n",
       "      <td>0</td>\n",
       "      <td>2</td>\n",
       "      <td>0</td>\n",
       "      <td>8</td>\n",
       "      <td>0</td>\n",
       "    </tr>\n",
       "    <tr>\n",
       "      <th rowspan=\"2\" valign=\"top\">O2</th>\n",
       "      <th>O2</th>\n",
       "      <td>DENAALEAKNAALKYKIAALKAKIAALKG</td>\n",
       "      <td>DENAALEAKNAALKYKIAALKAKIAALKG</td>\n",
       "      <td>34</td>\n",
       "      <td>False</td>\n",
       "      <td>1.237241</td>\n",
       "      <td>1.237241</td>\n",
       "      <td>1.237241</td>\n",
       "      <td>35.88</td>\n",
       "      <td>35.88</td>\n",
       "      <td>71.76</td>\n",
       "      <td>2</td>\n",
       "      <td>0</td>\n",
       "      <td>2</td>\n",
       "      <td>2</td>\n",
       "      <td>0</td>\n",
       "      <td>6</td>\n",
       "    </tr>\n",
       "    <tr>\n",
       "      <th>O3</th>\n",
       "      <td>DENAALEAKNAALKYKIAALKAKIAALKG</td>\n",
       "      <td>DEIAALEAKIAALKYENAALEAENAALEG</td>\n",
       "      <td>27</td>\n",
       "      <td>False</td>\n",
       "      <td>1.237241</td>\n",
       "      <td>1.286897</td>\n",
       "      <td>1.262069</td>\n",
       "      <td>35.88</td>\n",
       "      <td>37.32</td>\n",
       "      <td>73.20</td>\n",
       "      <td>0</td>\n",
       "      <td>4</td>\n",
       "      <td>0</td>\n",
       "      <td>2</td>\n",
       "      <td>4</td>\n",
       "      <td>2</td>\n",
       "    </tr>\n",
       "    <tr>\n",
       "      <th>O3</th>\n",
       "      <th>O4</th>\n",
       "      <td>DEIAALEAKIAALKYENAALEAENAALEG</td>\n",
       "      <td>DKIAALKAEIAALEYKNAALKAKNAALKG</td>\n",
       "      <td>68</td>\n",
       "      <td>True</td>\n",
       "      <td>1.286897</td>\n",
       "      <td>1.237241</td>\n",
       "      <td>1.262069</td>\n",
       "      <td>37.32</td>\n",
       "      <td>35.88</td>\n",
       "      <td>73.20</td>\n",
       "      <td>2</td>\n",
       "      <td>0</td>\n",
       "      <td>2</td>\n",
       "      <td>0</td>\n",
       "      <td>8</td>\n",
       "      <td>0</td>\n",
       "    </tr>\n",
       "    <tr>\n",
       "      <th>O2</th>\n",
       "      <th>O5</th>\n",
       "      <td>DENAALEAKNAALKYKIAALKAKIAALKG</td>\n",
       "      <td>DENAALEAEIAALEYKNAALKAEIAALEG</td>\n",
       "      <td>30</td>\n",
       "      <td>False</td>\n",
       "      <td>1.237241</td>\n",
       "      <td>1.286897</td>\n",
       "      <td>1.262069</td>\n",
       "      <td>35.88</td>\n",
       "      <td>37.32</td>\n",
       "      <td>73.20</td>\n",
       "      <td>1</td>\n",
       "      <td>2</td>\n",
       "      <td>1</td>\n",
       "      <td>2</td>\n",
       "      <td>4</td>\n",
       "      <td>2</td>\n",
       "    </tr>\n",
       "  </tbody>\n",
       "</table>\n",
       "</div>"
      ],
      "text/plain": [
       "                                  seq1                           seq2  Tm  \\\n",
       "ID1 ID2                                                                     \n",
       "O1  O2   DKNAALKAENAALEYEIAALEAEIAALEG  DENAALEAKNAALKYKIAALKAKIAALKG  72   \n",
       "O2  O2   DENAALEAKNAALKYKIAALKAKIAALKG  DENAALEAKNAALKYKIAALKAKIAALKG  34   \n",
       "    O3   DENAALEAKNAALKYKIAALKAKIAALKG  DEIAALEAKIAALKYENAALEAENAALEG  27   \n",
       "O3  O4   DEIAALEAKIAALKYENAALEAENAALEG  DKIAALKAEIAALEYKNAALKAKNAALKG  68   \n",
       "O2  O5   DENAALEAKNAALKYKIAALKAKIAALKG  DENAALEAEIAALEYKNAALKAEIAALEG  30   \n",
       "\n",
       "         on_target   avg_HP1   avg_HP2  avg_HP_12    HP1    HP2  HP_12  c_NN  \\\n",
       "ID1 ID2                                                                        \n",
       "O1  O2        True  1.286897  1.237241   1.262069  37.32  35.88  73.20     2   \n",
       "O2  O2       False  1.237241  1.237241   1.237241  35.88  35.88  71.76     2   \n",
       "    O3       False  1.237241  1.286897   1.262069  35.88  37.32  73.20     0   \n",
       "O3  O4        True  1.286897  1.237241   1.262069  37.32  35.88  73.20     2   \n",
       "O2  O5       False  1.237241  1.286897   1.262069  35.88  37.32  73.20     1   \n",
       "\n",
       "         c_IN  c_II  es_EE  es_EK  es_KK  \n",
       "ID1 ID2                                   \n",
       "O1  O2      0     2      0      8      0  \n",
       "O2  O2      0     2      2      0      6  \n",
       "    O3      4     0      2      4      2  \n",
       "O3  O4      0     2      0      8      0  \n",
       "O2  O5      2     1      2      4      2  "
      ]
     },
     "execution_count": 31,
     "metadata": {},
     "output_type": "execute_result"
    }
   ],
   "source": [
    "\n",
    "#Q = df['HP_12 c_NN c_IN c_II es_EE es_EK es_KK Tm on_target'.split()]\n",
    "Q = df.query('(Tm > 25)')\n",
    "print(len(Q))\n",
    "Q.head()\n"
   ]
  },
  {
   "cell_type": "code",
   "execution_count": 47,
   "metadata": {
    "collapsed": false
   },
   "outputs": [
    {
     "data": {
      "text/plain": [
       "Ridge(alpha=0.003, copy_X=True, fit_intercept=True, max_iter=None,\n",
       "   normalize=False, random_state=None, solver='auto', tol=0.001)"
      ]
     },
     "execution_count": 47,
     "metadata": {},
     "output_type": "execute_result"
    }
   ],
   "source": [
    "import sklearn\n",
    "from sklearn import linear_model\n",
    "\n",
    "\n",
    "Y=Q['Tm']\n",
    "X=Q['c_NN c_IN c_II es_EE es_EK es_KK avg_HP_12'.split()] \n",
    "lm = linear_model.Ridge(normalize=False, alpha=0.003)\n",
    "lm.fit(X, Y)\n",
    "#lm.coef_ = [70, 5, -5, 5, -5, 5, -5]\n",
    "#lm.intercept_=20\n",
    "lm.fit(X, Y)"
   ]
  },
  {
   "cell_type": "code",
   "execution_count": 48,
   "metadata": {
    "collapsed": false
   },
   "outputs": [
    {
     "name": "stdout",
     "output_type": "stream",
     "text": [
      "38.2141830848\n"
     ]
    },
    {
     "data": {
      "text/html": [
       "<div>\n",
       "<style>\n",
       "    .dataframe thead tr:only-child th {\n",
       "        text-align: right;\n",
       "    }\n",
       "\n",
       "    .dataframe thead th {\n",
       "        text-align: left;\n",
       "    }\n",
       "\n",
       "    .dataframe tbody tr th {\n",
       "        vertical-align: top;\n",
       "    }\n",
       "</style>\n",
       "<table border=\"1\" class=\"dataframe\">\n",
       "  <thead>\n",
       "    <tr style=\"text-align: right;\">\n",
       "      <th></th>\n",
       "      <th>feature</th>\n",
       "      <th>coef</th>\n",
       "    </tr>\n",
       "  </thead>\n",
       "  <tbody>\n",
       "    <tr>\n",
       "      <th>0</th>\n",
       "      <td>c_NN</td>\n",
       "      <td>1.276493</td>\n",
       "    </tr>\n",
       "    <tr>\n",
       "      <th>1</th>\n",
       "      <td>c_IN</td>\n",
       "      <td>-2.552985</td>\n",
       "    </tr>\n",
       "    <tr>\n",
       "      <th>2</th>\n",
       "      <td>c_II</td>\n",
       "      <td>1.276493</td>\n",
       "    </tr>\n",
       "    <tr>\n",
       "      <th>3</th>\n",
       "      <td>es_EE</td>\n",
       "      <td>-0.504971</td>\n",
       "    </tr>\n",
       "    <tr>\n",
       "      <th>4</th>\n",
       "      <td>es_EK</td>\n",
       "      <td>2.072360</td>\n",
       "    </tr>\n",
       "    <tr>\n",
       "      <th>5</th>\n",
       "      <td>es_KK</td>\n",
       "      <td>-1.567389</td>\n",
       "    </tr>\n",
       "    <tr>\n",
       "      <th>6</th>\n",
       "      <td>avg_HP_12</td>\n",
       "      <td>0.006594</td>\n",
       "    </tr>\n",
       "  </tbody>\n",
       "</table>\n",
       "</div>"
      ],
      "text/plain": [
       "     feature      coef\n",
       "0       c_NN  1.276493\n",
       "1       c_IN -2.552985\n",
       "2       c_II  1.276493\n",
       "3      es_EE -0.504971\n",
       "4      es_EK  2.072360\n",
       "5      es_KK -1.567389\n",
       "6  avg_HP_12  0.006594"
      ]
     },
     "execution_count": 48,
     "metadata": {},
     "output_type": "execute_result"
    }
   ],
   "source": [
    "print(lm.intercept_)\n",
    "pd.DataFrame(zip(X.columns, lm.coef_), columns=\"feature coef\".split())\n"
   ]
  },
  {
   "cell_type": "code",
   "execution_count": 49,
   "metadata": {
    "collapsed": false
   },
   "outputs": [
    {
     "name": "stderr",
     "output_type": "stream",
     "text": [
      "C:\\bin\\python\\anaconda\\lib\\site-packages\\ipykernel\\__main__.py:1: SettingWithCopyWarning: \n",
      "A value is trying to be set on a copy of a slice from a DataFrame.\n",
      "Try using .loc[row_indexer,col_indexer] = value instead\n",
      "\n",
      "See the caveats in the documentation: http://pandas.pydata.org/pandas-docs/stable/indexing.html#indexing-view-versus-copy\n",
      "  if __name__ == '__main__':\n"
     ]
    }
   ],
   "source": [
    "Q['Tm_pred'] = lm.predict(X)\n"
   ]
  },
  {
   "cell_type": "code",
   "execution_count": 50,
   "metadata": {
    "collapsed": false
   },
   "outputs": [
    {
     "name": "stdout",
     "output_type": "stream",
     "text": [
      "0.434972681966\n"
     ]
    },
    {
     "data": {
      "text/plain": [
       "10.069962943047587"
      ]
     },
     "execution_count": 50,
     "metadata": {},
     "output_type": "execute_result"
    },
    {
     "data": {
      "image/png": "[encoded data removed]",
      "text/plain": [
       "<matplotlib.figure.Figure at 0xa61f3b0>"
      ]
     },
     "metadata": {},
     "output_type": "display_data"
    }
   ],
   "source": [
    "plt.plot([20,80], [20,80], 'k--', lw=4)\n",
    "plt.title('iCipa')\n",
    "plt.ylim([20,80])\n",
    "plt.xlim([20,80])\n",
    "print(lm.score(X,Y))\n",
    "sns.regplot(x='Tm', y='Tm_pred', fit_reg=True, data=Q)\n",
    "sns.regplot(x='Tm', y='Tm_pred', fit_reg=True, data=Q.query('on_target'), color='red')\n",
    "\n",
    "getRMSE('Tm', 'Tm_pred', Q)"
   ]
  },
  {
   "cell_type": "code",
   "execution_count": 45,
   "metadata": {
    "collapsed": false
   },
   "outputs": [
    {
     "name": "stdout",
     "output_type": "stream",
     "text": [
      "0.573730493344\n"
     ]
    },
    {
     "name": "stderr",
     "output_type": "stream",
     "text": [
      "C:\\bin\\python\\anaconda\\lib\\site-packages\\ipykernel\\__main__.py:9: SettingWithCopyWarning: \n",
      "A value is trying to be set on a copy of a slice from a DataFrame.\n",
      "Try using .loc[row_indexer,col_indexer] = value instead\n",
      "\n",
      "See the caveats in the documentation: http://pandas.pydata.org/pandas-docs/stable/indexing.html#indexing-view-versus-copy\n"
     ]
    },
    {
     "data": {
      "text/plain": [
       "8.7465197818318448"
      ]
     },
     "execution_count": 45,
     "metadata": {},
     "output_type": "execute_result"
    },
    {
     "data": {
      "image/png": "[encoded data removed]",
      "text/plain": [
       "<matplotlib.figure.Figure at 0x3751270>"
      ]
     },
     "metadata": {},
     "output_type": "display_data"
    }
   ],
   "source": [
    "from sklearn.svm import SVR\n",
    "Y=Q['Tm']\n",
    "X=Q['c_NN c_IN c_II es_EE es_EK es_KK'.split()] \n",
    "lm = SVR(kernel='rbf', C=1e3, gamma=0.1)\n",
    "lm.fit(X, Y)\n",
    "#lm.coef_ = [70, 5, -5, 5, -5, 5, -5]\n",
    "#lm.intercept_=20\n",
    "lm.fit(X, Y)\n",
    "Q['Tm_pred'] = lm.predict(X)\n",
    "plt.plot([20,80], [20,80], 'k--', lw=4)\n",
    "plt.title('iCipa')\n",
    "plt.ylim([20,80])\n",
    "plt.xlim([20,80])\n",
    "print(lm.score(X,Y))\n",
    "sns.regplot(x='Tm', y='Tm_pred', fit_reg=True, data=Q)\n",
    "sns.regplot(x='Tm', y='Tm_pred', fit_reg=True, data=Q.query('on_target'), color='red')\n",
    "\n",
    "getRMSE('Tm', 'Tm_pred', Q)\n"
   ]
  },
  {
   "cell_type": "code",
   "execution_count": null,
   "metadata": {
    "collapsed": true
   },
   "outputs": [],
   "source": []
  }
 ],
 "metadata": {
  "anaconda-cloud": {},
  "hide_input": false,
  "kernelspec": {
   "display_name": "Python 3",
   "language": "python",
   "name": "python3"
  },
  "language_info": {
   "codemirror_mode": {
    "name": "ipython",
    "version": 3
   },
   "file_extension": ".py",
   "mimetype": "text/x-python",
   "name": "python",
   "nbconvert_exporter": "python",
   "pygments_lexer": "ipython3",
   "version": "3.6.5"
  }
 },
 "nbformat": 4,
 "nbformat_minor": 2
}
