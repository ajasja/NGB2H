{
 "cells": [
  {
   "cell_type": "code",
   "execution_count": 1,
   "metadata": {},
   "outputs": [
    {
     "name": "stdout",
     "output_type": "stream",
     "text": [
      "D:\\data\\ortoCC\\fine_tune_scoring_function\n"
     ]
    }
   ],
   "source": [
    "from __future__ import division, absolute_import, print_function\n",
    "%load_ext autoreload\n",
    "%autoreload 2\n",
    "\n",
    "import os \n",
    "print(os.getcwd()) \n",
    "CDIR = os.getcwd()\n",
    "from glob import glob\n",
    "    \n",
    "import papermill as pm\n",
    "import six\n",
    "\n",
    "from score_utils import set_kernels_dir"
   ]
  },
  {
   "cell_type": "code",
   "execution_count": 2,
   "metadata": {},
   "outputs": [],
   "source": [
    "out_dir = \"models\"\n",
    "SFD = os.environ.get(\"SFD\",r\"D:\\data\\ortoCC\\design-with-alignments\\4heptade-7\\!OUT_bcf\")"
   ]
  },
  {
   "cell_type": "code",
   "execution_count": 4,
   "metadata": {
    "scrolled": false
   },
   "outputs": [],
   "source": [
    "fit_type_string = \"basic-rep-core_vertical\"\n",
    "lm_type = \"Ridge\" #Ridge, ElasticNet, SGDRegressor, BayesianRidge\n",
    "weight_string=\"W10\" #W1 W10 W10L15H50 W10L15H55\n",
    "\n",
    "fit_type = 'MODEL_{fit_type_string}-{lm_type}-{weight_string}'.format(**locals())\n",
    "\n",
    "out_path = os.path.join(out_dir, fit_type+\".html\")\n",
    "\n",
    "#if os.path.isfile(out_path): continue; \n",
    "#pm.execute_notebook(\n",
    "#   '08_aligned_fit_iterative.ipynb',\n",
    "#   out_path,\n",
    "#   parameters = dict(fit_type_string=fit_type_string, lm_type=lm_type, weight_string=weight_string)\n",
    "#)"
   ]
  },
  {
   "cell_type": "code",
   "execution_count": 9,
   "metadata": {},
   "outputs": [],
   "source": [
    "fit_type_string = \"basicL-rep-core_vertical\"\n",
    "lm_type = \"Ridge\" #Ridge, ElasticNet, SGDRegressor, BayesianRidge\n",
    "weight_string=\"W1\" #W1 W10 W10L15H50 W10L15H55\n",
    "\n",
    "\n",
    "def run_model(fit_type_string, lm_type, weight_string, skip_existing=False):\n",
    "    os.environ['fit_type_string']=fit_type_string\n",
    "    os.environ['lm_type']=lm_type\n",
    "    os.environ['weight_string']=weight_string\n",
    "\n",
    "    fit_type = 'MODEL_{fit_type_string}-{lm_type}-{weight_string}'.format(**locals())\n",
    "\n",
    "    out_path = os.path.join(out_dir, fit_type+\".html\")\n",
    "    if skip_existing and os.path.isfile(out_path): return; \n",
    "\n",
    "    #if os.path.isfile(out_path): continue; \n",
    "    !jupyter nbconvert --execute 08_aligned_fit_iterative.ipynb --to html --allow-errors --output {out_path} \n",
    "    \n",
    "def run_model_DNA(fit_type_string, lm_type, weight_string, set_name=\"ALL\", target_set_name='PNIC.bA.set', out_dir=out_dir, skip_existing=False, fake=False):\n",
    "    import six\n",
    "    import os\n",
    "    os.environ['fit_type_string']=fit_type_string\n",
    "    os.environ['lm_type']=lm_type\n",
    "    os.environ['weight_string']=weight_string\n",
    "    os.environ['set_name']=set_name\n",
    "    os.environ['model_out_dir']=out_dir\n",
    "   \n",
    "\n",
    "    fit_type = 'MODEL_DNA-{set_name}-{fit_type_string}-{lm_type}-{weight_string}'.format(**locals())\n",
    "\n",
    "    os.environ['fit_name']= 'DNA-{set_name}-{fit_type_string}-{lm_type}-{weight_string}'.format(**locals())\n",
    "    \n",
    "    \n",
    "    out_path = os.path.join(out_dir, fit_type+\".html\")\n",
    "    main_path = out_path\n",
    "    if not (skip_existing and os.path.isfile(out_path)): \n",
    "        print(\"WORKING ON: \"+out_path)\n",
    "        if fake:\n",
    "            !echo jupyter nbconvert --execute DNA_09_per_set_aligned_fit_iterative.ipynb --to html --allow-errors --output {out_path} --ExecutePreprocessor.timeout=36000     \n",
    "        else:\n",
    "            !jupyter nbconvert --execute DNA_09_per_set_aligned_fit_iterative.ipynb --to html --allow-errors --output {out_path} --ExecutePreprocessor.timeout=36000     \n",
    "    else:\n",
    "        print(\"SKIPPING: \" + out_path)\n",
    "\n",
    "    if isinstance(target_set_name, six.string_types):\n",
    "        target_set_name = [target_set_name]\n",
    "    \n",
    "    for tsn in target_set_name:\n",
    "        fit_type = 'SCORE_DNA-{set_name}-{fit_type_string}-{lm_type}-{weight_string}___{tsn}'.format(**locals())    \n",
    "        out_path = os.path.join(out_dir, fit_type+\".html\")\n",
    "        os.environ['set_name']=tsn\n",
    "        print(\"WORKING ON: \"+out_path)\n",
    "        if fake:\n",
    "            !echo jupyter nbconvert --execute DNA_10_scoring_function_validation.ipynb --to html --allow-errors --output {out_path} --ExecutePreprocessor.timeout=36000 \n",
    "        else:    \n",
    "            !jupyter nbconvert --execute DNA_10_scoring_function_validation.ipynb --to html --allow-errors --output {out_path} --ExecutePreprocessor.timeout=36000 \n",
    "    return main_path\n",
    "#run_model_DNA(\"basicL-rep-core_vertical\", \"Ridge\", \"WcvRD10\", set_name=\"ALL\", skip_existing=False)    "
   ]
  },
  {
   "cell_type": "code",
   "execution_count": 10,
   "metadata": {},
   "outputs": [
    {
     "name": "stdout",
     "output_type": "stream",
     "text": [
      "WORKING ON: test_decomp\\MODEL_DNA-ALL-basicL-rep-core_vertical-Ridge-WbnRD10.html\n"
     ]
    },
    {
     "name": "stderr",
     "output_type": "stream",
     "text": [
      "[NbConvertApp] Converting notebook DNA_09_per_set_aligned_fit_iterative.ipynb to html\n",
      "[NbConvertApp] Executing notebook with kernel: python3\n",
      "[NbConvertApp] Writing 16701390 bytes to test_decomp\\MODEL_DNA-ALL-basicL-rep-core_vertical-Ridge-WbnRD10.html\n"
     ]
    },
    {
     "name": "stdout",
     "output_type": "stream",
     "text": [
      "WORKING ON: test_decomp\\SCORE_DNA-ALL-basicL-rep-core_vertical-Ridge-WbnRD10___PNIC.bA.set.html\n"
     ]
    },
    {
     "name": "stderr",
     "output_type": "stream",
     "text": [
      "[NbConvertApp] Converting notebook DNA_10_scoring_function_validation.ipynb to html\n",
      "[NbConvertApp] Executing notebook with kernel: python3\n",
      "[NbConvertApp] Writing 1198286 bytes to test_decomp\\SCORE_DNA-ALL-basicL-rep-core_vertical-Ridge-WbnRD10___PNIC.bA.set.html\n"
     ]
    },
    {
     "name": "stdout",
     "output_type": "stream",
     "text": [
      "WORKING ON: test_decomp\\SCORE_DNA-ALL-basicL-rep-core_vertical-Ridge-WbnRD10___mason.bA.set.html\n"
     ]
    },
    {
     "name": "stderr",
     "output_type": "stream",
     "text": [
      "[NbConvertApp] Converting notebook DNA_10_scoring_function_validation.ipynb to html\n",
      "[NbConvertApp] Executing notebook with kernel: python3\n",
      "[NbConvertApp] Writing 1609438 bytes to test_decomp\\SCORE_DNA-ALL-basicL-rep-core_vertical-Ridge-WbnRD10___mason.bA.set.html\n"
     ]
    },
    {
     "data": {
      "text/plain": [
       "'test_decomp\\\\MODEL_DNA-ALL-basicL-rep-core_vertical-Ridge-WbnRD10.html'"
      ]
     },
     "execution_count": 10,
     "metadata": {},
     "output_type": "execute_result"
    }
   ],
   "source": [
    "run_model_DNA(\"basicL-rep-core_vertical\", \"Ridge\", \"WbnRD10\", set_name=\"ALL\", target_set_name='PNIC.bA.set mason.bA.set'.split(), skip_existing=False, out_dir='test_decomp')    "
   ]
  },
  {
   "cell_type": "code",
   "execution_count": 13,
   "metadata": {},
   "outputs": [
    {
     "name": "stdout",
     "output_type": "stream",
     "text": [
      "WORKING ON: test_decomp\\MODEL_DNA-ALL-basicL-core_vertical-Ridge-WbnRD10.html\n"
     ]
    },
    {
     "name": "stderr",
     "output_type": "stream",
     "text": [
      "[NbConvertApp] Converting notebook DNA_09_per_set_aligned_fit_iterative.ipynb to html\n",
      "[NbConvertApp] Executing notebook with kernel: python3\n",
      "[NbConvertApp] Writing 16626520 bytes to test_decomp\\MODEL_DNA-ALL-basicL-core_vertical-Ridge-WbnRD10.html\n"
     ]
    },
    {
     "name": "stdout",
     "output_type": "stream",
     "text": [
      "WORKING ON: test_decomp\\SCORE_DNA-ALL-basicL-core_vertical-Ridge-WbnRD10___PNIC.bA.set.html\n"
     ]
    },
    {
     "name": "stderr",
     "output_type": "stream",
     "text": [
      "[NbConvertApp] Converting notebook DNA_10_scoring_function_validation.ipynb to html\n",
      "[NbConvertApp] Executing notebook with kernel: python3\n",
      "[NbConvertApp] Writing 1192918 bytes to test_decomp\\SCORE_DNA-ALL-basicL-core_vertical-Ridge-WbnRD10___PNIC.bA.set.html\n"
     ]
    },
    {
     "name": "stdout",
     "output_type": "stream",
     "text": [
      "WORKING ON: test_decomp\\SCORE_DNA-ALL-basicL-core_vertical-Ridge-WbnRD10___mason.bA.set.html\n"
     ]
    },
    {
     "name": "stderr",
     "output_type": "stream",
     "text": [
      "[NbConvertApp] Converting notebook DNA_10_scoring_function_validation.ipynb to html\n",
      "[NbConvertApp] Executing notebook with kernel: python3\n",
      "[NbConvertApp] Writing 1605608 bytes to test_decomp\\SCORE_DNA-ALL-basicL-core_vertical-Ridge-WbnRD10___mason.bA.set.html\n"
     ]
    },
    {
     "name": "stdout",
     "output_type": "stream",
     "text": [
      "WORKING ON: test_decomp\\MODEL_DNA-ALL-basicL-nter_core-Ridge-WbnRD10.html\n"
     ]
    },
    {
     "name": "stderr",
     "output_type": "stream",
     "text": [
      "[NbConvertApp] Converting notebook DNA_09_per_set_aligned_fit_iterative.ipynb to html\n",
      "[NbConvertApp] Executing notebook with kernel: python3\n",
      "[NbConvertApp] Writing 16586187 bytes to test_decomp\\MODEL_DNA-ALL-basicL-nter_core-Ridge-WbnRD10.html\n"
     ]
    },
    {
     "name": "stdout",
     "output_type": "stream",
     "text": [
      "WORKING ON: test_decomp\\SCORE_DNA-ALL-basicL-nter_core-Ridge-WbnRD10___PNIC.bA.set.html\n"
     ]
    },
    {
     "name": "stderr",
     "output_type": "stream",
     "text": [
      "[NbConvertApp] Converting notebook DNA_10_scoring_function_validation.ipynb to html\n",
      "[NbConvertApp] Executing notebook with kernel: python3\n",
      "[NbConvertApp] Writing 1191129 bytes to test_decomp\\SCORE_DNA-ALL-basicL-nter_core-Ridge-WbnRD10___PNIC.bA.set.html\n"
     ]
    },
    {
     "name": "stdout",
     "output_type": "stream",
     "text": [
      "WORKING ON: test_decomp\\SCORE_DNA-ALL-basicL-nter_core-Ridge-WbnRD10___mason.bA.set.html\n"
     ]
    },
    {
     "name": "stderr",
     "output_type": "stream",
     "text": [
      "[NbConvertApp] Converting notebook DNA_10_scoring_function_validation.ipynb to html\n",
      "[NbConvertApp] Executing notebook with kernel: python3\n",
      "[NbConvertApp] Writing 1603337 bytes to test_decomp\\SCORE_DNA-ALL-basicL-nter_core-Ridge-WbnRD10___mason.bA.set.html\n"
     ]
    },
    {
     "name": "stdout",
     "output_type": "stream",
     "text": [
      "WORKING ON: test_decomp\\MODEL_DNA-ALL-basicL-rep-hel-Ridge-WbnRD10.html\n"
     ]
    },
    {
     "name": "stderr",
     "output_type": "stream",
     "text": [
      "[NbConvertApp] Converting notebook DNA_09_per_set_aligned_fit_iterative.ipynb to html\n",
      "[NbConvertApp] Executing notebook with kernel: python3\n",
      "[NbConvertApp] Writing 3002997 bytes to test_decomp\\MODEL_DNA-ALL-basicL-rep-hel-Ridge-WbnRD10.html\n"
     ]
    },
    {
     "name": "stdout",
     "output_type": "stream",
     "text": [
      "WORKING ON: test_decomp\\SCORE_DNA-ALL-basicL-rep-hel-Ridge-WbnRD10___PNIC.bA.set.html\n"
     ]
    },
    {
     "name": "stderr",
     "output_type": "stream",
     "text": [
      "[NbConvertApp] Converting notebook DNA_10_scoring_function_validation.ipynb to html\n",
      "[NbConvertApp] Executing notebook with kernel: python3\n",
      "[NbConvertApp] Writing 514927 bytes to test_decomp\\SCORE_DNA-ALL-basicL-rep-hel-Ridge-WbnRD10___PNIC.bA.set.html\n"
     ]
    },
    {
     "name": "stdout",
     "output_type": "stream",
     "text": [
      "WORKING ON: test_decomp\\SCORE_DNA-ALL-basicL-rep-hel-Ridge-WbnRD10___mason.bA.set.html\n"
     ]
    },
    {
     "name": "stderr",
     "output_type": "stream",
     "text": [
      "[NbConvertApp] Converting notebook DNA_10_scoring_function_validation.ipynb to html\n",
      "[NbConvertApp] Executing notebook with kernel: python3\n",
      "[NbConvertApp] Writing 583538 bytes to test_decomp\\SCORE_DNA-ALL-basicL-rep-hel-Ridge-WbnRD10___mason.bA.set.html\n"
     ]
    },
    {
     "data": {
      "text/plain": [
       "'test_decomp\\\\MODEL_DNA-ALL-basicL-rep-hel-Ridge-WbnRD10.html'"
      ]
     },
     "execution_count": 13,
     "metadata": {},
     "output_type": "execute_result"
    }
   ],
   "source": [
    "run_model_DNA(\"basicL-core_vertical\", \"Ridge\", \"WbnRD10\", set_name=\"ALL\", target_set_name='PNIC.bA.set mason.bA.set'.split(), skip_existing=False, out_dir='test_decomp')  \n",
    "run_model_DNA(\"basicL-nter_core\", \"Ridge\", \"WbnRD10\", set_name=\"ALL\", target_set_name='PNIC.bA.set mason.bA.set'.split(), skip_existing=False, out_dir='test_decomp')  \n",
    "run_model_DNA(\"basicL-rep-hel\", \"Ridge\", \"WbnRD10\", set_name=\"ALL\", target_set_name='PNIC.bA.set mason.bA.set'.split(), skip_existing=False, out_dir='test_decomp')  \n"
   ]
  },
  {
   "cell_type": "code",
   "execution_count": 15,
   "metadata": {},
   "outputs": [
    {
     "name": "stdout",
     "output_type": "stream",
     "text": [
      "WORKING ON: test_decomp\\MODEL_DNA-ALL-basicL-rep-hel-Ridge-WbnRD10.html\n"
     ]
    },
    {
     "name": "stderr",
     "output_type": "stream",
     "text": [
      "[NbConvertApp] Converting notebook DNA_09_per_set_aligned_fit_iterative.ipynb to html\n",
      "[NbConvertApp] Executing notebook with kernel: python3\n",
      "[NbConvertApp] Writing 16961488 bytes to test_decomp\\MODEL_DNA-ALL-basicL-rep-hel-Ridge-WbnRD10.html\n"
     ]
    },
    {
     "name": "stdout",
     "output_type": "stream",
     "text": [
      "WORKING ON: test_decomp\\SCORE_DNA-ALL-basicL-rep-hel-Ridge-WbnRD10___PNIC.bA.set.html\n"
     ]
    },
    {
     "name": "stderr",
     "output_type": "stream",
     "text": [
      "[NbConvertApp] Converting notebook DNA_10_scoring_function_validation.ipynb to html\n",
      "[NbConvertApp] Executing notebook with kernel: python3\n",
      "[NbConvertApp] Writing 1191153 bytes to test_decomp\\SCORE_DNA-ALL-basicL-rep-hel-Ridge-WbnRD10___PNIC.bA.set.html\n"
     ]
    },
    {
     "name": "stdout",
     "output_type": "stream",
     "text": [
      "WORKING ON: test_decomp\\SCORE_DNA-ALL-basicL-rep-hel-Ridge-WbnRD10___mason.bA.set.html\n"
     ]
    },
    {
     "name": "stderr",
     "output_type": "stream",
     "text": [
      "[NbConvertApp] Converting notebook DNA_10_scoring_function_validation.ipynb to html\n",
      "[NbConvertApp] Executing notebook with kernel: python3\n",
      "[NbConvertApp] Writing 1606565 bytes to test_decomp\\SCORE_DNA-ALL-basicL-rep-hel-Ridge-WbnRD10___mason.bA.set.html\n"
     ]
    },
    {
     "data": {
      "text/plain": [
       "'test_decomp\\\\MODEL_DNA-ALL-basicL-rep-hel-Ridge-WbnRD10.html'"
      ]
     },
     "execution_count": 15,
     "metadata": {},
     "output_type": "execute_result"
    }
   ],
   "source": [
    "run_model_DNA(\"basicL-rep-hel\", \"Ridge\", \"WbnRD10\", set_name=\"ALL\", target_set_name='PNIC.bA.set mason.bA.set'.split(), skip_existing=False, out_dir='test_decomp')    "
   ]
  },
  {
   "cell_type": "code",
   "execution_count": 11,
   "metadata": {},
   "outputs": [
    {
     "name": "stdout",
     "output_type": "stream",
     "text": [
      "WORKING ON: test_decomp\\MODEL_DNA-ALL-basicL-rep-nter_core-Ridge-WbnRD10.html\n"
     ]
    },
    {
     "name": "stderr",
     "output_type": "stream",
     "text": [
      "[NbConvertApp] Converting notebook DNA_09_per_set_aligned_fit_iterative.ipynb to html\n",
      "[NbConvertApp] Executing notebook with kernel: python3\n",
      "[NbConvertApp] Writing 16770570 bytes to test_decomp\\MODEL_DNA-ALL-basicL-rep-nter_core-Ridge-WbnRD10.html\n"
     ]
    },
    {
     "name": "stdout",
     "output_type": "stream",
     "text": [
      "WORKING ON: test_decomp\\SCORE_DNA-ALL-basicL-rep-nter_core-Ridge-WbnRD10___PNIC.bA.set.html\n"
     ]
    },
    {
     "name": "stderr",
     "output_type": "stream",
     "text": [
      "[NbConvertApp] Converting notebook DNA_10_scoring_function_validation.ipynb to html\n",
      "[NbConvertApp] Executing notebook with kernel: python3\n",
      "[NbConvertApp] Writing 1194864 bytes to test_decomp\\SCORE_DNA-ALL-basicL-rep-nter_core-Ridge-WbnRD10___PNIC.bA.set.html\n"
     ]
    },
    {
     "name": "stdout",
     "output_type": "stream",
     "text": [
      "WORKING ON: test_decomp\\SCORE_DNA-ALL-basicL-rep-nter_core-Ridge-WbnRD10___mason.bA.set.html\n"
     ]
    },
    {
     "name": "stderr",
     "output_type": "stream",
     "text": [
      "[NbConvertApp] Converting notebook DNA_10_scoring_function_validation.ipynb to html\n",
      "[NbConvertApp] Executing notebook with kernel: python3\n",
      "[NbConvertApp] Writing 1608059 bytes to test_decomp\\SCORE_DNA-ALL-basicL-rep-nter_core-Ridge-WbnRD10___mason.bA.set.html\n"
     ]
    },
    {
     "name": "stdout",
     "output_type": "stream",
     "text": [
      "WORKING ON: test_decomp\\MODEL_DNA-ALL-basicL-rep-Ridge-WbnRD10.html\n"
     ]
    },
    {
     "name": "stderr",
     "output_type": "stream",
     "text": [
      "[NbConvertApp] Converting notebook DNA_09_per_set_aligned_fit_iterative.ipynb to html\n",
      "[NbConvertApp] Executing notebook with kernel: python3\n",
      "[NbConvertApp] Writing 16735671 bytes to test_decomp\\MODEL_DNA-ALL-basicL-rep-Ridge-WbnRD10.html\n"
     ]
    },
    {
     "name": "stdout",
     "output_type": "stream",
     "text": [
      "WORKING ON: test_decomp\\SCORE_DNA-ALL-basicL-rep-Ridge-WbnRD10___PNIC.bA.set.html\n"
     ]
    },
    {
     "name": "stderr",
     "output_type": "stream",
     "text": [
      "[NbConvertApp] Converting notebook DNA_10_scoring_function_validation.ipynb to html\n",
      "[NbConvertApp] Executing notebook with kernel: python3\n",
      "[NbConvertApp] Writing 1190648 bytes to test_decomp\\SCORE_DNA-ALL-basicL-rep-Ridge-WbnRD10___PNIC.bA.set.html\n"
     ]
    },
    {
     "name": "stdout",
     "output_type": "stream",
     "text": [
      "WORKING ON: test_decomp\\SCORE_DNA-ALL-basicL-rep-Ridge-WbnRD10___mason.bA.set.html\n"
     ]
    },
    {
     "name": "stderr",
     "output_type": "stream",
     "text": [
      "[NbConvertApp] Converting notebook DNA_10_scoring_function_validation.ipynb to html\n",
      "[NbConvertApp] Executing notebook with kernel: python3\n",
      "[NbConvertApp] Writing 1606951 bytes to test_decomp\\SCORE_DNA-ALL-basicL-rep-Ridge-WbnRD10___mason.bA.set.html\n"
     ]
    },
    {
     "name": "stdout",
     "output_type": "stream",
     "text": [
      "WORKING ON: test_decomp\\MODEL_DNA-ALL-basicL-Ridge-WbnRD10.html\n"
     ]
    },
    {
     "name": "stderr",
     "output_type": "stream",
     "text": [
      "[NbConvertApp] Converting notebook DNA_09_per_set_aligned_fit_iterative.ipynb to html\n",
      "[NbConvertApp] Executing notebook with kernel: python3\n",
      "[NbConvertApp] Writing 16557014 bytes to test_decomp\\MODEL_DNA-ALL-basicL-Ridge-WbnRD10.html\n"
     ]
    },
    {
     "name": "stdout",
     "output_type": "stream",
     "text": [
      "WORKING ON: test_decomp\\SCORE_DNA-ALL-basicL-Ridge-WbnRD10___PNIC.bA.set.html\n"
     ]
    },
    {
     "name": "stderr",
     "output_type": "stream",
     "text": [
      "[NbConvertApp] Converting notebook DNA_10_scoring_function_validation.ipynb to html\n",
      "[NbConvertApp] Executing notebook with kernel: python3\n",
      "[NbConvertApp] Writing 1184891 bytes to test_decomp\\SCORE_DNA-ALL-basicL-Ridge-WbnRD10___PNIC.bA.set.html\n"
     ]
    },
    {
     "name": "stdout",
     "output_type": "stream",
     "text": [
      "WORKING ON: test_decomp\\SCORE_DNA-ALL-basicL-Ridge-WbnRD10___mason.bA.set.html\n"
     ]
    },
    {
     "name": "stderr",
     "output_type": "stream",
     "text": [
      "[NbConvertApp] Converting notebook DNA_10_scoring_function_validation.ipynb to html\n",
      "[NbConvertApp] Executing notebook with kernel: python3\n",
      "[NbConvertApp] Writing 1599537 bytes to test_decomp\\SCORE_DNA-ALL-basicL-Ridge-WbnRD10___mason.bA.set.html\n"
     ]
    },
    {
     "data": {
      "text/plain": [
       "'test_decomp\\\\MODEL_DNA-ALL-basicL-Ridge-WbnRD10.html'"
      ]
     },
     "execution_count": 11,
     "metadata": {},
     "output_type": "execute_result"
    }
   ],
   "source": [
    "run_model_DNA(\"basicL-rep-nter_core\", \"Ridge\", \"WbnRD10\", set_name=\"ALL\", target_set_name='PNIC.bA.set mason.bA.set'.split(), skip_existing=True, out_dir='test_decomp')    \n",
    "run_model_DNA(\"basicL-rep\", \"Ridge\", \"WbnRD10\", set_name=\"ALL\", target_set_name='PNIC.bA.set mason.bA.set'.split(), skip_existing=True,  out_dir='test_decomp')    \n",
    "run_model_DNA(\"basicL\", \"Ridge\", \"WbnRD10\", set_name=\"ALL\", target_set_name='PNIC.bA.set mason.bA.set'.split(), skip_existing=True,  out_dir='test_decomp')    "
   ]
  },
  {
   "cell_type": "code",
   "execution_count": 43,
   "metadata": {},
   "outputs": [
    {
     "name": "stderr",
     "output_type": "stream",
     "text": [
      "[NbConvertApp] Converting notebook DNA_10_scoring_function_validation.ipynb to html\n",
      "[NbConvertApp] Executing notebook with kernel: python2\n",
      "[NbConvertApp] Writing 1178180 bytes to models\\SCORE_DNA-ALL-basicL-Ridge-WsdRD10___PNIC.bA.set.html\n",
      "[NbConvertApp] Converting notebook DNA_10_scoring_function_validation.ipynb to html\n",
      "[NbConvertApp] Executing notebook with kernel: python2\n",
      "[NbConvertApp] Writing 865628 bytes to models\\SCORE_DNA-ALL-basicL-Ridge-WsdRD10___PNIC4.bA.set.html\n",
      "[NbConvertApp] Converting notebook DNA_10_scoring_function_validation.ipynb to html\n",
      "[NbConvertApp] Executing notebook with kernel: python2\n",
      "[NbConvertApp] Writing 2194417 bytes to models\\SCORE_DNA-ALL-basicL-Ridge-WsdRD10___PNIC-mason.bA.set.html\n",
      "[NbConvertApp] Converting notebook DNA_10_scoring_function_validation.ipynb to html\n",
      "[NbConvertApp] Executing notebook with kernel: python2\n",
      "[NbConvertApp] Writing 1578020 bytes to models\\SCORE_DNA-ALL-basicL-Ridge-WsdRD10___mason.bA.set.html\n",
      "[NbConvertApp] Converting notebook DNA_10_scoring_function_validation.ipynb to html\n",
      "[NbConvertApp] Executing notebook with kernel: python2\n",
      "[NbConvertApp] Writing 1168037 bytes to models\\SCORE_DNA-ALL-basicL-rep-Ridge-WsdRD10___PNIC.bA.set.html\n",
      "[NbConvertApp] Converting notebook DNA_10_scoring_function_validation.ipynb to html\n",
      "[NbConvertApp] Executing notebook with kernel: python2\n",
      "[NbConvertApp] Writing 855884 bytes to models\\SCORE_DNA-ALL-basicL-rep-Ridge-WsdRD10___PNIC4.bA.set.html\n",
      "[NbConvertApp] Converting notebook DNA_10_scoring_function_validation.ipynb to html\n",
      "[NbConvertApp] Executing notebook with kernel: python2\n",
      "[NbConvertApp] Writing 2189959 bytes to models\\SCORE_DNA-ALL-basicL-rep-Ridge-WsdRD10___PNIC-mason.bA.set.html\n",
      "[NbConvertApp] Converting notebook DNA_10_scoring_function_validation.ipynb to html\n",
      "[NbConvertApp] Executing notebook with kernel: python2\n",
      "[NbConvertApp] Writing 1578339 bytes to models\\SCORE_DNA-ALL-basicL-rep-Ridge-WsdRD10___mason.bA.set.html\n",
      "[NbConvertApp] Converting notebook DNA_10_scoring_function_validation.ipynb to html\n",
      "[NbConvertApp] Executing notebook with kernel: python2\n",
      "[NbConvertApp] Writing 1176988 bytes to models\\SCORE_DNA-ALL-basicL-rep-nter_core-Ridge-WsdRD10___PNIC.bA.set.html\n",
      "[NbConvertApp] Converting notebook DNA_10_scoring_function_validation.ipynb to html\n",
      "[NbConvertApp] Executing notebook with kernel: python2\n",
      "[NbConvertApp] Writing 864500 bytes to models\\SCORE_DNA-ALL-basicL-rep-nter_core-Ridge-WsdRD10___PNIC4.bA.set.html\n",
      "[NbConvertApp] Converting notebook DNA_10_scoring_function_validation.ipynb to html\n",
      "[NbConvertApp] Executing notebook with kernel: python2\n",
      "[NbConvertApp] Writing 2197395 bytes to models\\SCORE_DNA-ALL-basicL-rep-nter_core-Ridge-WsdRD10___PNIC-mason.bA.set.html\n",
      "[NbConvertApp] Converting notebook DNA_10_scoring_function_validation.ipynb to html\n",
      "[NbConvertApp] Executing notebook with kernel: python2\n",
      "[NbConvertApp] Writing 1586855 bytes to models\\SCORE_DNA-ALL-basicL-rep-nter_core-Ridge-WsdRD10___mason.bA.set.html\n",
      "[NbConvertApp] Converting notebook DNA_10_scoring_function_validation.ipynb to html\n",
      "[NbConvertApp] Executing notebook with kernel: python2\n",
      "[NbConvertApp] Writing 1180618 bytes to models\\SCORE_DNA-ALL-basicL-rep-core_vertical-Ridge-WsdRD10___PNIC.bA.set.html\n",
      "[NbConvertApp] Converting notebook DNA_10_scoring_function_validation.ipynb to html\n",
      "[NbConvertApp] Executing notebook with kernel: python2\n",
      "[NbConvertApp] Writing 866342 bytes to models\\SCORE_DNA-ALL-basicL-rep-core_vertical-Ridge-WsdRD10___PNIC4.bA.set.html\n",
      "[NbConvertApp] Converting notebook DNA_10_scoring_function_validation.ipynb to html\n",
      "[NbConvertApp] Executing notebook with kernel: python2\n",
      "[NbConvertApp] Writing 2199593 bytes to models\\SCORE_DNA-ALL-basicL-rep-core_vertical-Ridge-WsdRD10___PNIC-mason.bA.set.html\n",
      "[NbConvertApp] Converting notebook DNA_10_scoring_function_validation.ipynb to html\n",
      "[NbConvertApp] Executing notebook with kernel: python2\n",
      "[NbConvertApp] Writing 1587246 bytes to models\\SCORE_DNA-ALL-basicL-rep-core_vertical-Ridge-WsdRD10___mason.bA.set.html\n"
     ]
    }
   ],
   "source": [
    "target_sets = 'PNIC.bA.set PNIC4.bA.set PNIC-mason.bA.set mason.bA.set'.split()\n",
    "models = \"basicL basicL-rep basicL-rep-nter_core basicL-rep-core_vertical\".split()\n",
    "weights = \"W10 WcvRD10 WsdRD10 WbnRD10\".split()\n",
    "weights = \"WsdRD10\".split()\n",
    "for model in models:\n",
    "    for weight in weights:\n",
    "        run_model_DNA(model, \"Ridge\", weight, set_name=\"ALL\", target_set_name=target_sets, skip_existing=True)   \n"
   ]
  },
  {
   "cell_type": "code",
   "execution_count": 5,
   "metadata": {},
   "outputs": [],
   "source": [
    "#!ipcluster start -n 8\n",
    "\n",
    "lv = set_kernels_dir(CDIR)\n",
    "print(CDIR)"
   ]
  },
  {
   "cell_type": "code",
   "execution_count": 91,
   "metadata": {},
   "outputs": [],
   "source": [
    "%%time\n",
    "target_sets = 'PNIC.bA.set PNIC4.bA.set PNIC-mason.bA.set mason.bA.set'.split()\n",
    "models = \"basicL basicL-rep basicL-rep-nter_core basicL-rep-core_vertical\".split()\n",
    "weights = \"W10 WcvRD10 WsdRD10 WbnRD10\".split()\n",
    "#weights = \"WsdRD10\".split()\n",
    "res = []\n",
    "for model in models:\n",
    "    for weight in weights:\n",
    "        res.append(\n",
    "            lv.apply(run_model_DNA, model, \"Ridge\", weight, \n",
    "                 set_name=\"ALL\", target_set_name=target_sets, skip_existing=True) \n",
    "                  )  \n",
    "        \n",
    "res = [r.get() for r in res]"
   ]
  },
  {
   "cell_type": "code",
   "execution_count": 7,
   "metadata": {},
   "outputs": [
    {
     "name": "stdout",
     "output_type": "stream",
     "text": [
      "Wall time: 10min 12s\n"
     ]
    }
   ],
   "source": [
    "%%time\n",
    "lv = set_kernels_dir(CDIR)\n",
    "target_sets = 'PNIC.bA.set PNIC4.bA.set PNIC-mason.bA.set mason.bA.set'.split()\n",
    "models = \"basic basic-rep basic-rep-nter_core basic-rep-core_vertical\".split()\n",
    "weights = \"W10 WcvRD10 WsdRD10 WbnRD10\".split()\n",
    "#weights = \"WsdRD10\".split()\n",
    "res = []\n",
    "for model in models:\n",
    "    for weight in weights:\n",
    "        res.append(\n",
    "            lv.apply(run_model_DNA, model, \"Ridge\", weight, \n",
    "                 set_name=\"ALL\", target_set_name=target_sets, skip_existing=True, fake=False) \n",
    "                  )  \n",
    "        \n",
    "#res = [r.wait() for r in res]"
   ]
  },
  {
   "cell_type": "code",
   "execution_count": 8,
   "metadata": {},
   "outputs": [
    {
     "ename": "AttributeError",
     "evalue": "'bool' object has no attribute 'wait'",
     "output_type": "error",
     "traceback": [
      "\u001b[1;31m---------------------------------------------------------------------------\u001b[0m",
      "\u001b[1;31mAttributeError\u001b[0m                            Traceback (most recent call last)",
      "\u001b[1;32m<ipython-input-8-05ae8805c268>\u001b[0m in \u001b[0;36m<module>\u001b[1;34m()\u001b[0m\n\u001b[0;32m      1\u001b[0m \u001b[1;32mfor\u001b[0m \u001b[0mr\u001b[0m \u001b[1;32min\u001b[0m \u001b[0mres\u001b[0m\u001b[1;33m:\u001b[0m\u001b[1;33m\u001b[0m\u001b[0m\n\u001b[1;32m----> 2\u001b[1;33m     \u001b[0mr\u001b[0m\u001b[1;33m.\u001b[0m\u001b[0mwait\u001b[0m\u001b[1;33m(\u001b[0m\u001b[1;33m)\u001b[0m\u001b[1;33m\u001b[0m\u001b[0m\n\u001b[0m\u001b[0;32m      3\u001b[0m     \u001b[0mr\u001b[0m\u001b[1;33m.\u001b[0m\u001b[0mdisplay_outputs\u001b[0m\u001b[1;33m(\u001b[0m\u001b[1;33m)\u001b[0m\u001b[1;33m\u001b[0m\u001b[0m\n",
      "\u001b[1;31mAttributeError\u001b[0m: 'bool' object has no attribute 'wait'"
     ]
    }
   ],
   "source": [
    "for r in res:\n",
    "    r.wait()\n",
    "    r.display_outputs()"
   ]
  },
  {
   "cell_type": "code",
   "execution_count": 30,
   "metadata": {},
   "outputs": [
    {
     "data": {
      "text/plain": [
       "'models\\\\MODEL_DNA-ALL-basic-rep-Ridge-W10.html'"
      ]
     },
     "execution_count": 30,
     "metadata": {},
     "output_type": "execute_result"
    }
   ],
   "source": [
    "model = \"basic-rep\"\n",
    "weight = \"W10\"\n",
    "res = lv.apply(run_model_DNA, model, \"Ridge\", weight, \n",
    "                 set_name=\"ALL\", target_set_name=target_sets, skip_existing=True)  \n",
    "res.get()"
   ]
  },
  {
   "cell_type": "code",
   "execution_count": 32,
   "metadata": {},
   "outputs": [
    {
     "name": "stdout",
     "output_type": "stream",
     "text": [
      "SKIPPINGmodels\\MODEL_DNA-ALL-basic-rep-Ridge-W10.html\n",
      "WORKING ON: models\\SCORE_DNA-ALL-basic-rep-Ridge-W10___PNIC.bA.set.html\n",
      "jupyter nbconvert --execute DNA_10_scoring_function_validation.ipynb --to html --allow-errors --output models\\SCORE_DNA-ALL-basic-rep-Ridge-W10___PNIC.bA.set.html  \n",
      "WORKING ON: models\\SCORE_DNA-ALL-basic-rep-Ridge-W10___PNIC4.bA.set.html\n",
      "jupyter nbconvert --execute DNA_10_scoring_function_validation.ipynb --to html --allow-errors --output models\\SCORE_DNA-ALL-basic-rep-Ridge-W10___PNIC4.bA.set.html  \n",
      "WORKING ON: models\\SCORE_DNA-ALL-basic-rep-Ridge-W10___PNIC-mason.bA.set.html\n",
      "jupyter nbconvert --execute DNA_10_scoring_function_validation.ipynb --to html --allow-errors --output models\\SCORE_DNA-ALL-basic-rep-Ridge-W10___PNIC-mason.bA.set.html  \n",
      "WORKING ON: models\\SCORE_DNA-ALL-basic-rep-Ridge-W10___mason.bA.set.html\n",
      "jupyter nbconvert --execute DNA_10_scoring_function_validation.ipynb --to html --allow-errors --output models\\SCORE_DNA-ALL-basic-rep-Ridge-W10___mason.bA.set.html  \n"
     ]
    }
   ],
   "source": [
    "res.display_outputs()"
   ]
  },
  {
   "cell_type": "code",
   "execution_count": null,
   "metadata": {},
   "outputs": [],
   "source": []
  }
 ],
 "metadata": {
  "anaconda-cloud": {},
  "hide_input": false,
  "kernelspec": {
   "display_name": "Python 3",
   "language": "python",
   "name": "python3"
  },
  "language_info": {
   "codemirror_mode": {
    "name": "ipython",
    "version": 3
   },
   "file_extension": ".py",
   "mimetype": "text/x-python",
   "name": "python",
   "nbconvert_exporter": "python",
   "pygments_lexer": "ipython3",
   "version": "3.6.5"
  }
 },
 "nbformat": 4,
 "nbformat_minor": 2
}
