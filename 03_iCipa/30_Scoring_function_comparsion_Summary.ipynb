{
 "cells": [
  {
   "cell_type": "code",
   "execution_count": 5,
   "metadata": {},
   "outputs": [
    {
     "name": "stdout",
     "output_type": "stream",
     "text": [
      "D:\\data\\ortoCC\\fine_tune_scoring_function\n"
     ]
    }
   ],
   "source": [
    "from __future__ import division, absolute_import, print_function\n",
    "%load_ext autoreload\n",
    "%autoreload 2\n",
    "\n",
    "import os \n",
    "print(os.getcwd()) \n",
    "    \n",
    "#import hepran\n",
    "#import hepran.bzipscore as bz\n",
    "#import hepran.bcipa as bc\n",
    "#import hepran.utils as u\n",
    "#import hepran.registers as r\n",
    "#import hepran.agadir as ag\n",
    "\n",
    "import pandas as pd\n",
    "import numpy as np\n",
    "import seaborn as sns\n",
    "    \n",
    "%matplotlib inline\n",
    "\n",
    "import matplotlib as mpl\n",
    "import matplotlib.pylab as plt\n",
    "\n",
    "import sklearn as sk\n",
    "\n",
    "\n",
    "CCO = os.environ.get(\"CCO\",r\"C:\\Projekti_KI\\ortoCC\\CoiledCoilOrtho\")\n",
    "\n",
    "import papermill as pm"
   ]
  },
  {
   "cell_type": "code",
   "execution_count": 6,
   "metadata": {},
   "outputs": [],
   "source": [
    "out_dir = \"score_function_comparison\"\n",
    "sfuncs = \"complete,rfe,vinson_ce,fong_svm,bcipa,iCipa_basic_ends_rep,iCipa_basic_rep,iCipa_basic_ends,iCipa_basic\".split(',')"
   ]
  },
  {
   "cell_type": "code",
   "execution_count": 10,
   "metadata": {
    "scrolled": false
   },
   "outputs": [
    {
     "name": "stdout",
     "output_type": "stream",
     "text": [
      "complete\n",
      "rfe\n",
      "vinson_ce\n",
      "fong_svm\n",
      "bcipa\n",
      "iCipa_basic_ends_rep\n",
      "Input Notebook:  20_scoring_function_comparison.ipynb\n",
      "Output Notebook: score_function_comparison\\iCipa_basic_ends_rep.ipynb\n"
     ]
    },
    {
     "name": "stderr",
     "output_type": "stream",
     "text": [
      "100%|██████████████████████████████████████████████████████████████████████████████████████████████████████████████████████████████████████████████████████████████████| 11/11 [00:04<00:00,  2.36it/s]\n"
     ]
    },
    {
     "name": "stdout",
     "output_type": "stream",
     "text": [
      "iCipa_basic_rep\n",
      "Input Notebook:  20_scoring_function_comparison.ipynb\n",
      "Output Notebook: score_function_comparison\\iCipa_basic_rep.ipynb\n"
     ]
    },
    {
     "name": "stderr",
     "output_type": "stream",
     "text": [
      "100%|██████████████████████████████████████████████████████████████████████████████████████████████████████████████████████████████████████████████████████████████████| 11/11 [00:04<00:00,  2.36it/s]\n"
     ]
    },
    {
     "name": "stdout",
     "output_type": "stream",
     "text": [
      "iCipa_basic_ends\n",
      "Input Notebook:  20_scoring_function_comparison.ipynb\n",
      "Output Notebook: score_function_comparison\\iCipa_basic_ends.ipynb\n"
     ]
    },
    {
     "name": "stderr",
     "output_type": "stream",
     "text": [
      "100%|██████████████████████████████████████████████████████████████████████████████████████████████████████████████████████████████████████████████████████████████████| 11/11 [00:04<00:00,  2.37it/s]\n"
     ]
    },
    {
     "name": "stdout",
     "output_type": "stream",
     "text": [
      "iCipa_basic\n",
      "Input Notebook:  20_scoring_function_comparison.ipynb\n",
      "Output Notebook: score_function_comparison\\iCipa_basic.ipynb\n"
     ]
    },
    {
     "name": "stderr",
     "output_type": "stream",
     "text": [
      "100%|██████████████████████████████████████████████████████████████████████████████████████████████████████████████████████████████████████████████████████████████████| 11/11 [00:04<00:00,  2.36it/s]\n"
     ]
    }
   ],
   "source": [
    "import papermill as pm\n",
    "for sfunc in sfuncs:\n",
    "    out_path = os.path.join(out_dir, sfunc+\".ipynb\")\n",
    "    os.environ['sfunc']=sfunc\n",
    "    print(sfunc)\n",
    "    if os.path.isfile(out_path): continue; \n",
    "    pm.execute_notebook(\n",
    "       '20_scoring_function_comparison.ipynb',\n",
    "       out_path,\n",
    "       parameters = dict(sfunc=sfunc, out_dir=out_dir)\n",
    "    )"
   ]
  },
  {
   "cell_type": "code",
   "execution_count": null,
   "metadata": {},
   "outputs": [],
   "source": [
    "    \n",
    "out_path = os.path.join(out_dir, sfunc+\".ipynb\")\n",
    "os.environ['sfunc']=sfunc\n",
    "!echo jupyter nbconvert --to notebook --execute 20_scoring_function_comparison.ipynb --output={out_path}\n",
    "\n",
    "pm.execute_notebook(\n",
    "   '20_scoring_function_comparison.ipynb',\n",
    "   out_path,\n",
    "   parameters = dict(sfunc=sfunc, out_dir=out_dir)\n",
    ")"
   ]
  },
  {
   "cell_type": "code",
   "execution_count": null,
   "metadata": {},
   "outputs": [],
   "source": []
  }
 ],
 "metadata": {
  "anaconda-cloud": {},
  "hide_input": false,
  "kernelspec": {
   "display_name": "Python 3",
   "language": "python",
   "name": "python3"
  },
  "language_info": {
   "codemirror_mode": {
    "name": "ipython",
    "version": 3
   },
   "file_extension": ".py",
   "mimetype": "text/x-python",
   "name": "python",
   "nbconvert_exporter": "python",
   "pygments_lexer": "ipython3",
   "version": "3.6.5"
  }
 },
 "nbformat": 4,
 "nbformat_minor": 2
}
