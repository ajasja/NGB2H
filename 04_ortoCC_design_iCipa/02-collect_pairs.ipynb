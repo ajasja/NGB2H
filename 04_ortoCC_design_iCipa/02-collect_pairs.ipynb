{
 "cells": [
  {
   "cell_type": "code",
   "execution_count": 88,
   "metadata": {
    "collapsed": false
   },
   "outputs": [
    {
     "name": "stdout",
     "output_type": "stream",
     "text": [
      "The autoreload extension is already loaded. To reload it, use:\n",
      "  %reload_ext autoreload\n",
      "D:\\data\\ortoCC\\design-with-alignments\\4heptade-7\n"
     ]
    }
   ],
   "source": [
    "#takes \n",
    "from __future__ import division, absolute_import, print_function\n",
    "%load_ext autoreload\n",
    "%autoreload 2\n",
    "import os\n",
    "os.chdir(r\"D:\\data\\ortoCC\\design-with-alignments\\4heptade-7\")\n",
    "print(os.getcwd())\n",
    "import hepran\n",
    "import hepran.bzipscore as bz\n",
    "from hepran.bzipscore import *\n",
    "import hepran.utils as u\n",
    "import hepran.registers as r\n",
    "import numpy as np\n",
    "CCO = os.environ.get(\"CCO\",r\"C:\\Projekti_KI\\ortoCC\\CoiledCoilOrtho\")\n",
    "from glob import glob\n",
    "import pandas as pd\n",
    "from StringIO import StringIO\n",
    "import collections"
   ]
  },
  {
   "cell_type": "code",
   "execution_count": 83,
   "metadata": {
    "collapsed": true
   },
   "outputs": [],
   "source": [
    "sets = glob(\"!OUT_bcf/*.set\")  \n",
    "sets += glob(\"!OUT_additional/*.set\")  \n",
    "\n",
    "final_fasta = collections.OrderedDict()\n",
    "final_pairs = []"
   ]
  },
  {
   "cell_type": "code",
   "execution_count": 84,
   "metadata": {
    "collapsed": false
   },
   "outputs": [
    {
     "name": "stdout",
     "output_type": "stream",
     "text": [
      "pairs: 8155\n",
      "IDs: 736\n"
     ]
    }
   ],
   "source": [
    "for _set in sets:\n",
    "    set_data = u.load_set(_set)\n",
    "    fasta_data = u.load_fasta(u.replace_extension(_set,'fasta'))\n",
    "    \n",
    "    #change first IDs to D\n",
    "    fasta_data = u.change_nth_res(fasta_data, pos=0, res='D')\n",
    "    #ids are loaded from set. Important, because fasta can then be larger...\n",
    "    set_ids = bz.get_ids_from_pairs(set_data)\n",
    "    all_pairs = u.make_all_pairs(set_ids, is_symmetric=True)\n",
    "    u.append_pairs(final_pairs, all_pairs, is_symmetric=True)\n",
    "    u.append_fasta(final_fasta, fasta_data)\n",
    "    \n",
    "\n",
    "print(\"pairs:\",len(final_pairs))\n",
    "print(\"IDs:\"  ,len(final_fasta))\n",
    "\n",
    "u.save_dict_to_fasta(final_fasta, \"!all-sym.fasta\")\n",
    "u.save_set(final_pairs, \"!all-sym.pairs\")"
   ]
  },
  {
   "cell_type": "code",
   "execution_count": 85,
   "metadata": {
    "collapsed": false
   },
   "outputs": [
    {
     "name": "stdout",
     "output_type": "stream",
     "text": [
      "pairs: 8169\n",
      "IDs: 761\n"
     ]
    }
   ],
   "source": [
    "## Load the pairs for which we have experimental data\n",
    "\n",
    "seqs_df = pd.read_excel(\"!OUT_additional_pairs/reliable-seq+Tm.xlsx\", sheetname=\"sequence\")\n",
    "#throw out whitespace and -\n",
    "#warning - alignment is lost!\n",
    "seqs_df.drop(0, inplace=True)\n",
    "seqs_df.sequence = seqs_df.sequence.str.replace(\" \", \"\")\n",
    "seqs_df.sequence = seqs_df.sequence.str.replace(\"-\", \"\")\n",
    "#Limit to \n",
    "seqs_df.sequence = seqs_df.sequence.str[0:29]\n",
    "seqs_exp = collections.OrderedDict()\n",
    "for i, row in seqs_df.iterrows():\n",
    "    seqs_exp[row.peptide] = row.sequence\n",
    "    \n",
    "seqs_exp;\n",
    "\n",
    "pairs_df = pd.read_excel(\"!OUT_additional_pairs/reliable-seq+Tm.xlsx\", sheetname=\"Tm\")\n",
    "pairs_df\n",
    "pairs_exp = [(row.peptide1, row.peptide2) for i, row in pairs_df.iterrows()]\n",
    "pairs_exp;\n",
    "\n",
    "##append the pairs\n",
    "u.append_pairs(final_pairs, pairs_exp, is_symmetric=True)\n",
    "u.append_fasta(final_fasta, seqs_exp)\n",
    "    \n",
    "\n",
    "print(\"pairs:\",len(final_pairs))\n",
    "print(\"IDs:\"  ,len(final_fasta))\n",
    "\n",
    "u.save_dict_to_fasta(final_fasta, \"!all-sym.fasta\")\n",
    "u.save_set(final_pairs, \"!all-sym.pairs\")"
   ]
  },
  {
   "cell_type": "code",
   "execution_count": 91,
   "metadata": {
    "collapsed": false
   },
   "outputs": [],
   "source": [
    "assert u.check_pairs_and_fasta(final_fasta, final_pairs)"
   ]
  },
  {
   "cell_type": "code",
   "execution_count": null,
   "metadata": {
    "collapsed": true
   },
   "outputs": [],
   "source": []
  }
 ],
 "metadata": {
  "anaconda-cloud": {},
  "hide_input": false,
  "kernelspec": {
   "display_name": "Python [default]",
   "language": "python",
   "name": "python2"
  },
  "language_info": {
   "codemirror_mode": {
    "name": "ipython",
    "version": 2
   },
   "file_extension": ".py",
   "mimetype": "text/x-python",
   "name": "python",
   "nbconvert_exporter": "python",
   "pygments_lexer": "ipython2",
   "version": "2.7.11"
  }
 },
 "nbformat": 4,
 "nbformat_minor": 0
}
