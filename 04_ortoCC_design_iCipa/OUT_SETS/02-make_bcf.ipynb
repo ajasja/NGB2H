{
 "cells": [
  {
   "cell_type": "code",
   "execution_count": 51,
   "metadata": {
    "collapsed": false
   },
   "outputs": [
    {
     "name": "stdout",
     "output_type": "stream",
     "text": [
      "The autoreload extension is already loaded. To reload it, use:\n",
      "  %reload_ext autoreload\n",
      "d:\\data\\ortoCC\\fine_tune_scoring_function\\OUT_SETS\n"
     ]
    }
   ],
   "source": [
    "#takes \n",
    "from __future__ import division, absolute_import\n",
    "%load_ext autoreload\n",
    "%autoreload 2\n",
    "import os\n",
    "\n",
    "print(os.getcwd())\n",
    "import hepran\n",
    "import hepran.bzipscore as bz\n",
    "from hepran.bzipscore import *\n",
    "import hepran.utils as u\n",
    "import hepran.registers as r\n",
    "import numpy as np\n",
    "CCO = os.environ.get(\"CCO\",r\"C:\\Projekti_KI\\ortoCC\\CoiledCoilOrtho\")\n",
    "from glob import glob\n",
    "import pandas as pd\n",
    "from StringIO import StringIO\n",
    "from gather_utils import *"
   ]
  },
  {
   "cell_type": "code",
   "execution_count": 52,
   "metadata": {
    "collapsed": true
   },
   "outputs": [],
   "source": [
    "import shutil\n",
    "fresh=1\n",
    "if fresh:\n",
    "    try:\n",
    "        shutil.rmtree('!02_OUT_bcf')\n",
    "    except:\n",
    "        pass\n",
    "\n",
    "u.ensure_dir(\"!02_OUT_bcf\")\n",
    "sets = glob(\"!01_OUT/*.set\")     \n",
    "bcf = u.load_fasta(\"bcf.fasta\")          \n",
    "fasta = u.load_fasta(\"../full4heptad.fasta\")\n",
    "\n"
   ]
  },
  {
   "cell_type": "code",
   "execution_count": 53,
   "metadata": {
    "collapsed": false
   },
   "outputs": [],
   "source": [
    "#write a json file of all sets\n",
    "bcf_dict = u.load_json(\"!01_OUT/BCF.json\")\n",
    "default_bcf = bcf_dict['__default__']"
   ]
  },
  {
   "cell_type": "code",
   "execution_count": 54,
   "metadata": {
    "collapsed": false
   },
   "outputs": [
    {
     "name": "stdout",
     "output_type": "stream",
     "text": [
      "('!01_OUT\\\\4H_1or2N_0_DNA-ALL-basicL-rep-core_vertical-Ridge-WbnRD10_P00_bc-47.00_nc-42.00-hetero-ex.00.00.set', u'aA')\n",
      "('!01_OUT\\\\4H_1or2N_0_DNA-ALL-basicL-rep-core_vertical-Ridge-WbnRD10_P00_bc-47.00_nc-42.00-hetero-ex.01.00.set', u'aA')\n",
      "('!01_OUT\\\\4H_1or2N_0_DNA-ALL-basicL-rep-core_vertical-Ridge-WbnRD10_P00_bc-49.00_nc-43.00-hetero-ex.00.00.set', u'aA')\n",
      "('!01_OUT\\\\4H_1or2N_5_DNA-ALL-basic-rep-Ridge-WbnRD10_P07_bc-49.00_nc-41.20-all.00.set', u'aA')\n",
      "('!01_OUT\\\\4H_1or2N_5_DNA-ALL-basicL-rep-core_vertical-Ridge-WbnRD10_P07_bc-48.00_nc-42.00-hetero-ex.00.00.set', u'aA')\n",
      "('!01_OUT\\\\4H_1or2N_5_DNA-ALL-basicL-rep-core_vertical-Ridge-WbnRD10_P07_bc-49.00_nc-42.00-hetero-ex.00.00.set', u'aA')\n",
      "('!01_OUT\\\\4H_1or2N_5_DNA-ALL-basicL-rep-core_vertical-Ridge-WbnRD10_P07_bc-49.00_nc-42.00-hetero-ex.00.01.set', u'aA')\n",
      "('!01_OUT\\\\4H_1or2N_bcipa_B07_T1_bc-76.00_nc-46.00-hetero.00.set', u'aA')\n",
      "('!01_OUT\\\\4H_1or2N_not_last_only_5_DNA-ALL-basic-rep-Ridge-WbnRD10_P07_bc-49.00_nc-41.20-all.00.set', u'aA')\n",
      "('!01_OUT\\\\4H_2N_5_DNA-ALL-basic-rep-core_vertical-Ridge-WbnRD10_P07_bc-48.00_nc-42.00-hetero-ex.00.00.set', u'aA')\n",
      "('!01_OUT\\\\4H_2N_5_DNA-ALL-basic-rep-nter_core-Ridge-WbnRD10_P07_bc-48.00_nc-40.70-all.00.set', u'aA')\n",
      "('!01_OUT\\\\AP2N_only_potapov_B07_T1_DEL-1.20-bc-7.95_nc-6.75-all.00.set', u'aA')\n",
      "('!01_OUT\\\\AP2N_P1or2N_potapov_B07_T1_-DEL-1.20-bc-8.10_nc-6.90-all.00_reduced.set', u'aA')\n",
      "('!01_OUT\\\\APPNIC.set', u'aA')\n",
      "('!01_OUT\\\\mason.set', u'aA')\n",
      "('!01_OUT\\\\mason_small.set', u'aA')\n",
      "('!01_OUT\\\\N.set', u'aA')\n",
      "('!01_OUT\\\\PNIC.set', u'aA')\n",
      "('!01_OUT\\\\potapov_4h-1or2N-not_first_only_B07_bc-8.60_nc-7.60-all.00-cleaned.set', u'aA')\n"
     ]
    }
   ],
   "source": [
    "for _set in sets:\n",
    "    set_name = u.replace_extension(os.path.basename(_set),'')\n",
    "    bcf_sites = bcf_dict.get(set_name, default_bcf)\n",
    "    for _bcf_name in  bcf_sites.split():\n",
    "        print(_set, _bcf_name)\n",
    "        convert_set(_set, _bcf_name, out_dir='!02_OUT_bcf', bcf_dict=bcf, fasta=fasta)\n",
    "        "
   ]
  },
  {
   "cell_type": "code",
   "execution_count": 55,
   "metadata": {
    "collapsed": false
   },
   "outputs": [
    {
     "data": {
      "text/plain": [
       "['!02_OUT_bcf\\\\4H_1or2N_0_DNA-ALL-basicL-rep-core_vertical-Ridge-WbnRD10_P00_bc-47.00_nc-42.00-hetero-ex.00.00.aA.set',\n",
       " '!02_OUT_bcf\\\\4H_1or2N_0_DNA-ALL-basicL-rep-core_vertical-Ridge-WbnRD10_P00_bc-47.00_nc-42.00-hetero-ex.01.00.aA.set',\n",
       " '!02_OUT_bcf\\\\4H_1or2N_0_DNA-ALL-basicL-rep-core_vertical-Ridge-WbnRD10_P00_bc-49.00_nc-43.00-hetero-ex.00.00.aA.set',\n",
       " '!02_OUT_bcf\\\\4H_1or2N_5_DNA-ALL-basic-rep-Ridge-WbnRD10_P07_bc-49.00_nc-41.20-all.00.aA.set',\n",
       " '!02_OUT_bcf\\\\4H_1or2N_5_DNA-ALL-basicL-rep-core_vertical-Ridge-WbnRD10_P07_bc-48.00_nc-42.00-hetero-ex.00.00.aA.set',\n",
       " '!02_OUT_bcf\\\\4H_1or2N_5_DNA-ALL-basicL-rep-core_vertical-Ridge-WbnRD10_P07_bc-49.00_nc-42.00-hetero-ex.00.00.aA.set',\n",
       " '!02_OUT_bcf\\\\4H_1or2N_5_DNA-ALL-basicL-rep-core_vertical-Ridge-WbnRD10_P07_bc-49.00_nc-42.00-hetero-ex.00.01.aA.set',\n",
       " '!02_OUT_bcf\\\\4H_1or2N_bcipa_B07_T1_bc-76.00_nc-46.00-hetero.00.aA.set',\n",
       " '!02_OUT_bcf\\\\4H_1or2N_not_last_only_5_DNA-ALL-basic-rep-Ridge-WbnRD10_P07_bc-49.00_nc-41.20-all.00.aA.set',\n",
       " '!02_OUT_bcf\\\\4H_2N_5_DNA-ALL-basic-rep-core_vertical-Ridge-WbnRD10_P07_bc-48.00_nc-42.00-hetero-ex.00.00.aA.set',\n",
       " '!02_OUT_bcf\\\\4H_2N_5_DNA-ALL-basic-rep-nter_core-Ridge-WbnRD10_P07_bc-48.00_nc-40.70-all.00.aA.set',\n",
       " '!02_OUT_bcf\\\\AP2N_only_potapov_B07_T1_DEL-1.20-bc-7.95_nc-6.75-all.00.aA.set',\n",
       " '!02_OUT_bcf\\\\AP2N_P1or2N_potapov_B07_T1_-DEL-1.20-bc-8.10_nc-6.90-all.00_reduced.aA.set',\n",
       " '!02_OUT_bcf\\\\APPNIC.aA.set',\n",
       " '!02_OUT_bcf\\\\mason.aA.set',\n",
       " '!02_OUT_bcf\\\\mason_small.aA.set',\n",
       " '!02_OUT_bcf\\\\N.aA.set',\n",
       " '!02_OUT_bcf\\\\PNIC.aA.set',\n",
       " '!02_OUT_bcf\\\\potapov_4h-1or2N-not_first_only_B07_bc-8.60_nc-7.60-all.00-cleaned.aA.set',\n",
       " '!03_OUT_additional\\\\4H_1or2N_0_DNA-ALL-basicL-rep-nter_core-Ridge-WbnRD10_P00_bc-47.00_nc-40.80-all.05.aA.set',\n",
       " '!03_OUT_additional\\\\4H_1or2N_0_DNA-ALL-basicL-rep-nter_core-Ridge-WbnRD10_P00_bc-49.00_nc-40.80-all.00.aA.set',\n",
       " '!03_OUT_additional\\\\4H_1or2N_sameGE_5_DNA-ALL-basicL-rep-core_vertical-Ridge-WbnRD10_P07_bc-50.00_nc-44.00-all.00.aA.set',\n",
       " '!03_OUT_additional\\\\APPNIC.aA.set']"
      ]
     },
     "execution_count": 55,
     "metadata": {},
     "output_type": "execute_result"
    }
   ],
   "source": [
    "bcf_sets = glob(\"!02_OUT_bcf/*.set\")  \n",
    "bcf_sets += glob(\"!03_OUT_additional/*.set\")  \n",
    "bcf_sets"
   ]
  },
  {
   "cell_type": "code",
   "execution_count": 56,
   "metadata": {
    "collapsed": true
   },
   "outputs": [],
   "source": [
    "#parallel requires \n",
    "#!ipcluster start "
   ]
  },
  {
   "cell_type": "code",
   "execution_count": 57,
   "metadata": {
    "collapsed": false
   },
   "outputs": [
    {
     "name": "stdout",
     "output_type": "stream",
     "text": [
      "!02_OUT_bcf\\4H_1or2N_0_DNA-ALL-basicL-rep-core_vertical-Ridge-WbnRD10_P00_bc-47.00_nc-42.00-hetero-ex.00.00.aA.set\n",
      "!02_OUT_bcf\\4H_1or2N_0_DNA-ALL-basicL-rep-core_vertical-Ridge-WbnRD10_P00_bc-47.00_nc-42.00-hetero-ex.01.00.aA.set\n",
      "!02_OUT_bcf\\4H_1or2N_0_DNA-ALL-basicL-rep-core_vertical-Ridge-WbnRD10_P00_bc-49.00_nc-43.00-hetero-ex.00.00.aA.set\n",
      "!02_OUT_bcf\\4H_1or2N_5_DNA-ALL-basic-rep-Ridge-WbnRD10_P07_bc-49.00_nc-41.20-all.00.aA.set\n",
      "!02_OUT_bcf\\4H_1or2N_5_DNA-ALL-basicL-rep-core_vertical-Ridge-WbnRD10_P07_bc-48.00_nc-42.00-hetero-ex.00.00.aA.set\n",
      "!02_OUT_bcf\\4H_1or2N_5_DNA-ALL-basicL-rep-core_vertical-Ridge-WbnRD10_P07_bc-49.00_nc-42.00-hetero-ex.00.00.aA.set\n",
      "!02_OUT_bcf\\4H_1or2N_5_DNA-ALL-basicL-rep-core_vertical-Ridge-WbnRD10_P07_bc-49.00_nc-42.00-hetero-ex.00.01.aA.set\n",
      "!02_OUT_bcf\\4H_1or2N_bcipa_B07_T1_bc-76.00_nc-46.00-hetero.00.aA.set\n",
      "!02_OUT_bcf\\4H_1or2N_not_last_only_5_DNA-ALL-basic-rep-Ridge-WbnRD10_P07_bc-49.00_nc-41.20-all.00.aA.set\n",
      "!02_OUT_bcf\\4H_2N_5_DNA-ALL-basic-rep-core_vertical-Ridge-WbnRD10_P07_bc-48.00_nc-42.00-hetero-ex.00.00.aA.set\n",
      "!02_OUT_bcf\\4H_2N_5_DNA-ALL-basic-rep-nter_core-Ridge-WbnRD10_P07_bc-48.00_nc-40.70-all.00.aA.set\n",
      "!02_OUT_bcf\\AP2N_only_potapov_B07_T1_DEL-1.20-bc-7.95_nc-6.75-all.00.aA.set\n",
      "!02_OUT_bcf\\AP2N_P1or2N_potapov_B07_T1_-DEL-1.20-bc-8.10_nc-6.90-all.00_reduced.aA.set\n",
      "!02_OUT_bcf\\APPNIC.aA.set\n",
      "!02_OUT_bcf\\mason.aA.set\n",
      "!02_OUT_bcf\\mason_small.aA.set\n",
      "!02_OUT_bcf\\N.aA.set\n",
      "!02_OUT_bcf\\PNIC.aA.set\n",
      "!02_OUT_bcf\\potapov_4h-1or2N-not_first_only_B07_bc-8.60_nc-7.60-all.00-cleaned.aA.set\n",
      "!03_OUT_additional\\4H_1or2N_0_DNA-ALL-basicL-rep-nter_core-Ridge-WbnRD10_P00_bc-47.00_nc-40.80-all.05.aA.set\n",
      "!03_OUT_additional\\4H_1or2N_0_DNA-ALL-basicL-rep-nter_core-Ridge-WbnRD10_P00_bc-49.00_nc-40.80-all.00.aA.set\n",
      "!03_OUT_additional\\4H_1or2N_sameGE_5_DNA-ALL-basicL-rep-core_vertical-Ridge-WbnRD10_P07_bc-50.00_nc-44.00-all.00.aA.set\n",
      "!03_OUT_additional\\APPNIC.aA.set\n"
     ]
    }
   ],
   "source": [
    "comp = bz.analyse_sets(bcf_sets, None, alignment=\"B07\", scorer_exe=CCO+\"/fastscore.exe\",\n",
    "                           skip_existing=True,\n",
    "                           username=\"ajasja\", password=\"agrftAGADIR\", calculate_helicity=False, serial=False)\n",
    "for result in comp:\n",
    "    print(result)"
   ]
  },
  {
   "cell_type": "code",
   "execution_count": 58,
   "metadata": {},
   "outputs": [
    {
     "data": {
      "text/plain": [
       "<module 'hepran.registers' from 'c:\\projekti_ki\\ortocc\\agadir\\hepran\\registers.pyc'>"
      ]
     },
     "execution_count": 58,
     "metadata": {},
     "output_type": "execute_result"
    }
   ],
   "source": [
    "r"
   ]
  },
  {
   "cell_type": "code",
   "execution_count": null,
   "metadata": {},
   "outputs": [],
   "source": []
  }
 ],
 "metadata": {
  "anaconda-cloud": {},
  "hide_input": false,
  "kernelspec": {
   "display_name": "OrtoCC3",
   "language": "python",
   "name": "myenv"
  },
  "language_info": {
   "codemirror_mode": {
    "name": "ipython",
    "version": 3
   },
   "file_extension": ".py",
   "mimetype": "text/x-python",
   "name": "python",
   "nbconvert_exporter": "python",
   "pygments_lexer": "ipython3",
   "version": "3.7.1"
  }
 },
 "nbformat": 4,
 "nbformat_minor": 2
}
