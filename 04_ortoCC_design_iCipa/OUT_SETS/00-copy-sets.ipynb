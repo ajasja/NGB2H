{
 "cells": [
  {
   "cell_type": "code",
   "execution_count": 204,
   "metadata": {
    "collapsed": false
   },
   "outputs": [
    {
     "name": "stdout",
     "output_type": "stream",
     "text": [
      "The autoreload extension is already loaded. To reload it, use:\n",
      "  %reload_ext autoreload\n",
      "d:\\data\\ortoCC\\fine_tune_scoring_function\\OUT_SETS\n"
     ]
    }
   ],
   "source": [
    "from __future__ import division, absolute_import\n",
    "%load_ext autoreload\n",
    "%autoreload 2\n",
    "import os\n",
    "print(os.getcwd())\n",
    "import hepran\n",
    "from hepran.bzipscore import *\n",
    "import hepran.utils as u\n",
    "import hepran.registers as r\n",
    "import numpy as np\n",
    "CCO = os.environ.get(\"CCO\",r\"C:\\Projekti_KI\\ortoCC\\CoiledCoilOrtho\")\n",
    "from glob import glob\n",
    "import pandas as pd\n",
    "from StringIO import StringIO\n",
    "from gather_utils import *\n"
   ]
  },
  {
   "cell_type": "code",
   "execution_count": 205,
   "metadata": {
    "collapsed": false
   },
   "outputs": [
    {
     "name": "stdout",
     "output_type": "stream",
     "text": [
      "Wall time: 13.3 s\n"
     ]
    }
   ],
   "source": [
    "%%time\n",
    "set_infos = glob(\"../NEW_sets/4H*/*/*.set_info\")\n",
    "df = load_set_infos_to_dataframe(set_infos)"
   ]
  },
  {
   "cell_type": "code",
   "execution_count": 118,
   "metadata": {},
   "outputs": [],
   "source": [
    "def get_names(row):\n",
    "    fname = row['!full_name'].replace(\"4h-\",\"4H_\")\n",
    "    row['!full_name'] = fname\n",
    "    row['name'] =row['name'].replace(\"4h-\",\"4H_\")\n",
    "\n",
    "    row['peptides_type']=os.path.dirname(os.path.dirname(fname))\n",
    "    row['basename'] = os.path.basename(fname)\n",
    "    row['finalname']=final_name(fname)\n",
    "    return row"
   ]
  },
  {
   "cell_type": "code",
   "execution_count": 209,
   "metadata": {},
   "outputs": [],
   "source": []
  },
  {
   "cell_type": "code",
   "execution_count": 121,
   "metadata": {},
   "outputs": [
    {
     "name": "stdout",
     "output_type": "stream",
     "text": [
      "Wall time: 14.9 s\n"
     ]
    }
   ],
   "source": [
    "%%time\n",
    "#df['!full_name'] =df['!full_name'].str.replace(\"4h-\",\"4H_\")\n",
    "#df['name'] =df['name'].str.replace(\"4h-\",\"4H_\")\n",
    "#df['peptides_type']=df['!full_name'].apply(lambda x: os.path.dirname(os.path.dirname(x)))\n",
    "#df['basename']=df['!full_name'].apply(lambda x: os.path.basename(x))\n",
    "#df['finalname']=df.apply(final_name)\n",
    "#df.reindex(columns = df.columns +.split())\n",
    "for c in 'peptides_type basename finalname'.split():\n",
    "    df[c]=\"\"\n",
    "df = df.apply(get_names, axis=1)\n",
    "df.to_excel('sets.xlsx')"
   ]
  },
  {
   "cell_type": "code",
   "execution_count": null,
   "metadata": {},
   "outputs": [],
   "source": [
    "df = pd.read_excel('sets.xlsx')"
   ]
  },
  {
   "cell_type": "code",
   "execution_count": 212,
   "metadata": {},
   "outputs": [
    {
     "name": "stdout",
     "output_type": "stream",
     "text": [
      "15842\n"
     ]
    },
    {
     "data": {
      "text/plain": [
       "Index([u'!full_name', u'name', u'binding_cutoff', u'nonbinding_cutoff',\n",
       "       u'N_pairs', u'N_heterodimers', u'N_homodimers', u'total_IN_mismatches',\n",
       "       u'total_electrostatic_mismatches', u'N_offtarget_above_min_ontarget',\n",
       "       u'alignment', u'binding_min_affinity', u'binding_min_affinity_%',\n",
       "       u'dirname', u'lower_is_better', u'max_affinity', u'min_affinity',\n",
       "       u'nonbinidng_max_affinity', u'nonbinidng_max_affinity_%',\n",
       "       u'normalization_max', u'normalization_min', u'orthogonality_average',\n",
       "       u'orthogonality_average_%', u'orthogonality_gap',\n",
       "       u'orthogonality_gap_%', u'starting_pos', u'total_II_pairs',\n",
       "       u'total_II_pairs_%', u'total_IN_mismatches_%', u'total_NN_pairs',\n",
       "       u'total_NN_pairs_%', u'total_electrostatic_matches',\n",
       "       u'total_electrostatic_matches_%', u'total_electrostatic_mismatches_%',\n",
       "       u'type', u'N_aminoacids', u'N_heptades', u'peptides_type', u'basename',\n",
       "       u'finalname'],\n",
       "      dtype='object')"
      ]
     },
     "execution_count": 212,
     "metadata": {},
     "output_type": "execute_result"
    }
   ],
   "source": [
    "print(len(df))\n",
    "df.columns\n"
   ]
  },
  {
   "cell_type": "code",
   "execution_count": 213,
   "metadata": {},
   "outputs": [],
   "source": [
    "df.sort_values(by=\"N_heterodimers\", ascending=False).head(10);"
   ]
  },
  {
   "cell_type": "code",
   "execution_count": 250,
   "metadata": {
    "collapsed": false
   },
   "outputs": [
    {
     "name": "stdout",
     "output_type": "stream",
     "text": [
      "../NEW_SETS/4H_1or2N_0_DNA-ALL-basicL-rep-core_vertical-Ridge-WbnRD10-P00-DEL5.00/4H_1or2N_0_DNA-ALL-basicL-rep-core_vertical-Ridge-WbnRD10_P00_bc-47.00_nc-42.00/hetero-ex.01.00.set->\n",
      "!01_OUT\\4H_1or2N_0_DNA-ALL-basicL-rep-core_vertical-Ridge-WbnRD10_P00_bc-47.00_nc-42.00-hetero-ex.01.00.set\n",
      "\n",
      "../NEW_SETS/4H_1or2N_0_DNA-ALL-basicL-rep-core_vertical-Ridge-WbnRD10-P00-DEL5.00/4H_1or2N_0_DNA-ALL-basicL-rep-core_vertical-Ridge-WbnRD10_P00_bc-47.00_nc-42.00/hetero-ex.00.00.set->\n",
      "!01_OUT\\4H_1or2N_0_DNA-ALL-basicL-rep-core_vertical-Ridge-WbnRD10_P00_bc-47.00_nc-42.00-hetero-ex.00.00.set\n",
      "\n"
     ]
    }
   ],
   "source": [
    "sdf = filter_df(df, \"4H_1or2N_0_DNA-ALL-basicL-rep-core_vertical-Ridge-WbnRD10-P00-DEL5.00\", None)\n",
    "sdf[display_cols].head(10)\n",
    "pd.set_option('display.max_colwidth', -1)\n",
    "idx = 1836\n",
    "copy_to_out(sdf.loc[idx], open_in_excel=0, in_dir_prefx='../NEW_SETS/')  \n",
    "idx = 1835\n",
    "copy_to_out(sdf.loc[idx], open_in_excel=0, in_dir_prefx='../NEW_SETS/')  "
   ]
  },
  {
   "cell_type": "code",
   "execution_count": 217,
   "metadata": {
    "collapsed": false
   },
   "outputs": [],
   "source": [
    "pd.set_option('display.max_colwidth', -1)\n",
    "sdf = filter_df(df, \"4H_1or2N_0_DNA-ALL-basicL-rep-core_vertical-Ridge-WbnRD10-P00-DEL6.00\", None)\n",
    "sdf[display_cols].head(30)\n",
    "idx = 2389\n",
    "copy_to_out(sdf.loc[idx], open_in_excel=0, in_dir_prefx='../NEW_SETS/')  "
   ]
  },
  {
   "cell_type": "code",
   "execution_count": 218,
   "metadata": {
    "collapsed": false
   },
   "outputs": [
    {
     "name": "stdout",
     "output_type": "stream",
     "text": [
      "../NEW_SETS/4H_1or2N_0_DNA-ALL-basicL-rep-core_vertical-Ridge-WbnRD10-P00-DEL6.00/4H_1or2N_0_DNA-ALL-basicL-rep-core_vertical-Ridge-WbnRD10_P00_bc-49.00_nc-43.00/hetero-ex.00.00.set->\n",
      "!01_OUT\\4H_1or2N_0_DNA-ALL-basicL-rep-core_vertical-Ridge-WbnRD10_P00_bc-49.00_nc-43.00-hetero-ex.00.00.set\n",
      "\n"
     ]
    }
   ],
   "source": [
    " "
   ]
  },
  {
   "cell_type": "code",
   "execution_count": 219,
   "metadata": {},
   "outputs": [
    {
     "name": "stdout",
     "output_type": "stream",
     "text": [
      "../NEW_SETS/4H_1or2N_5_DNA-ALL-basicL-rep-core_vertical-Ridge-WbnRD10-P07-DEL6.00/4H_1or2N_5_DNA-ALL-basicL-rep-core_vertical-Ridge-WbnRD10_P07_bc-48.00_nc-42.00/hetero-ex.00.00.set->\n",
      "!01_OUT\\4H_1or2N_5_DNA-ALL-basicL-rep-core_vertical-Ridge-WbnRD10_P07_bc-48.00_nc-42.00-hetero-ex.00.00.set\n",
      "\n",
      "../NEW_SETS/4H_1or2N_5_DNA-ALL-basicL-rep-core_vertical-Ridge-WbnRD10-P07-DEL6.00/4H_1or2N_5_DNA-ALL-basicL-rep-core_vertical-Ridge-WbnRD10_P07_bc-47.00_nc-41.00/homo.03.set->\n",
      "!01_OUT\\4H_1or2N_5_DNA-ALL-basicL-rep-core_vertical-Ridge-WbnRD10_P07_bc-47.00_nc-41.00-homo.03.set\n",
      "\n"
     ]
    }
   ],
   "source": [
    "sdf = filter_df(df, \"4H_1or2N_5_DNA-ALL-basicL-rep-core_vertical-Ridge-WbnRD10-P07-DEL6.00\", None)\n",
    "sdf[display_cols].head(30)\n",
    "idx = 8023\n",
    "copy_to_out(sdf.loc[idx], open_in_excel=0, in_dir_prefx='../NEW_SETS/')   \n",
    "idx = 8021\n",
    "copy_to_out(sdf.loc[idx], open_in_excel=0, in_dir_prefx='../NEW_SETS/')   "
   ]
  },
  {
   "cell_type": "code",
   "execution_count": 220,
   "metadata": {},
   "outputs": [
    {
     "name": "stdout",
     "output_type": "stream",
     "text": [
      "../NEW_SETS/4H_1or2N_5_DNA-ALL-basicL-rep-core_vertical-Ridge-WbnRD10-P07-DEL7.00/4H_1or2N_5_DNA-ALL-basicL-rep-core_vertical-Ridge-WbnRD10_P07_bc-49.00_nc-42.00/hetero-ex.00.00.set->\n",
      "!01_OUT\\4H_1or2N_5_DNA-ALL-basicL-rep-core_vertical-Ridge-WbnRD10_P07_bc-49.00_nc-42.00-hetero-ex.00.00.set\n",
      "\n",
      "../NEW_SETS/4H_1or2N_5_DNA-ALL-basicL-rep-core_vertical-Ridge-WbnRD10-P07-DEL7.00/4H_1or2N_5_DNA-ALL-basicL-rep-core_vertical-Ridge-WbnRD10_P07_bc-49.00_nc-42.00/hetero-ex.00.01.set->\n",
      "!01_OUT\\4H_1or2N_5_DNA-ALL-basicL-rep-core_vertical-Ridge-WbnRD10_P07_bc-49.00_nc-42.00-hetero-ex.00.01.set\n",
      "\n"
     ]
    }
   ],
   "source": [
    "sdf = filter_df(df, \"4H_1or2N_5_DNA-ALL-basicL-rep-core_vertical-Ridge-WbnRD10-P07-DEL7.00\", None)\n",
    "sdf[display_cols].head(30)\n",
    "idx = 8646\n",
    "copy_to_out(sdf.loc[idx], open_in_excel=0, in_dir_prefx='../NEW_SETS/')   \n",
    "idx = 8647\n",
    "copy_to_out(sdf.loc[idx], open_in_excel=0, in_dir_prefx='../NEW_SETS/')   \n",
    "   "
   ]
  },
  {
   "cell_type": "code",
   "execution_count": 221,
   "metadata": {},
   "outputs": [
    {
     "name": "stdout",
     "output_type": "stream",
     "text": [
      "../NEW_SETS/4H_1or2N_5_DNA-ALL-basicL-rep-core_vertical-Ridge-WbnRD10-P07-DEL8.00/4H_1or2N_5_DNA-ALL-basicL-rep-core_vertical-Ridge-WbnRD10_P07_bc-50.00_nc-42.00/all.01.set->\n",
      "!01_OUT\\4H_1or2N_5_DNA-ALL-basicL-rep-core_vertical-Ridge-WbnRD10_P07_bc-50.00_nc-42.00-all.01.set\n",
      "\n",
      "../NEW_SETS/4H_1or2N_5_DNA-ALL-basicL-rep-core_vertical-Ridge-WbnRD10-P07-DEL8.00/4H_1or2N_5_DNA-ALL-basicL-rep-core_vertical-Ridge-WbnRD10_P07_bc-50.00_nc-42.00/all.00.set->\n",
      "!01_OUT\\4H_1or2N_5_DNA-ALL-basicL-rep-core_vertical-Ridge-WbnRD10_P07_bc-50.00_nc-42.00-all.00.set\n",
      "\n"
     ]
    }
   ],
   "source": [
    "sdf = filter_df(df, \"4H_1or2N_5_DNA-ALL-basicL-rep-core_vertical-Ridge-WbnRD10-P07-DEL8.00\", None)\n",
    "sdf[display_cols].head(30)\n",
    "idx = 9171\n",
    "copy_to_out(sdf.loc[idx], open_in_excel=0, in_dir_prefx='../NEW_SETS/')   \n",
    "idx = 9170\n",
    "copy_to_out(sdf.loc[idx], open_in_excel=0, in_dir_prefx='../NEW_SETS/')   \n",
    "   "
   ]
  },
  {
   "cell_type": "code",
   "execution_count": 222,
   "metadata": {},
   "outputs": [
    {
     "name": "stdout",
     "output_type": "stream",
     "text": [
      "../NEW_SETS/4H_1or2N_0_DNA-ALL-basicL-rep-nter_core-Ridge-WbnRD10-P00-DEL6.20/4H_1or2N_0_DNA-ALL-basicL-rep-nter_core-Ridge-WbnRD10_P00_bc-47.00_nc-40.80/all.05.set->\n",
      "!01_OUT\\4H_1or2N_0_DNA-ALL-basicL-rep-nter_core-Ridge-WbnRD10_P00_bc-47.00_nc-40.80-all.05.set\n",
      "\n"
     ]
    }
   ],
   "source": [
    "sdf = filter_df(df, \"4H_1or2N_0_DNA-ALL-basicL-rep-nter_core-Ridge-WbnRD10-P00-DEL6.20\", None)\n",
    "sdf[display_cols].head(30)\n",
    "#idx = 9171\n",
    "#copy_to_out(sdf.loc[idx], open_in_excel=0, in_dir_prefx='../NEW_SETS/')   \n",
    "idx = 3656\n",
    "copy_to_out(sdf.loc[idx], open_in_excel=0, in_dir_prefx='../NEW_SETS/')   \n",
    "#open_excel(df.loc[3656], in_dir_prefix=\"../NEW_SETS/\")"
   ]
  },
  {
   "cell_type": "code",
   "execution_count": 158,
   "metadata": {},
   "outputs": [],
   "source": [
    "sdf = filter_df(df, \"4H_1or2N_0_DNA-ALL-basicL-rep-nter_core-Ridge-WbnRD10-P00-DEL7.20\", None)\n",
    "sdf[display_cols].head(30);\n",
    "#idx = 9171\n",
    "#copy_to_out(sdf.loc[idx], open_in_excel=0, in_dir_prefx='../NEW_SETS/')   \n",
    "#idx = 3656\n",
    "#copy_to_out(sdf.loc[idx], open_in_excel=0, in_dir_prefx='../NEW_SETS/')   \n",
    "#open_excel(df.loc[3656], in_dir_prefix=\"../NEW_SETS/\")\n"
   ]
  },
  {
   "cell_type": "code",
   "execution_count": 223,
   "metadata": {},
   "outputs": [
    {
     "name": "stdout",
     "output_type": "stream",
     "text": [
      "../NEW_SETS/4H_1or2N_0_DNA-ALL-basicL-rep-nter_core-Ridge-WbnRD10-P00-DEL8.20/4H_1or2N_0_DNA-ALL-basicL-rep-nter_core-Ridge-WbnRD10_P00_bc-49.00_nc-40.80/all.00.set->\n",
      "!01_OUT\\4H_1or2N_0_DNA-ALL-basicL-rep-nter_core-Ridge-WbnRD10_P00_bc-49.00_nc-40.80-all.00.set\n",
      "\n"
     ]
    }
   ],
   "source": [
    "sdf = filter_df(df, \"4H_1or2N_0_DNA-ALL-basicL-rep-nter_core-Ridge-WbnRD10-P00-DEL8.20\", None)\n",
    "sdf[display_cols].head(30)\n",
    "idx = 5686\n",
    "copy_to_out(sdf.loc[idx], open_in_excel=0, in_dir_prefx='../NEW_SETS/')   \n",
    "#open_excel(sdf.loc[idx], in_dir_prefix=\"../NEW_SETS/\")\n"
   ]
  },
  {
   "cell_type": "code",
   "execution_count": 224,
   "metadata": {},
   "outputs": [
    {
     "name": "stdout",
     "output_type": "stream",
     "text": [
      "../NEW_SETS/4H_1or2N_sameGE_5_DNA-ALL-basicL-rep-core_vertical-Ridge-WbnRD10-P07-DEL6.00/4H_1or2N_sameGE_5_DNA-ALL-basicL-rep-core_vertical-Ridge-WbnRD10_P07_bc-50.00_nc-44.00/all.00.set->\n",
      "!01_OUT\\4H_1or2N_sameGE_5_DNA-ALL-basicL-rep-core_vertical-Ridge-WbnRD10_P07_bc-50.00_nc-44.00-all.00.set\n",
      "\n",
      "../NEW_SETS/4H_1or2N_sameGE_5_DNA-ALL-basicL-rep-core_vertical-Ridge-WbnRD10-P07-DEL6.00/4H_1or2N_sameGE_5_DNA-ALL-basicL-rep-core_vertical-Ridge-WbnRD10_P07_bc-50.00_nc-44.00/all.00.xlsx\n"
     ]
    },
    {
     "data": {
      "text/plain": [
       "0"
      ]
     },
     "execution_count": 224,
     "metadata": {},
     "output_type": "execute_result"
    }
   ],
   "source": [
    "sdf = filter_df(df, \"4H_1or2N_sameGE_5_DNA-ALL-basicL-rep-core_vertical-Ridge-WbnRD10-P07-DEL6.00\", None)\n",
    "sdf[display_cols].head(30)\n",
    "idx = 14721\n",
    "copy_to_out(sdf.loc[idx], open_in_excel=0, in_dir_prefx='../NEW_SETS/')   \n",
    "#open_excel(sdf.loc[idx], in_dir_prefix=\"../NEW_SETS/\")"
   ]
  },
  {
   "cell_type": "code",
   "execution_count": 226,
   "metadata": {},
   "outputs": [
    {
     "name": "stdout",
     "output_type": "stream",
     "text": [
      "../NEW_SETS/4H_1or2N_sameGE_5_DNA-ALL-basicL-rep-core_vertical-Ridge-WbnRD10-P07-DEL7.00/4H_1or2N_sameGE_5_DNA-ALL-basicL-rep-core_vertical-Ridge-WbnRD10_P07_bc-51.00_nc-44.00/all.02.set->\n",
      "!01_OUT\\4H_1or2N_sameGE_5_DNA-ALL-basicL-rep-core_vertical-Ridge-WbnRD10_P07_bc-51.00_nc-44.00-all.02.set\n",
      "\n"
     ]
    }
   ],
   "source": [
    "sdf = filter_df(df, \"4H_1or2N_sameGE_5_DNA-ALL-basicL-rep-core_vertical-Ridge-WbnRD10-P07-DEL7.00\", None)\n",
    "sdf[display_cols].head(30)\n",
    "idx = 14841\n",
    "copy_to_out(sdf.loc[idx], open_in_excel=0, in_dir_prefx='../NEW_SETS/')   \n",
    "#open_path(sdf.loc[idx], in_dir_prefix=\"../NEW_SETS/\")"
   ]
  },
  {
   "cell_type": "code",
   "execution_count": 227,
   "metadata": {},
   "outputs": [
    {
     "name": "stdout",
     "output_type": "stream",
     "text": [
      "../NEW_SETS/4H_1or2N_sameGE_5_DNA-ALL-basicL-rep-core_vertical-Ridge-WbnRD10-P07-DEL8.00/4H_1or2N_sameGE_5_DNA-ALL-basicL-rep-core_vertical-Ridge-WbnRD10_P07_bc-52.00_nc-44.00/all.00.set->\n",
      "!01_OUT\\4H_1or2N_sameGE_5_DNA-ALL-basicL-rep-core_vertical-Ridge-WbnRD10_P07_bc-52.00_nc-44.00-all.00.set\n",
      "\n"
     ]
    }
   ],
   "source": [
    "sdf = filter_df(df, \"4H_1or2N_sameGE_5_DNA-ALL-basicL-rep-core_vertical-Ridge-WbnRD10-P07-DEL8.00\", None)\n",
    "sdf[display_cols].head(30)\n",
    "idx = 15014\n",
    "copy_to_out(sdf.loc[idx], open_in_excel=0, in_dir_prefx='../NEW_SETS/')   \n",
    "#open_path(sdf.loc[idx], in_dir_prefix=\"../NEW_SETS/\")"
   ]
  },
  {
   "cell_type": "code",
   "execution_count": 228,
   "metadata": {},
   "outputs": [
    {
     "name": "stdout",
     "output_type": "stream",
     "text": [
      "../NEW_SETS/4H_1or2N_sameGE_0_DNA-ALL-basicL-rep-core_vertical-Ridge-WbnRD10-P00-DEL5.00/4H_1or2N_sameGE_0_DNA-ALL-basicL-rep-core_vertical-Ridge-WbnRD10_P00_bc-49.00_nc-44.00/all.00.set->\n",
      "!01_OUT\\4H_1or2N_sameGE_0_DNA-ALL-basicL-rep-core_vertical-Ridge-WbnRD10_P00_bc-49.00_nc-44.00-all.00.set\n",
      "\n",
      "../NEW_SETS/4H_1or2N_sameGE_0_DNA-ALL-basicL-rep-core_vertical-Ridge-WbnRD10-P00-DEL5.00/4H_1or2N_sameGE_0_DNA-ALL-basicL-rep-core_vertical-Ridge-WbnRD10_P00_bc-49.00_nc-44.00\n"
     ]
    },
    {
     "data": {
      "text/plain": [
       "0"
      ]
     },
     "execution_count": 228,
     "metadata": {},
     "output_type": "execute_result"
    }
   ],
   "source": [
    "sdf = filter_df(df, \"4H_1or2N_sameGE_0_DNA-ALL-basicL-rep-core_vertical-Ridge-WbnRD10-P00-DEL5.00\", None)\n",
    "sdf[display_cols].head(30)\n",
    "idx = 13662\n",
    "copy_to_out(sdf.loc[idx], open_in_excel=0, in_dir_prefx='../NEW_SETS/')   \n",
    "open_path(sdf.loc[idx], in_dir_prefix=\"../NEW_SETS/\")"
   ]
  },
  {
   "cell_type": "code",
   "execution_count": null,
   "metadata": {},
   "outputs": [],
   "source": [
    "sdf = filter_df(df, \"4H_1or2N_sameGE_0_DNA-ALL-basicL-rep-core_vertical-Ridge-WbnRD10-P00-DEL5.00\", None)\n",
    "sdf[display_cols].head(30)\n",
    "idx = 13662\n",
    "copy_to_out(sdf.loc[idx], open_in_excel=0, in_dir_prefx='../NEW_SETS/')   \n",
    "open_path(sdf.loc[idx], in_dir_prefix=\"../NEW_SETS/\")"
   ]
  },
  {
   "cell_type": "code",
   "execution_count": 248,
   "metadata": {},
   "outputs": [
    {
     "name": "stdout",
     "output_type": "stream",
     "text": [
      "['!01_OUT\\\\4H_1or2N_0_DNA-ALL-basicL-rep-core_vertical-Ridge-WbnRD10_P00_bc-49.00_nc-43.00-hetero-ex.00.00.set_info', '!01_OUT\\\\4H_1or2N_0_DNA-ALL-basicL-rep-nter_core-Ridge-WbnRD10_P00_bc-47.00_nc-40.80-all.05.set_info', '!01_OUT\\\\4H_1or2N_0_DNA-ALL-basicL-rep-nter_core-Ridge-WbnRD10_P00_bc-49.00_nc-40.80-all.00.set_info', '!01_OUT\\\\4H_1or2N_5_DNA-ALL-basicL-rep-core_vertical-Ridge-WbnRD10_P07_bc-47.00_nc-41.00-homo.03.set_info', '!01_OUT\\\\4H_1or2N_5_DNA-ALL-basicL-rep-core_vertical-Ridge-WbnRD10_P07_bc-48.00_nc-42.00-hetero-ex.00.00.set_info', '!01_OUT\\\\4H_1or2N_5_DNA-ALL-basicL-rep-core_vertical-Ridge-WbnRD10_P07_bc-49.00_nc-42.00-hetero-ex.00.00.set_info', '!01_OUT\\\\4H_1or2N_5_DNA-ALL-basicL-rep-core_vertical-Ridge-WbnRD10_P07_bc-49.00_nc-42.00-hetero-ex.00.01.set_info', '!01_OUT\\\\4H_1or2N_5_DNA-ALL-basicL-rep-core_vertical-Ridge-WbnRD10_P07_bc-50.00_nc-42.00-all.00.set_info', '!01_OUT\\\\4H_1or2N_5_DNA-ALL-basicL-rep-core_vertical-Ridge-WbnRD10_P07_bc-50.00_nc-42.00-all.01.set_info', '!01_OUT\\\\4H_1or2N_sameGE_0_DNA-ALL-basicL-rep-core_vertical-Ridge-WbnRD10_P00_bc-49.00_nc-44.00-all.00.set_info', '!01_OUT\\\\4H_1or2N_sameGE_5_DNA-ALL-basicL-rep-core_vertical-Ridge-WbnRD10_P07_bc-50.00_nc-44.00-all.00.set_info', '!01_OUT\\\\4H_1or2N_sameGE_5_DNA-ALL-basicL-rep-core_vertical-Ridge-WbnRD10_P07_bc-51.00_nc-44.00-all.02.set_info', '!01_OUT\\\\4H_1or2N_sameGE_5_DNA-ALL-basicL-rep-core_vertical-Ridge-WbnRD10_P07_bc-52.00_nc-44.00-all.00.set_info']\n",
      "['!01_OUT\\\\4H_1or2N_0_DNA-ALL-basicL-rep-core_vertical-Ridge-WbnRD10_P00_bc-49.00_nc-43.00-hetero-ex.00.00', '!01_OUT\\\\4H_1or2N_0_DNA-ALL-basicL-rep-nter_core-Ridge-WbnRD10_P00_bc-47.00_nc-40.80-all.05', '!01_OUT\\\\4H_1or2N_0_DNA-ALL-basicL-rep-nter_core-Ridge-WbnRD10_P00_bc-49.00_nc-40.80-all.00', '!01_OUT\\\\4H_1or2N_5_DNA-ALL-basicL-rep-core_vertical-Ridge-WbnRD10_P07_bc-47.00_nc-41.00-homo.03', '!01_OUT\\\\4H_1or2N_5_DNA-ALL-basicL-rep-core_vertical-Ridge-WbnRD10_P07_bc-48.00_nc-42.00-hetero-ex.00.00', '!01_OUT\\\\4H_1or2N_5_DNA-ALL-basicL-rep-core_vertical-Ridge-WbnRD10_P07_bc-49.00_nc-42.00-hetero-ex.00.00', '!01_OUT\\\\4H_1or2N_5_DNA-ALL-basicL-rep-core_vertical-Ridge-WbnRD10_P07_bc-49.00_nc-42.00-hetero-ex.00.01', '!01_OUT\\\\4H_1or2N_5_DNA-ALL-basicL-rep-core_vertical-Ridge-WbnRD10_P07_bc-50.00_nc-42.00-all.00', '!01_OUT\\\\4H_1or2N_5_DNA-ALL-basicL-rep-core_vertical-Ridge-WbnRD10_P07_bc-50.00_nc-42.00-all.01', '!01_OUT\\\\4H_1or2N_sameGE_0_DNA-ALL-basicL-rep-core_vertical-Ridge-WbnRD10_P00_bc-49.00_nc-44.00-all.00', '!01_OUT\\\\4H_1or2N_sameGE_5_DNA-ALL-basicL-rep-core_vertical-Ridge-WbnRD10_P07_bc-50.00_nc-44.00-all.00', '!01_OUT\\\\4H_1or2N_sameGE_5_DNA-ALL-basicL-rep-core_vertical-Ridge-WbnRD10_P07_bc-51.00_nc-44.00-all.02', '!01_OUT\\\\4H_1or2N_sameGE_5_DNA-ALL-basicL-rep-core_vertical-Ridge-WbnRD10_P07_bc-52.00_nc-44.00-all.00']\n"
     ]
    }
   ],
   "source": [
    "sets =  glob(\"!01_OUT/*.set\")\n",
    "set_infos = glob(\"!01_OUT/*.set_info\")\n",
    "\n",
    "sets = [os.path.splitext(f)[0] for f in sets]\n",
    "set_infos = [os.path.splitext(f)[0] for f in set_infos]"
   ]
  },
  {
   "cell_type": "code",
   "execution_count": 249,
   "metadata": {},
   "outputs": [
    {
     "data": {
      "text/plain": [
       "{'!01_OUT\\\\4H_1or2N_0_DNA-ALL-basicL-rep-core_vertical-Ridge-WbnRD10_P00_bc-47.00_nc-42.00-hetero-ex.01.00',\n",
       " '!01_OUT\\\\PNIC',\n",
       " '!01_OUT\\\\mason'}"
      ]
     },
     "execution_count": 249,
     "metadata": {},
     "output_type": "execute_result"
    }
   ],
   "source": [
    "set(sets)-set(set_infos)"
   ]
  },
  {
   "cell_type": "code",
   "execution_count": 201,
   "metadata": {},
   "outputs": [],
   "source": [
    "new_set_infos = glob(\"!02_OUT_bcf/*.set_info\")\n",
    "df_new = load_set_infos_to_dataframe(new_set_infos)"
   ]
  },
  {
   "cell_type": "code",
   "execution_count": 202,
   "metadata": {},
   "outputs": [
    {
     "data": {
      "text/plain": [
       "Index([u'N_aminoacids', u'N_heptades', u'N_heterodimers', u'N_homodimers',\n",
       "       u'N_offtarget_above_min_ontarget', u'N_pairs', u'ag_helicity',\n",
       "       u'binding_min_affinity', u'binding_min_affinity_%', u'charge',\n",
       "       u'dirname', u'gravy', u'instability_index', u'isoelectric_point',\n",
       "       u'lower_is_better', u'max_affinity', u'min_affinity',\n",
       "       u'nonbinidng_max_affinity', u'nonbinidng_max_affinity_%',\n",
       "       u'normalization_max', u'normalization_min', u'orthogonality_average',\n",
       "       u'orthogonality_average_%', u'orthogonality_gap',\n",
       "       u'orthogonality_gap_%', u'starting_pos', u'total_II_pairs',\n",
       "       u'total_II_pairs_%', u'total_IN_mismatches', u'total_IN_mismatches_%',\n",
       "       u'total_NN_pairs', u'total_NN_pairs_%', u'total_electrostatic_matches',\n",
       "       u'total_electrostatic_matches_%', u'total_electrostatic_mismatches',\n",
       "       u'total_electrostatic_mismatches_%'],\n",
       "      dtype='object')"
      ]
     },
     "execution_count": 202,
     "metadata": {},
     "output_type": "execute_result"
    }
   ],
   "source": [
    "df_new.columns"
   ]
  },
  {
   "cell_type": "code",
   "execution_count": 203,
   "metadata": {},
   "outputs": [],
   "source": [
    "df_new.to_excel('OUT_sets.xlsx')"
   ]
  },
  {
   "cell_type": "code",
   "execution_count": 192,
   "metadata": {},
   "outputs": [
    {
     "data": {
      "text/plain": [
       "['finalname',\n",
       " 'basename',\n",
       " 'binding_cutoff',\n",
       " 'N_pairs',\n",
       " 'N_heterodimers',\n",
       " 'N_homodimers',\n",
       " 'total_IN_mismatches',\n",
       " 'total_electrostatic_mismatches',\n",
       " 'orthogonality_average',\n",
       " 'orthogonality_gap']"
      ]
     },
     "execution_count": 192,
     "metadata": {},
     "output_type": "execute_result"
    }
   ],
   "source": [
    "display_cols"
   ]
  },
  {
   "cell_type": "code",
   "execution_count": null,
   "metadata": {},
   "outputs": [],
   "source": []
  }
 ],
 "metadata": {
  "anaconda-cloud": {},
  "hide_input": false,
  "kernelspec": {
   "display_name": "OrtoCC3",
   "language": "python",
   "name": "myenv"
  },
  "language_info": {
   "codemirror_mode": {
    "name": "ipython",
    "version": 3
   },
   "file_extension": ".py",
   "mimetype": "text/x-python",
   "name": "python",
   "nbconvert_exporter": "python",
   "pygments_lexer": "ipython3",
   "version": "3.7.1"
  }
 },
 "nbformat": 4,
 "nbformat_minor": 2
}
