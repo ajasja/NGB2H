{
 "cells": [
  {
   "cell_type": "code",
   "execution_count": 1,
   "metadata": {
    "collapsed": false
   },
   "outputs": [
    {
     "name": "stdout",
     "output_type": "stream",
     "text": [
      "d:\\data\\ortoCC\\fine_tune_scoring_function\\OUT_SETS\n"
     ]
    }
   ],
   "source": [
    "from __future__ import division, absolute_import\n",
    "%load_ext autoreload\n",
    "%autoreload 2\n",
    "import os\n",
    "print(os.getcwd())\n",
    "import hepran\n",
    "from hepran.bzipscore import *\n",
    "import hepran.utils as u\n",
    "import hepran.registers as r\n",
    "import numpy as np\n",
    "CCO = os.environ.get(\"CCO\",r\"C:\\Projekti_KI\\ortoCC\\CoiledCoilOrtho\")\n",
    "from glob import glob\n",
    "import pandas as pd\n",
    "from StringIO import StringIO\n",
    "from gather_utils import *\n"
   ]
  },
  {
   "cell_type": "code",
   "execution_count": 2,
   "metadata": {},
   "outputs": [
    {
     "data": {
      "text/plain": [
       "['!01_OUT\\\\4H_1or2N_0_DNA-ALL-basicL-rep-core_vertical-Ridge-WbnRD10_P00_bc-47.00_nc-42.00-hetero-ex.00.00.set',\n",
       " '!01_OUT\\\\4H_1or2N_0_DNA-ALL-basicL-rep-core_vertical-Ridge-WbnRD10_P00_bc-47.00_nc-42.00-hetero-ex.01.00.set',\n",
       " '!01_OUT\\\\4H_1or2N_0_DNA-ALL-basicL-rep-core_vertical-Ridge-WbnRD10_P00_bc-49.00_nc-43.00-hetero-ex.00.00.set',\n",
       " '!01_OUT\\\\4H_1or2N_5_DNA-ALL-basic-rep-Ridge-WbnRD10_P07_bc-49.00_nc-41.20-all.00.set',\n",
       " '!01_OUT\\\\4H_1or2N_5_DNA-ALL-basicL-rep-core_vertical-Ridge-WbnRD10_P07_bc-48.00_nc-42.00-hetero-ex.00.00.set',\n",
       " '!01_OUT\\\\4H_1or2N_5_DNA-ALL-basicL-rep-core_vertical-Ridge-WbnRD10_P07_bc-49.00_nc-42.00-hetero-ex.00.00.set',\n",
       " '!01_OUT\\\\4H_1or2N_5_DNA-ALL-basicL-rep-core_vertical-Ridge-WbnRD10_P07_bc-49.00_nc-42.00-hetero-ex.00.01.set',\n",
       " '!01_OUT\\\\4H_1or2N_bcipa_B07_T1_bc-76.00_nc-46.00-hetero.00.set',\n",
       " '!01_OUT\\\\4H_1or2N_not_last_only_5_DNA-ALL-basic-rep-Ridge-WbnRD10_P07_bc-49.00_nc-41.20-all.00.set',\n",
       " '!01_OUT\\\\4H_2N_5_DNA-ALL-basic-rep-core_vertical-Ridge-WbnRD10_P07_bc-48.00_nc-42.00-hetero-ex.00.00.set',\n",
       " '!01_OUT\\\\4H_2N_5_DNA-ALL-basic-rep-nter_core-Ridge-WbnRD10_P07_bc-48.00_nc-40.70-all.00.set',\n",
       " '!01_OUT\\\\AP2N_only_potapov_B07_T1_DEL-1.20-bc-7.95_nc-6.75-all.00.set',\n",
       " '!01_OUT\\\\AP2N_P1or2N_potapov_B07_T1_-DEL-1.20-bc-8.10_nc-6.90-all.00_reduced.set',\n",
       " '!01_OUT\\\\APPNIC.set',\n",
       " '!01_OUT\\\\mason.set',\n",
       " '!01_OUT\\\\mason_small.set',\n",
       " '!01_OUT\\\\N.set',\n",
       " '!01_OUT\\\\PNIC.set',\n",
       " '!01_OUT\\\\potapov_4h-1or2N-not_first_only_B07_bc-8.60_nc-7.60-all.00-cleaned.set',\n",
       " '!03_OUT_additional\\\\4H_1or2N_0_DNA-ALL-basicL-rep-nter_core-Ridge-WbnRD10_P00_bc-47.00_nc-40.80-all.05.aA.set',\n",
       " '!03_OUT_additional\\\\4H_1or2N_0_DNA-ALL-basicL-rep-nter_core-Ridge-WbnRD10_P00_bc-49.00_nc-40.80-all.00.aA.set',\n",
       " '!03_OUT_additional\\\\4H_1or2N_sameGE_5_DNA-ALL-basicL-rep-core_vertical-Ridge-WbnRD10_P07_bc-50.00_nc-44.00-all.00.aA.set',\n",
       " '!03_OUT_additional\\\\APPNIC.aA.set',\n",
       " '!03_OUT_additional\\\\ZCON_small_set.set']"
      ]
     },
     "execution_count": 2,
     "metadata": {},
     "output_type": "execute_result"
    }
   ],
   "source": [
    "sets = glob(\"!01_OUT/*.set\") \n",
    "sets += glob(\"!03_OUT_additional/*.set\")  \n",
    "sets "
   ]
  },
  {
   "cell_type": "code",
   "execution_count": 100,
   "metadata": {},
   "outputs": [
    {
     "name": "stdout",
     "output_type": "stream",
     "text": [
      "!01_OUT\\4H_1or2N_0_DNA-ALL-basicL-rep-core_vertical-Ridge-WbnRD10_P00_bc-47.00_nc-42.00-hetero-ex.00.00.set\n",
      "!01_OUT\\4H_1or2N_0_DNA-ALL-basicL-rep-core_vertical-Ridge-WbnRD10_P00_bc-47.00_nc-42.00-hetero-ex.01.00.set\n",
      "!01_OUT\\4H_1or2N_0_DNA-ALL-basicL-rep-core_vertical-Ridge-WbnRD10_P00_bc-49.00_nc-43.00-hetero-ex.00.00.set\n",
      "!01_OUT\\4H_1or2N_5_DNA-ALL-basic-rep-Ridge-WbnRD10_P07_bc-49.00_nc-41.20-all.00.set\n",
      "!01_OUT\\4H_1or2N_5_DNA-ALL-basicL-rep-core_vertical-Ridge-WbnRD10_P07_bc-48.00_nc-42.00-hetero-ex.00.00.set\n",
      "!01_OUT\\4H_1or2N_5_DNA-ALL-basicL-rep-core_vertical-Ridge-WbnRD10_P07_bc-49.00_nc-42.00-hetero-ex.00.00.set\n",
      "!01_OUT\\4H_1or2N_5_DNA-ALL-basicL-rep-core_vertical-Ridge-WbnRD10_P07_bc-49.00_nc-42.00-hetero-ex.00.01.set\n",
      "!01_OUT\\4H_1or2N_bcipa_B07_T1_bc-76.00_nc-46.00-hetero.00.set\n",
      "!01_OUT\\4H_1or2N_not_last_only_5_DNA-ALL-basic-rep-Ridge-WbnRD10_P07_bc-49.00_nc-41.20-all.00.set\n",
      "!01_OUT\\4H_2N_5_DNA-ALL-basic-rep-core_vertical-Ridge-WbnRD10_P07_bc-48.00_nc-42.00-hetero-ex.00.00.set\n",
      "!01_OUT\\4H_2N_5_DNA-ALL-basic-rep-nter_core-Ridge-WbnRD10_P07_bc-48.00_nc-40.70-all.00.set\n",
      "!01_OUT\\AP2N_only_potapov_B07_T1_DEL-1.20-bc-7.95_nc-6.75-all.00.set\n",
      "!01_OUT\\AP2N_P1or2N_potapov_B07_T1_-DEL-1.20-bc-8.10_nc-6.90-all.00_reduced.set\n",
      "!01_OUT\\APPNIC.set\n",
      "!01_OUT\\mason.set\n",
      "!01_OUT\\mason_small.set\n",
      "!01_OUT\\N.set\n",
      "!01_OUT\\PNIC.set\n",
      "!01_OUT\\potapov_4h-1or2N-not_first_only_B07_bc-8.60_nc-7.60-all.00-cleaned.set\n",
      "!03_OUT_additional\\4H_1or2N_0_DNA-ALL-basicL-rep-nter_core-Ridge-WbnRD10_P00_bc-47.00_nc-40.80-all.05.aA.set\n",
      "!03_OUT_additional\\4H_1or2N_0_DNA-ALL-basicL-rep-nter_core-Ridge-WbnRD10_P00_bc-49.00_nc-40.80-all.00.aA.set\n",
      "!03_OUT_additional\\4H_1or2N_sameGE_5_DNA-ALL-basicL-rep-core_vertical-Ridge-WbnRD10_P07_bc-50.00_nc-44.00-all.00.aA.set\n",
      "!03_OUT_additional\\APPNIC.aA.set\n"
     ]
    }
   ],
   "source": [
    "comp = bz.analyse_sets(sets, None, alignment=\"B07\", scorer_exe=CCO+\"/fastscore.exe\",\n",
    "                           skip_existing=True,\n",
    "                           username=\"ajasja\", password=\"agrftAGADIR\", calculate_helicity=True, serial=False)\n",
    "for result in comp:\n",
    "    print(result)"
   ]
  },
  {
   "cell_type": "code",
   "execution_count": 97,
   "metadata": {},
   "outputs": [
    {
     "name": "stdout",
     "output_type": "stream",
     "text": [
      "!01_OUT\\4H_1or2N_0_DNA-ALL-basicL-rep-core_vertical-Ridge-WbnRD10_P00_bc-47.00_nc-42.00-hetero-ex.00.00.set\n",
      "PAIRS: 29\n",
      "('   4H2151', 'AKIAALEAEIAALKAKIAALEAKNAALEA')\n",
      "('   4H48', 'AEIAALEAEIAALEAKIAALKAKNAALKA')\n",
      "('   4H2883', 'AKIAALKAKIAALKAEIAALEAENAALEA')\n",
      "LEFTOVER PAIRS: 27\n",
      "!01_OUT\\4H_1or2N_0_DNA-ALL-basicL-rep-core_vertical-Ridge-WbnRD10_P00_bc-47.00_nc-42.00-hetero-ex.01.00.set\n",
      "PAIRS: 29\n",
      "('   4H780', 'AEIAALKAKIAALEAEIAALKAENAALKA')\n",
      "('   4H335', 'AEIAALEAKIAALKAEIAALKAKNAALEA')\n",
      "('   4H2575', 'AKIAALKAEIAALEAEIAALKAKNAALEA')\n",
      "LEFTOVER PAIRS: 27\n",
      "!01_OUT\\4H_1or2N_0_DNA-ALL-basicL-rep-core_vertical-Ridge-WbnRD10_P00_bc-49.00_nc-43.00-hetero-ex.00.00.set\n",
      "PAIRS: 12\n",
      "('   4H775', 'AEIAALKAKIAALEAEIAALEAKNAALEA')\n",
      "('   4H816', 'AEIAALKAKIAALEAKIAALKAKNAALKA')\n",
      "LEFTOVER PAIRS: 11\n",
      "!01_OUT\\4H_1or2N_5_DNA-ALL-basic-rep-Ridge-WbnRD10_P07_bc-49.00_nc-41.20-all.00.set\n",
      "PAIRS: 16\n",
      "('   4H324', 'AEIAALEAKIAALKAEIAALEAENAALKA')\n",
      "('   4H2604', 'AKIAALKAEIAALEAKIAALKAENAALKA')\n",
      "LEFTOVER PAIRS: 15\n",
      "!01_OUT\\4H_1or2N_5_DNA-ALL-basicL-rep-core_vertical-Ridge-WbnRD10_P07_bc-48.00_nc-42.00-hetero-ex.00.00.set\n",
      "PAIRS: 31\n",
      "LEFTOVER PAIRS: 31\n",
      "!01_OUT\\4H_1or2N_5_DNA-ALL-basicL-rep-core_vertical-Ridge-WbnRD10_P07_bc-49.00_nc-42.00-hetero-ex.00.00.set\n",
      "PAIRS: 12\n",
      "('   4H327', 'AEIAALEAKIAALKAEIAALEAKNAALEA')\n",
      "('   4H2608', 'AKIAALKAEIAALEAKIAALKAKNAALKA')\n",
      "LEFTOVER PAIRS: 11\n",
      "!01_OUT\\4H_1or2N_5_DNA-ALL-basicL-rep-core_vertical-Ridge-WbnRD10_P07_bc-49.00_nc-42.00-hetero-ex.00.01.set\n",
      "PAIRS: 12\n",
      "('   4H327', 'AEIAALEAKIAALKAEIAALEAKNAALEA')\n",
      "('   4H2608', 'AKIAALKAEIAALEAKIAALKAKNAALKA')\n",
      "LEFTOVER PAIRS: 11\n",
      "!01_OUT\\4H_1or2N_bcipa_B07_T1_bc-76.00_nc-46.00-hetero.00.set\n",
      "PAIRS: 18\n",
      "LEFTOVER PAIRS: 18\n",
      "!01_OUT\\4H_1or2N_not_last_only_5_DNA-ALL-basic-rep-Ridge-WbnRD10_P07_bc-49.00_nc-41.20-all.00.set\n",
      "PAIRS: 15\n",
      "LEFTOVER PAIRS: 15\n",
      "!01_OUT\\4H_2N_5_DNA-ALL-basic-rep-core_vertical-Ridge-WbnRD10_P07_bc-48.00_nc-42.00-hetero-ex.00.00.set\n",
      "PAIRS: 19\n",
      "LEFTOVER PAIRS: 19\n",
      "!01_OUT\\4H_2N_5_DNA-ALL-basic-rep-nter_core-Ridge-WbnRD10_P07_bc-48.00_nc-40.70-all.00.set\n",
      "PAIRS: 12\n",
      "LEFTOVER PAIRS: 12\n",
      "!01_OUT\\AP2N_only_potapov_B07_T1_DEL-1.20-bc-7.95_nc-6.75-all.00.set\n",
      "PAIRS: 15\n",
      "('   APC1115', 'AKLAAIKAKLAAIKAKLAAIKAKNAALKA')\n",
      "('   APC2375', 'AEAAALEAKAAALKAKLAAEKAKNAALKA')\n",
      "('   APC2724', 'AEAAALEAKLAAEKAEAAALEAENAALEA')\n",
      "('   APC3265', 'AKAAALKAEAAALEAELAAEEAKNAALKA')\n",
      "LEFTOVER PAIRS: 11\n",
      "!01_OUT\\AP2N_P1or2N_potapov_B07_T1_-DEL-1.20-bc-8.10_nc-6.90-all.00_reduced.set\n",
      "PAIRS: 18\n",
      "('   4H807', 'AEIAALKAKIAALEAKIAALEAKNAALEA')\n",
      "('   4H2148', 'AKIAALEAEIAALKAKIAALEAENAALKA')\n",
      "('   APC1015', 'AKLAAIKAELAAIEAKLAAIKAKNAALKA')\n",
      "LEFTOVER PAIRS: 15\n",
      "!01_OUT\\APPNIC.set\n",
      "PAIRS: 10\n",
      "('   AP3', 'DELAAIEQEIAALEQKKAALKQKNAALKQ')\n",
      "LEFTOVER PAIRS: 9\n",
      "!01_OUT\\mason.set\n",
      "PAIRS: 8\n",
      "LEFTOVER PAIRS: 8\n",
      "!01_OUT\\mason_small.set\n",
      "PAIRS: 4\n",
      "LEFTOVER PAIRS: 4\n",
      "!01_OUT\\N.set\n",
      "PAIRS: 3\n",
      "('   N3', 'DEIAALEAEIAALEAKIAALKAKNAALKA')\n",
      "('   N4', 'DKIAALKAKIAALKAEIAALEAENAALEA')\n",
      "LEFTOVER PAIRS: 2\n",
      "!01_OUT\\PNIC.set\n",
      "PAIRS: 6\n",
      "LEFTOVER PAIRS: 6\n",
      "!01_OUT\\potapov_4h-1or2N-not_first_only_B07_bc-8.60_nc-7.60-all.00-cleaned.set\n",
      "PAIRS: 12\n",
      "LEFTOVER PAIRS: 12\n",
      "!03_OUT_additional\\4H_1or2N_0_DNA-ALL-basicL-rep-nter_core-Ridge-WbnRD10_P00_bc-47.00_nc-40.80-all.05.aA.set\n",
      "PAIRS: 23\n",
      "('   4H2124-aA', 'DKIAALEAEIAALKAEIAALKAENAALKG')\n",
      "('   4H2343-aA', 'DKIAALEAKIAALEAKIAALEAKNAALEG')\n",
      "LEFTOVER PAIRS: 21\n",
      "!03_OUT_additional\\4H_1or2N_0_DNA-ALL-basicL-rep-nter_core-Ridge-WbnRD10_P00_bc-49.00_nc-40.80-all.00.aA.set\n",
      "PAIRS: 15\n",
      "('   4H355-aA', 'DEIAALEAKIAALKAKIAALEAENAALEG')\n",
      "('   4H2600-aA', 'DKIAALKAEIAALEAKIAALEAKNAALKG')\n",
      "LEFTOVER PAIRS: 14\n",
      "!03_OUT_additional\\4H_1or2N_sameGE_5_DNA-ALL-basicL-rep-core_vertical-Ridge-WbnRD10_P07_bc-50.00_nc-44.00-all.00.aA.set\n",
      "PAIRS: 16\n",
      "('   4H43-aA', 'DEIAALEAEIAALEAKIAALKAENAALEG')\n",
      "('   4H2888-aA', 'DKIAALKAKIAALKAEIAALEAKNAALKG')\n",
      "LEFTOVER PAIRS: 15\n",
      "!03_OUT_additional\\APPNIC.aA.set\n",
      "PAIRS: 17\n",
      "('   AP3-aA', 'DELAAIEAEIAALEAKKAALKAKNAALKG')\n",
      "LEFTOVER PAIRS: 16\n"
     ]
    }
   ],
   "source": [
    "for _set in sets:\n",
    "    print(_set)\n",
    "    fasta = u.load_fasta(u.replace_extension(_set,'.fasta'))\n",
    "    pairs = u.load_set(_set)\n",
    "    ids = u.get_ids_from_pairs(pairs)\n",
    "    print(\"PAIRS: \"+str(len(pairs)))\n",
    "    remove_ids =[]\n",
    "    for _id in ids:\n",
    "        if r.N_in_last_heptad(fasta[_id], 'f') and r.count_N(fasta[_id], 'f')==1:\n",
    "            print(\"   \"+_id, fasta[_id])\n",
    "            remove_ids.append(_id)\n",
    "    fpairs = u.filter_pairs(pairs, remove_ids)\n",
    "    print(\"LEFTOVER PAIRS: %d\"%len(fpairs))"
   ]
  },
  {
   "cell_type": "code",
   "execution_count": 8,
   "metadata": {},
   "outputs": [
    {
     "name": "stdout",
     "output_type": "stream",
     "text": [
      "29\t4H_1or2N_0_DNA-ALL-basicL-rep-core_vertical-Ridge-WbnRD10_P00_bc-47.00_nc-42.00-hetero-ex.00.00.set\n",
      "29\t4H_1or2N_0_DNA-ALL-basicL-rep-core_vertical-Ridge-WbnRD10_P00_bc-47.00_nc-42.00-hetero-ex.01.00.set\n",
      "12\t4H_1or2N_0_DNA-ALL-basicL-rep-core_vertical-Ridge-WbnRD10_P00_bc-49.00_nc-43.00-hetero-ex.00.00.set\n",
      "16\t4H_1or2N_5_DNA-ALL-basic-rep-Ridge-WbnRD10_P07_bc-49.00_nc-41.20-all.00.set\n",
      "31\t4H_1or2N_5_DNA-ALL-basicL-rep-core_vertical-Ridge-WbnRD10_P07_bc-48.00_nc-42.00-hetero-ex.00.00.set\n",
      "12\t4H_1or2N_5_DNA-ALL-basicL-rep-core_vertical-Ridge-WbnRD10_P07_bc-49.00_nc-42.00-hetero-ex.00.00.set\n",
      "12\t4H_1or2N_5_DNA-ALL-basicL-rep-core_vertical-Ridge-WbnRD10_P07_bc-49.00_nc-42.00-hetero-ex.00.01.set\n",
      "18\t4H_1or2N_bcipa_B07_T1_bc-76.00_nc-46.00-hetero.00.set\n",
      "15\t4H_1or2N_not_last_only_5_DNA-ALL-basic-rep-Ridge-WbnRD10_P07_bc-49.00_nc-41.20-all.00.set\n",
      "19\t4H_2N_5_DNA-ALL-basic-rep-core_vertical-Ridge-WbnRD10_P07_bc-48.00_nc-42.00-hetero-ex.00.00.set\n",
      "12\t4H_2N_5_DNA-ALL-basic-rep-nter_core-Ridge-WbnRD10_P07_bc-48.00_nc-40.70-all.00.set\n",
      "15\tAP2N_only_potapov_B07_T1_DEL-1.20-bc-7.95_nc-6.75-all.00.set\n",
      "18\tAP2N_P1or2N_potapov_B07_T1_-DEL-1.20-bc-8.10_nc-6.90-all.00_reduced.set\n",
      "10\tAPPNIC.set\n",
      "8\tmason.set\n",
      "4\tmason_small.set\n",
      "3\tN.set\n",
      "6\tPNIC.set\n",
      "12\tpotapov_4h-1or2N-not_first_only_B07_bc-8.60_nc-7.60-all.00-cleaned.set\n",
      "23\t4H_1or2N_0_DNA-ALL-basicL-rep-nter_core-Ridge-WbnRD10_P00_bc-47.00_nc-40.80-all.05.aA.set\n",
      "15\t4H_1or2N_0_DNA-ALL-basicL-rep-nter_core-Ridge-WbnRD10_P00_bc-49.00_nc-40.80-all.00.aA.set\n",
      "16\t4H_1or2N_sameGE_5_DNA-ALL-basicL-rep-core_vertical-Ridge-WbnRD10_P07_bc-50.00_nc-44.00-all.00.aA.set\n",
      "17\tAPPNIC.aA.set\n",
      "12\tZCON_small_set.set\n"
     ]
    }
   ],
   "source": [
    "sets = glob(\"!01_OUT/*.set\") \n",
    "sets += glob(\"!03_OUT_additional/*.set\")  \n",
    "sets \n",
    "for _set in sets:\n",
    "    pairs = u.load_set(_set)\n",
    "    _set = _set.split('\\\\')[-1]\n",
    "    print(str(len(pairs)) + '\\t' + _set)\n",
    "    #print(\"PAIRS:\", len(pairs))\n",
    "    #print(\"\")\n"
   ]
  },
  {
   "cell_type": "code",
   "execution_count": 9,
   "metadata": {},
   "outputs": [
    {
     "name": "stdout",
     "output_type": "stream",
     "text": [
      "29\t!01_OUT\\4H_1or2N_0_DNA-ALL-basicL-rep-core_vertical-Ridge-WbnRD10_P00_bc-47.00_nc-42.00-hetero-ex.00.00.set\n",
      "29\t!01_OUT\\4H_1or2N_0_DNA-ALL-basicL-rep-core_vertical-Ridge-WbnRD10_P00_bc-47.00_nc-42.00-hetero-ex.01.00.set\n",
      "12\t!01_OUT\\4H_1or2N_0_DNA-ALL-basicL-rep-core_vertical-Ridge-WbnRD10_P00_bc-49.00_nc-43.00-hetero-ex.00.00.set\n",
      "16\t!01_OUT\\4H_1or2N_5_DNA-ALL-basic-rep-Ridge-WbnRD10_P07_bc-49.00_nc-41.20-all.00.set\n",
      "31\t!01_OUT\\4H_1or2N_5_DNA-ALL-basicL-rep-core_vertical-Ridge-WbnRD10_P07_bc-48.00_nc-42.00-hetero-ex.00.00.set\n",
      "12\t!01_OUT\\4H_1or2N_5_DNA-ALL-basicL-rep-core_vertical-Ridge-WbnRD10_P07_bc-49.00_nc-42.00-hetero-ex.00.00.set\n",
      "12\t!01_OUT\\4H_1or2N_5_DNA-ALL-basicL-rep-core_vertical-Ridge-WbnRD10_P07_bc-49.00_nc-42.00-hetero-ex.00.01.set\n",
      "18\t!01_OUT\\4H_1or2N_bcipa_B07_T1_bc-76.00_nc-46.00-hetero.00.set\n",
      "15\t!01_OUT\\4H_1or2N_not_last_only_5_DNA-ALL-basic-rep-Ridge-WbnRD10_P07_bc-49.00_nc-41.20-all.00.set\n",
      "19\t!01_OUT\\4H_2N_5_DNA-ALL-basic-rep-core_vertical-Ridge-WbnRD10_P07_bc-48.00_nc-42.00-hetero-ex.00.00.set\n",
      "12\t!01_OUT\\4H_2N_5_DNA-ALL-basic-rep-nter_core-Ridge-WbnRD10_P07_bc-48.00_nc-40.70-all.00.set\n",
      "15\t!01_OUT\\AP2N_only_potapov_B07_T1_DEL-1.20-bc-7.95_nc-6.75-all.00.set\n",
      "18\t!01_OUT\\AP2N_P1or2N_potapov_B07_T1_-DEL-1.20-bc-8.10_nc-6.90-all.00_reduced.set\n",
      "10\t!01_OUT\\APPNIC.set\n",
      "8\t!01_OUT\\mason.set\n",
      "4\t!01_OUT\\mason_small.set\n",
      "3\t!01_OUT\\N.set\n",
      "6\t!01_OUT\\PNIC.set\n",
      "12\t!01_OUT\\potapov_4h-1or2N-not_first_only_B07_bc-8.60_nc-7.60-all.00-cleaned.set\n",
      "23\t!03_OUT_additional\\4H_1or2N_0_DNA-ALL-basicL-rep-nter_core-Ridge-WbnRD10_P00_bc-47.00_nc-40.80-all.05.aA.set\n",
      "15\t!03_OUT_additional\\4H_1or2N_0_DNA-ALL-basicL-rep-nter_core-Ridge-WbnRD10_P00_bc-49.00_nc-40.80-all.00.aA.set\n",
      "16\t!03_OUT_additional\\4H_1or2N_sameGE_5_DNA-ALL-basicL-rep-core_vertical-Ridge-WbnRD10_P07_bc-50.00_nc-44.00-all.00.aA.set\n",
      "17\t!03_OUT_additional\\APPNIC.aA.set\n",
      "12\t!03_OUT_additional\\ZCON_small_set.set\n"
     ]
    }
   ],
   "source": [
    "sets = glob(\"!01_OUT/*.set\") \n",
    "sets += glob(\"!03_OUT_additional/*.set\")  \n",
    "sets \n",
    "for _set in sets:\n",
    "    pairs = u.load_set(_set)\n",
    "    #_set = _set.split('\\\\')[-1]\n",
    "    print(str(len(pairs)) + '\\t' + _set)\n",
    "    #print(\"PAIRS:\", len(pairs))\n",
    "    #print(\"\")"
   ]
  },
  {
   "cell_type": "code",
   "execution_count": 92,
   "metadata": {},
   "outputs": [],
   "source": [
    "#df_new.to_excel('OUT_sets.xlsx')"
   ]
  },
  {
   "cell_type": "code",
   "execution_count": 93,
   "metadata": {},
   "outputs": [
    {
     "data": {
      "text/plain": [
       "['finalname',\n",
       " 'basename',\n",
       " 'binding_cutoff',\n",
       " 'N_pairs',\n",
       " 'N_heterodimers',\n",
       " 'N_homodimers',\n",
       " 'total_IN_mismatches',\n",
       " 'total_electrostatic_mismatches',\n",
       " 'orthogonality_average',\n",
       " 'orthogonality_gap']"
      ]
     },
     "execution_count": 93,
     "metadata": {},
     "output_type": "execute_result"
    }
   ],
   "source": [
    "display_cols"
   ]
  },
  {
   "cell_type": "code",
   "execution_count": null,
   "metadata": {},
   "outputs": [],
   "source": []
  }
 ],
 "metadata": {
  "anaconda-cloud": {},
  "hide_input": false,
  "kernelspec": {
   "display_name": "OrtoCC3",
   "language": "python",
   "name": "myenv"
  },
  "language_info": {
   "codemirror_mode": {
    "name": "ipython",
    "version": 3
   },
   "file_extension": ".py",
   "mimetype": "text/x-python",
   "name": "python",
   "nbconvert_exporter": "python",
   "pygments_lexer": "ipython3",
   "version": "3.7.1"
  }
 },
 "nbformat": 4,
 "nbformat_minor": 2
}
