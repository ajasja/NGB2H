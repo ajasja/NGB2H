{
 "cells": [
  {
   "cell_type": "code",
   "execution_count": 3,
   "metadata": {
    "collapsed": false
   },
   "outputs": [
    {
     "name": "stdout",
     "output_type": "stream",
     "text": [
      "d:\\data\\ortoCC\\fine_tune_scoring_function\\OUT_SETS\n"
     ]
    }
   ],
   "source": [
    "#takes \n",
    "from __future__ import division, absolute_import, print_function\n",
    "%load_ext autoreload\n",
    "%autoreload 2\n",
    "import os\n",
    "print(os.getcwd())\n",
    "import hepran\n",
    "import hepran.bzipscore as bz\n",
    "from hepran.bzipscore import *\n",
    "import hepran.utils as u\n",
    "import hepran.registers as r\n",
    "import numpy as np\n",
    "CCO = os.environ.get(\"CCO\",r\"C:\\Projekti_KI\\ortoCC\\CoiledCoilOrtho\")\n",
    "from glob import glob\n",
    "import pandas as pd\n",
    "from StringIO import StringIO\n",
    "import collections"
   ]
  },
  {
   "cell_type": "code",
   "execution_count": 39,
   "metadata": {
    "collapsed": true
   },
   "outputs": [],
   "source": [
    "ge_pos = list(\"REKQADTSMHWY\")\n",
    "aa_pos = list(\"ILVNSTRDEKHYA\")"
   ]
  },
  {
   "cell_type": "code",
   "execution_count": 40,
   "metadata": {},
   "outputs": [],
   "source": [
    "def aga_l(N):\n",
    "    return N*(N-1)/2+N\n",
    "  "
   ]
  },
  {
   "cell_type": "markdown",
   "metadata": {},
   "source": [
    "skeleton\n",
    "```\n",
    "P1: D EIAALEA ENAALEA ENAALEA EIAALEA\n",
    "P2: D KIAALKA KNAALKA KNAALKA KIAALKA\n",
    "\n",
    "\n",
    "P5: D ENAALEA KIAALKA KNAALKA EIAALEA\n",
    "P6: D KNAALKA EIAALEA ENAALEA KIAALKA\n",
    "\n",
    "P7: D EIAALEA KNAALKA KIAALKA ENAALEA\n",
    "P8: D KIAALKA ENAALEA EIAALEA KNAALKA\n",
    "```    "
   ]
  },
  {
   "cell_type": "code",
   "execution_count": 41,
   "metadata": {},
   "outputs": [],
   "source": [
    "skeletons = u.load_fasta(\"!05_cross_pairs/PNIC.aA.fasta\") \n",
    "fasta_out = collections.OrderedDict()\n",
    "pairs_out = []"
   ]
  },
  {
   "cell_type": "code",
   "execution_count": 42,
   "metadata": {},
   "outputs": [],
   "source": [
    "def insert_aa_pos(id1, id2, aa_pos, two_hep=False):\n",
    "    sk1 = skeletons[id1]\n",
    "    sk2 = skeletons[id2]\n",
    "    rid1 = r.get_register_indices(sk1, 'f')\n",
    "    rid2 = r.get_register_indices(sk2, 'f')\n",
    "    for i in xrange(len(aa_pos)):\n",
    "        for j in xrange(len(aa_pos)-1):\n",
    "            rid1.set_reg('a', 1, aa_pos[i])\n",
    "            rid2.set_reg('a', 1, aa_pos[j])\n",
    "            hid=\"1Haa\"\n",
    "            if two_hep:\n",
    "                hid = \"12Haa\"\n",
    "                rid1.set_reg('a', 2, aa_pos[i])\n",
    "                rid2.set_reg('a', 2, aa_pos[j])        \n",
    "            id1_out =\"{id1}-{hid}-{aa_pos}\".format(id1=id1, hid=hid, aa_pos=aa_pos[i])\n",
    "            id2_out =\"{id2}-{hid}-{aa_pos}\".format(id2=id2, hid=hid, aa_pos=aa_pos[j])\n",
    "            fasta_out[id1_out] = rid1.get_seq_str()\n",
    "            fasta_out[id2_out] = rid2.get_seq_str()\n",
    "            pairs_out.append((id1_out,id2_out))\n",
    "            \n",
    "def insert_ge_pos(id1, id2, ge_pos, two_hep=False):\n",
    "    sk1 = skeletons[id1]\n",
    "    sk2 = skeletons[id2]\n",
    "    rid1 = r.get_register_indices(sk1, 'f')\n",
    "    rid2 = r.get_register_indices(sk2, 'f')\n",
    "    for i in xrange(len(ge_pos)):\n",
    "        for j in xrange(len(ge_pos)-1):\n",
    "            #print(ge_pos[i], ge_pos[j])\n",
    "            rid1.set_reg('g', 1, ge_pos[i])\n",
    "            rid1.set_reg('e', 1, ge_pos[i])\n",
    "            rid2.set_reg('g', 1, ge_pos[j])\n",
    "            rid2.set_reg('e', 1, ge_pos[j])\n",
    "            hid=\"1Hge\"\n",
    "            if two_hep:\n",
    "                hid = \"12Hge\"\n",
    "                rid1.set_reg('g', 2, ge_pos[i])\n",
    "                rid1.set_reg('e', 2, ge_pos[i])\n",
    "                rid2.set_reg('g', 2, ge_pos[j])\n",
    "                rid2.set_reg('e', 2, ge_pos[j])        \n",
    "            id1_out =\"{id1}-{hid}-{ge_pos}\".format(id1=id1, hid=hid, ge_pos=ge_pos[i])\n",
    "            id2_out =\"{id2}-{hid}-{ge_pos}\".format(id2=id2, hid=hid, ge_pos=ge_pos[j])\n",
    "            fasta_out[id1_out] = rid1.get_seq_str()\n",
    "            fasta_out[id2_out] = rid2.get_seq_str()\n",
    "            pairs_out.append((id1_out,id2_out))\n"
   ]
  },
  {
   "cell_type": "code",
   "execution_count": 43,
   "metadata": {},
   "outputs": [],
   "source": [
    "#insert aa\n",
    "insert_aa_pos(\"P5-aA\", \"P6-aA\", aa_pos, two_hep=False)\n",
    "insert_aa_pos(\"P5-aA\", \"P6-aA\", aa_pos, two_hep=True)\n",
    "insert_aa_pos(\"P1-aA\", \"P2-aA\", aa_pos, two_hep=False)\n",
    "insert_aa_pos(\"P1-aA\", \"P2-aA\", aa_pos, two_hep=True)        \n",
    "    \n",
    "#insert ge\n",
    "insert_ge_pos(\"P5-aA\", \"P6-aA\", ge_pos, two_hep=False)\n",
    "insert_ge_pos(\"P5-aA\", \"P6-aA\", ge_pos, two_hep=True)\n",
    "insert_ge_pos(\"P1-aA\", \"P2-aA\", ge_pos, two_hep=False)\n",
    "insert_ge_pos(\"P1-aA\", \"P2-aA\", ge_pos, two_hep=True)        \n",
    "    "
   ]
  },
  {
   "cell_type": "code",
   "execution_count": 44,
   "metadata": {},
   "outputs": [
    {
     "name": "stdout",
     "output_type": "stream",
     "text": [
      "1152\n"
     ]
    }
   ],
   "source": [
    "print(len(pairs_out))\n",
    "pairs_out;"
   ]
  },
  {
   "cell_type": "code",
   "execution_count": 45,
   "metadata": {},
   "outputs": [
    {
     "name": "stdout",
     "output_type": "stream",
     "text": [
      "192\n"
     ]
    }
   ],
   "source": [
    "print(len(fasta_out))\n",
    "fasta_out;"
   ]
  },
  {
   "cell_type": "code",
   "execution_count": 46,
   "metadata": {},
   "outputs": [],
   "source": [
    "u.save_dict_to_fasta(fasta_out, '!05_cross_pairs/aa_ge_crosspairs.fasta')"
   ]
  },
  {
   "cell_type": "code",
   "execution_count": 47,
   "metadata": {},
   "outputs": [],
   "source": [
    "u.save_set(pairs_out, '!05_cross_pairs/aa_ge_crosspairs.pairs')"
   ]
  },
  {
   "cell_type": "code",
   "execution_count": 48,
   "metadata": {},
   "outputs": [],
   "source": [
    "#cd !05_cross_pairs\n",
    "#bzipscore.pl aa_ge_crosspairs.pairs aa_ge_crosspairs.fasta > aa_ge_crosspairs.out"
   ]
  },
  {
   "cell_type": "code",
   "execution_count": 4,
   "metadata": {},
   "outputs": [],
   "source": [
    "scores = bz.load_score_file('!05_cross_pairs/aa_ge_crosspairs.out')"
   ]
  },
  {
   "cell_type": "code",
   "execution_count": 5,
   "metadata": {},
   "outputs": [],
   "source": [
    "%matplotlib inline\n",
    "import matplotlib as mpl\n",
    "import matplotlib.pyplot as plt\n",
    "import seaborn as sns\n",
    "\n",
    "#sns.set_context('talk',  font_scale=1.5)\n",
    "#sns.set_style('white')"
   ]
  },
  {
   "cell_type": "code",
   "execution_count": 6,
   "metadata": {},
   "outputs": [
    {
     "data": {
      "text/plain": [
       "<matplotlib.axes._subplots.AxesSubplot at 0x8c2a630>"
      ]
     },
     "execution_count": 6,
     "metadata": {},
     "output_type": "execute_result"
    },
    {
     "data": {
      "image/png": "[encoded data removed]",
      "text/plain": [
       "<matplotlib.figure.Figure at 0x8c2a230>"
      ]
     },
     "metadata": {},
     "output_type": "display_data"
    }
   ],
   "source": [
    "sns.distplot(scores.values(),kde=False, norm_hist=False)"
   ]
  },
  {
   "cell_type": "code",
   "execution_count": 7,
   "metadata": {},
   "outputs": [],
   "source": [
    "def get_hep_from_name(_str):\n",
    "    #print(_str)\n",
    "    return _str.split('-')[2]\n",
    "def get_pep_from_name(str1,str2):\n",
    "    return str1.split('-')[0] +\"-\"+str2.split('-')[0]"
   ]
  },
  {
   "cell_type": "code",
   "execution_count": 8,
   "metadata": {},
   "outputs": [],
   "source": [
    "dicts = [dict(ID1=k[0], ID2=k[1], score=scores[k], hept=get_hep_from_name(k[0]), scaffold=get_pep_from_name(*k))  for k in scores.keys()]\n",
    "df = pd.DataFrame.from_dict(dicts)"
   ]
  },
  {
   "cell_type": "code",
   "execution_count": 9,
   "metadata": {},
   "outputs": [
    {
     "data": {
      "text/plain": [
       "array(['1Haa', '12Haa', '1Hge', '12Hge'], dtype=object)"
      ]
     },
     "execution_count": 9,
     "metadata": {},
     "output_type": "execute_result"
    }
   ],
   "source": [
    "df.hept.unique()"
   ]
  },
  {
   "cell_type": "code",
   "execution_count": 15,
   "metadata": {},
   "outputs": [
    {
     "data": {
      "image/png": "[encoded data removed]",
      "text/plain": [
       "<matplotlib.figure.Figure at 0xaa692d0>"
      ]
     },
     "metadata": {},
     "output_type": "display_data"
    }
   ],
   "source": [
    "g = sns.FacetGrid(df, hue='scaffold', row=\"hept\", palette=\"Set1\")\n",
    "g = g.map(sns.distplot, \"score\", kde=False, norm_hist=False)"
   ]
  },
  {
   "cell_type": "code",
   "execution_count": null,
   "metadata": {},
   "outputs": [],
   "source": []
  },
  {
   "cell_type": "code",
   "execution_count": null,
   "metadata": {},
   "outputs": [],
   "source": []
  }
 ],
 "metadata": {
  "anaconda-cloud": {},
  "hide_input": false,
  "kernelspec": {
   "display_name": "OrtoCC3",
   "language": "python",
   "name": "myenv"
  },
  "language_info": {
   "codemirror_mode": {
    "name": "ipython",
    "version": 3
   },
   "file_extension": ".py",
   "mimetype": "text/x-python",
   "name": "python",
   "nbconvert_exporter": "python",
   "pygments_lexer": "ipython3",
   "version": "3.7.1"
  }
 },
 "nbformat": 4,
 "nbformat_minor": 2
}
