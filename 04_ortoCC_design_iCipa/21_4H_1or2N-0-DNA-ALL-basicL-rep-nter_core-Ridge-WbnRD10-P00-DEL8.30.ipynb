{
 "cells": [
  {
   "cell_type": "code",
   "execution_count": 1,
   "metadata": {
    "collapsed": false
   },
   "outputs": [
    {
     "name": "stdout",
     "output_type": "stream",
     "text": [
      "d:\\data\\ortoCC\\fine_tune_scoring_function\\NEW_sets\n",
      "\n",
      "fit_name = DNA-ALL-basicL-rep-nter_core-Ridge-WbnRD10\n",
      "N_iter = 0\n",
      "alignment = P00\n",
      "delta = 8.3\n",
      "set_type = 4h-1or2N\n"
     ]
    }
   ],
   "source": [
    "from __future__ import division, absolute_import, print_function\n",
    "%load_ext autoreload\n",
    "%autoreload 2\n",
    "\n",
    "from hepran.bzipscore import *\n",
    "import hepran.utils as u\n",
    "import hepran.registers as r\n",
    "import os\n",
    "CCO = os.environ.get(\"CCO\", r\"C:\\Projekti_KI\\ortoCC\\CoiledCoilOrtho\")\n",
    "\n",
    "#os.chdir(r\"D:\\data\\ortoCC\\design-with-alignments\\4heptade-7\")\n",
    "print(os.getcwd())\n",
    "\n",
    "#score the fasta (takes about 10 min)\n",
    "#!{CCO}/fastscore.exe full4heptad.fasta --out-name=full4heptad_B07 --align=-7,0,7 --orientation=B\n",
    "\n",
    "\n",
    "\n",
    "fit_name = 'DNA-ALL-basicL-rep-core_vertical-Ridge-WbnRD10'\n",
    "N_iter = 5\n",
    "\n",
    "#cutoff line:\n",
    "alignment = \"P07\"\n",
    "delta = 7\n",
    "set_type = '4h-1or2N'\n",
    "\n",
    "\n",
    "#read ENV vars if they are set\n",
    "N_iter = os.environ.get('N_iter', N_iter)\n",
    "fit_name = os.environ.get('fit_name', fit_name)\n",
    "delta = float(os.environ.get('delta', delta))\n",
    "alignment = os.environ.get('alignment', alignment)\n",
    "al = alignment\n",
    "\n",
    "\n",
    "name = '{set_type}_{N_iter}_{fit_name}'.format(**locals())\n",
    "\n",
    "dir_name = name+\"-{al}-DEL{delta:.2f}\".format(**locals())\n",
    "\n",
    "\n",
    "input_fasta = 'full4heptad.fasta'\n",
    "input_score_file = '../scores/{N_iter}_{fit_name}-{al}.bin'.format(**locals())\n",
    "\n",
    "print(\"\")\n",
    "print(\"fit_name = \" +fit_name)\n",
    "print(\"N_iter = \" + str(N_iter))\n",
    "print(\"alignment = \" +alignment)\n",
    "print(\"delta = \" + str(delta))\n",
    "print(\"set_type = \" +set_type)"
   ]
  },
  {
   "cell_type": "code",
   "execution_count": 2,
   "metadata": {},
   "outputs": [],
   "source": []
  },
  {
   "cell_type": "code",
   "execution_count": 2,
   "metadata": {
    "collapsed": false
   },
   "outputs": [
    {
     "name": "stdout",
     "output_type": "stream",
     "text": [
      "2560\n"
     ]
    },
    {
     "ename": "IOError",
     "evalue": "[Errno 2] No such file or directory: '../scores/0_DNA-ALL-basicL-rep-nter_core-Ridge-WbnRD10-P00.bin'",
     "output_type": "error",
     "traceback": [
      "\u001b[1;31m\u001b[0m",
      "\u001b[1;31mIOError\u001b[0mTraceback (most recent call last)",
      "\u001b[1;32m<ipython-input-2-62c76902564f>\u001b[0m in \u001b[0;36m<module>\u001b[1;34m()\u001b[0m\n\u001b[0;32m     11\u001b[0m \u001b[0mfilter_fasta\u001b[0m\u001b[1;33m(\u001b[0m\u001b[0mfasta\u001b[0m\u001b[1;33m,\u001b[0m \u001b[0mfiltered_ids\u001b[0m\u001b[1;33m,\u001b[0m \u001b[0mfiltered_fasta\u001b[0m\u001b[1;33m)\u001b[0m\u001b[1;33m\u001b[0m\u001b[0m\n\u001b[0;32m     12\u001b[0m \u001b[1;33m\u001b[0m\u001b[0m\n\u001b[1;32m---> 13\u001b[1;33m \u001b[0mfilter_bin_score_file\u001b[0m\u001b[1;33m(\u001b[0m\u001b[0minput_score_file\u001b[0m\u001b[1;33m,\u001b[0m \u001b[0minput_fasta\u001b[0m\u001b[1;33m,\u001b[0m \u001b[0mfiltered_ids\u001b[0m\u001b[1;33m,\u001b[0m \u001b[0mscore_file\u001b[0m\u001b[1;33m,\u001b[0m \u001b[0minvert\u001b[0m\u001b[1;33m=\u001b[0m\u001b[0mTrue\u001b[0m\u001b[1;33m)\u001b[0m\u001b[1;33m\u001b[0m\u001b[0m\n\u001b[0m\u001b[0;32m     14\u001b[0m \u001b[1;32mprint\u001b[0m\u001b[1;33m(\u001b[0m\u001b[0mscore_file\u001b[0m\u001b[1;33m)\u001b[0m\u001b[1;33m\u001b[0m\u001b[0m\n",
      "\u001b[1;32mc:\\projekti_ki\\ortocc\\agadir\\hepran\\bzipscore.pyc\u001b[0m in \u001b[0;36mfilter_bin_score_file\u001b[1;34m(score, ids, filtered_ids, output_file, invert)\u001b[0m\n\u001b[0;32m    764\u001b[0m \u001b[1;33m\u001b[0m\u001b[0m\n\u001b[0;32m    765\u001b[0m     \u001b[1;32mif\u001b[0m \u001b[0mu\u001b[0m\u001b[1;33m.\u001b[0m\u001b[0mis_str\u001b[0m\u001b[1;33m(\u001b[0m\u001b[0mscore\u001b[0m\u001b[1;33m)\u001b[0m\u001b[1;33m:\u001b[0m\u001b[1;33m\u001b[0m\u001b[0m\n\u001b[1;32m--> 766\u001b[1;33m         \u001b[0mscore\u001b[0m \u001b[1;33m=\u001b[0m \u001b[0mnp\u001b[0m\u001b[1;33m.\u001b[0m\u001b[0mmemmap\u001b[0m\u001b[1;33m(\u001b[0m\u001b[0mscore\u001b[0m\u001b[1;33m,\u001b[0m \u001b[0mdtype\u001b[0m\u001b[1;33m=\u001b[0m\u001b[1;34m'float32'\u001b[0m\u001b[1;33m,\u001b[0m \u001b[0mshape\u001b[0m\u001b[1;33m=\u001b[0m\u001b[1;33m(\u001b[0m\u001b[0mN\u001b[0m\u001b[1;33m,\u001b[0m \u001b[0mN\u001b[0m\u001b[1;33m)\u001b[0m\u001b[1;33m,\u001b[0m \u001b[0mmode\u001b[0m\u001b[1;33m=\u001b[0m\u001b[1;34m'r'\u001b[0m\u001b[1;33m)\u001b[0m\u001b[1;33m\u001b[0m\u001b[0m\n\u001b[0m\u001b[0;32m    767\u001b[0m \u001b[1;33m\u001b[0m\u001b[0m\n\u001b[0;32m    768\u001b[0m     \u001b[0mfiltered_ids_ix\u001b[0m \u001b[1;33m=\u001b[0m \u001b[1;33m[\u001b[0m\u001b[0mids\u001b[0m\u001b[1;33m.\u001b[0m\u001b[0mindex\u001b[0m\u001b[1;33m(\u001b[0m\u001b[0mfi\u001b[0m\u001b[1;33m)\u001b[0m \u001b[1;32mfor\u001b[0m \u001b[0mfi\u001b[0m \u001b[1;32min\u001b[0m \u001b[0mfiltered_ids\u001b[0m\u001b[1;33m]\u001b[0m\u001b[1;33m\u001b[0m\u001b[0m\n",
      "\u001b[1;32mc:\\bin\\python\\anaconda\\lib\\site-packages\\numpy\\core\\memmap.pyc\u001b[0m in \u001b[0;36m__new__\u001b[1;34m(subtype, filename, dtype, mode, offset, shape, order)\u001b[0m\n\u001b[0;32m    219\u001b[0m             \u001b[0mown_file\u001b[0m \u001b[1;33m=\u001b[0m \u001b[0mTrue\u001b[0m\u001b[1;33m\u001b[0m\u001b[0m\n\u001b[0;32m    220\u001b[0m         \u001b[1;32melse\u001b[0m\u001b[1;33m:\u001b[0m\u001b[1;33m\u001b[0m\u001b[0m\n\u001b[1;32m--> 221\u001b[1;33m             \u001b[0mfid\u001b[0m \u001b[1;33m=\u001b[0m \u001b[0mopen\u001b[0m\u001b[1;33m(\u001b[0m\u001b[0mfilename\u001b[0m\u001b[1;33m,\u001b[0m \u001b[1;33m(\u001b[0m\u001b[0mmode\u001b[0m \u001b[1;33m==\u001b[0m \u001b[1;34m'c'\u001b[0m \u001b[1;32mand\u001b[0m \u001b[1;34m'r'\u001b[0m \u001b[1;32mor\u001b[0m \u001b[0mmode\u001b[0m\u001b[1;33m)\u001b[0m\u001b[1;33m+\u001b[0m\u001b[1;34m'b'\u001b[0m\u001b[1;33m)\u001b[0m\u001b[1;33m\u001b[0m\u001b[0m\n\u001b[0m\u001b[0;32m    222\u001b[0m             \u001b[0mown_file\u001b[0m \u001b[1;33m=\u001b[0m \u001b[0mTrue\u001b[0m\u001b[1;33m\u001b[0m\u001b[0m\n\u001b[0;32m    223\u001b[0m \u001b[1;33m\u001b[0m\u001b[0m\n",
      "\u001b[1;31mIOError\u001b[0m: [Errno 2] No such file or directory: '../scores/0_DNA-ALL-basicL-rep-nter_core-Ridge-WbnRD10-P00.bin'"
     ]
    }
   ],
   "source": [
    "filtered_fasta = set_type+'.fasta'\n",
    "score_file = name+'.bin'\n",
    "#if not os.path.isfile(filtered_fasta): \n",
    "#Filtering\n",
    "ids = get_ids_from_fasta(input_fasta)\n",
    "fasta = u.load_fasta(input_fasta)\n",
    "\n",
    "filtered_ids = [i for i in ids if r.one_or_two_N(fasta[i], 'f')]\n",
    "print(len(filtered_ids))\n",
    "\n",
    "filter_fasta(fasta, filtered_ids, filtered_fasta)\n",
    "\n",
    "filter_bin_score_file(input_score_file, input_fasta, filtered_ids, score_file, invert=True)\n",
    "print(score_file)"
   ]
  },
  {
   "cell_type": "code",
   "execution_count": 3,
   "metadata": {
    "collapsed": false
   },
   "outputs": [
    {
     "name": "stdout",
     "output_type": "stream",
     "text": [
      "The autoreload extension is already loaded. To reload it, use:\n",
      "  %reload_ext autoreload\n"
     ]
    }
   ],
   "source": [
    "from __future__ import division, absolute_import, print_function\n",
    "%load_ext autoreload\n",
    "%autoreload 2\n",
    "import os\n",
    "\n",
    "import hepran\n",
    "from hepran.bzipscore import *\n",
    "import hepran.utils as u\n",
    "import hepran.registers as r\n",
    "import numpy as np\n",
    "CCO = os.environ.get(\"CCO\",r\"C:\\Projekti_KI\\ortoCC\\CoiledCoilOrtho\")\n",
    "from glob import glob\n",
    "import pandas as pd\n",
    "from StringIO import StringIO\n",
    "\n",
    "%matplotlib inline\n",
    "import matplotlib as mpl\n",
    "import matplotlib.pyplot as plt\n",
    "import seaborn as sns\n",
    "\n",
    "sns.set_context('talk',  font_scale=1.5)\n",
    "sns.set_style('white')"
   ]
  },
  {
   "cell_type": "code",
   "execution_count": 4,
   "metadata": {
    "collapsed": false
   },
   "outputs": [
    {
     "name": "stdout",
     "output_type": "stream",
     "text": [
      "4h-1or2N_0_DNA-ALL-basicL-rep-nter_core-Ridge-WbnRD10-P00-DEL8.30\n",
      "21\n"
     ]
    },
    {
     "data": {
      "text/plain": [
       "[Cutoff(binding=-35.0, nonbinding=-26.699999999999999),\n",
       " Cutoff(binding=-36.0, nonbinding=-27.699999999999999),\n",
       " Cutoff(binding=-37.0, nonbinding=-28.699999999999999),\n",
       " Cutoff(binding=-38.0, nonbinding=-29.699999999999999),\n",
       " Cutoff(binding=-39.0, nonbinding=-30.699999999999999),\n",
       " Cutoff(binding=-40.0, nonbinding=-31.699999999999999),\n",
       " Cutoff(binding=-41.0, nonbinding=-32.700000000000003),\n",
       " Cutoff(binding=-42.0, nonbinding=-33.700000000000003),\n",
       " Cutoff(binding=-43.0, nonbinding=-34.700000000000003),\n",
       " Cutoff(binding=-44.0, nonbinding=-35.700000000000003),\n",
       " Cutoff(binding=-45.0, nonbinding=-36.700000000000003),\n",
       " Cutoff(binding=-46.0, nonbinding=-37.700000000000003),\n",
       " Cutoff(binding=-47.0, nonbinding=-38.700000000000003),\n",
       " Cutoff(binding=-48.0, nonbinding=-39.700000000000003),\n",
       " Cutoff(binding=-49.0, nonbinding=-40.700000000000003),\n",
       " Cutoff(binding=-50.0, nonbinding=-41.700000000000003),\n",
       " Cutoff(binding=-51.0, nonbinding=-42.700000000000003),\n",
       " Cutoff(binding=-52.0, nonbinding=-43.700000000000003),\n",
       " Cutoff(binding=-53.0, nonbinding=-44.700000000000003),\n",
       " Cutoff(binding=-54.0, nonbinding=-45.700000000000003),\n",
       " Cutoff(binding=-55.0, nonbinding=-46.700000000000003)]"
      ]
     },
     "execution_count": 4,
     "metadata": {},
     "output_type": "execute_result"
    }
   ],
   "source": [
    "c_list = []\n",
    "print(dir_name)\n",
    "for bc in np.linspace(-35,-55, 21):\n",
    "    nc = bc + delta\n",
    "    cutoff = u.Cutoff(binding=bc, nonbinding=nc)\n",
    "    c_list.append(cutoff)\n",
    "            \n",
    "print(len(c_list))\n",
    "c_list"
   ]
  },
  {
   "cell_type": "code",
   "execution_count": 5,
   "metadata": {
    "collapsed": false,
    "scrolled": true
   },
   "outputs": [
    {
     "name": "stdout",
     "output_type": "stream",
     "text": [
      "Cutoff(binding=-35.0, nonbinding=-26.699999999999999)\n",
      "Cutoff(binding=-36.0, nonbinding=-27.699999999999999)\n",
      "Cutoff(binding=-37.0, nonbinding=-28.699999999999999)\n"
     ]
    },
    {
     "name": "stderr",
     "output_type": "stream",
     "text": [
      "c:\\projekti_ki\\ortocc\\agadir\\hepran\\bzipscore.py:980: UserWarning: File does not exist: 4h-1or2N_0_DNA-ALL-basicL-rep-nter_core-Ridge-WbnRD10-P00-DEL8.30/4h-1or2N_0_DNA-ALL-basicL-rep-nter_core-Ridge-WbnRD10_P00_bc-35.00_nc-26.70/all.set.current\n",
      "  warnings.warn(\"File does not exist: \" + current_name)\n",
      "c:\\projekti_ki\\ortocc\\agadir\\hepran\\bzipscore.py:996: UserWarning: File does not exist: 4h-1or2N_0_DNA-ALL-basicL-rep-nter_core-Ridge-WbnRD10-P00-DEL8.30/4h-1or2N_0_DNA-ALL-basicL-rep-nter_core-Ridge-WbnRD10_P00_bc-35.00_nc-26.70/homo.set.current\n",
      "  warnings.warn(\"File does not exist: \" + current_name)\n",
      "c:\\projekti_ki\\ortocc\\agadir\\hepran\\bzipscore.py:1013: UserWarning: File does not exist: 4h-1or2N_0_DNA-ALL-basicL-rep-nter_core-Ridge-WbnRD10-P00-DEL8.30/4h-1or2N_0_DNA-ALL-basicL-rep-nter_core-Ridge-WbnRD10_P00_bc-35.00_nc-26.70/hetero.set.current\n",
      "  warnings.warn(\"File does not exist: \" + current_name)\n",
      "c:\\projekti_ki\\ortocc\\agadir\\hepran\\bzipscore.py:980: UserWarning: File does not exist: 4h-1or2N_0_DNA-ALL-basicL-rep-nter_core-Ridge-WbnRD10-P00-DEL8.30/4h-1or2N_0_DNA-ALL-basicL-rep-nter_core-Ridge-WbnRD10_P00_bc-36.00_nc-27.70/all.set.current\n",
      "  warnings.warn(\"File does not exist: \" + current_name)\n",
      "c:\\projekti_ki\\ortocc\\agadir\\hepran\\bzipscore.py:996: UserWarning: File does not exist: 4h-1or2N_0_DNA-ALL-basicL-rep-nter_core-Ridge-WbnRD10-P00-DEL8.30/4h-1or2N_0_DNA-ALL-basicL-rep-nter_core-Ridge-WbnRD10_P00_bc-36.00_nc-27.70/homo.set.current\n",
      "  warnings.warn(\"File does not exist: \" + current_name)\n",
      "c:\\projekti_ki\\ortocc\\agadir\\hepran\\bzipscore.py:1013: UserWarning: File does not exist: 4h-1or2N_0_DNA-ALL-basicL-rep-nter_core-Ridge-WbnRD10-P00-DEL8.30/4h-1or2N_0_DNA-ALL-basicL-rep-nter_core-Ridge-WbnRD10_P00_bc-36.00_nc-27.70/hetero.set.current\n",
      "  warnings.warn(\"File does not exist: \" + current_name)\n",
      "c:\\projekti_ki\\ortocc\\agadir\\hepran\\bzipscore.py:980: UserWarning: File does not exist: 4h-1or2N_0_DNA-ALL-basicL-rep-nter_core-Ridge-WbnRD10-P00-DEL8.30/4h-1or2N_0_DNA-ALL-basicL-rep-nter_core-Ridge-WbnRD10_P00_bc-37.00_nc-28.70/all.set.current\n",
      "  warnings.warn(\"File does not exist: \" + current_name)\n",
      "c:\\projekti_ki\\ortocc\\agadir\\hepran\\bzipscore.py:996: UserWarning: File does not exist: 4h-1or2N_0_DNA-ALL-basicL-rep-nter_core-Ridge-WbnRD10-P00-DEL8.30/4h-1or2N_0_DNA-ALL-basicL-rep-nter_core-Ridge-WbnRD10_P00_bc-37.00_nc-28.70/homo.set.current\n",
      "  warnings.warn(\"File does not exist: \" + current_name)\n",
      "c:\\projekti_ki\\ortocc\\agadir\\hepran\\bzipscore.py:1013: UserWarning: File does not exist: 4h-1or2N_0_DNA-ALL-basicL-rep-nter_core-Ridge-WbnRD10-P00-DEL8.30/4h-1or2N_0_DNA-ALL-basicL-rep-nter_core-Ridge-WbnRD10_P00_bc-37.00_nc-28.70/hetero.set.current\n",
      "  warnings.warn(\"File does not exist: \" + current_name)\n"
     ]
    },
    {
     "name": "stdout",
     "output_type": "stream",
     "text": [
      "Cutoff(binding=-38.0, nonbinding=-29.699999999999999)\n",
      "Cutoff(binding=-39.0, nonbinding=-30.699999999999999)\n",
      "Cutoff(binding=-40.0, nonbinding=-31.699999999999999)\n"
     ]
    },
    {
     "name": "stderr",
     "output_type": "stream",
     "text": [
      "c:\\projekti_ki\\ortocc\\agadir\\hepran\\bzipscore.py:980: UserWarning: File does not exist: 4h-1or2N_0_DNA-ALL-basicL-rep-nter_core-Ridge-WbnRD10-P00-DEL8.30/4h-1or2N_0_DNA-ALL-basicL-rep-nter_core-Ridge-WbnRD10_P00_bc-38.00_nc-29.70/all.set.current\n",
      "  warnings.warn(\"File does not exist: \" + current_name)\n",
      "c:\\projekti_ki\\ortocc\\agadir\\hepran\\bzipscore.py:996: UserWarning: File does not exist: 4h-1or2N_0_DNA-ALL-basicL-rep-nter_core-Ridge-WbnRD10-P00-DEL8.30/4h-1or2N_0_DNA-ALL-basicL-rep-nter_core-Ridge-WbnRD10_P00_bc-38.00_nc-29.70/homo.set.current\n",
      "  warnings.warn(\"File does not exist: \" + current_name)\n",
      "c:\\projekti_ki\\ortocc\\agadir\\hepran\\bzipscore.py:1013: UserWarning: File does not exist: 4h-1or2N_0_DNA-ALL-basicL-rep-nter_core-Ridge-WbnRD10-P00-DEL8.30/4h-1or2N_0_DNA-ALL-basicL-rep-nter_core-Ridge-WbnRD10_P00_bc-38.00_nc-29.70/hetero.set.current\n",
      "  warnings.warn(\"File does not exist: \" + current_name)\n",
      "c:\\projekti_ki\\ortocc\\agadir\\hepran\\bzipscore.py:980: UserWarning: File does not exist: 4h-1or2N_0_DNA-ALL-basicL-rep-nter_core-Ridge-WbnRD10-P00-DEL8.30/4h-1or2N_0_DNA-ALL-basicL-rep-nter_core-Ridge-WbnRD10_P00_bc-39.00_nc-30.70/all.set.current\n",
      "  warnings.warn(\"File does not exist: \" + current_name)\n",
      "c:\\projekti_ki\\ortocc\\agadir\\hepran\\bzipscore.py:996: UserWarning: File does not exist: 4h-1or2N_0_DNA-ALL-basicL-rep-nter_core-Ridge-WbnRD10-P00-DEL8.30/4h-1or2N_0_DNA-ALL-basicL-rep-nter_core-Ridge-WbnRD10_P00_bc-39.00_nc-30.70/homo.set.current\n",
      "  warnings.warn(\"File does not exist: \" + current_name)\n",
      "c:\\projekti_ki\\ortocc\\agadir\\hepran\\bzipscore.py:1013: UserWarning: File does not exist: 4h-1or2N_0_DNA-ALL-basicL-rep-nter_core-Ridge-WbnRD10-P00-DEL8.30/4h-1or2N_0_DNA-ALL-basicL-rep-nter_core-Ridge-WbnRD10_P00_bc-39.00_nc-30.70/hetero.set.current\n",
      "  warnings.warn(\"File does not exist: \" + current_name)\n",
      "c:\\projekti_ki\\ortocc\\agadir\\hepran\\bzipscore.py:980: UserWarning: File does not exist: 4h-1or2N_0_DNA-ALL-basicL-rep-nter_core-Ridge-WbnRD10-P00-DEL8.30/4h-1or2N_0_DNA-ALL-basicL-rep-nter_core-Ridge-WbnRD10_P00_bc-40.00_nc-31.70/all.set.current\n",
      "  warnings.warn(\"File does not exist: \" + current_name)\n",
      "c:\\projekti_ki\\ortocc\\agadir\\hepran\\bzipscore.py:996: UserWarning: File does not exist: 4h-1or2N_0_DNA-ALL-basicL-rep-nter_core-Ridge-WbnRD10-P00-DEL8.30/4h-1or2N_0_DNA-ALL-basicL-rep-nter_core-Ridge-WbnRD10_P00_bc-40.00_nc-31.70/homo.set.current\n",
      "  warnings.warn(\"File does not exist: \" + current_name)\n",
      "c:\\projekti_ki\\ortocc\\agadir\\hepran\\bzipscore.py:1013: UserWarning: File does not exist: 4h-1or2N_0_DNA-ALL-basicL-rep-nter_core-Ridge-WbnRD10-P00-DEL8.30/4h-1or2N_0_DNA-ALL-basicL-rep-nter_core-Ridge-WbnRD10_P00_bc-40.00_nc-31.70/hetero.set.current\n",
      "  warnings.warn(\"File does not exist: \" + current_name)\n"
     ]
    },
    {
     "name": "stdout",
     "output_type": "stream",
     "text": [
      "Cutoff(binding=-41.0, nonbinding=-32.700000000000003)\n",
      "Cutoff(binding=-42.0, nonbinding=-33.700000000000003)\n",
      "Cutoff(binding=-43.0, nonbinding=-34.700000000000003)\n"
     ]
    },
    {
     "name": "stderr",
     "output_type": "stream",
     "text": [
      "c:\\projekti_ki\\ortocc\\agadir\\hepran\\bzipscore.py:980: UserWarning: File does not exist: 4h-1or2N_0_DNA-ALL-basicL-rep-nter_core-Ridge-WbnRD10-P00-DEL8.30/4h-1or2N_0_DNA-ALL-basicL-rep-nter_core-Ridge-WbnRD10_P00_bc-41.00_nc-32.70/all.set.current\n",
      "  warnings.warn(\"File does not exist: \" + current_name)\n",
      "c:\\projekti_ki\\ortocc\\agadir\\hepran\\bzipscore.py:996: UserWarning: File does not exist: 4h-1or2N_0_DNA-ALL-basicL-rep-nter_core-Ridge-WbnRD10-P00-DEL8.30/4h-1or2N_0_DNA-ALL-basicL-rep-nter_core-Ridge-WbnRD10_P00_bc-41.00_nc-32.70/homo.set.current\n",
      "  warnings.warn(\"File does not exist: \" + current_name)\n",
      "c:\\projekti_ki\\ortocc\\agadir\\hepran\\bzipscore.py:1013: UserWarning: File does not exist: 4h-1or2N_0_DNA-ALL-basicL-rep-nter_core-Ridge-WbnRD10-P00-DEL8.30/4h-1or2N_0_DNA-ALL-basicL-rep-nter_core-Ridge-WbnRD10_P00_bc-41.00_nc-32.70/hetero.set.current\n",
      "  warnings.warn(\"File does not exist: \" + current_name)\n",
      "c:\\projekti_ki\\ortocc\\agadir\\hepran\\bzipscore.py:980: UserWarning: File does not exist: 4h-1or2N_0_DNA-ALL-basicL-rep-nter_core-Ridge-WbnRD10-P00-DEL8.30/4h-1or2N_0_DNA-ALL-basicL-rep-nter_core-Ridge-WbnRD10_P00_bc-42.00_nc-33.70/all.set.current\n",
      "  warnings.warn(\"File does not exist: \" + current_name)\n",
      "c:\\projekti_ki\\ortocc\\agadir\\hepran\\bzipscore.py:996: UserWarning: File does not exist: 4h-1or2N_0_DNA-ALL-basicL-rep-nter_core-Ridge-WbnRD10-P00-DEL8.30/4h-1or2N_0_DNA-ALL-basicL-rep-nter_core-Ridge-WbnRD10_P00_bc-42.00_nc-33.70/homo.set.current\n",
      "  warnings.warn(\"File does not exist: \" + current_name)\n",
      "c:\\projekti_ki\\ortocc\\agadir\\hepran\\bzipscore.py:1013: UserWarning: File does not exist: 4h-1or2N_0_DNA-ALL-basicL-rep-nter_core-Ridge-WbnRD10-P00-DEL8.30/4h-1or2N_0_DNA-ALL-basicL-rep-nter_core-Ridge-WbnRD10_P00_bc-42.00_nc-33.70/hetero.set.current\n",
      "  warnings.warn(\"File does not exist: \" + current_name)\n",
      "c:\\projekti_ki\\ortocc\\agadir\\hepran\\bzipscore.py:980: UserWarning: File does not exist: 4h-1or2N_0_DNA-ALL-basicL-rep-nter_core-Ridge-WbnRD10-P00-DEL8.30/4h-1or2N_0_DNA-ALL-basicL-rep-nter_core-Ridge-WbnRD10_P00_bc-43.00_nc-34.70/all.set.current\n",
      "  warnings.warn(\"File does not exist: \" + current_name)\n",
      "c:\\projekti_ki\\ortocc\\agadir\\hepran\\bzipscore.py:996: UserWarning: File does not exist: 4h-1or2N_0_DNA-ALL-basicL-rep-nter_core-Ridge-WbnRD10-P00-DEL8.30/4h-1or2N_0_DNA-ALL-basicL-rep-nter_core-Ridge-WbnRD10_P00_bc-43.00_nc-34.70/homo.set.current\n",
      "  warnings.warn(\"File does not exist: \" + current_name)\n",
      "c:\\projekti_ki\\ortocc\\agadir\\hepran\\bzipscore.py:1013: UserWarning: File does not exist: 4h-1or2N_0_DNA-ALL-basicL-rep-nter_core-Ridge-WbnRD10-P00-DEL8.30/4h-1or2N_0_DNA-ALL-basicL-rep-nter_core-Ridge-WbnRD10_P00_bc-43.00_nc-34.70/hetero.set.current\n",
      "  warnings.warn(\"File does not exist: \" + current_name)\n"
     ]
    },
    {
     "name": "stdout",
     "output_type": "stream",
     "text": [
      "Cutoff(binding=-44.0, nonbinding=-35.700000000000003)\n",
      "Cutoff(binding=-45.0, nonbinding=-36.700000000000003)\n",
      "Cutoff(binding=-46.0, nonbinding=-37.700000000000003)\n"
     ]
    },
    {
     "name": "stderr",
     "output_type": "stream",
     "text": [
      "c:\\projekti_ki\\ortocc\\agadir\\hepran\\bzipscore.py:980: UserWarning: File does not exist: 4h-1or2N_0_DNA-ALL-basicL-rep-nter_core-Ridge-WbnRD10-P00-DEL8.30/4h-1or2N_0_DNA-ALL-basicL-rep-nter_core-Ridge-WbnRD10_P00_bc-44.00_nc-35.70/all.set.current\n",
      "  warnings.warn(\"File does not exist: \" + current_name)\n",
      "c:\\projekti_ki\\ortocc\\agadir\\hepran\\bzipscore.py:996: UserWarning: File does not exist: 4h-1or2N_0_DNA-ALL-basicL-rep-nter_core-Ridge-WbnRD10-P00-DEL8.30/4h-1or2N_0_DNA-ALL-basicL-rep-nter_core-Ridge-WbnRD10_P00_bc-44.00_nc-35.70/homo.set.current\n",
      "  warnings.warn(\"File does not exist: \" + current_name)\n",
      "c:\\projekti_ki\\ortocc\\agadir\\hepran\\bzipscore.py:1013: UserWarning: File does not exist: 4h-1or2N_0_DNA-ALL-basicL-rep-nter_core-Ridge-WbnRD10-P00-DEL8.30/4h-1or2N_0_DNA-ALL-basicL-rep-nter_core-Ridge-WbnRD10_P00_bc-44.00_nc-35.70/hetero.set.current\n",
      "  warnings.warn(\"File does not exist: \" + current_name)\n",
      "c:\\projekti_ki\\ortocc\\agadir\\hepran\\bzipscore.py:980: UserWarning: File does not exist: 4h-1or2N_0_DNA-ALL-basicL-rep-nter_core-Ridge-WbnRD10-P00-DEL8.30/4h-1or2N_0_DNA-ALL-basicL-rep-nter_core-Ridge-WbnRD10_P00_bc-45.00_nc-36.70/all.set.current\n",
      "  warnings.warn(\"File does not exist: \" + current_name)\n",
      "c:\\projekti_ki\\ortocc\\agadir\\hepran\\bzipscore.py:996: UserWarning: File does not exist: 4h-1or2N_0_DNA-ALL-basicL-rep-nter_core-Ridge-WbnRD10-P00-DEL8.30/4h-1or2N_0_DNA-ALL-basicL-rep-nter_core-Ridge-WbnRD10_P00_bc-45.00_nc-36.70/homo.set.current\n",
      "  warnings.warn(\"File does not exist: \" + current_name)\n",
      "c:\\projekti_ki\\ortocc\\agadir\\hepran\\bzipscore.py:1013: UserWarning: File does not exist: 4h-1or2N_0_DNA-ALL-basicL-rep-nter_core-Ridge-WbnRD10-P00-DEL8.30/4h-1or2N_0_DNA-ALL-basicL-rep-nter_core-Ridge-WbnRD10_P00_bc-45.00_nc-36.70/hetero.set.current\n",
      "  warnings.warn(\"File does not exist: \" + current_name)\n",
      "c:\\projekti_ki\\ortocc\\agadir\\hepran\\bzipscore.py:980: UserWarning: File does not exist: 4h-1or2N_0_DNA-ALL-basicL-rep-nter_core-Ridge-WbnRD10-P00-DEL8.30/4h-1or2N_0_DNA-ALL-basicL-rep-nter_core-Ridge-WbnRD10_P00_bc-46.00_nc-37.70/all.set.current\n",
      "  warnings.warn(\"File does not exist: \" + current_name)\n",
      "c:\\projekti_ki\\ortocc\\agadir\\hepran\\bzipscore.py:996: UserWarning: File does not exist: 4h-1or2N_0_DNA-ALL-basicL-rep-nter_core-Ridge-WbnRD10-P00-DEL8.30/4h-1or2N_0_DNA-ALL-basicL-rep-nter_core-Ridge-WbnRD10_P00_bc-46.00_nc-37.70/homo.set.current\n",
      "  warnings.warn(\"File does not exist: \" + current_name)\n",
      "c:\\projekti_ki\\ortocc\\agadir\\hepran\\bzipscore.py:1013: UserWarning: File does not exist: 4h-1or2N_0_DNA-ALL-basicL-rep-nter_core-Ridge-WbnRD10-P00-DEL8.30/4h-1or2N_0_DNA-ALL-basicL-rep-nter_core-Ridge-WbnRD10_P00_bc-46.00_nc-37.70/hetero.set.current\n",
      "  warnings.warn(\"File does not exist: \" + current_name)\n"
     ]
    },
    {
     "name": "stdout",
     "output_type": "stream",
     "text": [
      "Cutoff(binding=-47.0, nonbinding=-38.700000000000003)\n",
      "Cutoff(binding=-48.0, nonbinding=-39.700000000000003)\n",
      "Cutoff(binding=-49.0, nonbinding=-40.700000000000003)\n"
     ]
    },
    {
     "name": "stderr",
     "output_type": "stream",
     "text": [
      "c:\\projekti_ki\\ortocc\\agadir\\hepran\\bzipscore.py:980: UserWarning: File does not exist: 4h-1or2N_0_DNA-ALL-basicL-rep-nter_core-Ridge-WbnRD10-P00-DEL8.30/4h-1or2N_0_DNA-ALL-basicL-rep-nter_core-Ridge-WbnRD10_P00_bc-47.00_nc-38.70/all.set.current\n",
      "  warnings.warn(\"File does not exist: \" + current_name)\n",
      "c:\\projekti_ki\\ortocc\\agadir\\hepran\\bzipscore.py:996: UserWarning: File does not exist: 4h-1or2N_0_DNA-ALL-basicL-rep-nter_core-Ridge-WbnRD10-P00-DEL8.30/4h-1or2N_0_DNA-ALL-basicL-rep-nter_core-Ridge-WbnRD10_P00_bc-47.00_nc-38.70/homo.set.current\n",
      "  warnings.warn(\"File does not exist: \" + current_name)\n",
      "c:\\projekti_ki\\ortocc\\agadir\\hepran\\bzipscore.py:1013: UserWarning: File does not exist: 4h-1or2N_0_DNA-ALL-basicL-rep-nter_core-Ridge-WbnRD10-P00-DEL8.30/4h-1or2N_0_DNA-ALL-basicL-rep-nter_core-Ridge-WbnRD10_P00_bc-47.00_nc-38.70/hetero.set.current\n",
      "  warnings.warn(\"File does not exist: \" + current_name)\n",
      "c:\\projekti_ki\\ortocc\\agadir\\hepran\\bzipscore.py:980: UserWarning: File does not exist: 4h-1or2N_0_DNA-ALL-basicL-rep-nter_core-Ridge-WbnRD10-P00-DEL8.30/4h-1or2N_0_DNA-ALL-basicL-rep-nter_core-Ridge-WbnRD10_P00_bc-48.00_nc-39.70/all.set.current\n",
      "  warnings.warn(\"File does not exist: \" + current_name)\n",
      "c:\\projekti_ki\\ortocc\\agadir\\hepran\\bzipscore.py:996: UserWarning: File does not exist: 4h-1or2N_0_DNA-ALL-basicL-rep-nter_core-Ridge-WbnRD10-P00-DEL8.30/4h-1or2N_0_DNA-ALL-basicL-rep-nter_core-Ridge-WbnRD10_P00_bc-48.00_nc-39.70/homo.set.current\n",
      "  warnings.warn(\"File does not exist: \" + current_name)\n",
      "c:\\projekti_ki\\ortocc\\agadir\\hepran\\bzipscore.py:1013: UserWarning: File does not exist: 4h-1or2N_0_DNA-ALL-basicL-rep-nter_core-Ridge-WbnRD10-P00-DEL8.30/4h-1or2N_0_DNA-ALL-basicL-rep-nter_core-Ridge-WbnRD10_P00_bc-48.00_nc-39.70/hetero.set.current\n",
      "  warnings.warn(\"File does not exist: \" + current_name)\n",
      "c:\\projekti_ki\\ortocc\\agadir\\hepran\\bzipscore.py:980: UserWarning: File does not exist: 4h-1or2N_0_DNA-ALL-basicL-rep-nter_core-Ridge-WbnRD10-P00-DEL8.30/4h-1or2N_0_DNA-ALL-basicL-rep-nter_core-Ridge-WbnRD10_P00_bc-49.00_nc-40.70/all.set.current\n",
      "  warnings.warn(\"File does not exist: \" + current_name)\n",
      "c:\\projekti_ki\\ortocc\\agadir\\hepran\\bzipscore.py:996: UserWarning: File does not exist: 4h-1or2N_0_DNA-ALL-basicL-rep-nter_core-Ridge-WbnRD10-P00-DEL8.30/4h-1or2N_0_DNA-ALL-basicL-rep-nter_core-Ridge-WbnRD10_P00_bc-49.00_nc-40.70/homo.set.current\n",
      "  warnings.warn(\"File does not exist: \" + current_name)\n",
      "c:\\projekti_ki\\ortocc\\agadir\\hepran\\bzipscore.py:1013: UserWarning: File does not exist: 4h-1or2N_0_DNA-ALL-basicL-rep-nter_core-Ridge-WbnRD10-P00-DEL8.30/4h-1or2N_0_DNA-ALL-basicL-rep-nter_core-Ridge-WbnRD10_P00_bc-49.00_nc-40.70/hetero.set.current\n",
      "  warnings.warn(\"File does not exist: \" + current_name)\n",
      "c:\\projekti_ki\\ortocc\\agadir\\hepran\\bzipscore.py:980: UserWarning: File does not exist: 4h-1or2N_0_DNA-ALL-basicL-rep-nter_core-Ridge-WbnRD10-P00-DEL8.30/4h-1or2N_0_DNA-ALL-basicL-rep-nter_core-Ridge-WbnRD10_P00_bc-50.00_nc-41.70/all.set.current\n",
      "  warnings.warn(\"File does not exist: \" + current_name)\n"
     ]
    },
    {
     "name": "stdout",
     "output_type": "stream",
     "text": [
      "Cutoff(binding=-50.0, nonbinding=-41.700000000000003)\n",
      "Cutoff(binding=-51.0, nonbinding=-42.700000000000003)\n",
      "Cutoff(binding=-52.0, nonbinding=-43.700000000000003)\n"
     ]
    },
    {
     "name": "stderr",
     "output_type": "stream",
     "text": [
      "c:\\projekti_ki\\ortocc\\agadir\\hepran\\bzipscore.py:996: UserWarning: File does not exist: 4h-1or2N_0_DNA-ALL-basicL-rep-nter_core-Ridge-WbnRD10-P00-DEL8.30/4h-1or2N_0_DNA-ALL-basicL-rep-nter_core-Ridge-WbnRD10_P00_bc-50.00_nc-41.70/homo.set.current\n",
      "  warnings.warn(\"File does not exist: \" + current_name)\n",
      "c:\\projekti_ki\\ortocc\\agadir\\hepran\\bzipscore.py:1013: UserWarning: File does not exist: 4h-1or2N_0_DNA-ALL-basicL-rep-nter_core-Ridge-WbnRD10-P00-DEL8.30/4h-1or2N_0_DNA-ALL-basicL-rep-nter_core-Ridge-WbnRD10_P00_bc-50.00_nc-41.70/hetero.set.current\n",
      "  warnings.warn(\"File does not exist: \" + current_name)\n",
      "c:\\projekti_ki\\ortocc\\agadir\\hepran\\bzipscore.py:980: UserWarning: File does not exist: 4h-1or2N_0_DNA-ALL-basicL-rep-nter_core-Ridge-WbnRD10-P00-DEL8.30/4h-1or2N_0_DNA-ALL-basicL-rep-nter_core-Ridge-WbnRD10_P00_bc-51.00_nc-42.70/all.set.current\n",
      "  warnings.warn(\"File does not exist: \" + current_name)\n",
      "c:\\projekti_ki\\ortocc\\agadir\\hepran\\bzipscore.py:996: UserWarning: File does not exist: 4h-1or2N_0_DNA-ALL-basicL-rep-nter_core-Ridge-WbnRD10-P00-DEL8.30/4h-1or2N_0_DNA-ALL-basicL-rep-nter_core-Ridge-WbnRD10_P00_bc-51.00_nc-42.70/homo.set.current\n",
      "  warnings.warn(\"File does not exist: \" + current_name)\n",
      "c:\\projekti_ki\\ortocc\\agadir\\hepran\\bzipscore.py:1013: UserWarning: File does not exist: 4h-1or2N_0_DNA-ALL-basicL-rep-nter_core-Ridge-WbnRD10-P00-DEL8.30/4h-1or2N_0_DNA-ALL-basicL-rep-nter_core-Ridge-WbnRD10_P00_bc-51.00_nc-42.70/hetero.set.current\n",
      "  warnings.warn(\"File does not exist: \" + current_name)\n",
      "c:\\projekti_ki\\ortocc\\agadir\\hepran\\bzipscore.py:980: UserWarning: File does not exist: 4h-1or2N_0_DNA-ALL-basicL-rep-nter_core-Ridge-WbnRD10-P00-DEL8.30/4h-1or2N_0_DNA-ALL-basicL-rep-nter_core-Ridge-WbnRD10_P00_bc-52.00_nc-43.70/all.set.current\n",
      "  warnings.warn(\"File does not exist: \" + current_name)\n",
      "c:\\projekti_ki\\ortocc\\agadir\\hepran\\bzipscore.py:996: UserWarning: File does not exist: 4h-1or2N_0_DNA-ALL-basicL-rep-nter_core-Ridge-WbnRD10-P00-DEL8.30/4h-1or2N_0_DNA-ALL-basicL-rep-nter_core-Ridge-WbnRD10_P00_bc-52.00_nc-43.70/homo.set.current\n",
      "  warnings.warn(\"File does not exist: \" + current_name)\n",
      "c:\\projekti_ki\\ortocc\\agadir\\hepran\\bzipscore.py:1013: UserWarning: File does not exist: 4h-1or2N_0_DNA-ALL-basicL-rep-nter_core-Ridge-WbnRD10-P00-DEL8.30/4h-1or2N_0_DNA-ALL-basicL-rep-nter_core-Ridge-WbnRD10_P00_bc-52.00_nc-43.70/hetero.set.current\n",
      "  warnings.warn(\"File does not exist: \" + current_name)\n",
      "c:\\projekti_ki\\ortocc\\agadir\\hepran\\bzipscore.py:980: UserWarning: File does not exist: 4h-1or2N_0_DNA-ALL-basicL-rep-nter_core-Ridge-WbnRD10-P00-DEL8.30/4h-1or2N_0_DNA-ALL-basicL-rep-nter_core-Ridge-WbnRD10_P00_bc-53.00_nc-44.70/all.set.current\n",
      "  warnings.warn(\"File does not exist: \" + current_name)\n"
     ]
    },
    {
     "name": "stdout",
     "output_type": "stream",
     "text": [
      "Cutoff(binding=-53.0, nonbinding=-44.700000000000003)\n",
      "Cutoff(binding=-54.0, nonbinding=-45.700000000000003)\n",
      "Cutoff(binding=-55.0, nonbinding=-46.700000000000003)\n",
      "Wall time: 1.52 s\n"
     ]
    },
    {
     "name": "stderr",
     "output_type": "stream",
     "text": [
      "c:\\projekti_ki\\ortocc\\agadir\\hepran\\bzipscore.py:996: UserWarning: File does not exist: 4h-1or2N_0_DNA-ALL-basicL-rep-nter_core-Ridge-WbnRD10-P00-DEL8.30/4h-1or2N_0_DNA-ALL-basicL-rep-nter_core-Ridge-WbnRD10_P00_bc-53.00_nc-44.70/homo.set.current\n",
      "  warnings.warn(\"File does not exist: \" + current_name)\n",
      "c:\\projekti_ki\\ortocc\\agadir\\hepran\\bzipscore.py:1013: UserWarning: File does not exist: 4h-1or2N_0_DNA-ALL-basicL-rep-nter_core-Ridge-WbnRD10-P00-DEL8.30/4h-1or2N_0_DNA-ALL-basicL-rep-nter_core-Ridge-WbnRD10_P00_bc-53.00_nc-44.70/hetero.set.current\n",
      "  warnings.warn(\"File does not exist: \" + current_name)\n",
      "c:\\projekti_ki\\ortocc\\agadir\\hepran\\bzipscore.py:980: UserWarning: File does not exist: 4h-1or2N_0_DNA-ALL-basicL-rep-nter_core-Ridge-WbnRD10-P00-DEL8.30/4h-1or2N_0_DNA-ALL-basicL-rep-nter_core-Ridge-WbnRD10_P00_bc-54.00_nc-45.70/all.set.current\n",
      "  warnings.warn(\"File does not exist: \" + current_name)\n",
      "c:\\projekti_ki\\ortocc\\agadir\\hepran\\bzipscore.py:996: UserWarning: File does not exist: 4h-1or2N_0_DNA-ALL-basicL-rep-nter_core-Ridge-WbnRD10-P00-DEL8.30/4h-1or2N_0_DNA-ALL-basicL-rep-nter_core-Ridge-WbnRD10_P00_bc-54.00_nc-45.70/homo.set.current\n",
      "  warnings.warn(\"File does not exist: \" + current_name)\n",
      "c:\\projekti_ki\\ortocc\\agadir\\hepran\\bzipscore.py:1013: UserWarning: File does not exist: 4h-1or2N_0_DNA-ALL-basicL-rep-nter_core-Ridge-WbnRD10-P00-DEL8.30/4h-1or2N_0_DNA-ALL-basicL-rep-nter_core-Ridge-WbnRD10_P00_bc-54.00_nc-45.70/hetero.set.current\n",
      "  warnings.warn(\"File does not exist: \" + current_name)\n",
      "c:\\projekti_ki\\ortocc\\agadir\\hepran\\bzipscore.py:980: UserWarning: File does not exist: 4h-1or2N_0_DNA-ALL-basicL-rep-nter_core-Ridge-WbnRD10-P00-DEL8.30/4h-1or2N_0_DNA-ALL-basicL-rep-nter_core-Ridge-WbnRD10_P00_bc-55.00_nc-46.70/all.set.current\n",
      "  warnings.warn(\"File does not exist: \" + current_name)\n",
      "c:\\projekti_ki\\ortocc\\agadir\\hepran\\bzipscore.py:996: UserWarning: File does not exist: 4h-1or2N_0_DNA-ALL-basicL-rep-nter_core-Ridge-WbnRD10-P00-DEL8.30/4h-1or2N_0_DNA-ALL-basicL-rep-nter_core-Ridge-WbnRD10_P00_bc-55.00_nc-46.70/homo.set.current\n",
      "  warnings.warn(\"File does not exist: \" + current_name)\n",
      "c:\\projekti_ki\\ortocc\\agadir\\hepran\\bzipscore.py:1013: UserWarning: File does not exist: 4h-1or2N_0_DNA-ALL-basicL-rep-nter_core-Ridge-WbnRD10-P00-DEL8.30/4h-1or2N_0_DNA-ALL-basicL-rep-nter_core-Ridge-WbnRD10_P00_bc-55.00_nc-46.70/hetero.set.current\n",
      "  warnings.warn(\"File does not exist: \" + current_name)\n"
     ]
    }
   ],
   "source": [
    "%%time\n",
    "for cutoff in c_list:\n",
    "    print(cutoff)\n",
    "    a_dir, set_files = get_sets(dir_name+\"/\"+name, binding_cutoff=cutoff.binding, nonbinding_cutoff=cutoff.nonbinding,\n",
    "                                 alignment=al,\n",
    "                                 fasta=filtered_fasta, score_file=score_file,\n",
    "                                 solver_exe=CCO+\"/solver.exe\", fake=False, verbose=False, skip_existing=False,\n",
    "                                 timeout_s=600)\n",
    "    for set_file in set_files:\n",
    "        print(set_file)\n",
    "        analyse_set_file(set_file, filtered_fasta, alignment=al,\n",
    "                         scorer_exe=None, \n",
    "                         input_score_file=score_file, invert=True,\n",
    "                         normalization_min=0, normalization_max=80,\n",
    "                         verbose=False, skip_drawing=True)\n",
    "        "
   ]
  },
  {
   "cell_type": "code",
   "execution_count": 6,
   "metadata": {
    "collapsed": false,
    "scrolled": true
   },
   "outputs": [
    {
     "ename": "KeyError",
     "evalue": "\"['!full_name' 'name' 'binding_cutoff' 'nonbinding_cutoff' 'N_pairs'\\n 'N_heterodimers' 'N_homodimers' 'total_IN_mismatches'\\n 'total_electrostatic_mismatches' 'N_offtarget_above_min_ontarget'\\n 'alignment' 'binding_min_affinity' 'binding_min_affinity_%' 'dirname'\\n 'lower_is_better' 'max_affinity' 'min_affinity' 'nonbinidng_max_affinity'\\n 'nonbinidng_max_affinity_%' 'normalization_max' 'normalization_min'\\n 'orthogonality_average' 'orthogonality_average_%' 'orthogonality_gap'\\n 'orthogonality_gap_%' 'starting_pos' 'total_II_pairs' 'total_II_pairs_%'\\n 'total_IN_mismatches_%' 'total_NN_pairs' 'total_NN_pairs_%'\\n 'total_electrostatic_matches' 'total_electrostatic_matches_%'\\n 'total_electrostatic_mismatches_%' 'type' 'N_aminoacids' 'N_heptades'] not in index\"",
     "output_type": "error",
     "traceback": [
      "\u001b[1;31m\u001b[0m",
      "\u001b[1;31mKeyError\u001b[0mTraceback (most recent call last)",
      "\u001b[1;32m<ipython-input-6-daa9a762cbb8>\u001b[0m in \u001b[0;36m<module>\u001b[1;34m()\u001b[0m\n\u001b[0;32m      1\u001b[0m \u001b[0mset_infos\u001b[0m \u001b[1;33m=\u001b[0m \u001b[0mglob\u001b[0m\u001b[1;33m(\u001b[0m\u001b[0mdir_name\u001b[0m\u001b[1;33m+\u001b[0m\u001b[1;34m\"/*/*.set_info\"\u001b[0m\u001b[1;33m)\u001b[0m\u001b[1;33m\u001b[0m\u001b[0m\n\u001b[1;32m----> 2\u001b[1;33m \u001b[0mdf\u001b[0m \u001b[1;33m=\u001b[0m \u001b[0mload_set_infos_to_dataframe\u001b[0m\u001b[1;33m(\u001b[0m\u001b[0mset_infos\u001b[0m\u001b[1;33m)\u001b[0m\u001b[1;33m\u001b[0m\u001b[0m\n\u001b[0m\u001b[0;32m      3\u001b[0m \u001b[0mdf\u001b[0m\u001b[1;33m.\u001b[0m\u001b[0msort_values\u001b[0m\u001b[1;33m(\u001b[0m\u001b[0mby\u001b[0m\u001b[1;33m=\u001b[0m\u001b[1;34m\"N_pairs N_heterodimers total_IN_mismatches total_electrostatic_mismatches\"\u001b[0m\u001b[1;33m.\u001b[0m\u001b[0msplit\u001b[0m\u001b[1;33m(\u001b[0m\u001b[1;33m)\u001b[0m\u001b[1;33m,\u001b[0m \u001b[0mascending\u001b[0m\u001b[1;33m=\u001b[0m\u001b[1;33m[\u001b[0m\u001b[0mFalse\u001b[0m\u001b[1;33m,\u001b[0m \u001b[0mFalse\u001b[0m\u001b[1;33m,\u001b[0m \u001b[0mTrue\u001b[0m\u001b[1;33m,\u001b[0m \u001b[0mTrue\u001b[0m\u001b[1;33m]\u001b[0m\u001b[1;33m,\u001b[0m \u001b[0minplace\u001b[0m\u001b[1;33m=\u001b[0m\u001b[0mTrue\u001b[0m\u001b[1;33m)\u001b[0m\u001b[1;33m\u001b[0m\u001b[0m\n\u001b[0;32m      4\u001b[0m \u001b[0mdf\u001b[0m\u001b[1;33m;\u001b[0m\u001b[1;33m\u001b[0m\u001b[0m\n",
      "\u001b[1;32mc:\\projekti_ki\\ortocc\\agadir\\hepran\\bzipscore.pyc\u001b[0m in \u001b[0;36mload_set_infos_to_dataframe\u001b[1;34m(set_info_files)\u001b[0m\n\u001b[0;32m   1275\u001b[0m         \u001b[0mset_infos\u001b[0m\u001b[1;33m.\u001b[0m\u001b[0mappend\u001b[0m\u001b[1;33m(\u001b[0m\u001b[0md\u001b[0m\u001b[1;33m)\u001b[0m\u001b[1;33m\u001b[0m\u001b[0m\n\u001b[0;32m   1276\u001b[0m \u001b[1;33m\u001b[0m\u001b[0m\n\u001b[1;32m-> 1277\u001b[1;33m     \u001b[1;32mreturn\u001b[0m \u001b[0mpd\u001b[0m\u001b[1;33m.\u001b[0m\u001b[0mDataFrame\u001b[0m\u001b[1;33m.\u001b[0m\u001b[0mfrom_records\u001b[0m\u001b[1;33m(\u001b[0m\u001b[0mset_infos\u001b[0m\u001b[1;33m)\u001b[0m\u001b[1;33m[\u001b[0m\u001b[0mset_fields_order\u001b[0m\u001b[1;33m]\u001b[0m\u001b[1;33m\u001b[0m\u001b[0m\n\u001b[0m\u001b[0;32m   1278\u001b[0m \u001b[1;33m\u001b[0m\u001b[0m\n\u001b[0;32m   1279\u001b[0m \u001b[1;33m\u001b[0m\u001b[0m\n",
      "\u001b[1;32mc:\\bin\\python\\anaconda\\lib\\site-packages\\pandas\\core\\frame.pyc\u001b[0m in \u001b[0;36m__getitem__\u001b[1;34m(self, key)\u001b[0m\n\u001b[0;32m   2131\u001b[0m         \u001b[1;32mif\u001b[0m \u001b[0misinstance\u001b[0m\u001b[1;33m(\u001b[0m\u001b[0mkey\u001b[0m\u001b[1;33m,\u001b[0m \u001b[1;33m(\u001b[0m\u001b[0mSeries\u001b[0m\u001b[1;33m,\u001b[0m \u001b[0mnp\u001b[0m\u001b[1;33m.\u001b[0m\u001b[0mndarray\u001b[0m\u001b[1;33m,\u001b[0m \u001b[0mIndex\u001b[0m\u001b[1;33m,\u001b[0m \u001b[0mlist\u001b[0m\u001b[1;33m)\u001b[0m\u001b[1;33m)\u001b[0m\u001b[1;33m:\u001b[0m\u001b[1;33m\u001b[0m\u001b[0m\n\u001b[0;32m   2132\u001b[0m             \u001b[1;31m# either boolean or fancy integer index\u001b[0m\u001b[1;33m\u001b[0m\u001b[1;33m\u001b[0m\u001b[0m\n\u001b[1;32m-> 2133\u001b[1;33m             \u001b[1;32mreturn\u001b[0m \u001b[0mself\u001b[0m\u001b[1;33m.\u001b[0m\u001b[0m_getitem_array\u001b[0m\u001b[1;33m(\u001b[0m\u001b[0mkey\u001b[0m\u001b[1;33m)\u001b[0m\u001b[1;33m\u001b[0m\u001b[0m\n\u001b[0m\u001b[0;32m   2134\u001b[0m         \u001b[1;32melif\u001b[0m \u001b[0misinstance\u001b[0m\u001b[1;33m(\u001b[0m\u001b[0mkey\u001b[0m\u001b[1;33m,\u001b[0m \u001b[0mDataFrame\u001b[0m\u001b[1;33m)\u001b[0m\u001b[1;33m:\u001b[0m\u001b[1;33m\u001b[0m\u001b[0m\n\u001b[0;32m   2135\u001b[0m             \u001b[1;32mreturn\u001b[0m \u001b[0mself\u001b[0m\u001b[1;33m.\u001b[0m\u001b[0m_getitem_frame\u001b[0m\u001b[1;33m(\u001b[0m\u001b[0mkey\u001b[0m\u001b[1;33m)\u001b[0m\u001b[1;33m\u001b[0m\u001b[0m\n",
      "\u001b[1;32mc:\\bin\\python\\anaconda\\lib\\site-packages\\pandas\\core\\frame.pyc\u001b[0m in \u001b[0;36m_getitem_array\u001b[1;34m(self, key)\u001b[0m\n\u001b[0;32m   2175\u001b[0m             \u001b[1;32mreturn\u001b[0m \u001b[0mself\u001b[0m\u001b[1;33m.\u001b[0m\u001b[0m_take\u001b[0m\u001b[1;33m(\u001b[0m\u001b[0mindexer\u001b[0m\u001b[1;33m,\u001b[0m \u001b[0maxis\u001b[0m\u001b[1;33m=\u001b[0m\u001b[1;36m0\u001b[0m\u001b[1;33m,\u001b[0m \u001b[0mconvert\u001b[0m\u001b[1;33m=\u001b[0m\u001b[0mFalse\u001b[0m\u001b[1;33m)\u001b[0m\u001b[1;33m\u001b[0m\u001b[0m\n\u001b[0;32m   2176\u001b[0m         \u001b[1;32melse\u001b[0m\u001b[1;33m:\u001b[0m\u001b[1;33m\u001b[0m\u001b[0m\n\u001b[1;32m-> 2177\u001b[1;33m             \u001b[0mindexer\u001b[0m \u001b[1;33m=\u001b[0m \u001b[0mself\u001b[0m\u001b[1;33m.\u001b[0m\u001b[0mloc\u001b[0m\u001b[1;33m.\u001b[0m\u001b[0m_convert_to_indexer\u001b[0m\u001b[1;33m(\u001b[0m\u001b[0mkey\u001b[0m\u001b[1;33m,\u001b[0m \u001b[0maxis\u001b[0m\u001b[1;33m=\u001b[0m\u001b[1;36m1\u001b[0m\u001b[1;33m)\u001b[0m\u001b[1;33m\u001b[0m\u001b[0m\n\u001b[0m\u001b[0;32m   2178\u001b[0m             \u001b[1;32mreturn\u001b[0m \u001b[0mself\u001b[0m\u001b[1;33m.\u001b[0m\u001b[0m_take\u001b[0m\u001b[1;33m(\u001b[0m\u001b[0mindexer\u001b[0m\u001b[1;33m,\u001b[0m \u001b[0maxis\u001b[0m\u001b[1;33m=\u001b[0m\u001b[1;36m1\u001b[0m\u001b[1;33m,\u001b[0m \u001b[0mconvert\u001b[0m\u001b[1;33m=\u001b[0m\u001b[0mTrue\u001b[0m\u001b[1;33m)\u001b[0m\u001b[1;33m\u001b[0m\u001b[0m\n\u001b[0;32m   2179\u001b[0m \u001b[1;33m\u001b[0m\u001b[0m\n",
      "\u001b[1;32mc:\\bin\\python\\anaconda\\lib\\site-packages\\pandas\\core\\indexing.pyc\u001b[0m in \u001b[0;36m_convert_to_indexer\u001b[1;34m(self, obj, axis, is_setter)\u001b[0m\n\u001b[0;32m   1267\u001b[0m                 \u001b[1;32mif\u001b[0m \u001b[0mmask\u001b[0m\u001b[1;33m.\u001b[0m\u001b[0many\u001b[0m\u001b[1;33m(\u001b[0m\u001b[1;33m)\u001b[0m\u001b[1;33m:\u001b[0m\u001b[1;33m\u001b[0m\u001b[0m\n\u001b[0;32m   1268\u001b[0m                     raise KeyError('{mask} not in index'\n\u001b[1;32m-> 1269\u001b[1;33m                                    .format(mask=objarr[mask]))\n\u001b[0m\u001b[0;32m   1270\u001b[0m \u001b[1;33m\u001b[0m\u001b[0m\n\u001b[0;32m   1271\u001b[0m                 \u001b[1;32mreturn\u001b[0m \u001b[0m_values_from_object\u001b[0m\u001b[1;33m(\u001b[0m\u001b[0mindexer\u001b[0m\u001b[1;33m)\u001b[0m\u001b[1;33m\u001b[0m\u001b[0m\n",
      "\u001b[1;31mKeyError\u001b[0m: \"['!full_name' 'name' 'binding_cutoff' 'nonbinding_cutoff' 'N_pairs'\\n 'N_heterodimers' 'N_homodimers' 'total_IN_mismatches'\\n 'total_electrostatic_mismatches' 'N_offtarget_above_min_ontarget'\\n 'alignment' 'binding_min_affinity' 'binding_min_affinity_%' 'dirname'\\n 'lower_is_better' 'max_affinity' 'min_affinity' 'nonbinidng_max_affinity'\\n 'nonbinidng_max_affinity_%' 'normalization_max' 'normalization_min'\\n 'orthogonality_average' 'orthogonality_average_%' 'orthogonality_gap'\\n 'orthogonality_gap_%' 'starting_pos' 'total_II_pairs' 'total_II_pairs_%'\\n 'total_IN_mismatches_%' 'total_NN_pairs' 'total_NN_pairs_%'\\n 'total_electrostatic_matches' 'total_electrostatic_matches_%'\\n 'total_electrostatic_mismatches_%' 'type' 'N_aminoacids' 'N_heptades'] not in index\""
     ]
    }
   ],
   "source": [
    "set_infos = glob(dir_name+\"/*/*.set_info\")\n",
    "df = load_set_infos_to_dataframe(set_infos)\n",
    "df.sort_values(by=\"N_pairs N_heterodimers total_IN_mismatches total_electrostatic_mismatches\".split(), ascending=[False, False, True, True], inplace=True)\n",
    "df;"
   ]
  },
  {
   "cell_type": "code",
   "execution_count": 7,
   "metadata": {
    "collapsed": false
   },
   "outputs": [
    {
     "ename": "NameError",
     "evalue": "name 'df' is not defined",
     "output_type": "error",
     "traceback": [
      "\u001b[1;31m\u001b[0m",
      "\u001b[1;31mNameError\u001b[0mTraceback (most recent call last)",
      "\u001b[1;32m<ipython-input-7-ca2c25fb4a7f>\u001b[0m in \u001b[0;36m<module>\u001b[1;34m()\u001b[0m\n\u001b[1;32m----> 1\u001b[1;33m \u001b[0mmp\u001b[0m \u001b[1;33m=\u001b[0m \u001b[0mget_max_pairs_by_type\u001b[0m\u001b[1;33m(\u001b[0m\u001b[0mdf\u001b[0m\u001b[1;33m)\u001b[0m\u001b[1;33m\u001b[0m\u001b[0m\n\u001b[0m\u001b[0;32m      2\u001b[0m \u001b[0mmp\u001b[0m\u001b[1;33m.\u001b[0m\u001b[0msort_values\u001b[0m\u001b[1;33m(\u001b[0m\u001b[0mby\u001b[0m\u001b[1;33m=\u001b[0m\u001b[1;34m\"binding_cutoff\"\u001b[0m\u001b[1;33m,\u001b[0m \u001b[0minplace\u001b[0m\u001b[1;33m=\u001b[0m\u001b[0mTrue\u001b[0m\u001b[1;33m)\u001b[0m\u001b[1;33m\u001b[0m\u001b[0m\n\u001b[0;32m      3\u001b[0m \u001b[0mmp\u001b[0m\u001b[1;33m.\u001b[0m\u001b[0mreset_index\u001b[0m\u001b[1;33m(\u001b[0m\u001b[0minplace\u001b[0m\u001b[1;33m=\u001b[0m\u001b[0mTrue\u001b[0m\u001b[1;33m)\u001b[0m\u001b[1;33m\u001b[0m\u001b[0m\n\u001b[0;32m      4\u001b[0m \u001b[0mmp\u001b[0m\u001b[1;33m;\u001b[0m\u001b[1;33m\u001b[0m\u001b[0m\n",
      "\u001b[1;31mNameError\u001b[0m: name 'df' is not defined"
     ]
    }
   ],
   "source": [
    "mp = get_max_pairs_by_type(df)\n",
    "mp.sort_values(by=\"binding_cutoff\", inplace=True)\n",
    "mp.reset_index(inplace=True)\n",
    "mp;"
   ]
  },
  {
   "cell_type": "code",
   "execution_count": 8,
   "metadata": {
    "collapsed": false
   },
   "outputs": [
    {
     "ename": "NameError",
     "evalue": "name 'mp' is not defined",
     "output_type": "error",
     "traceback": [
      "\u001b[1;31m\u001b[0m",
      "\u001b[1;31mNameError\u001b[0mTraceback (most recent call last)",
      "\u001b[1;32m<ipython-input-8-dddb8fd04372>\u001b[0m in \u001b[0;36m<module>\u001b[1;34m()\u001b[0m\n\u001b[0;32m      3\u001b[0m \u001b[0mplt\u001b[0m\u001b[1;33m.\u001b[0m\u001b[0mfigure\u001b[0m\u001b[1;33m(\u001b[0m\u001b[1;33m)\u001b[0m\u001b[1;33m\u001b[0m\u001b[0m\n\u001b[0;32m      4\u001b[0m \u001b[1;32mfor\u001b[0m \u001b[0mpair_type\u001b[0m \u001b[1;32min\u001b[0m \u001b[1;33m[\u001b[0m\u001b[1;34m\"all\"\u001b[0m\u001b[1;33m,\u001b[0m \u001b[1;34m\"homo\"\u001b[0m\u001b[1;33m,\u001b[0m \u001b[1;34m\"hetero\"\u001b[0m\u001b[1;33m,\u001b[0m \u001b[1;34m\"hetero-ex\"\u001b[0m\u001b[1;33m]\u001b[0m\u001b[1;33m:\u001b[0m\u001b[1;33m\u001b[0m\u001b[0m\n\u001b[1;32m----> 5\u001b[1;33m     \u001b[0mdf_type\u001b[0m \u001b[1;33m=\u001b[0m \u001b[0mmp\u001b[0m\u001b[1;33m[\u001b[0m\u001b[0mmp\u001b[0m\u001b[1;33m.\u001b[0m\u001b[0mtype\u001b[0m \u001b[1;33m==\u001b[0m \u001b[0mpair_type\u001b[0m\u001b[1;33m]\u001b[0m\u001b[1;33m\u001b[0m\u001b[0m\n\u001b[0m\u001b[0;32m      6\u001b[0m     \u001b[0mplt\u001b[0m\u001b[1;33m.\u001b[0m\u001b[0mplot\u001b[0m\u001b[1;33m(\u001b[0m\u001b[0mdf_type\u001b[0m\u001b[1;33m.\u001b[0m\u001b[0mbinding_cutoff\u001b[0m\u001b[1;33m,\u001b[0m \u001b[0mdf_type\u001b[0m\u001b[1;33m.\u001b[0m\u001b[0mmax_N_pairs\u001b[0m\u001b[1;33m,\u001b[0m \u001b[0mlabel\u001b[0m\u001b[1;33m=\u001b[0m\u001b[0mpair_type\u001b[0m\u001b[1;33m)\u001b[0m\u001b[1;33m\u001b[0m\u001b[0m\n\u001b[0;32m      7\u001b[0m \u001b[1;33m\u001b[0m\u001b[0m\n",
      "\u001b[1;31mNameError\u001b[0m: name 'mp' is not defined"
     ]
    },
    {
     "data": {
      "text/plain": [
       "<matplotlib.figure.Figure at 0x690d030>"
      ]
     },
     "metadata": {},
     "output_type": "display_data"
    }
   ],
   "source": [
    "%matplotlib inline\n",
    "\n",
    "plt.figure()\n",
    "for pair_type in [\"all\", \"homo\", \"hetero\", \"hetero-ex\"]:\n",
    "    df_type = mp[mp.type == pair_type]\n",
    "    plt.plot(df_type.binding_cutoff, df_type.max_N_pairs, label=pair_type)\n",
    "\n",
    "    \n",
    "#plt.title(dir_name)       \n",
    "\n",
    "plt.legend()\n",
    "plt.ylabel(\"max_N_pairs\")\n",
    "plt.xlabel(\"Binding cutoff\")\n",
    "plt.tight_layout()\n",
    "plt.savefig(dir_name+\"/max_N_pairs.png\")"
   ]
  },
  {
   "cell_type": "code",
   "execution_count": 9,
   "metadata": {
    "collapsed": false
   },
   "outputs": [
    {
     "ename": "NameError",
     "evalue": "name 'mp' is not defined",
     "output_type": "error",
     "traceback": [
      "\u001b[1;31m\u001b[0m",
      "\u001b[1;31mNameError\u001b[0mTraceback (most recent call last)",
      "\u001b[1;32m<ipython-input-9-988185d4e076>\u001b[0m in \u001b[0;36m<module>\u001b[1;34m()\u001b[0m\n\u001b[0;32m      1\u001b[0m \u001b[0mplt\u001b[0m\u001b[1;33m.\u001b[0m\u001b[0mfigure\u001b[0m\u001b[1;33m(\u001b[0m\u001b[1;33m)\u001b[0m\u001b[1;33m\u001b[0m\u001b[0m\n\u001b[0;32m      2\u001b[0m \u001b[1;32mfor\u001b[0m \u001b[0mpair_type\u001b[0m \u001b[1;32min\u001b[0m \u001b[1;33m[\u001b[0m\u001b[1;34m\"all\"\u001b[0m\u001b[1;33m,\u001b[0m \u001b[1;34m\"homo\"\u001b[0m\u001b[1;33m,\u001b[0m \u001b[1;34m\"hetero\"\u001b[0m\u001b[1;33m,\u001b[0m \u001b[1;34m\"hetero-ex\"\u001b[0m\u001b[1;33m]\u001b[0m\u001b[1;33m:\u001b[0m\u001b[1;33m\u001b[0m\u001b[0m\n\u001b[1;32m----> 3\u001b[1;33m     \u001b[0mdf_type\u001b[0m \u001b[1;33m=\u001b[0m \u001b[0mmp\u001b[0m\u001b[1;33m[\u001b[0m\u001b[0mmp\u001b[0m\u001b[1;33m.\u001b[0m\u001b[0mtype\u001b[0m \u001b[1;33m==\u001b[0m \u001b[0mpair_type\u001b[0m\u001b[1;33m]\u001b[0m\u001b[1;33m\u001b[0m\u001b[0m\n\u001b[0m\u001b[0;32m      4\u001b[0m     \u001b[0mplt\u001b[0m\u001b[1;33m.\u001b[0m\u001b[0mplot\u001b[0m\u001b[1;33m(\u001b[0m\u001b[0mdf_type\u001b[0m\u001b[1;33m.\u001b[0m\u001b[0mbinding_cutoff\u001b[0m\u001b[1;33m,\u001b[0m \u001b[0mdf_type\u001b[0m\u001b[1;33m.\u001b[0m\u001b[0mcount_max_sets\u001b[0m\u001b[1;33m,\u001b[0m \u001b[0mlabel\u001b[0m\u001b[1;33m=\u001b[0m\u001b[0mpair_type\u001b[0m\u001b[1;33m)\u001b[0m\u001b[1;33m\u001b[0m\u001b[0m\n\u001b[0;32m      5\u001b[0m \u001b[1;33m\u001b[0m\u001b[0m\n",
      "\u001b[1;31mNameError\u001b[0m: name 'mp' is not defined"
     ]
    },
    {
     "data": {
      "text/plain": [
       "<matplotlib.figure.Figure at 0x690d470>"
      ]
     },
     "metadata": {},
     "output_type": "display_data"
    }
   ],
   "source": [
    "plt.figure()\n",
    "for pair_type in [\"all\", \"homo\", \"hetero\", \"hetero-ex\"]:\n",
    "    df_type = mp[mp.type == pair_type]\n",
    "    plt.plot(df_type.binding_cutoff, df_type.count_max_sets, label=pair_type)\n",
    "\n",
    "plt.legend()\n",
    "plt.ylabel(\"N_sets\")\n",
    "plt.xlabel(\"Binding cutoff\")\n",
    "plt.tight_layout()\n",
    "plt.savefig(dir_name+\"/N_sets.png\")\n",
    "#plt.ylim([0, 15])"
   ]
  },
  {
   "cell_type": "code",
   "execution_count": 10,
   "metadata": {},
   "outputs": [
    {
     "ename": "NameError",
     "evalue": "name 'mp' is not defined",
     "output_type": "error",
     "traceback": [
      "\u001b[1;31m\u001b[0m",
      "\u001b[1;31mNameError\u001b[0mTraceback (most recent call last)",
      "\u001b[1;32m<ipython-input-10-e8dba2c22db7>\u001b[0m in \u001b[0;36m<module>\u001b[1;34m()\u001b[0m\n\u001b[1;32m----> 1\u001b[1;33m \u001b[0mmp\u001b[0m\u001b[1;33m.\u001b[0m\u001b[0msort_values\u001b[0m\u001b[1;33m(\u001b[0m\u001b[0mby\u001b[0m\u001b[1;33m=\u001b[0m\u001b[1;34m\"max_N_pairs\"\u001b[0m\u001b[1;33m,\u001b[0m \u001b[0mascending\u001b[0m\u001b[1;33m=\u001b[0m\u001b[0mFalse\u001b[0m\u001b[1;33m,\u001b[0m \u001b[0minplace\u001b[0m\u001b[1;33m=\u001b[0m\u001b[0mTrue\u001b[0m\u001b[1;33m)\u001b[0m\u001b[1;33m\u001b[0m\u001b[0m\n\u001b[0m\u001b[0;32m      2\u001b[0m \u001b[0mmp\u001b[0m\u001b[1;33m.\u001b[0m\u001b[0mto_excel\u001b[0m\u001b[1;33m(\u001b[0m\u001b[0mdir_name\u001b[0m\u001b[1;33m+\u001b[0m\u001b[1;34m\"/main_sets.xlsx\"\u001b[0m\u001b[1;33m)\u001b[0m\u001b[1;33m\u001b[0m\u001b[0m\n\u001b[0;32m      3\u001b[0m \u001b[0mdf\u001b[0m\u001b[1;33m.\u001b[0m\u001b[0mto_excel\u001b[0m\u001b[1;33m(\u001b[0m\u001b[0mdir_name\u001b[0m\u001b[1;33m+\u001b[0m\u001b[1;34m\"/all_sets.xlsx\"\u001b[0m\u001b[1;33m)\u001b[0m\u001b[1;33m\u001b[0m\u001b[0m\n",
      "\u001b[1;31mNameError\u001b[0m: name 'mp' is not defined"
     ]
    }
   ],
   "source": [
    "mp.sort_values(by=\"max_N_pairs\", ascending=False, inplace=True)\n",
    "mp.to_excel(dir_name+\"/main_sets.xlsx\")\n",
    "df.to_excel(dir_name+\"/all_sets.xlsx\")\n"
   ]
  },
  {
   "cell_type": "code",
   "execution_count": 11,
   "metadata": {
    "collapsed": false
   },
   "outputs": [
    {
     "ename": "NameError",
     "evalue": "name 'df' is not defined",
     "output_type": "error",
     "traceback": [
      "\u001b[1;31m\u001b[0m",
      "\u001b[1;31mNameError\u001b[0mTraceback (most recent call last)",
      "\u001b[1;32m<ipython-input-11-e4be4a77f31a>\u001b[0m in \u001b[0;36m<module>\u001b[1;34m()\u001b[0m\n\u001b[0;32m      1\u001b[0m \u001b[1;31m#analyse set files\u001b[0m\u001b[1;33m\u001b[0m\u001b[1;33m\u001b[0m\u001b[0m\n\u001b[1;32m----> 2\u001b[1;33m \u001b[0mdf_to_plot\u001b[0m \u001b[1;33m=\u001b[0m \u001b[0mdf\u001b[0m\u001b[1;33m.\u001b[0m\u001b[0mquery\u001b[0m\u001b[1;33m(\u001b[0m\u001b[1;34m\"N_pairs >= 8\"\u001b[0m\u001b[1;33m)\u001b[0m\u001b[1;33m\u001b[0m\u001b[0m\n\u001b[0m\u001b[0;32m      3\u001b[0m \u001b[0mset_files\u001b[0m \u001b[1;33m=\u001b[0m \u001b[0mlist\u001b[0m\u001b[1;33m(\u001b[0m\u001b[0mdf_to_plot\u001b[0m\u001b[1;33m[\u001b[0m\u001b[1;34m\"!full_name\"\u001b[0m\u001b[1;33m]\u001b[0m\u001b[1;33m)\u001b[0m\u001b[1;33m\u001b[0m\u001b[0m\n\u001b[0;32m      4\u001b[0m \u001b[1;33m\u001b[0m\u001b[0m\n\u001b[0;32m      5\u001b[0m \u001b[0mdirs\u001b[0m \u001b[1;33m=\u001b[0m \u001b[1;33m[\u001b[0m\u001b[0mos\u001b[0m\u001b[1;33m.\u001b[0m\u001b[0mpath\u001b[0m\u001b[1;33m.\u001b[0m\u001b[0mdirname\u001b[0m\u001b[1;33m(\u001b[0m\u001b[0msf\u001b[0m\u001b[1;33m)\u001b[0m \u001b[1;32mfor\u001b[0m \u001b[0msf\u001b[0m \u001b[1;32min\u001b[0m \u001b[0mset_files\u001b[0m\u001b[1;33m]\u001b[0m\u001b[1;33m\u001b[0m\u001b[0m\n",
      "\u001b[1;31mNameError\u001b[0m: name 'df' is not defined"
     ]
    }
   ],
   "source": [
    "#analyse set files\n",
    "df_to_plot = df.query(\"N_pairs >= 8\")\n",
    "set_files = list(df_to_plot[\"!full_name\"])\n",
    "\n",
    "dirs = [os.path.dirname(sf) for sf in set_files]\n",
    "dirs = list(set(dirs))\n",
    "\n",
    "all_set_files = []\n",
    "for d in dirs:\n",
    "    sf = glob(d+\"/*.set\")\n",
    "    all_set_files += sf\n",
    "all_set_files;"
   ]
  },
  {
   "cell_type": "code",
   "execution_count": 12,
   "metadata": {
    "collapsed": false
   },
   "outputs": [
    {
     "ename": "NameError",
     "evalue": "name 'all_set_files' is not defined",
     "output_type": "error",
     "traceback": [
      "\u001b[1;31m\u001b[0m",
      "\u001b[1;31mNameError\u001b[0mTraceback (most recent call last)",
      "\u001b[1;32m<ipython-input-12-2c75ecb42ed5>\u001b[0m in \u001b[0;36m<module>\u001b[1;34m()\u001b[0m\n\u001b[1;32m----> 1\u001b[1;33m \u001b[0mget_ipython\u001b[0m\u001b[1;33m(\u001b[0m\u001b[1;33m)\u001b[0m\u001b[1;33m.\u001b[0m\u001b[0mrun_cell_magic\u001b[0m\u001b[1;33m(\u001b[0m\u001b[1;34mu'time'\u001b[0m\u001b[1;33m,\u001b[0m \u001b[1;34mu''\u001b[0m\u001b[1;33m,\u001b[0m \u001b[1;34mu'comp = analyse_sets(all_set_files, filtered_fasta, alignment=al, scorer_exe=None,  \\n                    input_score_file=score_file, invert=True,\\n                    normalization_min=None, normalization_max=None,  \\n                    username=\"ajasja\", password=\"agrftAGADIR\", serial=False)\\n\\n\\n                         \\nfor r in comp:\\n    print(r)'\u001b[0m\u001b[1;33m)\u001b[0m\u001b[1;33m\u001b[0m\u001b[0m\n\u001b[0m",
      "\u001b[1;32mc:\\bin\\python\\anaconda\\lib\\site-packages\\IPython\\core\\interactiveshell.pyc\u001b[0m in \u001b[0;36mrun_cell_magic\u001b[1;34m(self, magic_name, line, cell)\u001b[0m\n\u001b[0;32m   2115\u001b[0m             \u001b[0mmagic_arg_s\u001b[0m \u001b[1;33m=\u001b[0m \u001b[0mself\u001b[0m\u001b[1;33m.\u001b[0m\u001b[0mvar_expand\u001b[0m\u001b[1;33m(\u001b[0m\u001b[0mline\u001b[0m\u001b[1;33m,\u001b[0m \u001b[0mstack_depth\u001b[0m\u001b[1;33m)\u001b[0m\u001b[1;33m\u001b[0m\u001b[0m\n\u001b[0;32m   2116\u001b[0m             \u001b[1;32mwith\u001b[0m \u001b[0mself\u001b[0m\u001b[1;33m.\u001b[0m\u001b[0mbuiltin_trap\u001b[0m\u001b[1;33m:\u001b[0m\u001b[1;33m\u001b[0m\u001b[0m\n\u001b[1;32m-> 2117\u001b[1;33m                 \u001b[0mresult\u001b[0m \u001b[1;33m=\u001b[0m \u001b[0mfn\u001b[0m\u001b[1;33m(\u001b[0m\u001b[0mmagic_arg_s\u001b[0m\u001b[1;33m,\u001b[0m \u001b[0mcell\u001b[0m\u001b[1;33m)\u001b[0m\u001b[1;33m\u001b[0m\u001b[0m\n\u001b[0m\u001b[0;32m   2118\u001b[0m             \u001b[1;32mreturn\u001b[0m \u001b[0mresult\u001b[0m\u001b[1;33m\u001b[0m\u001b[0m\n\u001b[0;32m   2119\u001b[0m \u001b[1;33m\u001b[0m\u001b[0m\n",
      "\u001b[1;32m<decorator-gen-61>\u001b[0m in \u001b[0;36mtime\u001b[1;34m(self, line, cell, local_ns)\u001b[0m\n",
      "\u001b[1;32mc:\\bin\\python\\anaconda\\lib\\site-packages\\IPython\\core\\magic.pyc\u001b[0m in \u001b[0;36m<lambda>\u001b[1;34m(f, *a, **k)\u001b[0m\n\u001b[0;32m    186\u001b[0m     \u001b[1;31m# but it's overkill for just that one bit of state.\u001b[0m\u001b[1;33m\u001b[0m\u001b[1;33m\u001b[0m\u001b[0m\n\u001b[0;32m    187\u001b[0m     \u001b[1;32mdef\u001b[0m \u001b[0mmagic_deco\u001b[0m\u001b[1;33m(\u001b[0m\u001b[0marg\u001b[0m\u001b[1;33m)\u001b[0m\u001b[1;33m:\u001b[0m\u001b[1;33m\u001b[0m\u001b[0m\n\u001b[1;32m--> 188\u001b[1;33m         \u001b[0mcall\u001b[0m \u001b[1;33m=\u001b[0m \u001b[1;32mlambda\u001b[0m \u001b[0mf\u001b[0m\u001b[1;33m,\u001b[0m \u001b[1;33m*\u001b[0m\u001b[0ma\u001b[0m\u001b[1;33m,\u001b[0m \u001b[1;33m**\u001b[0m\u001b[0mk\u001b[0m\u001b[1;33m:\u001b[0m \u001b[0mf\u001b[0m\u001b[1;33m(\u001b[0m\u001b[1;33m*\u001b[0m\u001b[0ma\u001b[0m\u001b[1;33m,\u001b[0m \u001b[1;33m**\u001b[0m\u001b[0mk\u001b[0m\u001b[1;33m)\u001b[0m\u001b[1;33m\u001b[0m\u001b[0m\n\u001b[0m\u001b[0;32m    189\u001b[0m \u001b[1;33m\u001b[0m\u001b[0m\n\u001b[0;32m    190\u001b[0m         \u001b[1;32mif\u001b[0m \u001b[0mcallable\u001b[0m\u001b[1;33m(\u001b[0m\u001b[0marg\u001b[0m\u001b[1;33m)\u001b[0m\u001b[1;33m:\u001b[0m\u001b[1;33m\u001b[0m\u001b[0m\n",
      "\u001b[1;32mc:\\bin\\python\\anaconda\\lib\\site-packages\\IPython\\core\\magics\\execution.pyc\u001b[0m in \u001b[0;36mtime\u001b[1;34m(self, line, cell, local_ns)\u001b[0m\n\u001b[0;32m   1183\u001b[0m         \u001b[1;32melse\u001b[0m\u001b[1;33m:\u001b[0m\u001b[1;33m\u001b[0m\u001b[0m\n\u001b[0;32m   1184\u001b[0m             \u001b[0mst\u001b[0m \u001b[1;33m=\u001b[0m \u001b[0mclock2\u001b[0m\u001b[1;33m(\u001b[0m\u001b[1;33m)\u001b[0m\u001b[1;33m\u001b[0m\u001b[0m\n\u001b[1;32m-> 1185\u001b[1;33m             \u001b[1;32mexec\u001b[0m\u001b[1;33m(\u001b[0m\u001b[0mcode\u001b[0m\u001b[1;33m,\u001b[0m \u001b[0mglob\u001b[0m\u001b[1;33m,\u001b[0m \u001b[0mlocal_ns\u001b[0m\u001b[1;33m)\u001b[0m\u001b[1;33m\u001b[0m\u001b[0m\n\u001b[0m\u001b[0;32m   1186\u001b[0m             \u001b[0mend\u001b[0m \u001b[1;33m=\u001b[0m \u001b[0mclock2\u001b[0m\u001b[1;33m(\u001b[0m\u001b[1;33m)\u001b[0m\u001b[1;33m\u001b[0m\u001b[0m\n\u001b[0;32m   1187\u001b[0m             \u001b[0mout\u001b[0m \u001b[1;33m=\u001b[0m \u001b[0mNone\u001b[0m\u001b[1;33m\u001b[0m\u001b[0m\n",
      "\u001b[1;32m<timed exec>\u001b[0m in \u001b[0;36m<module>\u001b[1;34m()\u001b[0m\n",
      "\u001b[1;31mNameError\u001b[0m: name 'all_set_files' is not defined"
     ]
    }
   ],
   "source": [
    "%%time\n",
    "comp = analyse_sets(all_set_files, filtered_fasta, alignment=al, scorer_exe=None,  \n",
    "                    input_score_file=score_file, invert=True,\n",
    "                    normalization_min=None, normalization_max=None,  \n",
    "                    username=\"ajasja\", password=\"agrftAGADIR\", serial=False)\n",
    "\n",
    "\n",
    "                         \n",
    "for r in comp:\n",
    "    print(r)"
   ]
  },
  {
   "cell_type": "code",
   "execution_count": 13,
   "metadata": {},
   "outputs": [],
   "source": []
  }
 ],
 "metadata": {
  "anaconda-cloud": {},
  "hide_input": false,
  "kernelspec": {
   "display_name": "Python [default]",
   "language": "python",
   "name": "python2"
  },
  "language_info": {
   "codemirror_mode": {
    "name": "ipython",
    "version": 2
   },
   "file_extension": ".py",
   "mimetype": "text/x-python",
   "name": "python",
   "nbconvert_exporter": "python",
   "pygments_lexer": "ipython2",
   "version": "2.7.11"
  }
 },
 "nbformat": 4,
 "nbformat_minor": 2
}
