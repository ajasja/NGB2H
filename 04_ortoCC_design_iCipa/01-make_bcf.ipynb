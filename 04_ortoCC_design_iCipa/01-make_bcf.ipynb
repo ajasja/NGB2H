{
 "cells": [
  {
   "cell_type": "code",
   "execution_count": 1,
   "metadata": {
    "collapsed": false
   },
   "outputs": [
    {
     "name": "stdout",
     "output_type": "stream",
     "text": [
      "D:\\data\\ortoCC\\design-with-alignments\\4heptade-7\n"
     ]
    }
   ],
   "source": [
    "#takes \n",
    "from __future__ import division, absolute_import\n",
    "%load_ext autoreload\n",
    "%autoreload 2\n",
    "import os\n",
    "os.chdir(r\"D:\\data\\ortoCC\\design-with-alignments\\4heptade-7\")\n",
    "print(os.getcwd())\n",
    "import hepran\n",
    "import hepran.bzipscore as bz\n",
    "from hepran.bzipscore import *\n",
    "import hepran.utils as u\n",
    "import hepran.registers as r\n",
    "import numpy as np\n",
    "CCO = os.environ.get(\"CCO\",r\"C:\\Projekti_KI\\ortoCC\\CoiledCoilOrtho\")\n",
    "from glob import glob\n",
    "import pandas as pd\n",
    "from StringIO import StringIO"
   ]
  },
  {
   "cell_type": "code",
   "execution_count": 2,
   "metadata": {
    "collapsed": true
   },
   "outputs": [],
   "source": [
    "u.ensure_dir(\"!OUT_bcf\")\n",
    "sets = glob(\"!OUT/*.set\")     \n",
    "bcf = u.load_fasta(\"bcf.fasta\")          \n",
    "fasta = u.load_fasta(\"full4heptad.fasta\")"
   ]
  },
  {
   "cell_type": "code",
   "execution_count": 3,
   "metadata": {
    "collapsed": false
   },
   "outputs": [],
   "source": [
    "\n",
    "def get_out_file(set_name, bcf_name, out_dir=\"!OUT_bcf\"):\n",
    "    name = os.path.basename(set_name)\n",
    "    name = os.path.join(out_dir, name)\n",
    "    name = u.replace_extension(name,bcf_name+'.set')\n",
    "    #print(name)\n",
    "    return name\n",
    "    \n",
    "get_out_file('!OUT\\\\4h-1or2N-not_first_only_B07_bc-8.60_nc-7.60-hetero.01.set','bN')== \\\n",
    "             '!OUT_bcf\\\\4h-1or2N-not_first_only_B07_bc-8.60_nc-7.60-hetero.01.bN.set'\n",
    "    \n",
    "    \n",
    "\n",
    "\n",
    "def convert_set(set_name, bcf_name, out_dir=\"!OUT_bcf\", bcf_dict=bcf, fasta=fasta):\n",
    "    \"\"\"Give backgrounds to a set\"\"\"\n",
    "    ofile = get_out_file(set_name, bcf_name, out_dir)\n",
    "    a_set = u.load_set(set_name)\n",
    "    a_IDs = bz.get_ids_from_pairs(a_set)\n",
    "    \n",
    "    #local fasta file has priority\n",
    "    if os.path.isfile(u.replace_extension(set_name, 'fasta')):\n",
    "        ffasta = u.load_fasta(u.replace_extension(set_name, 'fasta'))\n",
    "    else:        \n",
    "        ffasta = bz.filter_fasta(fasta, a_IDs)\n",
    "\n",
    "    rfasta = u.rename_fasta(ffasta, bcf_name)\n",
    "    rfasta = r.merge_background_fasta(bcf[bcf_name], rfasta, inplace=True, strip_whitespace=True)\n",
    "    r_set = u.rename_set(a_set, bcf_name)\n",
    "    \n",
    "    u.ensure_dir(out_dir)\n",
    "    u.save_set(r_set, ofile)\n",
    "    u.save_dict_to_fasta(rfasta, u.replace_extension(ofile, '.fasta'))        \n",
    "    \n",
    "\n",
    "\n",
    "    \n",
    "#convert_set(sets[0], \"bN\")    "
   ]
  },
  {
   "cell_type": "code",
   "execution_count": 21,
   "metadata": {
    "collapsed": false
   },
   "outputs": [],
   "source": [
    "#write a json file of all sets\n",
    "bcf_dict = u.load_json(\"!OUT/BCF.json\")\n",
    "default_bcf = bcf_dict['__default__']"
   ]
  },
  {
   "cell_type": "code",
   "execution_count": 24,
   "metadata": {
    "collapsed": false
   },
   "outputs": [
    {
     "name": "stdout",
     "output_type": "stream",
     "text": [
      "('!OUT\\\\4h-1or2N-not_first_only-same_GE_B07_bc-7.95_nc-6.95-hetero.00.set', u'bN')\n",
      "('!OUT\\\\4h-1or2N-not_first_only-same_GE_B07_bc-7.95_nc-6.95-hetero.00.set', u'bH')\n",
      "('!OUT\\\\4h-1or2N-not_first_only-same_GE_B07_bc-7.95_nc-6.95-hetero.00.set', u'bA')\n",
      "('!OUT\\\\4h-1or2N-not_first_only-same_GE_B07_bc-7.95_nc-6.95-hetero.03.set', u'bN')\n",
      "('!OUT\\\\4h-1or2N-not_first_only-same_GE_B07_bc-7.95_nc-6.95-hetero.03.set', u'bH')\n",
      "('!OUT\\\\4h-1or2N-not_first_only-same_GE_B07_bc-7.95_nc-6.95-hetero.03.set', u'bA')\n",
      "('!OUT\\\\4h-1or2N-not_first_only-same_GE_B07_bc-8.40_nc-7.40-hetero.01.set', u'bN')\n",
      "('!OUT\\\\4h-1or2N-not_first_only-same_GE_B07_bc-8.40_nc-7.40-hetero.01.set', u'bH')\n",
      "('!OUT\\\\4h-1or2N-not_first_only-same_GE_B07_bc-8.40_nc-7.40-hetero.01.set', u'bA')\n",
      "('!OUT\\\\4h-1or2N-not_first_only-same_GE_B07_bc-8.95_nc-7.95-hetero.00.set', u'bN')\n",
      "('!OUT\\\\4h-1or2N-not_first_only-same_GE_B07_bc-8.95_nc-7.95-hetero.00.set', u'bH')\n",
      "('!OUT\\\\4h-1or2N-not_first_only-same_GE_B07_bc-8.95_nc-7.95-hetero.00.set', u'bA')\n",
      "('!OUT\\\\4h-1or2N-not_first_only_B07_bc-8.05_nc-7.05-all.00.set', u'bN')\n",
      "('!OUT\\\\4h-1or2N-not_first_only_B07_bc-8.05_nc-7.05-all.00.set', u'bH')\n",
      "('!OUT\\\\4h-1or2N-not_first_only_B07_bc-8.05_nc-7.05-all.00.set', u'bA')\n",
      "('!OUT\\\\4h-1or2N-not_first_only_B07_bc-8.05_nc-7.05-hetero-ex.01.00.set', u'bN')\n",
      "('!OUT\\\\4h-1or2N-not_first_only_B07_bc-8.05_nc-7.05-hetero-ex.01.00.set', u'bH')\n",
      "('!OUT\\\\4h-1or2N-not_first_only_B07_bc-8.05_nc-7.05-hetero-ex.01.00.set', u'bA')\n",
      "('!OUT\\\\4h-1or2N-not_first_only_B07_bc-8.05_nc-7.05-hetero.01.set', u'bN')\n",
      "('!OUT\\\\4h-1or2N-not_first_only_B07_bc-8.05_nc-7.05-hetero.01.set', u'bH')\n",
      "('!OUT\\\\4h-1or2N-not_first_only_B07_bc-8.05_nc-7.05-hetero.01.set', u'bA')\n",
      "('!OUT\\\\4h-1or2N-not_first_only_B07_bc-8.60_nc-7.60-all.00.set', u'bN')\n",
      "('!OUT\\\\4h-1or2N-not_first_only_B07_bc-8.60_nc-7.60-all.00.set', u'bH')\n",
      "('!OUT\\\\4h-1or2N-not_first_only_B07_bc-8.60_nc-7.60-all.00.set', u'bA')\n",
      "('!OUT\\\\4h-1or2N-not_first_only_B07_bc-8.60_nc-7.60-hetero-ex.01.00.set', u'bN')\n",
      "('!OUT\\\\4h-1or2N-not_first_only_B07_bc-8.60_nc-7.60-hetero-ex.01.00.set', u'bH')\n",
      "('!OUT\\\\4h-1or2N-not_first_only_B07_bc-8.60_nc-7.60-hetero-ex.01.00.set', u'bA')\n",
      "('!OUT\\\\4h-1or2N-not_first_only_B07_bc-8.60_nc-7.60-hetero-ex.04.00.set', u'bN')\n",
      "('!OUT\\\\4h-1or2N-not_first_only_B07_bc-8.60_nc-7.60-hetero-ex.04.00.set', u'bH')\n",
      "('!OUT\\\\4h-1or2N-not_first_only_B07_bc-8.60_nc-7.60-hetero-ex.04.00.set', u'bA')\n",
      "('!OUT\\\\4h-1or2N-not_first_only_B07_bc-8.60_nc-7.60-hetero.01.set', u'bN')\n",
      "('!OUT\\\\4h-1or2N-not_first_only_B07_bc-8.60_nc-7.60-hetero.01.set', u'bH')\n",
      "('!OUT\\\\4h-1or2N-not_first_only_B07_bc-8.60_nc-7.60-hetero.01.set', u'bA')\n",
      "('!OUT\\\\4h-1or2N-not_first_only_B07_bc-8.60_nc-7.60-hetero.04.set', u'bN')\n",
      "('!OUT\\\\4h-1or2N-not_first_only_B07_bc-8.60_nc-7.60-hetero.04.set', u'bH')\n",
      "('!OUT\\\\4h-1or2N-not_first_only_B07_bc-8.60_nc-7.60-hetero.04.set', u'bA')\n",
      "('!OUT\\\\4h-1or2N-not_first_only_B07_bc-9.00_nc-8.00-all.00.set', u'bN')\n",
      "('!OUT\\\\4h-1or2N-not_first_only_B07_bc-9.00_nc-8.00-all.00.set', u'bH')\n",
      "('!OUT\\\\4h-1or2N-not_first_only_B07_bc-9.00_nc-8.00-all.00.set', u'bA')\n",
      "('!OUT\\\\4h-1or2N-not_first_only_B07_bc-9.00_nc-8.00-hetero-ex.04.00.set', u'bN')\n",
      "('!OUT\\\\4h-1or2N-not_first_only_B07_bc-9.00_nc-8.00-hetero-ex.04.00.set', u'bH')\n",
      "('!OUT\\\\4h-1or2N-not_first_only_B07_bc-9.00_nc-8.00-hetero-ex.04.00.set', u'bA')\n",
      "('!OUT\\\\4h-1or2N-not_first_only_B07_bc-9.00_nc-8.00-hetero.01.set', u'bN')\n",
      "('!OUT\\\\4h-1or2N-not_first_only_B07_bc-9.00_nc-8.00-hetero.01.set', u'bH')\n",
      "('!OUT\\\\4h-1or2N-not_first_only_B07_bc-9.00_nc-8.00-hetero.01.set', u'bA')\n",
      "('!OUT\\\\mason.set', u'bN')\n",
      "('!OUT\\\\mason.set', u'bH')\n",
      "('!OUT\\\\mason.set', u'bA')\n",
      "('!OUT\\\\mason.set', u'bS')\n",
      "('!OUT\\\\mason.set', u'bP')\n",
      "('!OUT\\\\PNIC.set', u'bN')\n",
      "('!OUT\\\\PNIC.set', u'bH')\n",
      "('!OUT\\\\PNIC.set', u'bA')\n",
      "('!OUT\\\\PNIC.set', u'bS')\n",
      "('!OUT\\\\PNIC.set', u'bP')\n"
     ]
    }
   ],
   "source": [
    "for _set in sets:\n",
    "    set_name = u.replace_extension(os.path.basename(_set),'')\n",
    "    bcf_sites = bcf_dict.get(set_name, default_bcf)\n",
    "    for _bcf_name in  bcf_sites.split():\n",
    "        print(_set, _bcf_name)\n",
    "        convert_set(_set, _bcf_name)\n",
    "        "
   ]
  },
  {
   "cell_type": "code",
   "execution_count": 4,
   "metadata": {
    "collapsed": false
   },
   "outputs": [
    {
     "data": {
      "text/plain": [
       "['!OUT_bcf\\\\4h-1or2N-not_first_only-same_GE_B07_bc-7.95_nc-6.95-hetero.00.bA.set',\n",
       " '!OUT_bcf\\\\4h-1or2N-not_first_only-same_GE_B07_bc-7.95_nc-6.95-hetero.00.bH.set',\n",
       " '!OUT_bcf\\\\4h-1or2N-not_first_only-same_GE_B07_bc-7.95_nc-6.95-hetero.00.bN.set',\n",
       " '!OUT_bcf\\\\4h-1or2N-not_first_only-same_GE_B07_bc-7.95_nc-6.95-hetero.03.bA.set',\n",
       " '!OUT_bcf\\\\4h-1or2N-not_first_only-same_GE_B07_bc-7.95_nc-6.95-hetero.03.bH.set',\n",
       " '!OUT_bcf\\\\4h-1or2N-not_first_only-same_GE_B07_bc-7.95_nc-6.95-hetero.03.bN.set',\n",
       " '!OUT_bcf\\\\4h-1or2N-not_first_only-same_GE_B07_bc-8.40_nc-7.40-hetero.01.bA.set',\n",
       " '!OUT_bcf\\\\4h-1or2N-not_first_only-same_GE_B07_bc-8.40_nc-7.40-hetero.01.bH.set',\n",
       " '!OUT_bcf\\\\4h-1or2N-not_first_only-same_GE_B07_bc-8.40_nc-7.40-hetero.01.bN.set',\n",
       " '!OUT_bcf\\\\4h-1or2N-not_first_only-same_GE_B07_bc-8.95_nc-7.95-hetero.00.bA.set',\n",
       " '!OUT_bcf\\\\4h-1or2N-not_first_only-same_GE_B07_bc-8.95_nc-7.95-hetero.00.bH.set',\n",
       " '!OUT_bcf\\\\4h-1or2N-not_first_only-same_GE_B07_bc-8.95_nc-7.95-hetero.00.bN.set',\n",
       " '!OUT_bcf\\\\4h-1or2N-not_first_only_B07_bc-8.05_nc-7.05-all.00.bA.set',\n",
       " '!OUT_bcf\\\\4h-1or2N-not_first_only_B07_bc-8.05_nc-7.05-all.00.bH.set',\n",
       " '!OUT_bcf\\\\4h-1or2N-not_first_only_B07_bc-8.05_nc-7.05-all.00.bN.set',\n",
       " '!OUT_bcf\\\\4h-1or2N-not_first_only_B07_bc-8.05_nc-7.05-hetero-ex.01.00.bA.set',\n",
       " '!OUT_bcf\\\\4h-1or2N-not_first_only_B07_bc-8.05_nc-7.05-hetero-ex.01.00.bH.set',\n",
       " '!OUT_bcf\\\\4h-1or2N-not_first_only_B07_bc-8.05_nc-7.05-hetero-ex.01.00.bN.set',\n",
       " '!OUT_bcf\\\\4h-1or2N-not_first_only_B07_bc-8.05_nc-7.05-hetero.01.bA.set',\n",
       " '!OUT_bcf\\\\4h-1or2N-not_first_only_B07_bc-8.05_nc-7.05-hetero.01.bH.set',\n",
       " '!OUT_bcf\\\\4h-1or2N-not_first_only_B07_bc-8.05_nc-7.05-hetero.01.bN.set',\n",
       " '!OUT_bcf\\\\4h-1or2N-not_first_only_B07_bc-8.60_nc-7.60-all.00.bA.set',\n",
       " '!OUT_bcf\\\\4h-1or2N-not_first_only_B07_bc-8.60_nc-7.60-all.00.bH.set',\n",
       " '!OUT_bcf\\\\4h-1or2N-not_first_only_B07_bc-8.60_nc-7.60-all.00.bN.set',\n",
       " '!OUT_bcf\\\\4h-1or2N-not_first_only_B07_bc-8.60_nc-7.60-hetero-ex.01.00.bA.set',\n",
       " '!OUT_bcf\\\\4h-1or2N-not_first_only_B07_bc-8.60_nc-7.60-hetero-ex.01.00.bH.set',\n",
       " '!OUT_bcf\\\\4h-1or2N-not_first_only_B07_bc-8.60_nc-7.60-hetero-ex.01.00.bN.set',\n",
       " '!OUT_bcf\\\\4h-1or2N-not_first_only_B07_bc-8.60_nc-7.60-hetero-ex.04.00.bA.set',\n",
       " '!OUT_bcf\\\\4h-1or2N-not_first_only_B07_bc-8.60_nc-7.60-hetero-ex.04.00.bH.set',\n",
       " '!OUT_bcf\\\\4h-1or2N-not_first_only_B07_bc-8.60_nc-7.60-hetero-ex.04.00.bN.set',\n",
       " '!OUT_bcf\\\\4h-1or2N-not_first_only_B07_bc-8.60_nc-7.60-hetero.01.bA.set',\n",
       " '!OUT_bcf\\\\4h-1or2N-not_first_only_B07_bc-8.60_nc-7.60-hetero.01.bH.set',\n",
       " '!OUT_bcf\\\\4h-1or2N-not_first_only_B07_bc-8.60_nc-7.60-hetero.01.bN.set',\n",
       " '!OUT_bcf\\\\4h-1or2N-not_first_only_B07_bc-8.60_nc-7.60-hetero.04.bA.set',\n",
       " '!OUT_bcf\\\\4h-1or2N-not_first_only_B07_bc-8.60_nc-7.60-hetero.04.bH.set',\n",
       " '!OUT_bcf\\\\4h-1or2N-not_first_only_B07_bc-8.60_nc-7.60-hetero.04.bN.set',\n",
       " '!OUT_bcf\\\\4h-1or2N-not_first_only_B07_bc-9.00_nc-8.00-all.00.bA.set',\n",
       " '!OUT_bcf\\\\4h-1or2N-not_first_only_B07_bc-9.00_nc-8.00-all.00.bH.set',\n",
       " '!OUT_bcf\\\\4h-1or2N-not_first_only_B07_bc-9.00_nc-8.00-all.00.bN.set',\n",
       " '!OUT_bcf\\\\4h-1or2N-not_first_only_B07_bc-9.00_nc-8.00-hetero-ex.04.00.bA.set',\n",
       " '!OUT_bcf\\\\4h-1or2N-not_first_only_B07_bc-9.00_nc-8.00-hetero-ex.04.00.bH.set',\n",
       " '!OUT_bcf\\\\4h-1or2N-not_first_only_B07_bc-9.00_nc-8.00-hetero-ex.04.00.bN.set',\n",
       " '!OUT_bcf\\\\4h-1or2N-not_first_only_B07_bc-9.00_nc-8.00-hetero.01.bA.set',\n",
       " '!OUT_bcf\\\\4h-1or2N-not_first_only_B07_bc-9.00_nc-8.00-hetero.01.bH.set',\n",
       " '!OUT_bcf\\\\4h-1or2N-not_first_only_B07_bc-9.00_nc-8.00-hetero.01.bN.set',\n",
       " '!OUT_bcf\\\\mason.bA.set',\n",
       " '!OUT_bcf\\\\mason.bH.set',\n",
       " '!OUT_bcf\\\\mason.bN.set',\n",
       " '!OUT_bcf\\\\mason.bP.set',\n",
       " '!OUT_bcf\\\\mason.bS.set',\n",
       " '!OUT_bcf\\\\PNIC.bA.set',\n",
       " '!OUT_bcf\\\\PNIC.bH.set',\n",
       " '!OUT_bcf\\\\PNIC.bN.set',\n",
       " '!OUT_bcf\\\\PNIC.bP.set',\n",
       " '!OUT_bcf\\\\PNIC.bS.set',\n",
       " '!OUT_additional\\\\mason.set',\n",
       " '!OUT_additional\\\\PNIC_A.set',\n",
       " '!OUT_additional\\\\PNIC_bH1.set',\n",
       " '!OUT_additional\\\\PNIC_bHq.set',\n",
       " '!OUT_additional\\\\PNIC_mS.set',\n",
       " '!OUT_additional\\\\PNIC_mSN.set',\n",
       " '!OUT_additional\\\\PNIC_SH.set',\n",
       " '!OUT_additional\\\\PNIC_SHb.set']"
      ]
     },
     "execution_count": 4,
     "metadata": {},
     "output_type": "execute_result"
    }
   ],
   "source": [
    "bcf_sets = glob(\"!OUT_bcf/*.set\")  \n",
    "bcf_sets += glob(\"!OUT_additional/*.set\")  \n",
    "bcf_sets"
   ]
  },
  {
   "cell_type": "code",
   "execution_count": 8,
   "metadata": {
    "collapsed": true
   },
   "outputs": [],
   "source": [
    "#parallel requires \n",
    "#!ipcluster start"
   ]
  },
  {
   "cell_type": "code",
   "execution_count": 5,
   "metadata": {
    "collapsed": false
   },
   "outputs": [
    {
     "name": "stdout",
     "output_type": "stream",
     "text": [
      "!OUT_bcf\\4h-1or2N-not_first_only-same_GE_B07_bc-7.95_nc-6.95-hetero.00.bA.set\n",
      "!OUT_bcf\\4h-1or2N-not_first_only-same_GE_B07_bc-7.95_nc-6.95-hetero.00.bH.set\n",
      "!OUT_bcf\\4h-1or2N-not_first_only-same_GE_B07_bc-7.95_nc-6.95-hetero.00.bN.set\n",
      "!OUT_bcf\\4h-1or2N-not_first_only-same_GE_B07_bc-7.95_nc-6.95-hetero.03.bA.set\n",
      "!OUT_bcf\\4h-1or2N-not_first_only-same_GE_B07_bc-7.95_nc-6.95-hetero.03.bH.set\n",
      "!OUT_bcf\\4h-1or2N-not_first_only-same_GE_B07_bc-7.95_nc-6.95-hetero.03.bN.set\n",
      "!OUT_bcf\\4h-1or2N-not_first_only-same_GE_B07_bc-8.40_nc-7.40-hetero.01.bA.set\n",
      "!OUT_bcf\\4h-1or2N-not_first_only-same_GE_B07_bc-8.40_nc-7.40-hetero.01.bH.set\n",
      "!OUT_bcf\\4h-1or2N-not_first_only-same_GE_B07_bc-8.40_nc-7.40-hetero.01.bN.set\n",
      "!OUT_bcf\\4h-1or2N-not_first_only-same_GE_B07_bc-8.95_nc-7.95-hetero.00.bA.set\n",
      "!OUT_bcf\\4h-1or2N-not_first_only-same_GE_B07_bc-8.95_nc-7.95-hetero.00.bH.set\n",
      "!OUT_bcf\\4h-1or2N-not_first_only-same_GE_B07_bc-8.95_nc-7.95-hetero.00.bN.set\n",
      "!OUT_bcf\\4h-1or2N-not_first_only_B07_bc-8.05_nc-7.05-all.00.bA.set\n",
      "!OUT_bcf\\4h-1or2N-not_first_only_B07_bc-8.05_nc-7.05-all.00.bH.set\n",
      "!OUT_bcf\\4h-1or2N-not_first_only_B07_bc-8.05_nc-7.05-all.00.bN.set\n",
      "!OUT_bcf\\4h-1or2N-not_first_only_B07_bc-8.05_nc-7.05-hetero-ex.01.00.bA.set\n",
      "!OUT_bcf\\4h-1or2N-not_first_only_B07_bc-8.05_nc-7.05-hetero-ex.01.00.bH.set\n",
      "!OUT_bcf\\4h-1or2N-not_first_only_B07_bc-8.05_nc-7.05-hetero-ex.01.00.bN.set\n",
      "!OUT_bcf\\4h-1or2N-not_first_only_B07_bc-8.05_nc-7.05-hetero.01.bA.set\n",
      "!OUT_bcf\\4h-1or2N-not_first_only_B07_bc-8.05_nc-7.05-hetero.01.bH.set\n",
      "!OUT_bcf\\4h-1or2N-not_first_only_B07_bc-8.05_nc-7.05-hetero.01.bN.set\n",
      "!OUT_bcf\\4h-1or2N-not_first_only_B07_bc-8.60_nc-7.60-all.00.bA.set\n",
      "!OUT_bcf\\4h-1or2N-not_first_only_B07_bc-8.60_nc-7.60-all.00.bH.set\n",
      "!OUT_bcf\\4h-1or2N-not_first_only_B07_bc-8.60_nc-7.60-all.00.bN.set\n",
      "!OUT_bcf\\4h-1or2N-not_first_only_B07_bc-8.60_nc-7.60-hetero-ex.01.00.bA.set\n",
      "!OUT_bcf\\4h-1or2N-not_first_only_B07_bc-8.60_nc-7.60-hetero-ex.01.00.bH.set\n",
      "!OUT_bcf\\4h-1or2N-not_first_only_B07_bc-8.60_nc-7.60-hetero-ex.01.00.bN.set\n",
      "!OUT_bcf\\4h-1or2N-not_first_only_B07_bc-8.60_nc-7.60-hetero-ex.04.00.bA.set\n",
      "!OUT_bcf\\4h-1or2N-not_first_only_B07_bc-8.60_nc-7.60-hetero-ex.04.00.bH.set\n",
      "!OUT_bcf\\4h-1or2N-not_first_only_B07_bc-8.60_nc-7.60-hetero-ex.04.00.bN.set\n",
      "!OUT_bcf\\4h-1or2N-not_first_only_B07_bc-8.60_nc-7.60-hetero.01.bA.set\n",
      "!OUT_bcf\\4h-1or2N-not_first_only_B07_bc-8.60_nc-7.60-hetero.01.bH.set\n",
      "!OUT_bcf\\4h-1or2N-not_first_only_B07_bc-8.60_nc-7.60-hetero.01.bN.set\n",
      "!OUT_bcf\\4h-1or2N-not_first_only_B07_bc-8.60_nc-7.60-hetero.04.bA.set\n",
      "!OUT_bcf\\4h-1or2N-not_first_only_B07_bc-8.60_nc-7.60-hetero.04.bH.set\n",
      "!OUT_bcf\\4h-1or2N-not_first_only_B07_bc-8.60_nc-7.60-hetero.04.bN.set\n",
      "!OUT_bcf\\4h-1or2N-not_first_only_B07_bc-9.00_nc-8.00-all.00.bA.set\n",
      "!OUT_bcf\\4h-1or2N-not_first_only_B07_bc-9.00_nc-8.00-all.00.bH.set\n",
      "!OUT_bcf\\4h-1or2N-not_first_only_B07_bc-9.00_nc-8.00-all.00.bN.set\n",
      "!OUT_bcf\\4h-1or2N-not_first_only_B07_bc-9.00_nc-8.00-hetero-ex.04.00.bA.set\n",
      "!OUT_bcf\\4h-1or2N-not_first_only_B07_bc-9.00_nc-8.00-hetero-ex.04.00.bH.set\n",
      "!OUT_bcf\\4h-1or2N-not_first_only_B07_bc-9.00_nc-8.00-hetero-ex.04.00.bN.set\n",
      "!OUT_bcf\\4h-1or2N-not_first_only_B07_bc-9.00_nc-8.00-hetero.01.bA.set\n",
      "!OUT_bcf\\4h-1or2N-not_first_only_B07_bc-9.00_nc-8.00-hetero.01.bH.set\n",
      "!OUT_bcf\\4h-1or2N-not_first_only_B07_bc-9.00_nc-8.00-hetero.01.bN.set\n",
      "!OUT_bcf\\mason.bA.set\n",
      "!OUT_bcf\\mason.bH.set\n",
      "!OUT_bcf\\mason.bN.set\n",
      "!OUT_bcf\\mason.bP.set\n",
      "!OUT_bcf\\mason.bS.set\n",
      "!OUT_bcf\\PNIC.bA.set\n",
      "!OUT_bcf\\PNIC.bH.set\n",
      "!OUT_bcf\\PNIC.bN.set\n",
      "!OUT_bcf\\PNIC.bP.set\n",
      "!OUT_bcf\\PNIC.bS.set\n",
      "!OUT_additional\\mason.set\n",
      "!OUT_additional\\PNIC_A.set\n",
      "!OUT_additional\\PNIC_bH1.set\n",
      "!OUT_additional\\PNIC_bHq.set\n",
      "!OUT_additional\\PNIC_mS.set\n",
      "!OUT_additional\\PNIC_mSN.set\n",
      "!OUT_additional\\PNIC_SH.set\n",
      "!OUT_additional\\PNIC_SHb.set\n"
     ]
    }
   ],
   "source": [
    "for bcf_set in bcf_sets:\n",
    "    comp = bz.analyse_sets(bcf_sets, None, alignment=\"B07\", scorer_exe=CCO+\"/fastscore.exe\",\n",
    "                           skip_existing=True,\n",
    "                           username=\"ajasja\", password=\"agrftAGADIR\", calculate_helicity=True, serial=False)\n",
    "\n",
    "for r in comp:\n",
    "    print(r)"
   ]
  },
  {
   "cell_type": "code",
   "execution_count": null,
   "metadata": {
    "collapsed": true
   },
   "outputs": [],
   "source": []
  }
 ],
 "metadata": {
  "anaconda-cloud": {},
  "hide_input": false,
  "kernelspec": {
   "display_name": "Python [default]",
   "language": "python",
   "name": "python2"
  },
  "language_info": {
   "codemirror_mode": {
    "name": "ipython",
    "version": 2
   },
   "file_extension": ".py",
   "mimetype": "text/x-python",
   "name": "python",
   "nbconvert_exporter": "python",
   "pygments_lexer": "ipython2",
   "version": "2.7.11"
  }
 },
 "nbformat": 4,
 "nbformat_minor": 0
}
