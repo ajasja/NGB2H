{
 "cells": [
  {
   "cell_type": "code",
   "execution_count": 3,
   "metadata": {
    "collapsed": false
   },
   "outputs": [
    {
     "name": "stdout",
     "output_type": "stream",
     "text": [
      "The autoreload extension is already loaded. To reload it, use:\n",
      "  %reload_ext autoreload\n",
      "d:\\data\\ortoCC\\fine_tune_scoring_function\\NEW_sets\n"
     ]
    }
   ],
   "source": [
    "from __future__ import division, absolute_import\n",
    "%load_ext autoreload\n",
    "%autoreload 2\n",
    "import os\n",
    "print(os.getcwd())\n",
    "import hepran\n",
    "from hepran.bzipscore import *\n",
    "import hepran.utils as u\n",
    "import hepran.registers as r\n",
    "import numpy as np\n",
    "CCO = os.environ.get(\"CCO\",r\"C:\\Projekti_KI\\ortoCC\\CoiledCoilOrtho\")\n",
    "from glob import glob\n",
    "import pandas as pd\n",
    "from StringIO import StringIO"
   ]
  },
  {
   "cell_type": "code",
   "execution_count": 13,
   "metadata": {
    "collapsed": false
   },
   "outputs": [],
   "source": [
    "def full_name_from_str_or_df(df_row):\n",
    "    if not u.is_str(df_row):\n",
    "        name = df_row[\"!full_name\"]\n",
    "        fname = final_name(df_row)\n",
    "    else:\n",
    "        fname = df_row\n",
    "    return fname\n",
    "\n",
    "def open_excel(df_row):\n",
    "    name = full_name_from_str_or_df(df_row)\n",
    "    name = u.replace_extension(name, '.xlsx')\n",
    "    print(name)\n",
    "    !open $name\n",
    "    \n",
    "def final_name(df_row):\n",
    "    name = full_name_from_str_or_df(df_row)\n",
    "    name = os.path.normpath(name)\n",
    "    p = name.split(os.sep)\n",
    "    fname = p[-2]+\"-\"+p[-1]\n",
    "    return fname\n",
    "    \n",
    "#final_name(sdf.iloc[0])    \n",
    "\n",
    "\n",
    "def copy_to_out(df_row, dirname=\"!OUT\", exts=[\".set\", \".xlsx\", \".fasta\", \".bin\", \".png\"], open_in_excel=False):\n",
    "    from shutil import copyfile\n",
    "    name = full_name_from_str_or_df(df_row)\n",
    "    fname = final_name(df_row)\n",
    "    fname = os.path.join(dirname, fname)\n",
    "    u.ensure_dir(dirname)\n",
    "    \n",
    "    print(name +\"->\\n\"+ fname+\"\\n\")           \n",
    "    for ext in exts:\n",
    "        source_fname = u.replace_extension(name, ext)\n",
    "        target_fname = u.replace_extension(fname,ext)\n",
    "        if os.path.exists(source_fname):\n",
    "            copyfile(source_fname, target_fname)  \n",
    "        else:\n",
    "            print(\"Warning: file does not exists: \"+source_fname)\n",
    "    \n",
    "    if open_in_excel:\n",
    "        open_excel(df_row)\n",
    "\n",
    "def filter_df(peptides_type, set_type, binding_cutoff):\n",
    "    \"\"\"Return dataset filtered acording to above criteria\"\"\"\n",
    "    \n",
    "    sdf=df[(df.peptides_type==peptides_type) & \n",
    "       (df.type==set_type) &\n",
    "       (df.binding_cutoff==binding_cutoff)]\n",
    "    sdf[sdf.N_pairs==sdf.N_pairs.max()]\n",
    "    sdf = sdf.sort_values(by=\"total_IN_mismatches total_electrostatic_mismatches orthogonality_average\".split())\n",
    "    return sdf\n",
    "    \n",
    "display_cols = \"basename N_pairs N_heterodimers N_homodimers orthogonality_average total_IN_mismatches total_electrostatic_mismatches\".split()    "
   ]
  },
  {
   "cell_type": "code",
   "execution_count": 22,
   "metadata": {},
   "outputs": [],
   "source": [
    "target_dir_name=r'D:\\data\\ortoCC\\fine_tune_scoring_function\\OUT_SETS\\!01_OUT'"
   ]
  },
  {
   "cell_type": "code",
   "execution_count": 17,
   "metadata": {
    "collapsed": false
   },
   "outputs": [
    {
     "name": "stdout",
     "output_type": "stream",
     "text": [
      "4H_2N_5_DNA-ALL-basic-rep-nter_core-Ridge-WbnRD10-P07-DEL7.30\\4H_2N_5_DNA-ALL-basic-rep-nter_core-Ridge-WbnRD10_P07_bc-48.00_nc-40.70\\all.00.set->\n",
      "D:\\data\\ortoCC\\fine_tune_scoring_function\\OUT_SETS\\4H_2N_5_DNA-ALL-basic-rep-nter_core-Ridge-WbnRD10_P07_bc-48.00_nc-40.70-all.00.set\n",
      "\n"
     ]
    }
   ],
   "source": [
    "out_name = \"4H_2N_5_DNA-ALL-basic-rep-nter_core-Ridge-WbnRD10_P07_bc-48.00_nc-40.70/all.00.set\"\n",
    "#get full path\n",
    "out_name = glob(\"*/\"+out_name); assert len(out_name)==1; out_name = out_name[0]\n",
    "final_name(out_name)\n",
    "copy_to_out(out_name, dirname=target_dir_name)"
   ]
  },
  {
   "cell_type": "code",
   "execution_count": 19,
   "metadata": {},
   "outputs": [
    {
     "name": "stdout",
     "output_type": "stream",
     "text": [
      "4H_2N_5_DNA-ALL-basic-rep-core_vertical-Ridge-WbnRD10-P07-DEL6.00\\4H_2N_5_DNA-ALL-basic-rep-core_vertical-Ridge-WbnRD10_P07_bc-48.00_nc-42.00\\hetero-ex.00.00.set->\n",
      "D:\\data\\ortoCC\\fine_tune_scoring_function\\OUT_SETS\\4H_2N_5_DNA-ALL-basic-rep-core_vertical-Ridge-WbnRD10_P07_bc-48.00_nc-42.00-hetero-ex.00.00.set\n",
      "\n"
     ]
    }
   ],
   "source": [
    "out_name = \"4H_2N_5_DNA-ALL-basic-rep-core_vertical-Ridge-WbnRD10_P07_bc-48.00_nc-42.00/hetero-ex.00.00.set\"\n",
    "#get full path\n",
    "out_name = glob(\"*/\"+out_name); assert len(out_name)==1; out_name = out_name[0]\n",
    "final_name(out_name)\n",
    "copy_to_out(out_name, dirname=target_dir_name)"
   ]
  },
  {
   "cell_type": "code",
   "execution_count": 23,
   "metadata": {},
   "outputs": [
    {
     "name": "stdout",
     "output_type": "stream",
     "text": [
      "4H_1or2N_not_last_only_5_DNA-ALL-basic-rep-Ridge-WbnRD10-P07-DEL7.80\\4H_1or2N_not_last_only_5_DNA-ALL-basic-rep-Ridge-WbnRD10_P07_bc-49.00_nc-41.20\\all.00.set->\n",
      "D:\\data\\ortoCC\\fine_tune_scoring_function\\OUT_SETS\\!01_OUT\\4H_1or2N_not_last_only_5_DNA-ALL-basic-rep-Ridge-WbnRD10_P07_bc-49.00_nc-41.20-all.00.set\n",
      "\n"
     ]
    }
   ],
   "source": [
    "out_name = \"4H_1or2N_not_last_only_5_DNA-ALL-basic-rep-Ridge-WbnRD10_P07_bc-49.00_nc-41.20/all.00.set\"\n",
    "#get full path\n",
    "out_name = glob(\"*/\"+out_name); assert len(out_name)==1; out_name = out_name[0]\n",
    "final_name(out_name)\n",
    "copy_to_out(out_name, dirname=target_dir_name)"
   ]
  },
  {
   "cell_type": "code",
   "execution_count": null,
   "metadata": {},
   "outputs": [],
   "source": [
    "4H_1or2N_5_DNA-ALL-basic-rep-Ridge-WbnRD10_P07_bc-49.00_nc-41.20"
   ]
  }
 ],
 "metadata": {
  "anaconda-cloud": {},
  "hide_input": false,
  "kernelspec": {
   "display_name": "Python [default]",
   "language": "python",
   "name": "python2"
  },
  "language_info": {
   "codemirror_mode": {
    "name": "ipython",
    "version": 2
   },
   "file_extension": ".py",
   "mimetype": "text/x-python",
   "name": "python",
   "nbconvert_exporter": "python",
   "pygments_lexer": "ipython2",
   "version": "2.7.11"
  }
 },
 "nbformat": 4,
 "nbformat_minor": 2
}
