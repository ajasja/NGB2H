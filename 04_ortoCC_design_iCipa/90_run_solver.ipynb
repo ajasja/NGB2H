{
 "cells": [
  {
   "cell_type": "code",
   "execution_count": 2,
   "metadata": {},
   "outputs": [
    {
     "name": "stdout",
     "output_type": "stream",
     "text": [
      "d:\\data\\ortoCC\\fine_tune_scoring_function\\NEW_sets\n"
     ]
    }
   ],
   "source": [
    "from __future__ import division, absolute_import, print_function\n",
    "%load_ext autoreload\n",
    "%autoreload 2\n",
    "\n",
    "import os, sys \n",
    "\n",
    "print(os.getcwd()) \n",
    "CDIR = os.getcwd()\n",
    "from glob import glob\n",
    "#look also for packages one dir UP\n",
    "#sys.path.append(os.path.abspath(os.path.join(CDIR, '..')))\n",
    "#from score_utils import *\n",
    "\n",
    "import six"
   ]
  },
  {
   "cell_type": "code",
   "execution_count": 3,
   "metadata": {},
   "outputs": [],
   "source": [
    "fit_name = 'DNA-ALL-basicL-rep-core_vertical-Ridge-WbnRD10'\n",
    "N_iter = 5\n",
    "\n",
    "#cutoff line:\n",
    "alignment = \"P07\"\n",
    "delta = 7\n",
    "set_type = '4H_2N'\n",
    "\n",
    "def run_solver(fit_name, alignment, delta, set_type, skip_existing=False, timeout_s=1000):\n",
    "    import six\n",
    "    import os\n",
    "    \n",
    "    if alignment ==\"P00\":\n",
    "        N_iter=0 \n",
    "        pos=0\n",
    "\n",
    "    if alignment ==\"P07\":\n",
    "        N_iter=5 \n",
    "        pos=\"ALL\"\n",
    "    \n",
    "    os.environ['fit_name']=fit_name\n",
    "    os.environ['N_iter']=str(N_iter)\n",
    "    os.environ['alignment']=alignment\n",
    "    os.environ['delta']=str(delta)\n",
    "    os.environ['set_type']=set_type\n",
    "    os.environ['timeout_s']=str(timeout_s)\n",
    "\n",
    "    out_name = '21_{set_type}-{N_iter}-{fit_name}-{alignment}-DEL{delta:.2f}'.format(**locals())\n",
    "\n",
    "    print(out_name)\n",
    "    \n",
    "    \n",
    "    !jupyter nbconvert --execute 20-base_filtering.ipynb --to notebook --allow-errors --output {out_name}.ipynb --ExecutePreprocessor.timeout=-1   \n",
    "    \n",
    "    return out_name\n"
   ]
  },
  {
   "cell_type": "code",
   "execution_count": 11,
   "metadata": {},
   "outputs": [
    {
     "name": "stdout",
     "output_type": "stream",
     "text": [
      "21_4H_1or2N-0-DNA-ALL-basicL-rep-core_vertical-Ridge-WbnRD10-P00-DEL6.00\n",
      "Wall time: 3h 2min 7s\n",
      "21_4H_1or2N-5-DNA-ALL-basicL-rep-core_vertical-Ridge-WbnRD10-P07-DEL7.00\n"
     ]
    },
    {
     "name": "stderr",
     "output_type": "stream",
     "text": [
      "[NbConvertApp] WARNING | Config option `template_path` not recognized by `NotebookExporter`.\n",
      "[NbConvertApp] Converting notebook 20-base.ipynb to notebook\n",
      "[NbConvertApp] Executing notebook with kernel: python2\n",
      "[NbConvertApp] Writing 279796 bytes to 21_4H_1or2N-0-DNA-ALL-basicL-rep-core_vertical-Ridge-WbnRD10-P00-DEL6.00.ipynb\n"
     ]
    },
    {
     "name": "stdout",
     "output_type": "stream",
     "text": [
      "Wall time: 3h 2min 57s\n"
     ]
    },
    {
     "name": "stderr",
     "output_type": "stream",
     "text": [
      "[NbConvertApp] WARNING | Config option `template_path` not recognized by `NotebookExporter`.\n",
      "[NbConvertApp] Converting notebook 20-base.ipynb to notebook\n",
      "[NbConvertApp] Executing notebook with kernel: python2\n",
      "[NbConvertApp] Writing 247054 bytes to 21_4H_1or2N-5-DNA-ALL-basicL-rep-core_vertical-Ridge-WbnRD10-P07-DEL7.00.ipynb\n"
     ]
    },
    {
     "data": {
      "text/plain": [
       "'21_4H_1or2N-5-DNA-ALL-basicL-rep-core_vertical-Ridge-WbnRD10-P07-DEL7.00'"
      ]
     },
     "execution_count": 11,
     "metadata": {},
     "output_type": "execute_result"
    }
   ],
   "source": [
    "%time run_solver('DNA-ALL-basicL-rep-core_vertical-Ridge-WbnRD10', 'P00', 6, '4H_1or2N')   \n",
    "%time run_solver('DNA-ALL-basicL-rep-core_vertical-Ridge-WbnRD10', 'P07', 7, '4H_1or2N')   "
   ]
  },
  {
   "cell_type": "code",
   "execution_count": 12,
   "metadata": {},
   "outputs": [
    {
     "name": "stdout",
     "output_type": "stream",
     "text": [
      "21_4H_1or2N-0-DNA-ALL-basicL-rep-Ridge-WbnRD10-P00-DEL8.20\n",
      "Wall time: 2h 23min 47s\n",
      "21_4H_1or2N-5-DNA-ALL-basicL-rep-Ridge-WbnRD10-P07-DEL9.00\n"
     ]
    },
    {
     "name": "stderr",
     "output_type": "stream",
     "text": [
      "[NbConvertApp] WARNING | Config option `template_path` not recognized by `NotebookExporter`.\n",
      "[NbConvertApp] Converting notebook 20-base.ipynb to notebook\n",
      "[NbConvertApp] Executing notebook with kernel: python2\n",
      "[NbConvertApp] Writing 188333 bytes to 21_4H_1or2N-0-DNA-ALL-basicL-rep-Ridge-WbnRD10-P00-DEL8.20.ipynb\n"
     ]
    },
    {
     "name": "stdout",
     "output_type": "stream",
     "text": [
      "Wall time: 1h 38min 50s\n"
     ]
    },
    {
     "name": "stderr",
     "output_type": "stream",
     "text": [
      "[NbConvertApp] WARNING | Config option `template_path` not recognized by `NotebookExporter`.\n",
      "[NbConvertApp] Converting notebook 20-base.ipynb to notebook\n",
      "[NbConvertApp] Executing notebook with kernel: python2\n",
      "[NbConvertApp] Writing 194000 bytes to 21_4H_1or2N-5-DNA-ALL-basicL-rep-Ridge-WbnRD10-P07-DEL9.00.ipynb\n"
     ]
    },
    {
     "data": {
      "text/plain": [
       "'21_4H_1or2N-5-DNA-ALL-basicL-rep-Ridge-WbnRD10-P07-DEL9.00'"
      ]
     },
     "execution_count": 12,
     "metadata": {},
     "output_type": "execute_result"
    }
   ],
   "source": [
    "%time run_solver('DNA-ALL-basicL-rep-Ridge-WbnRD10', 'P00', 8.2, '4H_1or2N') \n",
    "%time run_solver('DNA-ALL-basicL-rep-Ridge-WbnRD10', 'P07', 9, '4H_1or2N')  "
   ]
  },
  {
   "cell_type": "code",
   "execution_count": 14,
   "metadata": {},
   "outputs": [
    {
     "name": "stdout",
     "output_type": "stream",
     "text": [
      "21_4H_1or2N-0-DNA-ALL-basicL-rep-nter_core-Ridge-WbnRD10-P00-DEL7.20\n",
      "Wall time: 2h 32min 10s\n",
      "21_4H_1or2N-5-DNA-ALL-basicL-rep-nter_core-Ridge-WbnRD10-P07-DEL8.30\n"
     ]
    },
    {
     "name": "stderr",
     "output_type": "stream",
     "text": [
      "[NbConvertApp] WARNING | Config option `template_path` not recognized by `NotebookExporter`.\n",
      "[NbConvertApp] Converting notebook 20-base.ipynb to notebook\n",
      "[NbConvertApp] Executing notebook with kernel: python2\n",
      "[NbConvertApp] Writing 307886 bytes to 21_4H_1or2N-0-DNA-ALL-basicL-rep-nter_core-Ridge-WbnRD10-P00-DEL7.20.ipynb\n"
     ]
    },
    {
     "name": "stdout",
     "output_type": "stream",
     "text": [
      "Wall time: 1h 58min 22s\n"
     ]
    },
    {
     "name": "stderr",
     "output_type": "stream",
     "text": [
      "[NbConvertApp] WARNING | Config option `template_path` not recognized by `NotebookExporter`.\n",
      "[NbConvertApp] Converting notebook 20-base.ipynb to notebook\n",
      "[NbConvertApp] Executing notebook with kernel: python2\n",
      "[NbConvertApp] Writing 248364 bytes to 21_4H_1or2N-5-DNA-ALL-basicL-rep-nter_core-Ridge-WbnRD10-P07-DEL8.30.ipynb\n"
     ]
    },
    {
     "data": {
      "text/plain": [
       "'21_4H_1or2N-5-DNA-ALL-basicL-rep-nter_core-Ridge-WbnRD10-P07-DEL8.30'"
      ]
     },
     "execution_count": 14,
     "metadata": {},
     "output_type": "execute_result"
    }
   ],
   "source": [
    "%time run_solver('DNA-ALL-basicL-rep-nter_core-Ridge-WbnRD10', 'P00', 7.2, '4H_1or2N')  \n",
    "%time run_solver('DNA-ALL-basicL-rep-nter_core-Ridge-WbnRD10', 'P07', 8.3, '4H_1or2N')  "
   ]
  },
  {
   "cell_type": "code",
   "execution_count": 20,
   "metadata": {},
   "outputs": [
    {
     "name": "stdout",
     "output_type": "stream",
     "text": [
      "21_4H_1or2N_sameGE-0-DNA-ALL-basicL-rep-core_vertical-Ridge-WbnRD10-P00-DEL6.00\n",
      "Wall time: 36.5 s\n"
     ]
    },
    {
     "name": "stderr",
     "output_type": "stream",
     "text": [
      "[NbConvertApp] WARNING | Config option `template_path` not recognized by `NotebookExporter`.\n",
      "[NbConvertApp] Converting notebook 20-base_filtering.ipynb to notebook\n",
      "[NbConvertApp] Executing notebook with kernel: python2\n",
      "[NbConvertApp] Writing 123754 bytes to 21_4H_1or2N_sameGE-0-DNA-ALL-basicL-rep-core_vertical-Ridge-WbnRD10-P00-DEL6.00.ipynb\n"
     ]
    },
    {
     "data": {
      "text/plain": [
       "'21_4H_1or2N_sameGE-0-DNA-ALL-basicL-rep-core_vertical-Ridge-WbnRD10-P00-DEL6.00'"
      ]
     },
     "execution_count": 20,
     "metadata": {},
     "output_type": "execute_result"
    }
   ],
   "source": [
    " %time run_solver('DNA-ALL-basicL-rep-core_vertical-Ridge-WbnRD10', 'P00', 6, '4H_1or2N_sameGE') "
   ]
  },
  {
   "cell_type": "code",
   "execution_count": 17,
   "metadata": {},
   "outputs": [
    {
     "name": "stdout",
     "output_type": "stream",
     "text": [
      "21_4H_1or2N_sameGE-5-DNA-ALL-basicL-rep-core_vertical-Ridge-WbnRD10-P07-DEL7.00\n",
      "Wall time: 31.5 s\n",
      "21_4H_1or2N_sameGE-0-DNA-ALL-basicL-rep-Ridge-WbnRD10-P00-DEL8.20\n"
     ]
    },
    {
     "name": "stderr",
     "output_type": "stream",
     "text": [
      "[NbConvertApp] WARNING | Config option `template_path` not recognized by `NotebookExporter`.\n",
      "[NbConvertApp] Converting notebook 20-base_filtering.ipynb to notebook\n",
      "[NbConvertApp] Executing notebook with kernel: python2\n",
      "[NbConvertApp] Writing 120736 bytes to 21_4H_1or2N_sameGE-5-DNA-ALL-basicL-rep-core_vertical-Ridge-WbnRD10-P07-DEL7.00.ipynb\n"
     ]
    },
    {
     "name": "stdout",
     "output_type": "stream",
     "text": [
      "Wall time: 36.5 s\n",
      "21_4H_1or2N_sameGE-5-DNA-ALL-basicL-rep-Ridge-WbnRD10-P07-DEL9.00\n"
     ]
    },
    {
     "name": "stderr",
     "output_type": "stream",
     "text": [
      "[NbConvertApp] WARNING | Config option `template_path` not recognized by `NotebookExporter`.\n",
      "[NbConvertApp] Converting notebook 20-base_filtering.ipynb to notebook\n",
      "[NbConvertApp] Executing notebook with kernel: python2\n",
      "[NbConvertApp] Writing 102970 bytes to 21_4H_1or2N_sameGE-0-DNA-ALL-basicL-rep-Ridge-WbnRD10-P00-DEL8.20.ipynb\n"
     ]
    },
    {
     "name": "stdout",
     "output_type": "stream",
     "text": [
      "Wall time: 19.5 s\n",
      "21_4H_1or2N_sameGE-0-DNA-ALL-basicL-rep-nter_core-Ridge-WbnRD10-P00-DEL7.20\n"
     ]
    },
    {
     "name": "stderr",
     "output_type": "stream",
     "text": [
      "[NbConvertApp] WARNING | Config option `template_path` not recognized by `NotebookExporter`.\n",
      "[NbConvertApp] Converting notebook 20-base_filtering.ipynb to notebook\n",
      "[NbConvertApp] Executing notebook with kernel: python2\n",
      "[NbConvertApp] Writing 99487 bytes to 21_4H_1or2N_sameGE-5-DNA-ALL-basicL-rep-Ridge-WbnRD10-P07-DEL9.00.ipynb\n"
     ]
    },
    {
     "name": "stdout",
     "output_type": "stream",
     "text": [
      "Wall time: 29.5 s\n",
      "21_4H_1or2N_sameGE-5-DNA-ALL-basicL-rep-nter_core-Ridge-WbnRD10-P07-DEL8.30\n"
     ]
    },
    {
     "name": "stderr",
     "output_type": "stream",
     "text": [
      "[NbConvertApp] WARNING | Config option `template_path` not recognized by `NotebookExporter`.\n",
      "[NbConvertApp] Converting notebook 20-base_filtering.ipynb to notebook\n",
      "[NbConvertApp] Executing notebook with kernel: python2\n",
      "[NbConvertApp] Writing 107570 bytes to 21_4H_1or2N_sameGE-0-DNA-ALL-basicL-rep-nter_core-Ridge-WbnRD10-P00-DEL7.20.ipynb\n"
     ]
    },
    {
     "name": "stdout",
     "output_type": "stream",
     "text": [
      "Wall time: 21.5 s\n",
      "21_4H_1or2N_sameGE-0-DNA-ALL-basicL-rep-core_vertical-Ridge-WbnRD10-P00-DEL5.00\n"
     ]
    },
    {
     "name": "stderr",
     "output_type": "stream",
     "text": [
      "[NbConvertApp] WARNING | Config option `template_path` not recognized by `NotebookExporter`.\n",
      "[NbConvertApp] Converting notebook 20-base_filtering.ipynb to notebook\n",
      "[NbConvertApp] Executing notebook with kernel: python2\n",
      "[NbConvertApp] Writing 111708 bytes to 21_4H_1or2N_sameGE-5-DNA-ALL-basicL-rep-nter_core-Ridge-WbnRD10-P07-DEL8.30.ipynb\n"
     ]
    },
    {
     "name": "stdout",
     "output_type": "stream",
     "text": [
      "Wall time: 40.5 s\n",
      "21_4H_1or2N_sameGE-5-DNA-ALL-basicL-rep-core_vertical-Ridge-WbnRD10-P07-DEL6.00\n"
     ]
    },
    {
     "name": "stderr",
     "output_type": "stream",
     "text": [
      "[NbConvertApp] WARNING | Config option `template_path` not recognized by `NotebookExporter`.\n",
      "[NbConvertApp] Converting notebook 20-base_filtering.ipynb to notebook\n",
      "[NbConvertApp] Executing notebook with kernel: python2\n",
      "[NbConvertApp] Writing 128155 bytes to 21_4H_1or2N_sameGE-0-DNA-ALL-basicL-rep-core_vertical-Ridge-WbnRD10-P00-DEL5.00.ipynb\n"
     ]
    },
    {
     "name": "stdout",
     "output_type": "stream",
     "text": [
      "Wall time: 41.5 s\n",
      "21_4H_1or2N_sameGE-0-DNA-ALL-basicL-rep-Ridge-WbnRD10-P00-DEL7.20\n"
     ]
    },
    {
     "name": "stderr",
     "output_type": "stream",
     "text": [
      "[NbConvertApp] WARNING | Config option `template_path` not recognized by `NotebookExporter`.\n",
      "[NbConvertApp] Converting notebook 20-base_filtering.ipynb to notebook\n",
      "[NbConvertApp] Executing notebook with kernel: python2\n",
      "[NbConvertApp] Writing 129239 bytes to 21_4H_1or2N_sameGE-5-DNA-ALL-basicL-rep-core_vertical-Ridge-WbnRD10-P07-DEL6.00.ipynb\n"
     ]
    },
    {
     "name": "stdout",
     "output_type": "stream",
     "text": [
      "Wall time: 39.5 s\n",
      "21_4H_1or2N_sameGE-5-DNA-ALL-basicL-rep-Ridge-WbnRD10-P07-DEL8.00\n"
     ]
    },
    {
     "name": "stderr",
     "output_type": "stream",
     "text": [
      "[NbConvertApp] WARNING | Config option `template_path` not recognized by `NotebookExporter`.\n",
      "[NbConvertApp] Converting notebook 20-base_filtering.ipynb to notebook\n",
      "[NbConvertApp] Executing notebook with kernel: python2\n",
      "[NbConvertApp] Writing 114799 bytes to 21_4H_1or2N_sameGE-0-DNA-ALL-basicL-rep-Ridge-WbnRD10-P00-DEL7.20.ipynb\n"
     ]
    },
    {
     "name": "stdout",
     "output_type": "stream",
     "text": [
      "Wall time: 23.5 s\n",
      "21_4H_1or2N_sameGE-0-DNA-ALL-basicL-rep-nter_core-Ridge-WbnRD10-P00-DEL6.20\n"
     ]
    },
    {
     "name": "stderr",
     "output_type": "stream",
     "text": [
      "[NbConvertApp] WARNING | Config option `template_path` not recognized by `NotebookExporter`.\n",
      "[NbConvertApp] Converting notebook 20-base_filtering.ipynb to notebook\n",
      "[NbConvertApp] Executing notebook with kernel: python2\n",
      "[NbConvertApp] Writing 118052 bytes to 21_4H_1or2N_sameGE-5-DNA-ALL-basicL-rep-Ridge-WbnRD10-P07-DEL8.00.ipynb\n"
     ]
    },
    {
     "name": "stdout",
     "output_type": "stream",
     "text": [
      "Wall time: 30.5 s\n",
      "21_4H_1or2N_sameGE-5-DNA-ALL-basicL-rep-nter_core-Ridge-WbnRD10-P07-DEL7.30\n"
     ]
    },
    {
     "name": "stderr",
     "output_type": "stream",
     "text": [
      "[NbConvertApp] WARNING | Config option `template_path` not recognized by `NotebookExporter`.\n",
      "[NbConvertApp] Converting notebook 20-base_filtering.ipynb to notebook\n",
      "[NbConvertApp] Executing notebook with kernel: python2\n",
      "[NbConvertApp] Writing 105281 bytes to 21_4H_1or2N_sameGE-0-DNA-ALL-basicL-rep-nter_core-Ridge-WbnRD10-P00-DEL6.20.ipynb\n"
     ]
    },
    {
     "name": "stdout",
     "output_type": "stream",
     "text": [
      "Wall time: 22.5 s\n",
      "21_4H_1or2N_sameGE-0-DNA-ALL-basicL-rep-core_vertical-Ridge-WbnRD10-P00-DEL7.00\n"
     ]
    },
    {
     "name": "stderr",
     "output_type": "stream",
     "text": [
      "[NbConvertApp] WARNING | Config option `template_path` not recognized by `NotebookExporter`.\n",
      "[NbConvertApp] Converting notebook 20-base_filtering.ipynb to notebook\n",
      "[NbConvertApp] Executing notebook with kernel: python2\n",
      "[NbConvertApp] Writing 111219 bytes to 21_4H_1or2N_sameGE-5-DNA-ALL-basicL-rep-nter_core-Ridge-WbnRD10-P07-DEL7.30.ipynb\n"
     ]
    },
    {
     "name": "stdout",
     "output_type": "stream",
     "text": [
      "Wall time: 30.5 s\n",
      "21_4H_1or2N_sameGE-5-DNA-ALL-basicL-rep-core_vertical-Ridge-WbnRD10-P07-DEL8.00\n"
     ]
    },
    {
     "name": "stderr",
     "output_type": "stream",
     "text": [
      "[NbConvertApp] WARNING | Config option `template_path` not recognized by `NotebookExporter`.\n",
      "[NbConvertApp] Converting notebook 20-base_filtering.ipynb to notebook\n",
      "[NbConvertApp] Executing notebook with kernel: python2\n",
      "[NbConvertApp] Writing 96947 bytes to 21_4H_1or2N_sameGE-0-DNA-ALL-basicL-rep-core_vertical-Ridge-WbnRD10-P00-DEL7.00.ipynb\n"
     ]
    },
    {
     "name": "stdout",
     "output_type": "stream",
     "text": [
      "Wall time: 23.5 s\n",
      "21_4H_1or2N_sameGE-0-DNA-ALL-basicL-rep-Ridge-WbnRD10-P00-DEL9.20\n"
     ]
    },
    {
     "name": "stderr",
     "output_type": "stream",
     "text": [
      "[NbConvertApp] WARNING | Config option `template_path` not recognized by `NotebookExporter`.\n",
      "[NbConvertApp] Converting notebook 20-base_filtering.ipynb to notebook\n",
      "[NbConvertApp] Executing notebook with kernel: python2\n",
      "[NbConvertApp] Writing 113153 bytes to 21_4H_1or2N_sameGE-5-DNA-ALL-basicL-rep-core_vertical-Ridge-WbnRD10-P07-DEL8.00.ipynb\n"
     ]
    },
    {
     "name": "stdout",
     "output_type": "stream",
     "text": [
      "Wall time: 30.7 s\n",
      "21_4H_1or2N_sameGE-5-DNA-ALL-basicL-rep-Ridge-WbnRD10-P07-DEL10.00\n"
     ]
    },
    {
     "name": "stderr",
     "output_type": "stream",
     "text": [
      "[NbConvertApp] WARNING | Config option `template_path` not recognized by `NotebookExporter`.\n",
      "[NbConvertApp] Converting notebook 20-base_filtering.ipynb to notebook\n",
      "[NbConvertApp] Executing notebook with kernel: python2\n",
      "[NbConvertApp] Writing 81748 bytes to 21_4H_1or2N_sameGE-0-DNA-ALL-basicL-rep-Ridge-WbnRD10-P00-DEL9.20.ipynb\n"
     ]
    },
    {
     "name": "stdout",
     "output_type": "stream",
     "text": [
      "Wall time: 16.5 s\n",
      "21_4H_1or2N_sameGE-0-DNA-ALL-basicL-rep-nter_core-Ridge-WbnRD10-P00-DEL8.20\n"
     ]
    },
    {
     "name": "stderr",
     "output_type": "stream",
     "text": [
      "[NbConvertApp] WARNING | Config option `template_path` not recognized by `NotebookExporter`.\n",
      "[NbConvertApp] Converting notebook 20-base_filtering.ipynb to notebook\n",
      "[NbConvertApp] Executing notebook with kernel: python2\n",
      "[NbConvertApp] Writing 87035 bytes to 21_4H_1or2N_sameGE-5-DNA-ALL-basicL-rep-Ridge-WbnRD10-P07-DEL10.00.ipynb\n"
     ]
    },
    {
     "name": "stdout",
     "output_type": "stream",
     "text": [
      "Wall time: 29.5 s\n",
      "21_4H_1or2N_sameGE-5-DNA-ALL-basicL-rep-nter_core-Ridge-WbnRD10-P07-DEL9.30\n"
     ]
    },
    {
     "name": "stderr",
     "output_type": "stream",
     "text": [
      "[NbConvertApp] WARNING | Config option `template_path` not recognized by `NotebookExporter`.\n",
      "[NbConvertApp] Converting notebook 20-base_filtering.ipynb to notebook\n",
      "[NbConvertApp] Executing notebook with kernel: python2\n",
      "[NbConvertApp] Writing 104850 bytes to 21_4H_1or2N_sameGE-0-DNA-ALL-basicL-rep-nter_core-Ridge-WbnRD10-P00-DEL8.20.ipynb\n"
     ]
    },
    {
     "name": "stdout",
     "output_type": "stream",
     "text": [
      "Wall time: 22.6 s\n"
     ]
    },
    {
     "name": "stderr",
     "output_type": "stream",
     "text": [
      "[NbConvertApp] WARNING | Config option `template_path` not recognized by `NotebookExporter`.\n",
      "[NbConvertApp] Converting notebook 20-base_filtering.ipynb to notebook\n",
      "[NbConvertApp] Executing notebook with kernel: python2\n",
      "[NbConvertApp] Writing 100477 bytes to 21_4H_1or2N_sameGE-5-DNA-ALL-basicL-rep-nter_core-Ridge-WbnRD10-P07-DEL9.30.ipynb\n"
     ]
    },
    {
     "data": {
      "text/plain": [
       "'21_4H_1or2N_sameGE-5-DNA-ALL-basicL-rep-nter_core-Ridge-WbnRD10-P07-DEL9.30'"
      ]
     },
     "execution_count": 17,
     "metadata": {},
     "output_type": "execute_result"
    }
   ],
   "source": [
    "%time run_solver('DNA-ALL-basicL-rep-core_vertical-Ridge-WbnRD10', 'P00', 6, '4H_1or2N_sameGE') \n",
    "%time run_solver('DNA-ALL-basicL-rep-core_vertical-Ridge-WbnRD10', 'P07', 7, '4H_1or2N_sameGE')   \n",
    "%time run_solver('DNA-ALL-basicL-rep-Ridge-WbnRD10', 'P00', 8.2, '4H_1or2N_sameGE') \n",
    "%time run_solver('DNA-ALL-basicL-rep-Ridge-WbnRD10', 'P07', 9, '4H_1or2N_sameGE')  \n",
    "%time run_solver('DNA-ALL-basicL-rep-nter_core-Ridge-WbnRD10', 'P00', 7.2, '4H_1or2N_sameGE')  \n",
    "%time run_solver('DNA-ALL-basicL-rep-nter_core-Ridge-WbnRD10', 'P07', 8.3, '4H_1or2N_sameGE')  \n",
    "\n",
    "%time run_solver('DNA-ALL-basicL-rep-core_vertical-Ridge-WbnRD10', 'P00', 6-1, '4H_1or2N_sameGE')   \n",
    "%time run_solver('DNA-ALL-basicL-rep-core_vertical-Ridge-WbnRD10', 'P07', 7-1, '4H_1or2N_sameGE')   \n",
    "%time run_solver('DNA-ALL-basicL-rep-Ridge-WbnRD10', 'P00', 8.2-1, '4H_1or2N_sameGE') \n",
    "%time run_solver('DNA-ALL-basicL-rep-Ridge-WbnRD10', 'P07', 9-1, '4H_1or2N_sameGE')  \n",
    "%time run_solver('DNA-ALL-basicL-rep-nter_core-Ridge-WbnRD10', 'P00', 7.2-1, '4H_1or2N_sameGE')  \n",
    "%time run_solver('DNA-ALL-basicL-rep-nter_core-Ridge-WbnRD10', 'P07', 8.3-1, '4H_1or2N_sameGE')  \n",
    "\n",
    "\n",
    "%time run_solver('DNA-ALL-basicL-rep-core_vertical-Ridge-WbnRD10', 'P00', 6+1, '4H_1or2N_sameGE')   \n",
    "%time run_solver('DNA-ALL-basicL-rep-core_vertical-Ridge-WbnRD10', 'P07', 7+1, '4H_1or2N_sameGE')   \n",
    "%time run_solver('DNA-ALL-basicL-rep-Ridge-WbnRD10', 'P00', 8.2+1, '4H_1or2N_sameGE') \n",
    "%time run_solver('DNA-ALL-basicL-rep-Ridge-WbnRD10', 'P07', 9+1, '4H_1or2N_sameGE')  \n",
    "%time run_solver('DNA-ALL-basicL-rep-nter_core-Ridge-WbnRD10', 'P00', 7.2+1, '4H_1or2N_sameGE')  \n",
    "%time run_solver('DNA-ALL-basicL-rep-nter_core-Ridge-WbnRD10', 'P07', 8.3+1, '4H_1or2N_sameGE')  "
   ]
  },
  {
   "cell_type": "code",
   "execution_count": 21,
   "metadata": {},
   "outputs": [
    {
     "name": "stdout",
     "output_type": "stream",
     "text": [
      "21_4H_1or2N-0-DNA-ALL-basicL-rep-core_vertical-Ridge-WbnRD10-P00-DEL5.00\n",
      "Wall time: 6h 15min 9s\n",
      "21_4H_1or2N-5-DNA-ALL-basicL-rep-core_vertical-Ridge-WbnRD10-P07-DEL6.00\n"
     ]
    },
    {
     "name": "stderr",
     "output_type": "stream",
     "text": [
      "[NbConvertApp] WARNING | Config option `template_path` not recognized by `NotebookExporter`.\n",
      "[NbConvertApp] Converting notebook 20-base_filtering.ipynb to notebook\n",
      "[NbConvertApp] Executing notebook with kernel: python2\n",
      "[NbConvertApp] Writing 837054 bytes to 21_4H_1or2N-0-DNA-ALL-basicL-rep-core_vertical-Ridge-WbnRD10-P00-DEL5.00.ipynb\n"
     ]
    },
    {
     "name": "stdout",
     "output_type": "stream",
     "text": [
      "Wall time: 5h 5min 56s\n",
      "21_4H_1or2N-0-DNA-ALL-basicL-rep-Ridge-WbnRD10-P00-DEL7.20\n"
     ]
    },
    {
     "name": "stderr",
     "output_type": "stream",
     "text": [
      "[NbConvertApp] WARNING | Config option `template_path` not recognized by `NotebookExporter`.\n",
      "[NbConvertApp] Converting notebook 20-base_filtering.ipynb to notebook\n",
      "[NbConvertApp] Executing notebook with kernel: python2\n",
      "[NbConvertApp] Writing 225625 bytes to 21_4H_1or2N-5-DNA-ALL-basicL-rep-core_vertical-Ridge-WbnRD10-P07-DEL6.00.ipynb\n"
     ]
    },
    {
     "name": "stdout",
     "output_type": "stream",
     "text": [
      "Wall time: 2h 24min 48s\n",
      "21_4H_1or2N-5-DNA-ALL-basicL-rep-Ridge-WbnRD10-P07-DEL8.00\n"
     ]
    },
    {
     "name": "stderr",
     "output_type": "stream",
     "text": [
      "[NbConvertApp] WARNING | Config option `template_path` not recognized by `NotebookExporter`.\n",
      "[NbConvertApp] Converting notebook 20-base_filtering.ipynb to notebook\n",
      "[NbConvertApp] Executing notebook with kernel: python2\n",
      "[NbConvertApp] Writing 210387 bytes to 21_4H_1or2N-0-DNA-ALL-basicL-rep-Ridge-WbnRD10-P00-DEL7.20.ipynb\n"
     ]
    },
    {
     "name": "stdout",
     "output_type": "stream",
     "text": [
      "Wall time: 1h 47min 19s\n",
      "21_4H_1or2N-0-DNA-ALL-basicL-rep-nter_core-Ridge-WbnRD10-P00-DEL6.20\n"
     ]
    },
    {
     "name": "stderr",
     "output_type": "stream",
     "text": [
      "[NbConvertApp] WARNING | Config option `template_path` not recognized by `NotebookExporter`.\n",
      "[NbConvertApp] Converting notebook 20-base_filtering.ipynb to notebook\n",
      "[NbConvertApp] Executing notebook with kernel: python2\n",
      "[NbConvertApp] Writing 255724 bytes to 21_4H_1or2N-5-DNA-ALL-basicL-rep-Ridge-WbnRD10-P07-DEL8.00.ipynb\n"
     ]
    },
    {
     "name": "stdout",
     "output_type": "stream",
     "text": [
      "Wall time: 3h 37min 51s\n",
      "21_4H_1or2N-5-DNA-ALL-basicL-rep-nter_core-Ridge-WbnRD10-P07-DEL7.30\n"
     ]
    },
    {
     "name": "stderr",
     "output_type": "stream",
     "text": [
      "[NbConvertApp] WARNING | Config option `template_path` not recognized by `NotebookExporter`.\n",
      "[NbConvertApp] Converting notebook 20-base_filtering.ipynb to notebook\n",
      "[NbConvertApp] Executing notebook with kernel: python2\n",
      "[NbConvertApp] Writing 280494 bytes to 21_4H_1or2N-0-DNA-ALL-basicL-rep-nter_core-Ridge-WbnRD10-P00-DEL6.20.ipynb\n"
     ]
    },
    {
     "name": "stdout",
     "output_type": "stream",
     "text": [
      "Wall time: 2h 37min 49s\n",
      "21_4H_1or2N-0-DNA-ALL-basicL-rep-core_vertical-Ridge-WbnRD10-P00-DEL7.00\n"
     ]
    },
    {
     "name": "stderr",
     "output_type": "stream",
     "text": [
      "[NbConvertApp] WARNING | Config option `template_path` not recognized by `NotebookExporter`.\n",
      "[NbConvertApp] Converting notebook 20-base_filtering.ipynb to notebook\n",
      "[NbConvertApp] Executing notebook with kernel: python2\n",
      "[NbConvertApp] Writing 383174 bytes to 21_4H_1or2N-5-DNA-ALL-basicL-rep-nter_core-Ridge-WbnRD10-P07-DEL7.30.ipynb\n"
     ]
    },
    {
     "name": "stdout",
     "output_type": "stream",
     "text": [
      "Wall time: 2h 36min 2s\n",
      "21_4H_1or2N-5-DNA-ALL-basicL-rep-core_vertical-Ridge-WbnRD10-P07-DEL8.00\n"
     ]
    },
    {
     "name": "stderr",
     "output_type": "stream",
     "text": [
      "[NbConvertApp] WARNING | Config option `template_path` not recognized by `NotebookExporter`.\n",
      "[NbConvertApp] Converting notebook 20-base_filtering.ipynb to notebook\n",
      "[NbConvertApp] Executing notebook with kernel: python2\n",
      "[NbConvertApp] Writing 213487 bytes to 21_4H_1or2N-0-DNA-ALL-basicL-rep-core_vertical-Ridge-WbnRD10-P00-DEL7.00.ipynb\n"
     ]
    },
    {
     "name": "stdout",
     "output_type": "stream",
     "text": [
      "Wall time: 2h 11min 47s\n",
      "21_4H_1or2N-0-DNA-ALL-basicL-rep-Ridge-WbnRD10-P00-DEL9.20\n"
     ]
    },
    {
     "name": "stderr",
     "output_type": "stream",
     "text": [
      "[NbConvertApp] WARNING | Config option `template_path` not recognized by `NotebookExporter`.\n",
      "[NbConvertApp] Converting notebook 20-base_filtering.ipynb to notebook\n",
      "[NbConvertApp] Executing notebook with kernel: python2\n",
      "[NbConvertApp] Writing 189384 bytes to 21_4H_1or2N-5-DNA-ALL-basicL-rep-core_vertical-Ridge-WbnRD10-P07-DEL8.00.ipynb\n"
     ]
    },
    {
     "name": "stdout",
     "output_type": "stream",
     "text": [
      "Wall time: 23min 39s\n",
      "21_4H_1or2N-5-DNA-ALL-basicL-rep-Ridge-WbnRD10-P07-DEL10.00\n"
     ]
    },
    {
     "name": "stderr",
     "output_type": "stream",
     "text": [
      "[NbConvertApp] WARNING | Config option `template_path` not recognized by `NotebookExporter`.\n",
      "[NbConvertApp] Converting notebook 20-base_filtering.ipynb to notebook\n",
      "[NbConvertApp] Executing notebook with kernel: python2\n",
      "[NbConvertApp] Writing 180742 bytes to 21_4H_1or2N-0-DNA-ALL-basicL-rep-Ridge-WbnRD10-P00-DEL9.20.ipynb\n"
     ]
    },
    {
     "name": "stdout",
     "output_type": "stream",
     "text": [
      "Wall time: 26min 37s\n",
      "21_4H_1or2N-0-DNA-ALL-basicL-rep-nter_core-Ridge-WbnRD10-P00-DEL8.20\n"
     ]
    },
    {
     "name": "stderr",
     "output_type": "stream",
     "text": [
      "[NbConvertApp] WARNING | Config option `template_path` not recognized by `NotebookExporter`.\n",
      "[NbConvertApp] Converting notebook 20-base_filtering.ipynb to notebook\n",
      "[NbConvertApp] Executing notebook with kernel: python2\n",
      "[NbConvertApp] Writing 184387 bytes to 21_4H_1or2N-5-DNA-ALL-basicL-rep-Ridge-WbnRD10-P07-DEL10.00.ipynb\n"
     ]
    },
    {
     "name": "stdout",
     "output_type": "stream",
     "text": [
      "Wall time: 45min 34s\n",
      "21_4H_1or2N-5-DNA-ALL-basicL-rep-nter_core-Ridge-WbnRD10-P07-DEL9.30\n"
     ]
    },
    {
     "name": "stderr",
     "output_type": "stream",
     "text": [
      "[NbConvertApp] WARNING | Config option `template_path` not recognized by `NotebookExporter`.\n",
      "[NbConvertApp] Converting notebook 20-base_filtering.ipynb to notebook\n",
      "[NbConvertApp] Executing notebook with kernel: python2\n",
      "[NbConvertApp] Writing 255207 bytes to 21_4H_1or2N-0-DNA-ALL-basicL-rep-nter_core-Ridge-WbnRD10-P00-DEL8.20.ipynb\n"
     ]
    },
    {
     "name": "stdout",
     "output_type": "stream",
     "text": [
      "Wall time: 37min 7s\n"
     ]
    },
    {
     "name": "stderr",
     "output_type": "stream",
     "text": [
      "[NbConvertApp] WARNING | Config option `template_path` not recognized by `NotebookExporter`.\n",
      "[NbConvertApp] Converting notebook 20-base_filtering.ipynb to notebook\n",
      "[NbConvertApp] Executing notebook with kernel: python2\n",
      "[NbConvertApp] Writing 208518 bytes to 21_4H_1or2N-5-DNA-ALL-basicL-rep-nter_core-Ridge-WbnRD10-P07-DEL9.30.ipynb\n"
     ]
    },
    {
     "data": {
      "text/plain": [
       "'21_4H_1or2N-5-DNA-ALL-basicL-rep-nter_core-Ridge-WbnRD10-P07-DEL9.30'"
      ]
     },
     "execution_count": 21,
     "metadata": {},
     "output_type": "execute_result"
    }
   ],
   "source": [
    "#%time run_solver('DNA-ALL-basicL-rep-core_vertical-Ridge-WbnRD10', 'P00', 6, '4H_1or2N') \n",
    "#%time run_solver('DNA-ALL-basicL-rep-core_vertical-Ridge-WbnRD10', 'P07', 7, '4H_1or2N')   \n",
    "#%time run_solver('DNA-ALL-basicL-rep-Ridge-WbnRD10', 'P00', 8.2, '4H_1or2N') \n",
    "#%time run_solver('DNA-ALL-basicL-rep-Ridge-WbnRD10', 'P07', 9, '4H_1or2N')  \n",
    "#%time run_solver('DNA-ALL-basicL-rep-nter_core-Ridge-WbnRD10', 'P00', 7.2, '4H_1or2N')  \n",
    "#%time run_solver('DNA-ALL-basicL-rep-nter_core-Ridge-WbnRD10', 'P07', 8.3, '4H_1or2N')  \n",
    "\n",
    "%time run_solver('DNA-ALL-basicL-rep-core_vertical-Ridge-WbnRD10', 'P00', 6-1, '4H_1or2N')   \n",
    "%time run_solver('DNA-ALL-basicL-rep-core_vertical-Ridge-WbnRD10', 'P07', 7-1, '4H_1or2N')   \n",
    "%time run_solver('DNA-ALL-basicL-rep-Ridge-WbnRD10', 'P00', 8.2-1, '4H_1or2N') \n",
    "%time run_solver('DNA-ALL-basicL-rep-Ridge-WbnRD10', 'P07', 9-1, '4H_1or2N')  \n",
    "%time run_solver('DNA-ALL-basicL-rep-nter_core-Ridge-WbnRD10', 'P00', 7.2-1, '4H_1or2N')  \n",
    "%time run_solver('DNA-ALL-basicL-rep-nter_core-Ridge-WbnRD10', 'P07', 8.3-1, '4H_1or2N')  \n",
    "\n",
    "\n",
    "%time run_solver('DNA-ALL-basicL-rep-core_vertical-Ridge-WbnRD10', 'P00', 6+1, '4H_1or2N')   \n",
    "%time run_solver('DNA-ALL-basicL-rep-core_vertical-Ridge-WbnRD10', 'P07', 7+1, '4H_1or2N')   \n",
    "%time run_solver('DNA-ALL-basicL-rep-Ridge-WbnRD10', 'P00', 8.2+1, '4H_1or2N') \n",
    "%time run_solver('DNA-ALL-basicL-rep-Ridge-WbnRD10', 'P07', 9+1, '4H_1or2N')  \n",
    "%time run_solver('DNA-ALL-basicL-rep-nter_core-Ridge-WbnRD10', 'P00', 7.2+1, '4H_1or2N')  \n",
    "%time run_solver('DNA-ALL-basicL-rep-nter_core-Ridge-WbnRD10', 'P07', 8.3+1, '4H_1or2N')  "
   ]
  },
  {
   "cell_type": "code",
   "execution_count": 5,
   "metadata": {},
   "outputs": [
    {
     "name": "stdout",
     "output_type": "stream",
     "text": [
      "21_4H_1or2N-5-DNA-ALL-basic-rep-Ridge-WbnRD10-P07-DEL8.80\n",
      "Wall time: 1h 42min 16s\n",
      "21_4H_1or2N-5-DNA-ALL-basic-rep-nter_core-Ridge-WbnRD10-P07-DEL8.30\n"
     ]
    },
    {
     "name": "stderr",
     "output_type": "stream",
     "text": [
      "[NbConvertApp] WARNING | Config option `template_path` not recognized by `NotebookExporter`.\n",
      "[NbConvertApp] Converting notebook 20-base_filtering.ipynb to notebook\n",
      "[NbConvertApp] Executing notebook with kernel: python2\n",
      "[NbConvertApp] Writing 166084 bytes to 21_4H_1or2N-5-DNA-ALL-basic-rep-Ridge-WbnRD10-P07-DEL8.80.ipynb\n"
     ]
    },
    {
     "name": "stdout",
     "output_type": "stream",
     "text": [
      "Wall time: 1h 28min 44s\n",
      "21_4H_1or2N-5-DNA-ALL-basic-rep-core_vertical-Ridge-WbnRD10-P07-DEL6.00\n"
     ]
    },
    {
     "name": "stderr",
     "output_type": "stream",
     "text": [
      "[NbConvertApp] WARNING | Config option `template_path` not recognized by `NotebookExporter`.\n",
      "[NbConvertApp] Converting notebook 20-base_filtering.ipynb to notebook\n",
      "[NbConvertApp] Executing notebook with kernel: python2\n",
      "[NbConvertApp] Writing 311167 bytes to 21_4H_1or2N-5-DNA-ALL-basic-rep-nter_core-Ridge-WbnRD10-P07-DEL8.30.ipynb\n"
     ]
    },
    {
     "name": "stdout",
     "output_type": "stream",
     "text": [
      "Wall time: 5h 6min 23s\n",
      "21_4H_1or2N-5-DNA-ALL-basic-rep-Ridge-WbnRD10-P07-DEL7.80\n"
     ]
    },
    {
     "name": "stderr",
     "output_type": "stream",
     "text": [
      "[NbConvertApp] WARNING | Config option `template_path` not recognized by `NotebookExporter`.\n",
      "[NbConvertApp] Converting notebook 20-base_filtering.ipynb to notebook\n",
      "[NbConvertApp] Executing notebook with kernel: python2\n",
      "[NbConvertApp] Writing 210611 bytes to 21_4H_1or2N-5-DNA-ALL-basic-rep-core_vertical-Ridge-WbnRD10-P07-DEL6.00.ipynb\n"
     ]
    },
    {
     "name": "stdout",
     "output_type": "stream",
     "text": [
      "Wall time: 2h 3min 4s\n",
      "21_4H_1or2N-5-DNA-ALL-basic-rep-nter_core-Ridge-WbnRD10-P07-DEL7.30\n"
     ]
    },
    {
     "name": "stderr",
     "output_type": "stream",
     "text": [
      "[NbConvertApp] WARNING | Config option `template_path` not recognized by `NotebookExporter`.\n",
      "[NbConvertApp] Converting notebook 20-base_filtering.ipynb to notebook\n",
      "[NbConvertApp] Executing notebook with kernel: python2\n",
      "[NbConvertApp] Writing 280250 bytes to 21_4H_1or2N-5-DNA-ALL-basic-rep-Ridge-WbnRD10-P07-DEL7.80.ipynb\n"
     ]
    },
    {
     "name": "stdout",
     "output_type": "stream",
     "text": [
      "Wall time: 2h 38min 36s\n",
      "21_4H_1or2N-5-DNA-ALL-basic-rep-core_vertical-Ridge-WbnRD10-P07-DEL8.00\n"
     ]
    },
    {
     "name": "stderr",
     "output_type": "stream",
     "text": [
      "[NbConvertApp] WARNING | Config option `template_path` not recognized by `NotebookExporter`.\n",
      "[NbConvertApp] Converting notebook 20-base_filtering.ipynb to notebook\n",
      "[NbConvertApp] Executing notebook with kernel: python2\n",
      "[NbConvertApp] Writing 319969 bytes to 21_4H_1or2N-5-DNA-ALL-basic-rep-nter_core-Ridge-WbnRD10-P07-DEL7.30.ipynb\n"
     ]
    },
    {
     "name": "stdout",
     "output_type": "stream",
     "text": [
      "Wall time: 2h 12min 24s\n",
      "21_4H_1or2N-5-DNA-ALL-basic-rep-Ridge-WbnRD10-P07-DEL9.80\n"
     ]
    },
    {
     "name": "stderr",
     "output_type": "stream",
     "text": [
      "[NbConvertApp] WARNING | Config option `template_path` not recognized by `NotebookExporter`.\n",
      "[NbConvertApp] Converting notebook 20-base_filtering.ipynb to notebook\n",
      "[NbConvertApp] Executing notebook with kernel: python2\n",
      "[NbConvertApp] Writing 187862 bytes to 21_4H_1or2N-5-DNA-ALL-basic-rep-core_vertical-Ridge-WbnRD10-P07-DEL8.00.ipynb\n"
     ]
    },
    {
     "name": "stdout",
     "output_type": "stream",
     "text": [
      "Wall time: 54min 44s\n",
      "21_4H_1or2N-5-DNA-ALL-basic-rep-nter_core-Ridge-WbnRD10-P07-DEL9.30\n"
     ]
    },
    {
     "name": "stderr",
     "output_type": "stream",
     "text": [
      "[NbConvertApp] WARNING | Config option `template_path` not recognized by `NotebookExporter`.\n",
      "[NbConvertApp] Converting notebook 20-base_filtering.ipynb to notebook\n",
      "[NbConvertApp] Executing notebook with kernel: python2\n",
      "[NbConvertApp] Writing 165874 bytes to 21_4H_1or2N-5-DNA-ALL-basic-rep-Ridge-WbnRD10-P07-DEL9.80.ipynb\n"
     ]
    },
    {
     "name": "stdout",
     "output_type": "stream",
     "text": [
      "Wall time: 37min 57s\n",
      "21_4H_1or2N_sameGE-5-DNA-ALL-basic-rep-core_vertical-Ridge-WbnRD10-P07-DEL7.00\n"
     ]
    },
    {
     "name": "stderr",
     "output_type": "stream",
     "text": [
      "[NbConvertApp] WARNING | Config option `template_path` not recognized by `NotebookExporter`.\n",
      "[NbConvertApp] Converting notebook 20-base_filtering.ipynb to notebook\n",
      "[NbConvertApp] Executing notebook with kernel: python2\n",
      "[NbConvertApp] Writing 203021 bytes to 21_4H_1or2N-5-DNA-ALL-basic-rep-nter_core-Ridge-WbnRD10-P07-DEL9.30.ipynb\n"
     ]
    },
    {
     "name": "stdout",
     "output_type": "stream",
     "text": [
      "Wall time: 33.6 s\n",
      "21_4H_1or2N_sameGE-5-DNA-ALL-basic-rep-Ridge-WbnRD10-P07-DEL8.80\n"
     ]
    },
    {
     "name": "stderr",
     "output_type": "stream",
     "text": [
      "[NbConvertApp] WARNING | Config option `template_path` not recognized by `NotebookExporter`.\n",
      "[NbConvertApp] Converting notebook 20-base_filtering.ipynb to notebook\n",
      "[NbConvertApp] Executing notebook with kernel: python2\n",
      "[NbConvertApp] Writing 119608 bytes to 21_4H_1or2N_sameGE-5-DNA-ALL-basic-rep-core_vertical-Ridge-WbnRD10-P07-DEL7.00.ipynb\n"
     ]
    },
    {
     "name": "stdout",
     "output_type": "stream",
     "text": [
      "Wall time: 22.6 s\n",
      "21_4H_1or2N_sameGE-5-DNA-ALL-basic-rep-nter_core-Ridge-WbnRD10-P07-DEL8.30\n"
     ]
    },
    {
     "name": "stderr",
     "output_type": "stream",
     "text": [
      "[NbConvertApp] WARNING | Config option `template_path` not recognized by `NotebookExporter`.\n",
      "[NbConvertApp] Converting notebook 20-base_filtering.ipynb to notebook\n",
      "[NbConvertApp] Executing notebook with kernel: python2\n",
      "[NbConvertApp] Writing 109539 bytes to 21_4H_1or2N_sameGE-5-DNA-ALL-basic-rep-Ridge-WbnRD10-P07-DEL8.80.ipynb\n"
     ]
    },
    {
     "name": "stdout",
     "output_type": "stream",
     "text": [
      "Wall time: 23.6 s\n",
      "21_4H_1or2N_sameGE-5-DNA-ALL-basic-rep-core_vertical-Ridge-WbnRD10-P07-DEL6.00\n"
     ]
    },
    {
     "name": "stderr",
     "output_type": "stream",
     "text": [
      "[NbConvertApp] WARNING | Config option `template_path` not recognized by `NotebookExporter`.\n",
      "[NbConvertApp] Converting notebook 20-base_filtering.ipynb to notebook\n",
      "[NbConvertApp] Executing notebook with kernel: python2\n",
      "[NbConvertApp] Writing 113583 bytes to 21_4H_1or2N_sameGE-5-DNA-ALL-basic-rep-nter_core-Ridge-WbnRD10-P07-DEL8.30.ipynb\n"
     ]
    },
    {
     "name": "stdout",
     "output_type": "stream",
     "text": [
      "Wall time: 46.7 s\n",
      "21_4H_1or2N_sameGE-5-DNA-ALL-basic-rep-Ridge-WbnRD10-P07-DEL7.80\n"
     ]
    },
    {
     "name": "stderr",
     "output_type": "stream",
     "text": [
      "[NbConvertApp] WARNING | Config option `template_path` not recognized by `NotebookExporter`.\n",
      "[NbConvertApp] Converting notebook 20-base_filtering.ipynb to notebook\n",
      "[NbConvertApp] Executing notebook with kernel: python2\n",
      "[NbConvertApp] Writing 129755 bytes to 21_4H_1or2N_sameGE-5-DNA-ALL-basic-rep-core_vertical-Ridge-WbnRD10-P07-DEL6.00.ipynb\n"
     ]
    },
    {
     "name": "stdout",
     "output_type": "stream",
     "text": [
      "Wall time: 24.7 s\n",
      "21_4H_1or2N_sameGE-5-DNA-ALL-basic-rep-nter_core-Ridge-WbnRD10-P07-DEL7.30\n"
     ]
    },
    {
     "name": "stderr",
     "output_type": "stream",
     "text": [
      "[NbConvertApp] WARNING | Config option `template_path` not recognized by `NotebookExporter`.\n",
      "[NbConvertApp] Converting notebook 20-base_filtering.ipynb to notebook\n",
      "[NbConvertApp] Executing notebook with kernel: python2\n",
      "[NbConvertApp] Writing 118810 bytes to 21_4H_1or2N_sameGE-5-DNA-ALL-basic-rep-Ridge-WbnRD10-P07-DEL7.80.ipynb\n"
     ]
    },
    {
     "name": "stdout",
     "output_type": "stream",
     "text": [
      "Wall time: 24.6 s\n",
      "21_4H_1or2N_sameGE-5-DNA-ALL-basic-rep-core_vertical-Ridge-WbnRD10-P07-DEL8.00\n"
     ]
    },
    {
     "name": "stderr",
     "output_type": "stream",
     "text": [
      "[NbConvertApp] WARNING | Config option `template_path` not recognized by `NotebookExporter`.\n",
      "[NbConvertApp] Converting notebook 20-base_filtering.ipynb to notebook\n",
      "[NbConvertApp] Executing notebook with kernel: python2\n",
      "[NbConvertApp] Writing 116015 bytes to 21_4H_1or2N_sameGE-5-DNA-ALL-basic-rep-nter_core-Ridge-WbnRD10-P07-DEL7.30.ipynb\n"
     ]
    },
    {
     "name": "stdout",
     "output_type": "stream",
     "text": [
      "Wall time: 25.6 s\n",
      "21_4H_1or2N_sameGE-5-DNA-ALL-basic-rep-Ridge-WbnRD10-P07-DEL9.80\n"
     ]
    },
    {
     "name": "stderr",
     "output_type": "stream",
     "text": [
      "[NbConvertApp] WARNING | Config option `template_path` not recognized by `NotebookExporter`.\n",
      "[NbConvertApp] Converting notebook 20-base_filtering.ipynb to notebook\n",
      "[NbConvertApp] Executing notebook with kernel: python2\n",
      "[NbConvertApp] Writing 113571 bytes to 21_4H_1or2N_sameGE-5-DNA-ALL-basic-rep-core_vertical-Ridge-WbnRD10-P07-DEL8.00.ipynb\n"
     ]
    },
    {
     "name": "stdout",
     "output_type": "stream",
     "text": [
      "Wall time: 19.6 s\n",
      "21_4H_1or2N_sameGE-5-DNA-ALL-basic-rep-nter_core-Ridge-WbnRD10-P07-DEL9.30\n"
     ]
    },
    {
     "name": "stderr",
     "output_type": "stream",
     "text": [
      "[NbConvertApp] WARNING | Config option `template_path` not recognized by `NotebookExporter`.\n",
      "[NbConvertApp] Converting notebook 20-base_filtering.ipynb to notebook\n",
      "[NbConvertApp] Executing notebook with kernel: python2\n",
      "[NbConvertApp] Writing 100895 bytes to 21_4H_1or2N_sameGE-5-DNA-ALL-basic-rep-Ridge-WbnRD10-P07-DEL9.80.ipynb\n"
     ]
    },
    {
     "name": "stdout",
     "output_type": "stream",
     "text": [
      "Wall time: 24.6 s\n"
     ]
    },
    {
     "name": "stderr",
     "output_type": "stream",
     "text": [
      "[NbConvertApp] WARNING | Config option `template_path` not recognized by `NotebookExporter`.\n",
      "[NbConvertApp] Converting notebook 20-base_filtering.ipynb to notebook\n",
      "[NbConvertApp] Executing notebook with kernel: python2\n",
      "[NbConvertApp] Writing 101183 bytes to 21_4H_1or2N_sameGE-5-DNA-ALL-basic-rep-nter_core-Ridge-WbnRD10-P07-DEL9.30.ipynb\n"
     ]
    },
    {
     "data": {
      "text/plain": [
       "'21_4H_1or2N_sameGE-5-DNA-ALL-basic-rep-nter_core-Ridge-WbnRD10-P07-DEL9.30'"
      ]
     },
     "execution_count": 5,
     "metadata": {},
     "output_type": "execute_result"
    }
   ],
   "source": [
    "%time run_solver('DNA-ALL-basic-rep-core_vertical-Ridge-WbnRD10', 'P07', 7, '4H_1or2N')  \n",
    "%time run_solver('DNA-ALL-basic-rep-Ridge-WbnRD10', 'P07', 8.8, '4H_1or2N')  \n",
    "%time run_solver('DNA-ALL-basic-rep-nter_core-Ridge-WbnRD10', 'P07', 8.3, '4H_1or2N')  \n",
    "\n",
    "%time run_solver('DNA-ALL-basic-rep-core_vertical-Ridge-WbnRD10', 'P07', 7-1, '4H_1or2N')   \n",
    "%time run_solver('DNA-ALL-basic-rep-Ridge-WbnRD10', 'P07', 8.8-1, '4H_1or2N')  \n",
    "%time run_solver('DNA-ALL-basic-rep-nter_core-Ridge-WbnRD10', 'P07', 8.3-1, '4H_1or2N')  \n",
    "\n",
    "\n",
    "%time run_solver('DNA-ALL-basic-rep-core_vertical-Ridge-WbnRD10', 'P07', 7+1, '4H_1or2N')   \n",
    "%time run_solver('DNA-ALL-basic-rep-Ridge-WbnRD10', 'P07', 8.8+1, '4H_1or2N')  \n",
    "%time run_solver('DNA-ALL-basic-rep-nter_core-Ridge-WbnRD10', 'P07', 8.3+1, '4H_1or2N')  \n",
    "\n",
    "\n",
    "%time run_solver('DNA-ALL-basic-rep-core_vertical-Ridge-WbnRD10', 'P07', 7, '4H_1or2N_sameGE')   \n",
    "%time run_solver('DNA-ALL-basic-rep-Ridge-WbnRD10', 'P07', 8.8, '4H_1or2N_sameGE')  \n",
    "%time run_solver('DNA-ALL-basic-rep-nter_core-Ridge-WbnRD10', 'P07', 8.3, '4H_1or2N_sameGE')  \n",
    "\n",
    "%time run_solver('DNA-ALL-basic-rep-core_vertical-Ridge-WbnRD10', 'P07', 7-1, '4H_1or2N_sameGE')   \n",
    "%time run_solver('DNA-ALL-basic-rep-Ridge-WbnRD10', 'P07', 8.8-1, '4H_1or2N_sameGE')  \n",
    "%time run_solver('DNA-ALL-basic-rep-nter_core-Ridge-WbnRD10', 'P07', 8.3-1, '4H_1or2N_sameGE')  \n",
    "\n",
    "\n",
    "%time run_solver('DNA-ALL-basic-rep-core_vertical-Ridge-WbnRD10', 'P07', 7+1, '4H_1or2N_sameGE')   \n",
    "%time run_solver('DNA-ALL-basic-rep-Ridge-WbnRD10', 'P07', 8.8+1, '4H_1or2N_sameGE')  \n",
    "%time run_solver('DNA-ALL-basic-rep-nter_core-Ridge-WbnRD10', 'P07', 8.3+1, '4H_1or2N_sameGE')  "
   ]
  },
  {
   "cell_type": "code",
   "execution_count": 6,
   "metadata": {},
   "outputs": [
    {
     "name": "stdout",
     "output_type": "stream",
     "text": [
      "21_4H_1or2N-0-DNA-ALL-basicL-rep-Ridge-WbnRD10-P00-DEL6.20\n",
      "Wall time: 4h 15s\n",
      "21_4H_1or2N-5-DNA-ALL-basicL-rep-Ridge-WbnRD10-P07-DEL6.00\n"
     ]
    },
    {
     "name": "stderr",
     "output_type": "stream",
     "text": [
      "[NbConvertApp] WARNING | Config option `template_path` not recognized by `NotebookExporter`.\n",
      "[NbConvertApp] Converting notebook 20-base_filtering.ipynb to notebook\n",
      "[NbConvertApp] Executing notebook with kernel: python2\n",
      "[NbConvertApp] Writing 334774 bytes to 21_4H_1or2N-0-DNA-ALL-basicL-rep-Ridge-WbnRD10-P00-DEL6.20.ipynb\n"
     ]
    },
    {
     "name": "stdout",
     "output_type": "stream",
     "text": [
      "Wall time: 5h 26min 46s\n",
      "21_4H_1or2N-0-DNA-ALL-basicL-rep-core_vertical-Ridge-WbnRD10-P00-DEL6.00\n"
     ]
    },
    {
     "name": "stderr",
     "output_type": "stream",
     "text": [
      "[NbConvertApp] WARNING | Config option `template_path` not recognized by `NotebookExporter`.\n",
      "[NbConvertApp] Converting notebook 20-base_filtering.ipynb to notebook\n",
      "[NbConvertApp] Executing notebook with kernel: python2\n",
      "[NbConvertApp] Writing 392797 bytes to 21_4H_1or2N-5-DNA-ALL-basicL-rep-Ridge-WbnRD10-P07-DEL6.00.ipynb\n"
     ]
    },
    {
     "name": "stdout",
     "output_type": "stream",
     "text": [
      "Wall time: 3h 50min 43s\n",
      "21_4H_1or2N-5-DNA-ALL-basicL-rep-core_vertical-Ridge-WbnRD10-P07-DEL7.00\n"
     ]
    },
    {
     "name": "stderr",
     "output_type": "stream",
     "text": [
      "[NbConvertApp] WARNING | Config option `template_path` not recognized by `NotebookExporter`.\n",
      "[NbConvertApp] Converting notebook 20-base_filtering.ipynb to notebook\n",
      "[NbConvertApp] Executing notebook with kernel: python2\n",
      "[NbConvertApp] Writing 314520 bytes to 21_4H_1or2N-0-DNA-ALL-basicL-rep-core_vertical-Ridge-WbnRD10-P00-DEL6.00.ipynb\n"
     ]
    },
    {
     "name": "stdout",
     "output_type": "stream",
     "text": [
      "Wall time: 3h 56min 34s\n",
      "21_4H_1or2N-0-DNA-ALL-basicL-rep-nter_core-Ridge-WbnRD10-P00-DEL7.20\n"
     ]
    },
    {
     "name": "stderr",
     "output_type": "stream",
     "text": [
      "[NbConvertApp] WARNING | Config option `template_path` not recognized by `NotebookExporter`.\n",
      "[NbConvertApp] Converting notebook 20-base_filtering.ipynb to notebook\n",
      "[NbConvertApp] Executing notebook with kernel: python2\n",
      "[NbConvertApp] Writing 265901 bytes to 21_4H_1or2N-5-DNA-ALL-basicL-rep-core_vertical-Ridge-WbnRD10-P07-DEL7.00.ipynb\n"
     ]
    },
    {
     "name": "stdout",
     "output_type": "stream",
     "text": [
      "Wall time: 1h 58min 51s\n",
      "21_4H_1or2N-5-DNA-ALL-basicL-rep-nter_core-Ridge-WbnRD10-P07-DEL8.30\n"
     ]
    },
    {
     "name": "stderr",
     "output_type": "stream",
     "text": [
      "[NbConvertApp] WARNING | Config option `template_path` not recognized by `NotebookExporter`.\n",
      "[NbConvertApp] Converting notebook 20-base_filtering.ipynb to notebook\n",
      "[NbConvertApp] Executing notebook with kernel: python2\n",
      "[NbConvertApp] Writing 303744 bytes to 21_4H_1or2N-0-DNA-ALL-basicL-rep-nter_core-Ridge-WbnRD10-P00-DEL7.20.ipynb\n"
     ]
    },
    {
     "name": "stdout",
     "output_type": "stream",
     "text": [
      "Wall time: 1h 29min 14s\n"
     ]
    },
    {
     "name": "stderr",
     "output_type": "stream",
     "text": [
      "[NbConvertApp] WARNING | Config option `template_path` not recognized by `NotebookExporter`.\n",
      "[NbConvertApp] Converting notebook 20-base_filtering.ipynb to notebook\n",
      "[NbConvertApp] Executing notebook with kernel: python2\n",
      "[NbConvertApp] Writing 350166 bytes to 21_4H_1or2N-5-DNA-ALL-basicL-rep-nter_core-Ridge-WbnRD10-P07-DEL8.30.ipynb\n"
     ]
    },
    {
     "data": {
      "text/plain": [
       "'21_4H_1or2N-5-DNA-ALL-basicL-rep-nter_core-Ridge-WbnRD10-P07-DEL8.30'"
      ]
     },
     "execution_count": 6,
     "metadata": {},
     "output_type": "execute_result"
    }
   ],
   "source": [
    "%time run_solver('DNA-ALL-basicL-rep-Ridge-WbnRD10', 'P00', 7.2-1, '4H_1or2N') \n",
    "%time run_solver('DNA-ALL-basicL-rep-Ridge-WbnRD10', 'P07', 7-1, '4H_1or2N')  \n",
    "\n",
    "%time run_solver('DNA-ALL-basicL-rep-core_vertical-Ridge-WbnRD10', 'P00', 6, '4H_1or2N') \n",
    "%time run_solver('DNA-ALL-basicL-rep-core_vertical-Ridge-WbnRD10', 'P07', 7, '4H_1or2N')   \n",
    "%time run_solver('DNA-ALL-basicL-rep-nter_core-Ridge-WbnRD10', 'P00', 7.2, '4H_1or2N')  \n",
    "%time run_solver('DNA-ALL-basicL-rep-nter_core-Ridge-WbnRD10', 'P07', 8.3, '4H_1or2N')  "
   ]
  },
  {
   "cell_type": "code",
   "execution_count": 4,
   "metadata": {},
   "outputs": [
    {
     "name": "stdout",
     "output_type": "stream",
     "text": [
      "21_4H_2N-5-DNA-ALL-basic-rep-core_vertical-Ridge-WbnRD10-P07-DEL6.00\n",
      "Wall time: 2h 7min 51s\n",
      "21_4H_2N-5-DNA-ALL-basic-rep-nter_core-Ridge-WbnRD10-P07-DEL7.30\n"
     ]
    },
    {
     "name": "stderr",
     "output_type": "stream",
     "text": [
      "[NbConvertApp] WARNING | Config option `template_path` not recognized by `NotebookExporter`.\n",
      "[NbConvertApp] Converting notebook 20-base_filtering.ipynb to notebook\n",
      "[NbConvertApp] Executing notebook with kernel: python2\n",
      "[NbConvertApp] Writing 583826 bytes to 21_4H_2N-5-DNA-ALL-basic-rep-core_vertical-Ridge-WbnRD10-P07-DEL6.00.ipynb\n"
     ]
    },
    {
     "name": "stdout",
     "output_type": "stream",
     "text": [
      "Wall time: 45min 36s\n",
      "21_4H_2N-5-DNA-ALL-basic-rep-Ridge-WbnRD10-P07-DEL7.80\n"
     ]
    },
    {
     "name": "stderr",
     "output_type": "stream",
     "text": [
      "[NbConvertApp] WARNING | Config option `template_path` not recognized by `NotebookExporter`.\n",
      "[NbConvertApp] Converting notebook 20-base_filtering.ipynb to notebook\n",
      "[NbConvertApp] Executing notebook with kernel: python2\n",
      "[NbConvertApp] Writing 415072 bytes to 21_4H_2N-5-DNA-ALL-basic-rep-nter_core-Ridge-WbnRD10-P07-DEL7.30.ipynb\n"
     ]
    },
    {
     "name": "stdout",
     "output_type": "stream",
     "text": [
      "Wall time: 38min 18s\n"
     ]
    },
    {
     "name": "stderr",
     "output_type": "stream",
     "text": [
      "[NbConvertApp] WARNING | Config option `template_path` not recognized by `NotebookExporter`.\n",
      "[NbConvertApp] Converting notebook 20-base_filtering.ipynb to notebook\n",
      "[NbConvertApp] Executing notebook with kernel: python2\n",
      "[NbConvertApp] Writing 397429 bytes to 21_4H_2N-5-DNA-ALL-basic-rep-Ridge-WbnRD10-P07-DEL7.80.ipynb\n"
     ]
    },
    {
     "data": {
      "text/plain": [
       "'21_4H_2N-5-DNA-ALL-basic-rep-Ridge-WbnRD10-P07-DEL7.80'"
      ]
     },
     "execution_count": 4,
     "metadata": {},
     "output_type": "execute_result"
    }
   ],
   "source": [
    "%time run_solver('DNA-ALL-basic-rep-core_vertical-Ridge-WbnRD10', 'P07', 7-1, '4H_2N', timeout_s=600) \n",
    "%time run_solver('DNA-ALL-basic-rep-nter_core-Ridge-WbnRD10', 'P07', 8.3-1, '4H_2N', timeout_s=600)  \n",
    "%time run_solver('DNA-ALL-basic-rep-Ridge-WbnRD10', 'P07', 8.8-1, '4H_2N', timeout_s=600)  "
   ]
  },
  {
   "cell_type": "code",
   "execution_count": 7,
   "metadata": {},
   "outputs": [
    {
     "name": "stdout",
     "output_type": "stream",
     "text": [
      "21_4H_2N-5-DNA-ALL-basic-rep-core_vertical-Ridge-WbnRD10-P07-DEL8.00\n",
      "Wall time: 37min 32s\n",
      "21_4H_2N-5-DNA-ALL-basic-rep-nter_core-Ridge-WbnRD10-P07-DEL8.30\n"
     ]
    },
    {
     "name": "stderr",
     "output_type": "stream",
     "text": [
      "[NbConvertApp] WARNING | Config option `template_path` not recognized by `NotebookExporter`.\n",
      "[NbConvertApp] Converting notebook 20-base_filtering.ipynb to notebook\n",
      "[NbConvertApp] Executing notebook with kernel: python2\n",
      "[NbConvertApp] Writing 456564 bytes to 21_4H_2N-5-DNA-ALL-basic-rep-core_vertical-Ridge-WbnRD10-P07-DEL8.00.ipynb\n"
     ]
    },
    {
     "name": "stdout",
     "output_type": "stream",
     "text": [
      "Wall time: 35min 14s\n",
      "21_4H_2N-5-DNA-ALL-basic-rep-nter_core-Ridge-WbnRD10-P07-DEL9.30\n"
     ]
    },
    {
     "name": "stderr",
     "output_type": "stream",
     "text": [
      "[NbConvertApp] WARNING | Config option `template_path` not recognized by `NotebookExporter`.\n",
      "[NbConvertApp] Converting notebook 20-base_filtering.ipynb to notebook\n",
      "[NbConvertApp] Executing notebook with kernel: python2\n",
      "[NbConvertApp] Writing 544538 bytes to 21_4H_2N-5-DNA-ALL-basic-rep-nter_core-Ridge-WbnRD10-P07-DEL8.30.ipynb\n"
     ]
    },
    {
     "name": "stdout",
     "output_type": "stream",
     "text": [
      "Wall time: 4min 38s\n",
      "21_4H_2N-5-DNA-ALL-basic-rep-Ridge-WbnRD10-P07-DEL8.80\n"
     ]
    },
    {
     "name": "stderr",
     "output_type": "stream",
     "text": [
      "[NbConvertApp] WARNING | Config option `template_path` not recognized by `NotebookExporter`.\n",
      "[NbConvertApp] Converting notebook 20-base_filtering.ipynb to notebook\n",
      "[NbConvertApp] Executing notebook with kernel: python2\n",
      "[NbConvertApp] Writing 424738 bytes to 21_4H_2N-5-DNA-ALL-basic-rep-nter_core-Ridge-WbnRD10-P07-DEL9.30.ipynb\n"
     ]
    },
    {
     "name": "stdout",
     "output_type": "stream",
     "text": [
      "Wall time: 20min 18s\n",
      "21_4H_2N-5-DNA-ALL-basic-rep-Ridge-WbnRD10-P07-DEL9.80\n"
     ]
    },
    {
     "name": "stderr",
     "output_type": "stream",
     "text": [
      "[NbConvertApp] WARNING | Config option `template_path` not recognized by `NotebookExporter`.\n",
      "[NbConvertApp] Converting notebook 20-base_filtering.ipynb to notebook\n",
      "[NbConvertApp] Executing notebook with kernel: python2\n",
      "[NbConvertApp] Writing 300069 bytes to 21_4H_2N-5-DNA-ALL-basic-rep-Ridge-WbnRD10-P07-DEL8.80.ipynb\n"
     ]
    },
    {
     "name": "stdout",
     "output_type": "stream",
     "text": [
      "Wall time: 3min 5s\n"
     ]
    },
    {
     "name": "stderr",
     "output_type": "stream",
     "text": [
      "[NbConvertApp] WARNING | Config option `template_path` not recognized by `NotebookExporter`.\n",
      "[NbConvertApp] Converting notebook 20-base_filtering.ipynb to notebook\n",
      "[NbConvertApp] Executing notebook with kernel: python2\n",
      "[NbConvertApp] Writing 203335 bytes to 21_4H_2N-5-DNA-ALL-basic-rep-Ridge-WbnRD10-P07-DEL9.80.ipynb\n"
     ]
    },
    {
     "data": {
      "text/plain": [
       "'21_4H_2N-5-DNA-ALL-basic-rep-Ridge-WbnRD10-P07-DEL9.80'"
      ]
     },
     "execution_count": 7,
     "metadata": {},
     "output_type": "execute_result"
    }
   ],
   "source": [
    "#%time run_solver('DNA-ALL-basic-rep-core_vertical-Ridge-WbnRD10', 'P07', 7-1, '4H_2N')   \n",
    "#%time run_solver('DNA-ALL-basic-rep-core_vertical-Ridge-WbnRD10', 'P07', 7, '4H_2N')  \n",
    "%time run_solver('DNA-ALL-basic-rep-core_vertical-Ridge-WbnRD10', 'P07', 7+1, '4H_2N')   \n",
    "\n",
    "#%time run_solver('DNA-ALL-basic-rep-nter_core-Ridge-WbnRD10', 'P07', 8.3-1, '4H_2N')  \n",
    "%time run_solver('DNA-ALL-basic-rep-nter_core-Ridge-WbnRD10', 'P07', 8.3  , '4H_2N')  \n",
    "%time run_solver('DNA-ALL-basic-rep-nter_core-Ridge-WbnRD10', 'P07', 8.3+1, '4H_2N')  \n",
    "\n",
    "#%time run_solver('DNA-ALL-basic-rep-Ridge-WbnRD10', 'P07', 8.8-1, '4H_2N')  \n",
    "%time run_solver('DNA-ALL-basic-rep-Ridge-WbnRD10', 'P07', 8.8  , '4H_2N')  \n",
    "%time run_solver('DNA-ALL-basic-rep-Ridge-WbnRD10', 'P07', 8.8+1, '4H_2N')  \n"
   ]
  },
  {
   "cell_type": "code",
   "execution_count": 5,
   "metadata": {},
   "outputs": [
    {
     "name": "stdout",
     "output_type": "stream",
     "text": [
      "21_4H_1or2N_not_last_only-5-DNA-ALL-basic-rep-core_vertical-Ridge-WbnRD10-P07-DEL6.00\n",
      "Wall time: 4h 48min 50s\n",
      "21_4H_1or2N_not_last_only-5-DNA-ALL-basic-rep-nter_core-Ridge-WbnRD10-P07-DEL7.30\n"
     ]
    },
    {
     "name": "stderr",
     "output_type": "stream",
     "text": [
      "[NbConvertApp] WARNING | Config option `template_path` not recognized by `NotebookExporter`.\n",
      "[NbConvertApp] Converting notebook 20-base_filtering.ipynb to notebook\n",
      "[NbConvertApp] Executing notebook with kernel: python2\n",
      "[NbConvertApp] Writing 266141 bytes to 21_4H_1or2N_not_last_only-5-DNA-ALL-basic-rep-core_vertical-Ridge-WbnRD10-P07-DEL6.00.ipynb\n"
     ]
    },
    {
     "name": "stdout",
     "output_type": "stream",
     "text": [
      "Wall time: 1h 57min 12s\n",
      "21_4H_1or2N_not_last_only-5-DNA-ALL-basic-rep-Ridge-WbnRD10-P07-DEL7.80\n"
     ]
    },
    {
     "name": "stderr",
     "output_type": "stream",
     "text": [
      "[NbConvertApp] WARNING | Config option `template_path` not recognized by `NotebookExporter`.\n",
      "[NbConvertApp] Converting notebook 20-base_filtering.ipynb to notebook\n",
      "[NbConvertApp] Executing notebook with kernel: python2\n",
      "[NbConvertApp] Writing 539698 bytes to 21_4H_1or2N_not_last_only-5-DNA-ALL-basic-rep-nter_core-Ridge-WbnRD10-P07-DEL7.30.ipynb\n"
     ]
    },
    {
     "name": "stdout",
     "output_type": "stream",
     "text": [
      "Wall time: 1h 25min 57s\n"
     ]
    },
    {
     "name": "stderr",
     "output_type": "stream",
     "text": [
      "[NbConvertApp] WARNING | Config option `template_path` not recognized by `NotebookExporter`.\n",
      "[NbConvertApp] Converting notebook 20-base_filtering.ipynb to notebook\n",
      "[NbConvertApp] Executing notebook with kernel: python2\n",
      "[NbConvertApp] Writing 611542 bytes to 21_4H_1or2N_not_last_only-5-DNA-ALL-basic-rep-Ridge-WbnRD10-P07-DEL7.80.ipynb\n"
     ]
    },
    {
     "data": {
      "text/plain": [
       "'21_4H_1or2N_not_last_only-5-DNA-ALL-basic-rep-Ridge-WbnRD10-P07-DEL7.80'"
      ]
     },
     "execution_count": 5,
     "metadata": {},
     "output_type": "execute_result"
    }
   ],
   "source": [
    "%time run_solver('DNA-ALL-basic-rep-core_vertical-Ridge-WbnRD10', 'P07', 7-1, '4H_1or2N_not_last_only')   \n",
    "%time run_solver('DNA-ALL-basic-rep-nter_core-Ridge-WbnRD10', 'P07', 8.3-1, '4H_1or2N_not_last_only')\n",
    "%time run_solver('DNA-ALL-basic-rep-Ridge-WbnRD10', 'P07', 8.8-1, '4H_1or2N_not_last_only')  "
   ]
  },
  {
   "cell_type": "code",
   "execution_count": 6,
   "metadata": {},
   "outputs": [
    {
     "name": "stdout",
     "output_type": "stream",
     "text": [
      "21_4H_1or2N_not_last_only-5-DNA-ALL-basic-rep-core_vertical-Ridge-WbnRD10-P07-DEL7.00\n",
      "Wall time: 3h 2min 1s\n",
      "21_4H_1or2N_not_last_only-5-DNA-ALL-basic-rep-core_vertical-Ridge-WbnRD10-P07-DEL8.00\n"
     ]
    },
    {
     "name": "stderr",
     "output_type": "stream",
     "text": [
      "[NbConvertApp] WARNING | Config option `template_path` not recognized by `NotebookExporter`.\n",
      "[NbConvertApp] Converting notebook 20-base_filtering.ipynb to notebook\n",
      "[NbConvertApp] Executing notebook with kernel: python2\n",
      "[NbConvertApp] Writing 428732 bytes to 21_4H_1or2N_not_last_only-5-DNA-ALL-basic-rep-core_vertical-Ridge-WbnRD10-P07-DEL7.00.ipynb\n"
     ]
    },
    {
     "name": "stdout",
     "output_type": "stream",
     "text": [
      "Wall time: 2h 6min 47s\n",
      "21_4H_1or2N_not_last_only-5-DNA-ALL-basic-rep-nter_core-Ridge-WbnRD10-P07-DEL8.30\n"
     ]
    },
    {
     "name": "stderr",
     "output_type": "stream",
     "text": [
      "[NbConvertApp] WARNING | Config option `template_path` not recognized by `NotebookExporter`.\n",
      "[NbConvertApp] Converting notebook 20-base_filtering.ipynb to notebook\n",
      "[NbConvertApp] Executing notebook with kernel: python2\n",
      "[NbConvertApp] Writing 387343 bytes to 21_4H_1or2N_not_last_only-5-DNA-ALL-basic-rep-core_vertical-Ridge-WbnRD10-P07-DEL8.00.ipynb\n"
     ]
    },
    {
     "name": "stdout",
     "output_type": "stream",
     "text": [
      "Wall time: 1h 15min 30s\n",
      "21_4H_1or2N_not_last_only-5-DNA-ALL-basic-rep-nter_core-Ridge-WbnRD10-P07-DEL9.30\n"
     ]
    },
    {
     "name": "stderr",
     "output_type": "stream",
     "text": [
      "[NbConvertApp] WARNING | Config option `template_path` not recognized by `NotebookExporter`.\n",
      "[NbConvertApp] Converting notebook 20-base_filtering.ipynb to notebook\n",
      "[NbConvertApp] Executing notebook with kernel: python2\n",
      "[NbConvertApp] Writing 514845 bytes to 21_4H_1or2N_not_last_only-5-DNA-ALL-basic-rep-nter_core-Ridge-WbnRD10-P07-DEL8.30.ipynb\n"
     ]
    },
    {
     "name": "stdout",
     "output_type": "stream",
     "text": [
      "Wall time: 23min 10s\n",
      "21_4H_1or2N_not_last_only-5-DNA-ALL-basic-rep-Ridge-WbnRD10-P07-DEL8.80\n"
     ]
    },
    {
     "name": "stderr",
     "output_type": "stream",
     "text": [
      "[NbConvertApp] WARNING | Config option `template_path` not recognized by `NotebookExporter`.\n",
      "[NbConvertApp] Converting notebook 20-base_filtering.ipynb to notebook\n",
      "[NbConvertApp] Executing notebook with kernel: python2\n",
      "[NbConvertApp] Writing 580547 bytes to 21_4H_1or2N_not_last_only-5-DNA-ALL-basic-rep-nter_core-Ridge-WbnRD10-P07-DEL9.30.ipynb\n"
     ]
    },
    {
     "name": "stdout",
     "output_type": "stream",
     "text": [
      "Wall time: 1h 6min 52s\n",
      "21_4H_1or2N_not_last_only-5-DNA-ALL-basic-rep-Ridge-WbnRD10-P07-DEL9.80\n"
     ]
    },
    {
     "name": "stderr",
     "output_type": "stream",
     "text": [
      "[NbConvertApp] WARNING | Config option `template_path` not recognized by `NotebookExporter`.\n",
      "[NbConvertApp] Converting notebook 20-base_filtering.ipynb to notebook\n",
      "[NbConvertApp] Executing notebook with kernel: python2\n",
      "[NbConvertApp] Writing 422846 bytes to 21_4H_1or2N_not_last_only-5-DNA-ALL-basic-rep-Ridge-WbnRD10-P07-DEL8.80.ipynb\n"
     ]
    },
    {
     "name": "stdout",
     "output_type": "stream",
     "text": [
      "Wall time: 27min 9s\n"
     ]
    },
    {
     "name": "stderr",
     "output_type": "stream",
     "text": [
      "[NbConvertApp] WARNING | Config option `template_path` not recognized by `NotebookExporter`.\n",
      "[NbConvertApp] Converting notebook 20-base_filtering.ipynb to notebook\n",
      "[NbConvertApp] Executing notebook with kernel: python2\n",
      "[NbConvertApp] Writing 233211 bytes to 21_4H_1or2N_not_last_only-5-DNA-ALL-basic-rep-Ridge-WbnRD10-P07-DEL9.80.ipynb\n"
     ]
    },
    {
     "data": {
      "text/plain": [
       "'21_4H_1or2N_not_last_only-5-DNA-ALL-basic-rep-Ridge-WbnRD10-P07-DEL9.80'"
      ]
     },
     "execution_count": 6,
     "metadata": {},
     "output_type": "execute_result"
    }
   ],
   "source": [
    "#%time run_solver('DNA-ALL-basic-rep-core_vertical-Ridge-WbnRD10', 'P07', 7-1, '4H_1or2N_not_last_only')   \n",
    "%time run_solver('DNA-ALL-basic-rep-core_vertical-Ridge-WbnRD10', 'P07', 7, '4H_1or2N_not_last_only')  \n",
    "%time run_solver('DNA-ALL-basic-rep-core_vertical-Ridge-WbnRD10', 'P07', 7+1, '4H_1or2N_not_last_only')   \n",
    "\n",
    "#%time run_solver('DNA-ALL-basic-rep-nter_core-Ridge-WbnRD10', 'P07', 8.3-1, '4H_1or2N_not_last_only')  \n",
    "%time run_solver('DNA-ALL-basic-rep-nter_core-Ridge-WbnRD10', 'P07', 8.3  , '4H_1or2N_not_last_only')  \n",
    "%time run_solver('DNA-ALL-basic-rep-nter_core-Ridge-WbnRD10', 'P07', 8.3+1, '4H_1or2N_not_last_only')  \n",
    "\n",
    "#%time run_solver('DNA-ALL-basic-rep-Ridge-WbnRD10', 'P07', 8.8-1, '4H_1or2N_not_last_only')  \n",
    "%time run_solver('DNA-ALL-basic-rep-Ridge-WbnRD10', 'P07', 8.8  , '4H_1or2N_not_last_only')  \n",
    "%time run_solver('DNA-ALL-basic-rep-Ridge-WbnRD10', 'P07', 8.8+1, '4H_1or2N_not_last_only')  "
   ]
  },
  {
   "cell_type": "code",
   "execution_count": null,
   "metadata": {},
   "outputs": [],
   "source": []
  }
 ],
 "metadata": {
  "anaconda-cloud": {},
  "hide_input": false,
  "kernelspec": {
   "display_name": "Python [default]",
   "language": "python",
   "name": "python2"
  },
  "language_info": {
   "codemirror_mode": {
    "name": "ipython",
    "version": 2
   },
   "file_extension": ".py",
   "mimetype": "text/x-python",
   "name": "python",
   "nbconvert_exporter": "python",
   "pygments_lexer": "ipython2",
   "version": "2.7.11"
  }
 },
 "nbformat": 4,
 "nbformat_minor": 2
}