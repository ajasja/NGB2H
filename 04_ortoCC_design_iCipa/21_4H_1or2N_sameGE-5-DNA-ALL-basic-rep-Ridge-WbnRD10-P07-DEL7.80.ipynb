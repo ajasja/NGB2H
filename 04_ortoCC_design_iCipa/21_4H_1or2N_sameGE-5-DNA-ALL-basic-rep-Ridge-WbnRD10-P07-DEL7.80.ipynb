{
 "cells": [
  {
   "cell_type": "code",
   "execution_count": 1,
   "metadata": {
    "collapsed": false
   },
   "outputs": [
    {
     "name": "stdout",
     "output_type": "stream",
     "text": [
      "d:\\data\\ortoCC\\fine_tune_scoring_function\\NEW_sets\n",
      "\n",
      "fit_name = DNA-ALL-basic-rep-Ridge-WbnRD10\n",
      "N_iter = 5\n",
      "alignment = P07\n",
      "delta = 7.8\n",
      "set_type = 4H_1or2N_sameGE\n"
     ]
    },
    {
     "ename": "TypeError",
     "evalue": "cannot concatenate 'str' and 'int' objects",
     "output_type": "error",
     "traceback": [
      "\u001b[1;31m\u001b[0m",
      "\u001b[1;31mTypeError\u001b[0mTraceback (most recent call last)",
      "\u001b[1;32m<ipython-input-1-bc9af346ea5d>\u001b[0m in \u001b[0;36m<module>\u001b[1;34m()\u001b[0m\n\u001b[0;32m     50\u001b[0m \u001b[1;32mprint\u001b[0m\u001b[1;33m(\u001b[0m\u001b[1;34m\"delta = \"\u001b[0m \u001b[1;33m+\u001b[0m \u001b[0mstr\u001b[0m\u001b[1;33m(\u001b[0m\u001b[0mdelta\u001b[0m\u001b[1;33m)\u001b[0m\u001b[1;33m)\u001b[0m\u001b[1;33m\u001b[0m\u001b[0m\n\u001b[0;32m     51\u001b[0m \u001b[1;32mprint\u001b[0m\u001b[1;33m(\u001b[0m\u001b[1;34m\"set_type = \"\u001b[0m \u001b[1;33m+\u001b[0m\u001b[0mset_type\u001b[0m\u001b[1;33m)\u001b[0m\u001b[1;33m\u001b[0m\u001b[0m\n\u001b[1;32m---> 52\u001b[1;33m \u001b[1;32mprint\u001b[0m\u001b[1;33m(\u001b[0m\u001b[1;34m\"timeout_s = \"\u001b[0m \u001b[1;33m+\u001b[0m\u001b[0mtimeout_s\u001b[0m\u001b[1;33m)\u001b[0m\u001b[1;33m\u001b[0m\u001b[0m\n\u001b[0m",
      "\u001b[1;31mTypeError\u001b[0m: cannot concatenate 'str' and 'int' objects"
     ]
    }
   ],
   "source": [
    "from __future__ import division, absolute_import, print_function\n",
    "%load_ext autoreload\n",
    "%autoreload 2\n",
    "\n",
    "from hepran.bzipscore import *\n",
    "import hepran.utils as u\n",
    "import hepran.registers as r\n",
    "import os\n",
    "CCO = os.environ.get(\"CCO\", r\"C:\\Projekti_KI\\ortoCC\\CoiledCoilOrtho\")\n",
    "\n",
    "#os.chdir(r\"D:\\data\\ortoCC\\design-with-alignments\\4heptade-7\")\n",
    "print(os.getcwd())\n",
    "\n",
    "#score the fasta (takes about 10 min)\n",
    "#!{CCO}/fastscore.exe full4heptad.fasta --out-name=full4heptad_B07 --align=-7,0,7 --orientation=B\n",
    "\n",
    "\n",
    "\n",
    "fit_name = 'DNA-ALL-basicL-rep-core_vertical-Ridge-WbnRD10'\n",
    "N_iter = 5\n",
    "\n",
    "#cutoff line:\n",
    "alignment = \"P07\"\n",
    "delta = 7\n",
    "set_type = '4H_1or2N_sameGE'\n",
    "\n",
    "\n",
    "#read ENV vars if they are set\n",
    "N_iter = int(os.environ.get('N_iter', N_iter))\n",
    "fit_name = os.environ.get('fit_name', fit_name)\n",
    "delta = float(os.environ.get('delta', delta))\n",
    "alignment = os.environ.get('alignment', alignment)\n",
    "set_type = os.environ.get('set_type', set_type)\n",
    "timeout_s = int(os.environ.get('timeout_s', 1000))\n",
    "al = alignment\n",
    "\n",
    "\n",
    "name = '{set_type}_{N_iter}_{fit_name}'.format(**locals())\n",
    "\n",
    "dir_name = name+\"-{al}-DEL{delta:.2f}\".format(**locals())\n",
    "\n",
    "\n",
    "input_fasta = 'full4heptad.fasta'\n",
    "input_score_file = '../scores/{N_iter}_{fit_name}-{al}.bin'.format(**locals())\n",
    "\n",
    "print(\"\")\n",
    "print(\"fit_name = \" +fit_name)\n",
    "print(\"N_iter = \" + str(N_iter))\n",
    "print(\"alignment = \" +alignment)\n",
    "print(\"delta = \" + str(delta))\n",
    "print(\"set_type = \" +set_type)\n",
    "print(\"timeout_s = \" +timeout_s)"
   ]
  },
  {
   "cell_type": "code",
   "execution_count": 2,
   "metadata": {},
   "outputs": [],
   "source": []
  },
  {
   "cell_type": "code",
   "execution_count": 2,
   "metadata": {
    "collapsed": false
   },
   "outputs": [
    {
     "name": "stdout",
     "output_type": "stream",
     "text": [
      "160\n",
      "4H_1or2N_sameGE_5_DNA-ALL-basic-rep-Ridge-WbnRD10.bin\n"
     ]
    }
   ],
   "source": [
    "filtered_fasta = set_type+'.fasta'\n",
    "score_file = name+'.bin'\n",
    "#if not os.path.isfile(filtered_fasta): \n",
    "#Filtering\n",
    "ids = get_ids_from_fasta(input_fasta)\n",
    "fasta = u.load_fasta(input_fasta)\n",
    "\n",
    "if set_type == '4H_1or2N':\n",
    "    filtered_ids = [i for i in ids if r.one_or_two_N(fasta[i], 'f')]\n",
    "    print(len(filtered_ids))\n",
    "if set_type == '4H_1or2N_sameGE':\n",
    "    filtered_ids = [i for i in ids if r.one_or_two_N(fasta[i], 'f') and r.same_ge(fasta[i], 'f')]\n",
    "    print(len(filtered_ids))\n",
    "    \n",
    "\n",
    "filter_fasta(fasta, filtered_ids, filtered_fasta)\n",
    "\n",
    "filter_bin_score_file(input_score_file, input_fasta, filtered_ids, score_file, invert=True)\n",
    "print(score_file)"
   ]
  },
  {
   "cell_type": "code",
   "execution_count": 3,
   "metadata": {
    "collapsed": false
   },
   "outputs": [
    {
     "name": "stdout",
     "output_type": "stream",
     "text": [
      "The autoreload extension is already loaded. To reload it, use:\n",
      "  %reload_ext autoreload\n"
     ]
    }
   ],
   "source": [
    "from __future__ import division, absolute_import, print_function\n",
    "%load_ext autoreload\n",
    "%autoreload 2\n",
    "import os\n",
    "\n",
    "import hepran\n",
    "from hepran.bzipscore import *\n",
    "import hepran.utils as u\n",
    "import hepran.registers as r\n",
    "import numpy as np\n",
    "CCO = os.environ.get(\"CCO\",r\"C:\\Projekti_KI\\ortoCC\\CoiledCoilOrtho\")\n",
    "from glob import glob\n",
    "import pandas as pd\n",
    "from StringIO import StringIO\n",
    "\n",
    "%matplotlib inline\n",
    "import matplotlib as mpl\n",
    "import matplotlib.pyplot as plt\n",
    "import seaborn as sns\n",
    "\n",
    "sns.set_context('talk',  font_scale=1.5)\n",
    "sns.set_style('white')"
   ]
  },
  {
   "cell_type": "code",
   "execution_count": 4,
   "metadata": {
    "collapsed": false
   },
   "outputs": [
    {
     "name": "stdout",
     "output_type": "stream",
     "text": [
      "4H_1or2N_sameGE_5_DNA-ALL-basic-rep-Ridge-WbnRD10-P07-DEL7.80\n",
      "21\n"
     ]
    },
    {
     "data": {
      "text/plain": [
       "[Cutoff(binding=-35.0, nonbinding=-27.199999999999999),\n",
       " Cutoff(binding=-36.0, nonbinding=-28.199999999999999),\n",
       " Cutoff(binding=-37.0, nonbinding=-29.199999999999999),\n",
       " Cutoff(binding=-38.0, nonbinding=-30.199999999999999),\n",
       " Cutoff(binding=-39.0, nonbinding=-31.199999999999999),\n",
       " Cutoff(binding=-40.0, nonbinding=-32.200000000000003),\n",
       " Cutoff(binding=-41.0, nonbinding=-33.200000000000003),\n",
       " Cutoff(binding=-42.0, nonbinding=-34.200000000000003),\n",
       " Cutoff(binding=-43.0, nonbinding=-35.200000000000003),\n",
       " Cutoff(binding=-44.0, nonbinding=-36.200000000000003),\n",
       " Cutoff(binding=-45.0, nonbinding=-37.200000000000003),\n",
       " Cutoff(binding=-46.0, nonbinding=-38.200000000000003),\n",
       " Cutoff(binding=-47.0, nonbinding=-39.200000000000003),\n",
       " Cutoff(binding=-48.0, nonbinding=-40.200000000000003),\n",
       " Cutoff(binding=-49.0, nonbinding=-41.200000000000003),\n",
       " Cutoff(binding=-50.0, nonbinding=-42.200000000000003),\n",
       " Cutoff(binding=-51.0, nonbinding=-43.200000000000003),\n",
       " Cutoff(binding=-52.0, nonbinding=-44.200000000000003),\n",
       " Cutoff(binding=-53.0, nonbinding=-45.200000000000003),\n",
       " Cutoff(binding=-54.0, nonbinding=-46.200000000000003),\n",
       " Cutoff(binding=-55.0, nonbinding=-47.200000000000003)]"
      ]
     },
     "execution_count": 4,
     "metadata": {},
     "output_type": "execute_result"
    }
   ],
   "source": [
    "c_list = []\n",
    "print(dir_name)\n",
    "for bc in np.linspace(-35,-55, 21):\n",
    "    nc = bc + delta\n",
    "    cutoff = u.Cutoff(binding=bc, nonbinding=nc)\n",
    "    c_list.append(cutoff)\n",
    "            \n",
    "print(len(c_list))\n",
    "c_list"
   ]
  },
  {
   "cell_type": "code",
   "execution_count": 5,
   "metadata": {
    "collapsed": false,
    "scrolled": true
   },
   "outputs": [
    {
     "name": "stdout",
     "output_type": "stream",
     "text": [
      "Cutoff(binding=-35.0, nonbinding=-27.199999999999999)\n",
      "Cutoff(binding=-36.0, nonbinding=-28.199999999999999)\n"
     ]
    },
    {
     "name": "stderr",
     "output_type": "stream",
     "text": [
      "c:\\projekti_ki\\ortocc\\agadir\\hepran\\bzipscore.py:1000: UserWarning: File does not exist: 4H_1or2N_sameGE_5_DNA-ALL-basic-rep-Ridge-WbnRD10-P07-DEL7.80/4H_1or2N_sameGE_5_DNA-ALL-basic-rep-Ridge-WbnRD10_P07_bc-36.00_nc-28.20/homo.set.current\n",
      "  warnings.warn(\"File does not exist: \" + current_name)\n"
     ]
    },
    {
     "name": "stdout",
     "output_type": "stream",
     "text": [
      "Cutoff(binding=-37.0, nonbinding=-29.199999999999999)\n"
     ]
    },
    {
     "name": "stderr",
     "output_type": "stream",
     "text": [
      "c:\\projekti_ki\\ortocc\\agadir\\hepran\\bzipscore.py:1000: UserWarning: File does not exist: 4H_1or2N_sameGE_5_DNA-ALL-basic-rep-Ridge-WbnRD10-P07-DEL7.80/4H_1or2N_sameGE_5_DNA-ALL-basic-rep-Ridge-WbnRD10_P07_bc-37.00_nc-29.20/homo.set.current\n",
      "  warnings.warn(\"File does not exist: \" + current_name)\n"
     ]
    },
    {
     "name": "stdout",
     "output_type": "stream",
     "text": [
      "Cutoff(binding=-38.0, nonbinding=-30.199999999999999)\n"
     ]
    },
    {
     "name": "stderr",
     "output_type": "stream",
     "text": [
      "c:\\projekti_ki\\ortocc\\agadir\\hepran\\bzipscore.py:1000: UserWarning: File does not exist: 4H_1or2N_sameGE_5_DNA-ALL-basic-rep-Ridge-WbnRD10-P07-DEL7.80/4H_1or2N_sameGE_5_DNA-ALL-basic-rep-Ridge-WbnRD10_P07_bc-38.00_nc-30.20/homo.set.current\n",
      "  warnings.warn(\"File does not exist: \" + current_name)\n"
     ]
    },
    {
     "name": "stdout",
     "output_type": "stream",
     "text": [
      "Cutoff(binding=-39.0, nonbinding=-31.199999999999999)\n"
     ]
    },
    {
     "name": "stderr",
     "output_type": "stream",
     "text": [
      "c:\\projekti_ki\\ortocc\\agadir\\hepran\\bzipscore.py:1000: UserWarning: File does not exist: 4H_1or2N_sameGE_5_DNA-ALL-basic-rep-Ridge-WbnRD10-P07-DEL7.80/4H_1or2N_sameGE_5_DNA-ALL-basic-rep-Ridge-WbnRD10_P07_bc-39.00_nc-31.20/homo.set.current\n",
      "  warnings.warn(\"File does not exist: \" + current_name)\n"
     ]
    },
    {
     "name": "stdout",
     "output_type": "stream",
     "text": [
      "Cutoff(binding=-40.0, nonbinding=-32.200000000000003)\n"
     ]
    },
    {
     "name": "stderr",
     "output_type": "stream",
     "text": [
      "c:\\projekti_ki\\ortocc\\agadir\\hepran\\bzipscore.py:1000: UserWarning: File does not exist: 4H_1or2N_sameGE_5_DNA-ALL-basic-rep-Ridge-WbnRD10-P07-DEL7.80/4H_1or2N_sameGE_5_DNA-ALL-basic-rep-Ridge-WbnRD10_P07_bc-40.00_nc-32.20/homo.set.current\n",
      "  warnings.warn(\"File does not exist: \" + current_name)\n"
     ]
    },
    {
     "name": "stdout",
     "output_type": "stream",
     "text": [
      "Cutoff(binding=-41.0, nonbinding=-33.200000000000003)\n"
     ]
    },
    {
     "name": "stderr",
     "output_type": "stream",
     "text": [
      "c:\\projekti_ki\\ortocc\\agadir\\hepran\\bzipscore.py:1000: UserWarning: File does not exist: 4H_1or2N_sameGE_5_DNA-ALL-basic-rep-Ridge-WbnRD10-P07-DEL7.80/4H_1or2N_sameGE_5_DNA-ALL-basic-rep-Ridge-WbnRD10_P07_bc-41.00_nc-33.20/homo.set.current\n",
      "  warnings.warn(\"File does not exist: \" + current_name)\n"
     ]
    },
    {
     "name": "stdout",
     "output_type": "stream",
     "text": [
      "Cutoff(binding=-42.0, nonbinding=-34.200000000000003)\n"
     ]
    },
    {
     "name": "stderr",
     "output_type": "stream",
     "text": [
      "c:\\projekti_ki\\ortocc\\agadir\\hepran\\bzipscore.py:1000: UserWarning: File does not exist: 4H_1or2N_sameGE_5_DNA-ALL-basic-rep-Ridge-WbnRD10-P07-DEL7.80/4H_1or2N_sameGE_5_DNA-ALL-basic-rep-Ridge-WbnRD10_P07_bc-42.00_nc-34.20/homo.set.current\n",
      "  warnings.warn(\"File does not exist: \" + current_name)\n"
     ]
    },
    {
     "name": "stdout",
     "output_type": "stream",
     "text": [
      "Cutoff(binding=-43.0, nonbinding=-35.200000000000003)\n"
     ]
    },
    {
     "name": "stderr",
     "output_type": "stream",
     "text": [
      "c:\\projekti_ki\\ortocc\\agadir\\hepran\\bzipscore.py:1000: UserWarning: File does not exist: 4H_1or2N_sameGE_5_DNA-ALL-basic-rep-Ridge-WbnRD10-P07-DEL7.80/4H_1or2N_sameGE_5_DNA-ALL-basic-rep-Ridge-WbnRD10_P07_bc-43.00_nc-35.20/homo.set.current\n",
      "  warnings.warn(\"File does not exist: \" + current_name)\n"
     ]
    },
    {
     "name": "stdout",
     "output_type": "stream",
     "text": [
      "4H_1or2N_sameGE_5_DNA-ALL-basic-rep-Ridge-WbnRD10-P07-DEL7.80/4H_1or2N_sameGE_5_DNA-ALL-basic-rep-Ridge-WbnRD10_P07_bc-43.00_nc-35.20/all.00.set\n",
      "4H_1or2N_sameGE_5_DNA-ALL-basic-rep-Ridge-WbnRD10-P07-DEL7.80/4H_1or2N_sameGE_5_DNA-ALL-basic-rep-Ridge-WbnRD10_P07_bc-43.00_nc-35.20/all.01.set\n",
      "4H_1or2N_sameGE_5_DNA-ALL-basic-rep-Ridge-WbnRD10-P07-DEL7.80/4H_1or2N_sameGE_5_DNA-ALL-basic-rep-Ridge-WbnRD10_P07_bc-43.00_nc-35.20/all.02.set\n",
      "4H_1or2N_sameGE_5_DNA-ALL-basic-rep-Ridge-WbnRD10-P07-DEL7.80/4H_1or2N_sameGE_5_DNA-ALL-basic-rep-Ridge-WbnRD10_P07_bc-43.00_nc-35.20/hetero.00.set\n",
      "4H_1or2N_sameGE_5_DNA-ALL-basic-rep-Ridge-WbnRD10-P07-DEL7.80/4H_1or2N_sameGE_5_DNA-ALL-basic-rep-Ridge-WbnRD10_P07_bc-43.00_nc-35.20/hetero.01.set\n",
      "4H_1or2N_sameGE_5_DNA-ALL-basic-rep-Ridge-WbnRD10-P07-DEL7.80/4H_1or2N_sameGE_5_DNA-ALL-basic-rep-Ridge-WbnRD10_P07_bc-43.00_nc-35.20/hetero.02.set\n",
      "Cutoff(binding=-44.0, nonbinding=-36.200000000000003)\n"
     ]
    },
    {
     "name": "stderr",
     "output_type": "stream",
     "text": [
      "c:\\projekti_ki\\ortocc\\agadir\\hepran\\bzipscore.py:1000: UserWarning: File does not exist: 4H_1or2N_sameGE_5_DNA-ALL-basic-rep-Ridge-WbnRD10-P07-DEL7.80/4H_1or2N_sameGE_5_DNA-ALL-basic-rep-Ridge-WbnRD10_P07_bc-44.00_nc-36.20/homo.set.current\n",
      "  warnings.warn(\"File does not exist: \" + current_name)\n"
     ]
    },
    {
     "name": "stdout",
     "output_type": "stream",
     "text": [
      "4H_1or2N_sameGE_5_DNA-ALL-basic-rep-Ridge-WbnRD10-P07-DEL7.80/4H_1or2N_sameGE_5_DNA-ALL-basic-rep-Ridge-WbnRD10_P07_bc-44.00_nc-36.20/all.00.set\n",
      "4H_1or2N_sameGE_5_DNA-ALL-basic-rep-Ridge-WbnRD10-P07-DEL7.80/4H_1or2N_sameGE_5_DNA-ALL-basic-rep-Ridge-WbnRD10_P07_bc-44.00_nc-36.20/all.01.set\n",
      "4H_1or2N_sameGE_5_DNA-ALL-basic-rep-Ridge-WbnRD10-P07-DEL7.80/4H_1or2N_sameGE_5_DNA-ALL-basic-rep-Ridge-WbnRD10_P07_bc-44.00_nc-36.20/all.02.set\n",
      "4H_1or2N_sameGE_5_DNA-ALL-basic-rep-Ridge-WbnRD10-P07-DEL7.80/4H_1or2N_sameGE_5_DNA-ALL-basic-rep-Ridge-WbnRD10_P07_bc-44.00_nc-36.20/all.03.set\n",
      "4H_1or2N_sameGE_5_DNA-ALL-basic-rep-Ridge-WbnRD10-P07-DEL7.80/4H_1or2N_sameGE_5_DNA-ALL-basic-rep-Ridge-WbnRD10_P07_bc-44.00_nc-36.20/all.04.set\n",
      "4H_1or2N_sameGE_5_DNA-ALL-basic-rep-Ridge-WbnRD10-P07-DEL7.80/4H_1or2N_sameGE_5_DNA-ALL-basic-rep-Ridge-WbnRD10_P07_bc-44.00_nc-36.20/all.05.set\n",
      "4H_1or2N_sameGE_5_DNA-ALL-basic-rep-Ridge-WbnRD10-P07-DEL7.80/4H_1or2N_sameGE_5_DNA-ALL-basic-rep-Ridge-WbnRD10_P07_bc-44.00_nc-36.20/all.06.set\n",
      "4H_1or2N_sameGE_5_DNA-ALL-basic-rep-Ridge-WbnRD10-P07-DEL7.80/4H_1or2N_sameGE_5_DNA-ALL-basic-rep-Ridge-WbnRD10_P07_bc-44.00_nc-36.20/all.07.set\n",
      "4H_1or2N_sameGE_5_DNA-ALL-basic-rep-Ridge-WbnRD10-P07-DEL7.80/4H_1or2N_sameGE_5_DNA-ALL-basic-rep-Ridge-WbnRD10_P07_bc-44.00_nc-36.20/all.08.set\n",
      "4H_1or2N_sameGE_5_DNA-ALL-basic-rep-Ridge-WbnRD10-P07-DEL7.80/4H_1or2N_sameGE_5_DNA-ALL-basic-rep-Ridge-WbnRD10_P07_bc-44.00_nc-36.20/all.09.set\n",
      "4H_1or2N_sameGE_5_DNA-ALL-basic-rep-Ridge-WbnRD10-P07-DEL7.80/4H_1or2N_sameGE_5_DNA-ALL-basic-rep-Ridge-WbnRD10_P07_bc-44.00_nc-36.20/all.10.set\n",
      "4H_1or2N_sameGE_5_DNA-ALL-basic-rep-Ridge-WbnRD10-P07-DEL7.80/4H_1or2N_sameGE_5_DNA-ALL-basic-rep-Ridge-WbnRD10_P07_bc-44.00_nc-36.20/all.11.set\n",
      "4H_1or2N_sameGE_5_DNA-ALL-basic-rep-Ridge-WbnRD10-P07-DEL7.80/4H_1or2N_sameGE_5_DNA-ALL-basic-rep-Ridge-WbnRD10_P07_bc-44.00_nc-36.20/all.12.set\n",
      "4H_1or2N_sameGE_5_DNA-ALL-basic-rep-Ridge-WbnRD10-P07-DEL7.80/4H_1or2N_sameGE_5_DNA-ALL-basic-rep-Ridge-WbnRD10_P07_bc-44.00_nc-36.20/all.13.set\n",
      "4H_1or2N_sameGE_5_DNA-ALL-basic-rep-Ridge-WbnRD10-P07-DEL7.80/4H_1or2N_sameGE_5_DNA-ALL-basic-rep-Ridge-WbnRD10_P07_bc-44.00_nc-36.20/all.14.set\n",
      "4H_1or2N_sameGE_5_DNA-ALL-basic-rep-Ridge-WbnRD10-P07-DEL7.80/4H_1or2N_sameGE_5_DNA-ALL-basic-rep-Ridge-WbnRD10_P07_bc-44.00_nc-36.20/all.15.set\n",
      "4H_1or2N_sameGE_5_DNA-ALL-basic-rep-Ridge-WbnRD10-P07-DEL7.80/4H_1or2N_sameGE_5_DNA-ALL-basic-rep-Ridge-WbnRD10_P07_bc-44.00_nc-36.20/hetero.00.set\n",
      "4H_1or2N_sameGE_5_DNA-ALL-basic-rep-Ridge-WbnRD10-P07-DEL7.80/4H_1or2N_sameGE_5_DNA-ALL-basic-rep-Ridge-WbnRD10_P07_bc-44.00_nc-36.20/hetero.01.set\n",
      "4H_1or2N_sameGE_5_DNA-ALL-basic-rep-Ridge-WbnRD10-P07-DEL7.80/4H_1or2N_sameGE_5_DNA-ALL-basic-rep-Ridge-WbnRD10_P07_bc-44.00_nc-36.20/hetero.02.set\n",
      "4H_1or2N_sameGE_5_DNA-ALL-basic-rep-Ridge-WbnRD10-P07-DEL7.80/4H_1or2N_sameGE_5_DNA-ALL-basic-rep-Ridge-WbnRD10_P07_bc-44.00_nc-36.20/hetero.03.set\n",
      "4H_1or2N_sameGE_5_DNA-ALL-basic-rep-Ridge-WbnRD10-P07-DEL7.80/4H_1or2N_sameGE_5_DNA-ALL-basic-rep-Ridge-WbnRD10_P07_bc-44.00_nc-36.20/hetero.04.set\n",
      "4H_1or2N_sameGE_5_DNA-ALL-basic-rep-Ridge-WbnRD10-P07-DEL7.80/4H_1or2N_sameGE_5_DNA-ALL-basic-rep-Ridge-WbnRD10_P07_bc-44.00_nc-36.20/hetero.05.set\n",
      "4H_1or2N_sameGE_5_DNA-ALL-basic-rep-Ridge-WbnRD10-P07-DEL7.80/4H_1or2N_sameGE_5_DNA-ALL-basic-rep-Ridge-WbnRD10_P07_bc-44.00_nc-36.20/hetero.06.set\n",
      "4H_1or2N_sameGE_5_DNA-ALL-basic-rep-Ridge-WbnRD10-P07-DEL7.80/4H_1or2N_sameGE_5_DNA-ALL-basic-rep-Ridge-WbnRD10_P07_bc-44.00_nc-36.20/hetero.07.set\n",
      "4H_1or2N_sameGE_5_DNA-ALL-basic-rep-Ridge-WbnRD10-P07-DEL7.80/4H_1or2N_sameGE_5_DNA-ALL-basic-rep-Ridge-WbnRD10_P07_bc-44.00_nc-36.20/hetero.08.set\n",
      "4H_1or2N_sameGE_5_DNA-ALL-basic-rep-Ridge-WbnRD10-P07-DEL7.80/4H_1or2N_sameGE_5_DNA-ALL-basic-rep-Ridge-WbnRD10_P07_bc-44.00_nc-36.20/hetero.09.set\n",
      "4H_1or2N_sameGE_5_DNA-ALL-basic-rep-Ridge-WbnRD10-P07-DEL7.80/4H_1or2N_sameGE_5_DNA-ALL-basic-rep-Ridge-WbnRD10_P07_bc-44.00_nc-36.20/hetero.10.set\n",
      "4H_1or2N_sameGE_5_DNA-ALL-basic-rep-Ridge-WbnRD10-P07-DEL7.80/4H_1or2N_sameGE_5_DNA-ALL-basic-rep-Ridge-WbnRD10_P07_bc-44.00_nc-36.20/hetero.11.set\n",
      "4H_1or2N_sameGE_5_DNA-ALL-basic-rep-Ridge-WbnRD10-P07-DEL7.80/4H_1or2N_sameGE_5_DNA-ALL-basic-rep-Ridge-WbnRD10_P07_bc-44.00_nc-36.20/hetero.12.set\n",
      "4H_1or2N_sameGE_5_DNA-ALL-basic-rep-Ridge-WbnRD10-P07-DEL7.80/4H_1or2N_sameGE_5_DNA-ALL-basic-rep-Ridge-WbnRD10_P07_bc-44.00_nc-36.20/hetero.13.set\n",
      "4H_1or2N_sameGE_5_DNA-ALL-basic-rep-Ridge-WbnRD10-P07-DEL7.80/4H_1or2N_sameGE_5_DNA-ALL-basic-rep-Ridge-WbnRD10_P07_bc-44.00_nc-36.20/hetero.14.set\n",
      "4H_1or2N_sameGE_5_DNA-ALL-basic-rep-Ridge-WbnRD10-P07-DEL7.80/4H_1or2N_sameGE_5_DNA-ALL-basic-rep-Ridge-WbnRD10_P07_bc-44.00_nc-36.20/hetero.15.set\n",
      "Cutoff(binding=-45.0, nonbinding=-37.200000000000003)\n"
     ]
    },
    {
     "name": "stderr",
     "output_type": "stream",
     "text": [
      "c:\\projekti_ki\\ortocc\\agadir\\hepran\\bzipscore.py:1000: UserWarning: File does not exist: 4H_1or2N_sameGE_5_DNA-ALL-basic-rep-Ridge-WbnRD10-P07-DEL7.80/4H_1or2N_sameGE_5_DNA-ALL-basic-rep-Ridge-WbnRD10_P07_bc-45.00_nc-37.20/homo.set.current\n",
      "  warnings.warn(\"File does not exist: \" + current_name)\n"
     ]
    },
    {
     "name": "stdout",
     "output_type": "stream",
     "text": [
      "4H_1or2N_sameGE_5_DNA-ALL-basic-rep-Ridge-WbnRD10-P07-DEL7.80/4H_1or2N_sameGE_5_DNA-ALL-basic-rep-Ridge-WbnRD10_P07_bc-45.00_nc-37.20/all.00.set\n",
      "4H_1or2N_sameGE_5_DNA-ALL-basic-rep-Ridge-WbnRD10-P07-DEL7.80/4H_1or2N_sameGE_5_DNA-ALL-basic-rep-Ridge-WbnRD10_P07_bc-45.00_nc-37.20/all.01.set\n",
      "4H_1or2N_sameGE_5_DNA-ALL-basic-rep-Ridge-WbnRD10-P07-DEL7.80/4H_1or2N_sameGE_5_DNA-ALL-basic-rep-Ridge-WbnRD10_P07_bc-45.00_nc-37.20/all.02.set\n",
      "4H_1or2N_sameGE_5_DNA-ALL-basic-rep-Ridge-WbnRD10-P07-DEL7.80/4H_1or2N_sameGE_5_DNA-ALL-basic-rep-Ridge-WbnRD10_P07_bc-45.00_nc-37.20/all.03.set\n",
      "4H_1or2N_sameGE_5_DNA-ALL-basic-rep-Ridge-WbnRD10-P07-DEL7.80/4H_1or2N_sameGE_5_DNA-ALL-basic-rep-Ridge-WbnRD10_P07_bc-45.00_nc-37.20/all.04.set\n",
      "4H_1or2N_sameGE_5_DNA-ALL-basic-rep-Ridge-WbnRD10-P07-DEL7.80/4H_1or2N_sameGE_5_DNA-ALL-basic-rep-Ridge-WbnRD10_P07_bc-45.00_nc-37.20/all.05.set\n",
      "4H_1or2N_sameGE_5_DNA-ALL-basic-rep-Ridge-WbnRD10-P07-DEL7.80/4H_1or2N_sameGE_5_DNA-ALL-basic-rep-Ridge-WbnRD10_P07_bc-45.00_nc-37.20/hetero.00.set\n",
      "4H_1or2N_sameGE_5_DNA-ALL-basic-rep-Ridge-WbnRD10-P07-DEL7.80/4H_1or2N_sameGE_5_DNA-ALL-basic-rep-Ridge-WbnRD10_P07_bc-45.00_nc-37.20/hetero.01.set\n",
      "4H_1or2N_sameGE_5_DNA-ALL-basic-rep-Ridge-WbnRD10-P07-DEL7.80/4H_1or2N_sameGE_5_DNA-ALL-basic-rep-Ridge-WbnRD10_P07_bc-45.00_nc-37.20/hetero.02.set\n",
      "4H_1or2N_sameGE_5_DNA-ALL-basic-rep-Ridge-WbnRD10-P07-DEL7.80/4H_1or2N_sameGE_5_DNA-ALL-basic-rep-Ridge-WbnRD10_P07_bc-45.00_nc-37.20/hetero.03.set\n",
      "4H_1or2N_sameGE_5_DNA-ALL-basic-rep-Ridge-WbnRD10-P07-DEL7.80/4H_1or2N_sameGE_5_DNA-ALL-basic-rep-Ridge-WbnRD10_P07_bc-45.00_nc-37.20/hetero.04.set\n",
      "4H_1or2N_sameGE_5_DNA-ALL-basic-rep-Ridge-WbnRD10-P07-DEL7.80/4H_1or2N_sameGE_5_DNA-ALL-basic-rep-Ridge-WbnRD10_P07_bc-45.00_nc-37.20/hetero.05.set\n",
      "Cutoff(binding=-46.0, nonbinding=-38.200000000000003)\n"
     ]
    },
    {
     "name": "stderr",
     "output_type": "stream",
     "text": [
      "c:\\projekti_ki\\ortocc\\agadir\\hepran\\bzipscore.py:1000: UserWarning: File does not exist: 4H_1or2N_sameGE_5_DNA-ALL-basic-rep-Ridge-WbnRD10-P07-DEL7.80/4H_1or2N_sameGE_5_DNA-ALL-basic-rep-Ridge-WbnRD10_P07_bc-46.00_nc-38.20/homo.set.current\n",
      "  warnings.warn(\"File does not exist: \" + current_name)\n",
      "c:\\projekti_ki\\ortocc\\agadir\\hepran\\bzipscore.py:1000: UserWarning: File does not exist: 4H_1or2N_sameGE_5_DNA-ALL-basic-rep-Ridge-WbnRD10-P07-DEL7.80/4H_1or2N_sameGE_5_DNA-ALL-basic-rep-Ridge-WbnRD10_P07_bc-47.00_nc-39.20/homo.set.current\n",
      "  warnings.warn(\"File does not exist: \" + current_name)\n"
     ]
    },
    {
     "name": "stdout",
     "output_type": "stream",
     "text": [
      "4H_1or2N_sameGE_5_DNA-ALL-basic-rep-Ridge-WbnRD10-P07-DEL7.80/4H_1or2N_sameGE_5_DNA-ALL-basic-rep-Ridge-WbnRD10_P07_bc-46.00_nc-38.20/all.00.set\n",
      "4H_1or2N_sameGE_5_DNA-ALL-basic-rep-Ridge-WbnRD10-P07-DEL7.80/4H_1or2N_sameGE_5_DNA-ALL-basic-rep-Ridge-WbnRD10_P07_bc-46.00_nc-38.20/all.01.set\n",
      "4H_1or2N_sameGE_5_DNA-ALL-basic-rep-Ridge-WbnRD10-P07-DEL7.80/4H_1or2N_sameGE_5_DNA-ALL-basic-rep-Ridge-WbnRD10_P07_bc-46.00_nc-38.20/hetero.00.set\n",
      "4H_1or2N_sameGE_5_DNA-ALL-basic-rep-Ridge-WbnRD10-P07-DEL7.80/4H_1or2N_sameGE_5_DNA-ALL-basic-rep-Ridge-WbnRD10_P07_bc-46.00_nc-38.20/hetero.01.set\n",
      "Cutoff(binding=-47.0, nonbinding=-39.200000000000003)\n",
      "4H_1or2N_sameGE_5_DNA-ALL-basic-rep-Ridge-WbnRD10-P07-DEL7.80/4H_1or2N_sameGE_5_DNA-ALL-basic-rep-Ridge-WbnRD10_P07_bc-47.00_nc-39.20/all.00.set\n",
      "4H_1or2N_sameGE_5_DNA-ALL-basic-rep-Ridge-WbnRD10-P07-DEL7.80/4H_1or2N_sameGE_5_DNA-ALL-basic-rep-Ridge-WbnRD10_P07_bc-47.00_nc-39.20/hetero.00.set\n",
      "Cutoff(binding=-48.0, nonbinding=-40.200000000000003)\n"
     ]
    },
    {
     "name": "stderr",
     "output_type": "stream",
     "text": [
      "c:\\projekti_ki\\ortocc\\agadir\\hepran\\bzipscore.py:1000: UserWarning: File does not exist: 4H_1or2N_sameGE_5_DNA-ALL-basic-rep-Ridge-WbnRD10-P07-DEL7.80/4H_1or2N_sameGE_5_DNA-ALL-basic-rep-Ridge-WbnRD10_P07_bc-48.00_nc-40.20/homo.set.current\n",
      "  warnings.warn(\"File does not exist: \" + current_name)\n"
     ]
    },
    {
     "name": "stdout",
     "output_type": "stream",
     "text": [
      "4H_1or2N_sameGE_5_DNA-ALL-basic-rep-Ridge-WbnRD10-P07-DEL7.80/4H_1or2N_sameGE_5_DNA-ALL-basic-rep-Ridge-WbnRD10_P07_bc-48.00_nc-40.20/all.00.set\n",
      "4H_1or2N_sameGE_5_DNA-ALL-basic-rep-Ridge-WbnRD10-P07-DEL7.80/4H_1or2N_sameGE_5_DNA-ALL-basic-rep-Ridge-WbnRD10_P07_bc-48.00_nc-40.20/all.01.set\n",
      "4H_1or2N_sameGE_5_DNA-ALL-basic-rep-Ridge-WbnRD10-P07-DEL7.80/4H_1or2N_sameGE_5_DNA-ALL-basic-rep-Ridge-WbnRD10_P07_bc-48.00_nc-40.20/all.02.set\n",
      "4H_1or2N_sameGE_5_DNA-ALL-basic-rep-Ridge-WbnRD10-P07-DEL7.80/4H_1or2N_sameGE_5_DNA-ALL-basic-rep-Ridge-WbnRD10_P07_bc-48.00_nc-40.20/all.03.set\n",
      "4H_1or2N_sameGE_5_DNA-ALL-basic-rep-Ridge-WbnRD10-P07-DEL7.80/4H_1or2N_sameGE_5_DNA-ALL-basic-rep-Ridge-WbnRD10_P07_bc-48.00_nc-40.20/all.04.set\n",
      "4H_1or2N_sameGE_5_DNA-ALL-basic-rep-Ridge-WbnRD10-P07-DEL7.80/4H_1or2N_sameGE_5_DNA-ALL-basic-rep-Ridge-WbnRD10_P07_bc-48.00_nc-40.20/all.05.set\n",
      "4H_1or2N_sameGE_5_DNA-ALL-basic-rep-Ridge-WbnRD10-P07-DEL7.80/4H_1or2N_sameGE_5_DNA-ALL-basic-rep-Ridge-WbnRD10_P07_bc-48.00_nc-40.20/hetero.00.set\n",
      "4H_1or2N_sameGE_5_DNA-ALL-basic-rep-Ridge-WbnRD10-P07-DEL7.80/4H_1or2N_sameGE_5_DNA-ALL-basic-rep-Ridge-WbnRD10_P07_bc-48.00_nc-40.20/hetero.01.set\n",
      "4H_1or2N_sameGE_5_DNA-ALL-basic-rep-Ridge-WbnRD10-P07-DEL7.80/4H_1or2N_sameGE_5_DNA-ALL-basic-rep-Ridge-WbnRD10_P07_bc-48.00_nc-40.20/hetero.02.set\n",
      "4H_1or2N_sameGE_5_DNA-ALL-basic-rep-Ridge-WbnRD10-P07-DEL7.80/4H_1or2N_sameGE_5_DNA-ALL-basic-rep-Ridge-WbnRD10_P07_bc-48.00_nc-40.20/hetero.03.set\n",
      "4H_1or2N_sameGE_5_DNA-ALL-basic-rep-Ridge-WbnRD10-P07-DEL7.80/4H_1or2N_sameGE_5_DNA-ALL-basic-rep-Ridge-WbnRD10_P07_bc-48.00_nc-40.20/hetero.04.set\n",
      "4H_1or2N_sameGE_5_DNA-ALL-basic-rep-Ridge-WbnRD10-P07-DEL7.80/4H_1or2N_sameGE_5_DNA-ALL-basic-rep-Ridge-WbnRD10_P07_bc-48.00_nc-40.20/hetero.05.set\n",
      "Cutoff(binding=-49.0, nonbinding=-41.200000000000003)\n"
     ]
    },
    {
     "name": "stderr",
     "output_type": "stream",
     "text": [
      "c:\\projekti_ki\\ortocc\\agadir\\hepran\\bzipscore.py:1000: UserWarning: File does not exist: 4H_1or2N_sameGE_5_DNA-ALL-basic-rep-Ridge-WbnRD10-P07-DEL7.80/4H_1or2N_sameGE_5_DNA-ALL-basic-rep-Ridge-WbnRD10_P07_bc-49.00_nc-41.20/homo.set.current\n",
      "  warnings.warn(\"File does not exist: \" + current_name)\n"
     ]
    },
    {
     "name": "stdout",
     "output_type": "stream",
     "text": [
      "4H_1or2N_sameGE_5_DNA-ALL-basic-rep-Ridge-WbnRD10-P07-DEL7.80/4H_1or2N_sameGE_5_DNA-ALL-basic-rep-Ridge-WbnRD10_P07_bc-49.00_nc-41.20/all.00.set\n",
      "4H_1or2N_sameGE_5_DNA-ALL-basic-rep-Ridge-WbnRD10-P07-DEL7.80/4H_1or2N_sameGE_5_DNA-ALL-basic-rep-Ridge-WbnRD10_P07_bc-49.00_nc-41.20/all.01.set\n",
      "4H_1or2N_sameGE_5_DNA-ALL-basic-rep-Ridge-WbnRD10-P07-DEL7.80/4H_1or2N_sameGE_5_DNA-ALL-basic-rep-Ridge-WbnRD10_P07_bc-49.00_nc-41.20/all.02.set\n",
      "4H_1or2N_sameGE_5_DNA-ALL-basic-rep-Ridge-WbnRD10-P07-DEL7.80/4H_1or2N_sameGE_5_DNA-ALL-basic-rep-Ridge-WbnRD10_P07_bc-49.00_nc-41.20/all.03.set\n",
      "4H_1or2N_sameGE_5_DNA-ALL-basic-rep-Ridge-WbnRD10-P07-DEL7.80/4H_1or2N_sameGE_5_DNA-ALL-basic-rep-Ridge-WbnRD10_P07_bc-49.00_nc-41.20/all.04.set\n",
      "4H_1or2N_sameGE_5_DNA-ALL-basic-rep-Ridge-WbnRD10-P07-DEL7.80/4H_1or2N_sameGE_5_DNA-ALL-basic-rep-Ridge-WbnRD10_P07_bc-49.00_nc-41.20/all.05.set\n",
      "4H_1or2N_sameGE_5_DNA-ALL-basic-rep-Ridge-WbnRD10-P07-DEL7.80/4H_1or2N_sameGE_5_DNA-ALL-basic-rep-Ridge-WbnRD10_P07_bc-49.00_nc-41.20/all.06.set\n",
      "4H_1or2N_sameGE_5_DNA-ALL-basic-rep-Ridge-WbnRD10-P07-DEL7.80/4H_1or2N_sameGE_5_DNA-ALL-basic-rep-Ridge-WbnRD10_P07_bc-49.00_nc-41.20/all.07.set\n",
      "4H_1or2N_sameGE_5_DNA-ALL-basic-rep-Ridge-WbnRD10-P07-DEL7.80/4H_1or2N_sameGE_5_DNA-ALL-basic-rep-Ridge-WbnRD10_P07_bc-49.00_nc-41.20/all.08.set\n",
      "4H_1or2N_sameGE_5_DNA-ALL-basic-rep-Ridge-WbnRD10-P07-DEL7.80/4H_1or2N_sameGE_5_DNA-ALL-basic-rep-Ridge-WbnRD10_P07_bc-49.00_nc-41.20/all.09.set\n",
      "4H_1or2N_sameGE_5_DNA-ALL-basic-rep-Ridge-WbnRD10-P07-DEL7.80/4H_1or2N_sameGE_5_DNA-ALL-basic-rep-Ridge-WbnRD10_P07_bc-49.00_nc-41.20/all.10.set\n",
      "4H_1or2N_sameGE_5_DNA-ALL-basic-rep-Ridge-WbnRD10-P07-DEL7.80/4H_1or2N_sameGE_5_DNA-ALL-basic-rep-Ridge-WbnRD10_P07_bc-49.00_nc-41.20/all.11.set\n",
      "4H_1or2N_sameGE_5_DNA-ALL-basic-rep-Ridge-WbnRD10-P07-DEL7.80/4H_1or2N_sameGE_5_DNA-ALL-basic-rep-Ridge-WbnRD10_P07_bc-49.00_nc-41.20/all.12.set\n",
      "4H_1or2N_sameGE_5_DNA-ALL-basic-rep-Ridge-WbnRD10-P07-DEL7.80/4H_1or2N_sameGE_5_DNA-ALL-basic-rep-Ridge-WbnRD10_P07_bc-49.00_nc-41.20/all.13.set\n",
      "4H_1or2N_sameGE_5_DNA-ALL-basic-rep-Ridge-WbnRD10-P07-DEL7.80/4H_1or2N_sameGE_5_DNA-ALL-basic-rep-Ridge-WbnRD10_P07_bc-49.00_nc-41.20/hetero.00.set\n",
      "4H_1or2N_sameGE_5_DNA-ALL-basic-rep-Ridge-WbnRD10-P07-DEL7.80/4H_1or2N_sameGE_5_DNA-ALL-basic-rep-Ridge-WbnRD10_P07_bc-49.00_nc-41.20/hetero.01.set\n",
      "4H_1or2N_sameGE_5_DNA-ALL-basic-rep-Ridge-WbnRD10-P07-DEL7.80/4H_1or2N_sameGE_5_DNA-ALL-basic-rep-Ridge-WbnRD10_P07_bc-49.00_nc-41.20/hetero.02.set\n",
      "4H_1or2N_sameGE_5_DNA-ALL-basic-rep-Ridge-WbnRD10-P07-DEL7.80/4H_1or2N_sameGE_5_DNA-ALL-basic-rep-Ridge-WbnRD10_P07_bc-49.00_nc-41.20/hetero.03.set\n",
      "4H_1or2N_sameGE_5_DNA-ALL-basic-rep-Ridge-WbnRD10-P07-DEL7.80/4H_1or2N_sameGE_5_DNA-ALL-basic-rep-Ridge-WbnRD10_P07_bc-49.00_nc-41.20/hetero.04.set\n",
      "4H_1or2N_sameGE_5_DNA-ALL-basic-rep-Ridge-WbnRD10-P07-DEL7.80/4H_1or2N_sameGE_5_DNA-ALL-basic-rep-Ridge-WbnRD10_P07_bc-49.00_nc-41.20/hetero.05.set\n",
      "4H_1or2N_sameGE_5_DNA-ALL-basic-rep-Ridge-WbnRD10-P07-DEL7.80/4H_1or2N_sameGE_5_DNA-ALL-basic-rep-Ridge-WbnRD10_P07_bc-49.00_nc-41.20/hetero.06.set\n",
      "4H_1or2N_sameGE_5_DNA-ALL-basic-rep-Ridge-WbnRD10-P07-DEL7.80/4H_1or2N_sameGE_5_DNA-ALL-basic-rep-Ridge-WbnRD10_P07_bc-49.00_nc-41.20/hetero.07.set\n",
      "4H_1or2N_sameGE_5_DNA-ALL-basic-rep-Ridge-WbnRD10-P07-DEL7.80/4H_1or2N_sameGE_5_DNA-ALL-basic-rep-Ridge-WbnRD10_P07_bc-49.00_nc-41.20/hetero.08.set\n",
      "4H_1or2N_sameGE_5_DNA-ALL-basic-rep-Ridge-WbnRD10-P07-DEL7.80/4H_1or2N_sameGE_5_DNA-ALL-basic-rep-Ridge-WbnRD10_P07_bc-49.00_nc-41.20/hetero.09.set\n",
      "4H_1or2N_sameGE_5_DNA-ALL-basic-rep-Ridge-WbnRD10-P07-DEL7.80/4H_1or2N_sameGE_5_DNA-ALL-basic-rep-Ridge-WbnRD10_P07_bc-49.00_nc-41.20/hetero.10.set\n",
      "4H_1or2N_sameGE_5_DNA-ALL-basic-rep-Ridge-WbnRD10-P07-DEL7.80/4H_1or2N_sameGE_5_DNA-ALL-basic-rep-Ridge-WbnRD10_P07_bc-49.00_nc-41.20/hetero.11.set\n",
      "4H_1or2N_sameGE_5_DNA-ALL-basic-rep-Ridge-WbnRD10-P07-DEL7.80/4H_1or2N_sameGE_5_DNA-ALL-basic-rep-Ridge-WbnRD10_P07_bc-49.00_nc-41.20/hetero.12.set\n",
      "4H_1or2N_sameGE_5_DNA-ALL-basic-rep-Ridge-WbnRD10-P07-DEL7.80/4H_1or2N_sameGE_5_DNA-ALL-basic-rep-Ridge-WbnRD10_P07_bc-49.00_nc-41.20/hetero.13.set\n",
      "Cutoff(binding=-50.0, nonbinding=-42.200000000000003)\n",
      "4H_1or2N_sameGE_5_DNA-ALL-basic-rep-Ridge-WbnRD10-P07-DEL7.80/4H_1or2N_sameGE_5_DNA-ALL-basic-rep-Ridge-WbnRD10_P07_bc-50.00_nc-42.20/all.00.set\n",
      "4H_1or2N_sameGE_5_DNA-ALL-basic-rep-Ridge-WbnRD10-P07-DEL7.80/4H_1or2N_sameGE_5_DNA-ALL-basic-rep-Ridge-WbnRD10_P07_bc-50.00_nc-42.20/hetero.00.set\n",
      "Cutoff(binding=-51.0, nonbinding=-43.200000000000003)\n"
     ]
    },
    {
     "name": "stderr",
     "output_type": "stream",
     "text": [
      "c:\\projekti_ki\\ortocc\\agadir\\hepran\\bzipscore.py:1000: UserWarning: File does not exist: 4H_1or2N_sameGE_5_DNA-ALL-basic-rep-Ridge-WbnRD10-P07-DEL7.80/4H_1or2N_sameGE_5_DNA-ALL-basic-rep-Ridge-WbnRD10_P07_bc-50.00_nc-42.20/homo.set.current\n",
      "  warnings.warn(\"File does not exist: \" + current_name)\n",
      "c:\\projekti_ki\\ortocc\\agadir\\hepran\\bzipscore.py:1000: UserWarning: File does not exist: 4H_1or2N_sameGE_5_DNA-ALL-basic-rep-Ridge-WbnRD10-P07-DEL7.80/4H_1or2N_sameGE_5_DNA-ALL-basic-rep-Ridge-WbnRD10_P07_bc-51.00_nc-43.20/homo.set.current\n",
      "  warnings.warn(\"File does not exist: \" + current_name)\n"
     ]
    },
    {
     "name": "stdout",
     "output_type": "stream",
     "text": [
      "4H_1or2N_sameGE_5_DNA-ALL-basic-rep-Ridge-WbnRD10-P07-DEL7.80/4H_1or2N_sameGE_5_DNA-ALL-basic-rep-Ridge-WbnRD10_P07_bc-51.00_nc-43.20/all.00.set\n",
      "4H_1or2N_sameGE_5_DNA-ALL-basic-rep-Ridge-WbnRD10-P07-DEL7.80/4H_1or2N_sameGE_5_DNA-ALL-basic-rep-Ridge-WbnRD10_P07_bc-51.00_nc-43.20/all.01.set\n",
      "4H_1or2N_sameGE_5_DNA-ALL-basic-rep-Ridge-WbnRD10-P07-DEL7.80/4H_1or2N_sameGE_5_DNA-ALL-basic-rep-Ridge-WbnRD10_P07_bc-51.00_nc-43.20/all.02.set\n",
      "4H_1or2N_sameGE_5_DNA-ALL-basic-rep-Ridge-WbnRD10-P07-DEL7.80/4H_1or2N_sameGE_5_DNA-ALL-basic-rep-Ridge-WbnRD10_P07_bc-51.00_nc-43.20/all.03.set\n",
      "4H_1or2N_sameGE_5_DNA-ALL-basic-rep-Ridge-WbnRD10-P07-DEL7.80/4H_1or2N_sameGE_5_DNA-ALL-basic-rep-Ridge-WbnRD10_P07_bc-51.00_nc-43.20/all.04.set\n",
      "4H_1or2N_sameGE_5_DNA-ALL-basic-rep-Ridge-WbnRD10-P07-DEL7.80/4H_1or2N_sameGE_5_DNA-ALL-basic-rep-Ridge-WbnRD10_P07_bc-51.00_nc-43.20/all.05.set\n",
      "4H_1or2N_sameGE_5_DNA-ALL-basic-rep-Ridge-WbnRD10-P07-DEL7.80/4H_1or2N_sameGE_5_DNA-ALL-basic-rep-Ridge-WbnRD10_P07_bc-51.00_nc-43.20/all.06.set\n",
      "4H_1or2N_sameGE_5_DNA-ALL-basic-rep-Ridge-WbnRD10-P07-DEL7.80/4H_1or2N_sameGE_5_DNA-ALL-basic-rep-Ridge-WbnRD10_P07_bc-51.00_nc-43.20/all.07.set\n",
      "4H_1or2N_sameGE_5_DNA-ALL-basic-rep-Ridge-WbnRD10-P07-DEL7.80/4H_1or2N_sameGE_5_DNA-ALL-basic-rep-Ridge-WbnRD10_P07_bc-51.00_nc-43.20/hetero.00.set\n",
      "4H_1or2N_sameGE_5_DNA-ALL-basic-rep-Ridge-WbnRD10-P07-DEL7.80/4H_1or2N_sameGE_5_DNA-ALL-basic-rep-Ridge-WbnRD10_P07_bc-51.00_nc-43.20/hetero.01.set\n",
      "4H_1or2N_sameGE_5_DNA-ALL-basic-rep-Ridge-WbnRD10-P07-DEL7.80/4H_1or2N_sameGE_5_DNA-ALL-basic-rep-Ridge-WbnRD10_P07_bc-51.00_nc-43.20/hetero.02.set\n",
      "4H_1or2N_sameGE_5_DNA-ALL-basic-rep-Ridge-WbnRD10-P07-DEL7.80/4H_1or2N_sameGE_5_DNA-ALL-basic-rep-Ridge-WbnRD10_P07_bc-51.00_nc-43.20/hetero.03.set\n",
      "4H_1or2N_sameGE_5_DNA-ALL-basic-rep-Ridge-WbnRD10-P07-DEL7.80/4H_1or2N_sameGE_5_DNA-ALL-basic-rep-Ridge-WbnRD10_P07_bc-51.00_nc-43.20/hetero.04.set\n",
      "4H_1or2N_sameGE_5_DNA-ALL-basic-rep-Ridge-WbnRD10-P07-DEL7.80/4H_1or2N_sameGE_5_DNA-ALL-basic-rep-Ridge-WbnRD10_P07_bc-51.00_nc-43.20/hetero.05.set\n",
      "4H_1or2N_sameGE_5_DNA-ALL-basic-rep-Ridge-WbnRD10-P07-DEL7.80/4H_1or2N_sameGE_5_DNA-ALL-basic-rep-Ridge-WbnRD10_P07_bc-51.00_nc-43.20/hetero.06.set\n",
      "4H_1or2N_sameGE_5_DNA-ALL-basic-rep-Ridge-WbnRD10-P07-DEL7.80/4H_1or2N_sameGE_5_DNA-ALL-basic-rep-Ridge-WbnRD10_P07_bc-51.00_nc-43.20/hetero.07.set\n",
      "Cutoff(binding=-52.0, nonbinding=-44.200000000000003)\n"
     ]
    },
    {
     "name": "stderr",
     "output_type": "stream",
     "text": [
      "c:\\projekti_ki\\ortocc\\agadir\\hepran\\bzipscore.py:1000: UserWarning: File does not exist: 4H_1or2N_sameGE_5_DNA-ALL-basic-rep-Ridge-WbnRD10-P07-DEL7.80/4H_1or2N_sameGE_5_DNA-ALL-basic-rep-Ridge-WbnRD10_P07_bc-52.00_nc-44.20/homo.set.current\n",
      "  warnings.warn(\"File does not exist: \" + current_name)\n"
     ]
    },
    {
     "name": "stdout",
     "output_type": "stream",
     "text": [
      "4H_1or2N_sameGE_5_DNA-ALL-basic-rep-Ridge-WbnRD10-P07-DEL7.80/4H_1or2N_sameGE_5_DNA-ALL-basic-rep-Ridge-WbnRD10_P07_bc-52.00_nc-44.20/all.00.set\n",
      "4H_1or2N_sameGE_5_DNA-ALL-basic-rep-Ridge-WbnRD10-P07-DEL7.80/4H_1or2N_sameGE_5_DNA-ALL-basic-rep-Ridge-WbnRD10_P07_bc-52.00_nc-44.20/all.01.set\n",
      "4H_1or2N_sameGE_5_DNA-ALL-basic-rep-Ridge-WbnRD10-P07-DEL7.80/4H_1or2N_sameGE_5_DNA-ALL-basic-rep-Ridge-WbnRD10_P07_bc-52.00_nc-44.20/all.02.set\n",
      "4H_1or2N_sameGE_5_DNA-ALL-basic-rep-Ridge-WbnRD10-P07-DEL7.80/4H_1or2N_sameGE_5_DNA-ALL-basic-rep-Ridge-WbnRD10_P07_bc-52.00_nc-44.20/all.03.set\n",
      "4H_1or2N_sameGE_5_DNA-ALL-basic-rep-Ridge-WbnRD10-P07-DEL7.80/4H_1or2N_sameGE_5_DNA-ALL-basic-rep-Ridge-WbnRD10_P07_bc-52.00_nc-44.20/all.04.set\n",
      "4H_1or2N_sameGE_5_DNA-ALL-basic-rep-Ridge-WbnRD10-P07-DEL7.80/4H_1or2N_sameGE_5_DNA-ALL-basic-rep-Ridge-WbnRD10_P07_bc-52.00_nc-44.20/all.05.set\n",
      "4H_1or2N_sameGE_5_DNA-ALL-basic-rep-Ridge-WbnRD10-P07-DEL7.80/4H_1or2N_sameGE_5_DNA-ALL-basic-rep-Ridge-WbnRD10_P07_bc-52.00_nc-44.20/hetero.00.set\n",
      "4H_1or2N_sameGE_5_DNA-ALL-basic-rep-Ridge-WbnRD10-P07-DEL7.80/4H_1or2N_sameGE_5_DNA-ALL-basic-rep-Ridge-WbnRD10_P07_bc-52.00_nc-44.20/hetero.01.set\n",
      "4H_1or2N_sameGE_5_DNA-ALL-basic-rep-Ridge-WbnRD10-P07-DEL7.80/4H_1or2N_sameGE_5_DNA-ALL-basic-rep-Ridge-WbnRD10_P07_bc-52.00_nc-44.20/hetero.02.set\n",
      "4H_1or2N_sameGE_5_DNA-ALL-basic-rep-Ridge-WbnRD10-P07-DEL7.80/4H_1or2N_sameGE_5_DNA-ALL-basic-rep-Ridge-WbnRD10_P07_bc-52.00_nc-44.20/hetero.03.set\n",
      "4H_1or2N_sameGE_5_DNA-ALL-basic-rep-Ridge-WbnRD10-P07-DEL7.80/4H_1or2N_sameGE_5_DNA-ALL-basic-rep-Ridge-WbnRD10_P07_bc-52.00_nc-44.20/hetero.04.set\n",
      "4H_1or2N_sameGE_5_DNA-ALL-basic-rep-Ridge-WbnRD10-P07-DEL7.80/4H_1or2N_sameGE_5_DNA-ALL-basic-rep-Ridge-WbnRD10_P07_bc-52.00_nc-44.20/hetero.05.set\n",
      "Cutoff(binding=-53.0, nonbinding=-45.200000000000003)\n",
      "4H_1or2N_sameGE_5_DNA-ALL-basic-rep-Ridge-WbnRD10-P07-DEL7.80/4H_1or2N_sameGE_5_DNA-ALL-basic-rep-Ridge-WbnRD10_P07_bc-53.00_nc-45.20/all.00.set\n"
     ]
    },
    {
     "name": "stderr",
     "output_type": "stream",
     "text": [
      "c:\\projekti_ki\\ortocc\\agadir\\hepran\\bzipscore.py:1000: UserWarning: File does not exist: 4H_1or2N_sameGE_5_DNA-ALL-basic-rep-Ridge-WbnRD10-P07-DEL7.80/4H_1or2N_sameGE_5_DNA-ALL-basic-rep-Ridge-WbnRD10_P07_bc-53.00_nc-45.20/homo.set.current\n",
      "  warnings.warn(\"File does not exist: \" + current_name)\n"
     ]
    },
    {
     "name": "stdout",
     "output_type": "stream",
     "text": [
      "4H_1or2N_sameGE_5_DNA-ALL-basic-rep-Ridge-WbnRD10-P07-DEL7.80/4H_1or2N_sameGE_5_DNA-ALL-basic-rep-Ridge-WbnRD10_P07_bc-53.00_nc-45.20/hetero.00.set\n",
      "Cutoff(binding=-54.0, nonbinding=-46.200000000000003)\n"
     ]
    },
    {
     "name": "stderr",
     "output_type": "stream",
     "text": [
      "c:\\projekti_ki\\ortocc\\agadir\\hepran\\bzipscore.py:1000: UserWarning: File does not exist: 4H_1or2N_sameGE_5_DNA-ALL-basic-rep-Ridge-WbnRD10-P07-DEL7.80/4H_1or2N_sameGE_5_DNA-ALL-basic-rep-Ridge-WbnRD10_P07_bc-54.00_nc-46.20/homo.set.current\n",
      "  warnings.warn(\"File does not exist: \" + current_name)\n"
     ]
    },
    {
     "name": "stdout",
     "output_type": "stream",
     "text": [
      "4H_1or2N_sameGE_5_DNA-ALL-basic-rep-Ridge-WbnRD10-P07-DEL7.80/4H_1or2N_sameGE_5_DNA-ALL-basic-rep-Ridge-WbnRD10_P07_bc-54.00_nc-46.20/all.00.set\n",
      "4H_1or2N_sameGE_5_DNA-ALL-basic-rep-Ridge-WbnRD10-P07-DEL7.80/4H_1or2N_sameGE_5_DNA-ALL-basic-rep-Ridge-WbnRD10_P07_bc-54.00_nc-46.20/all.01.set\n",
      "4H_1or2N_sameGE_5_DNA-ALL-basic-rep-Ridge-WbnRD10-P07-DEL7.80/4H_1or2N_sameGE_5_DNA-ALL-basic-rep-Ridge-WbnRD10_P07_bc-54.00_nc-46.20/all.02.set\n",
      "4H_1or2N_sameGE_5_DNA-ALL-basic-rep-Ridge-WbnRD10-P07-DEL7.80/4H_1or2N_sameGE_5_DNA-ALL-basic-rep-Ridge-WbnRD10_P07_bc-54.00_nc-46.20/all.03.set\n",
      "4H_1or2N_sameGE_5_DNA-ALL-basic-rep-Ridge-WbnRD10-P07-DEL7.80/4H_1or2N_sameGE_5_DNA-ALL-basic-rep-Ridge-WbnRD10_P07_bc-54.00_nc-46.20/all.04.set\n",
      "4H_1or2N_sameGE_5_DNA-ALL-basic-rep-Ridge-WbnRD10-P07-DEL7.80/4H_1or2N_sameGE_5_DNA-ALL-basic-rep-Ridge-WbnRD10_P07_bc-54.00_nc-46.20/all.05.set\n",
      "4H_1or2N_sameGE_5_DNA-ALL-basic-rep-Ridge-WbnRD10-P07-DEL7.80/4H_1or2N_sameGE_5_DNA-ALL-basic-rep-Ridge-WbnRD10_P07_bc-54.00_nc-46.20/all.06.set\n",
      "4H_1or2N_sameGE_5_DNA-ALL-basic-rep-Ridge-WbnRD10-P07-DEL7.80/4H_1or2N_sameGE_5_DNA-ALL-basic-rep-Ridge-WbnRD10_P07_bc-54.00_nc-46.20/all.07.set\n",
      "4H_1or2N_sameGE_5_DNA-ALL-basic-rep-Ridge-WbnRD10-P07-DEL7.80/4H_1or2N_sameGE_5_DNA-ALL-basic-rep-Ridge-WbnRD10_P07_bc-54.00_nc-46.20/all.08.set\n",
      "4H_1or2N_sameGE_5_DNA-ALL-basic-rep-Ridge-WbnRD10-P07-DEL7.80/4H_1or2N_sameGE_5_DNA-ALL-basic-rep-Ridge-WbnRD10_P07_bc-54.00_nc-46.20/all.09.set\n",
      "4H_1or2N_sameGE_5_DNA-ALL-basic-rep-Ridge-WbnRD10-P07-DEL7.80/4H_1or2N_sameGE_5_DNA-ALL-basic-rep-Ridge-WbnRD10_P07_bc-54.00_nc-46.20/hetero.00.set\n",
      "4H_1or2N_sameGE_5_DNA-ALL-basic-rep-Ridge-WbnRD10-P07-DEL7.80/4H_1or2N_sameGE_5_DNA-ALL-basic-rep-Ridge-WbnRD10_P07_bc-54.00_nc-46.20/hetero.01.set\n",
      "4H_1or2N_sameGE_5_DNA-ALL-basic-rep-Ridge-WbnRD10-P07-DEL7.80/4H_1or2N_sameGE_5_DNA-ALL-basic-rep-Ridge-WbnRD10_P07_bc-54.00_nc-46.20/hetero.02.set\n",
      "4H_1or2N_sameGE_5_DNA-ALL-basic-rep-Ridge-WbnRD10-P07-DEL7.80/4H_1or2N_sameGE_5_DNA-ALL-basic-rep-Ridge-WbnRD10_P07_bc-54.00_nc-46.20/hetero.03.set\n",
      "4H_1or2N_sameGE_5_DNA-ALL-basic-rep-Ridge-WbnRD10-P07-DEL7.80/4H_1or2N_sameGE_5_DNA-ALL-basic-rep-Ridge-WbnRD10_P07_bc-54.00_nc-46.20/hetero.04.set\n",
      "4H_1or2N_sameGE_5_DNA-ALL-basic-rep-Ridge-WbnRD10-P07-DEL7.80/4H_1or2N_sameGE_5_DNA-ALL-basic-rep-Ridge-WbnRD10_P07_bc-54.00_nc-46.20/hetero.05.set\n",
      "4H_1or2N_sameGE_5_DNA-ALL-basic-rep-Ridge-WbnRD10-P07-DEL7.80/4H_1or2N_sameGE_5_DNA-ALL-basic-rep-Ridge-WbnRD10_P07_bc-54.00_nc-46.20/hetero.06.set\n",
      "4H_1or2N_sameGE_5_DNA-ALL-basic-rep-Ridge-WbnRD10-P07-DEL7.80/4H_1or2N_sameGE_5_DNA-ALL-basic-rep-Ridge-WbnRD10_P07_bc-54.00_nc-46.20/hetero.07.set\n",
      "4H_1or2N_sameGE_5_DNA-ALL-basic-rep-Ridge-WbnRD10-P07-DEL7.80/4H_1or2N_sameGE_5_DNA-ALL-basic-rep-Ridge-WbnRD10_P07_bc-54.00_nc-46.20/hetero.08.set\n",
      "4H_1or2N_sameGE_5_DNA-ALL-basic-rep-Ridge-WbnRD10-P07-DEL7.80/4H_1or2N_sameGE_5_DNA-ALL-basic-rep-Ridge-WbnRD10_P07_bc-54.00_nc-46.20/hetero.09.set\n",
      "Cutoff(binding=-55.0, nonbinding=-47.200000000000003)\n"
     ]
    },
    {
     "name": "stderr",
     "output_type": "stream",
     "text": [
      "c:\\projekti_ki\\ortocc\\agadir\\hepran\\bzipscore.py:1000: UserWarning: File does not exist: 4H_1or2N_sameGE_5_DNA-ALL-basic-rep-Ridge-WbnRD10-P07-DEL7.80/4H_1or2N_sameGE_5_DNA-ALL-basic-rep-Ridge-WbnRD10_P07_bc-55.00_nc-47.20/homo.set.current\n",
      "  warnings.warn(\"File does not exist: \" + current_name)\n"
     ]
    },
    {
     "name": "stdout",
     "output_type": "stream",
     "text": [
      "Wall time: 13.9 s\n"
     ]
    }
   ],
   "source": [
    "%%time\n",
    "for cutoff in c_list:\n",
    "    print(cutoff)\n",
    "    a_dir, set_files = get_sets(dir_name+\"/\"+name, binding_cutoff=cutoff.binding, nonbinding_cutoff=cutoff.nonbinding,\n",
    "                                 alignment=al,\n",
    "                                 fasta=filtered_fasta, score_file=score_file,\n",
    "                                 solver_exe=CCO+\"/solver.exe\", fake=False, verbose=False, skip_existing=False,\n",
    "                                 timeout_s=timeout_s)\n",
    "    for set_file in set_files:\n",
    "        print(set_file)\n",
    "        analyse_set_file(set_file, filtered_fasta, alignment=al,\n",
    "                         scorer_exe=None, \n",
    "                         input_score_file=score_file, invert=True,\n",
    "                         normalization_min=0, normalization_max=80,\n",
    "                         verbose=False, skip_drawing=True)\n",
    "        "
   ]
  },
  {
   "cell_type": "code",
   "execution_count": 6,
   "metadata": {
    "collapsed": false,
    "scrolled": true
   },
   "outputs": [],
   "source": [
    "set_infos = glob(dir_name+\"/*/*.set_info\")\n",
    "df = load_set_infos_to_dataframe(set_infos)\n",
    "df.sort_values(by=\"N_pairs N_heterodimers total_IN_mismatches total_electrostatic_mismatches\".split(), ascending=[False, False, True, True], inplace=True)\n",
    "df;"
   ]
  },
  {
   "cell_type": "code",
   "execution_count": 7,
   "metadata": {
    "collapsed": false
   },
   "outputs": [],
   "source": [
    "mp = get_max_pairs_by_type(df)\n",
    "mp.sort_values(by=\"binding_cutoff\", inplace=True)\n",
    "mp.reset_index(inplace=True)\n",
    "mp;"
   ]
  },
  {
   "cell_type": "code",
   "execution_count": 8,
   "metadata": {
    "collapsed": false
   },
   "outputs": [
    {
     "data": {
      "image/png": "[encoded data removed]",
      "text/plain": [
       "<matplotlib.figure.Figure at 0x67eec30>"
      ]
     },
     "metadata": {},
     "output_type": "display_data"
    }
   ],
   "source": [
    "%matplotlib inline\n",
    "\n",
    "plt.figure()\n",
    "for pair_type in [\"all\", \"homo\", \"hetero\", \"hetero-ex\"]:\n",
    "    df_type = mp[mp.type == pair_type]\n",
    "    plt.plot(df_type.binding_cutoff, df_type.max_N_pairs, label=pair_type)\n",
    "\n",
    "    \n",
    "#plt.title(dir_name)       \n",
    "\n",
    "plt.legend()\n",
    "plt.ylabel(\"max_N_pairs\")\n",
    "plt.xlabel(\"Binding cutoff\")\n",
    "plt.tight_layout()\n",
    "plt.savefig(dir_name+\"/max_N_pairs.png\")"
   ]
  },
  {
   "cell_type": "code",
   "execution_count": 9,
   "metadata": {
    "collapsed": false
   },
   "outputs": [
    {
     "data": {
      "image/png": "[encoded data removed]",
      "text/plain": [
       "<matplotlib.figure.Figure at 0x82e7990>"
      ]
     },
     "metadata": {},
     "output_type": "display_data"
    }
   ],
   "source": [
    "plt.figure()\n",
    "for pair_type in [\"all\", \"homo\", \"hetero\", \"hetero-ex\"]:\n",
    "    df_type = mp[mp.type == pair_type]\n",
    "    plt.plot(df_type.binding_cutoff, df_type.count_max_sets, label=pair_type)\n",
    "\n",
    "plt.legend()\n",
    "plt.ylabel(\"N_sets\")\n",
    "plt.xlabel(\"Binding cutoff\")\n",
    "plt.tight_layout()\n",
    "plt.savefig(dir_name+\"/N_sets.png\")\n",
    "#plt.ylim([0, 15])"
   ]
  },
  {
   "cell_type": "code",
   "execution_count": 10,
   "metadata": {},
   "outputs": [],
   "source": [
    "mp.sort_values(by=\"max_N_pairs\", ascending=False, inplace=True)\n",
    "mp.to_excel(dir_name+\"/main_sets.xlsx\")\n",
    "df.to_excel(dir_name+\"/all_sets.xlsx\")\n"
   ]
  },
  {
   "cell_type": "code",
   "execution_count": 11,
   "metadata": {
    "collapsed": false
   },
   "outputs": [],
   "source": [
    "#analyse set files\n",
    "df_to_plot = df.query(\"N_pairs >= 8\")\n",
    "set_files = list(df_to_plot[\"!full_name\"])\n",
    "\n",
    "dirs = [os.path.dirname(sf) for sf in set_files]\n",
    "dirs = list(set(dirs))\n",
    "\n",
    "all_set_files = []\n",
    "for d in dirs:\n",
    "    sf = glob(d+\"/*.set\")\n",
    "    all_set_files += sf\n",
    "all_set_files;"
   ]
  },
  {
   "cell_type": "code",
   "execution_count": 12,
   "metadata": {
    "collapsed": false
   },
   "outputs": [
    {
     "name": "stdout",
     "output_type": "stream",
     "text": [
      "4H_1or2N_sameGE_5_DNA-ALL-basic-rep-Ridge-WbnRD10-P07-DEL7.80/4H_1or2N_sameGE_5_DNA-ALL-basic-rep-Ridge-WbnRD10_P07_bc-52.00_nc-44.20\\all.00.set\n",
      "4H_1or2N_sameGE_5_DNA-ALL-basic-rep-Ridge-WbnRD10-P07-DEL7.80/4H_1or2N_sameGE_5_DNA-ALL-basic-rep-Ridge-WbnRD10_P07_bc-52.00_nc-44.20\\all.01.set\n",
      "4H_1or2N_sameGE_5_DNA-ALL-basic-rep-Ridge-WbnRD10-P07-DEL7.80/4H_1or2N_sameGE_5_DNA-ALL-basic-rep-Ridge-WbnRD10_P07_bc-52.00_nc-44.20\\all.02.set\n",
      "4H_1or2N_sameGE_5_DNA-ALL-basic-rep-Ridge-WbnRD10-P07-DEL7.80/4H_1or2N_sameGE_5_DNA-ALL-basic-rep-Ridge-WbnRD10_P07_bc-52.00_nc-44.20\\all.03.set\n",
      "4H_1or2N_sameGE_5_DNA-ALL-basic-rep-Ridge-WbnRD10-P07-DEL7.80/4H_1or2N_sameGE_5_DNA-ALL-basic-rep-Ridge-WbnRD10_P07_bc-52.00_nc-44.20\\all.04.set\n",
      "4H_1or2N_sameGE_5_DNA-ALL-basic-rep-Ridge-WbnRD10-P07-DEL7.80/4H_1or2N_sameGE_5_DNA-ALL-basic-rep-Ridge-WbnRD10_P07_bc-52.00_nc-44.20\\all.05.set\n",
      "4H_1or2N_sameGE_5_DNA-ALL-basic-rep-Ridge-WbnRD10-P07-DEL7.80/4H_1or2N_sameGE_5_DNA-ALL-basic-rep-Ridge-WbnRD10_P07_bc-52.00_nc-44.20\\hetero.00.set\n",
      "4H_1or2N_sameGE_5_DNA-ALL-basic-rep-Ridge-WbnRD10-P07-DEL7.80/4H_1or2N_sameGE_5_DNA-ALL-basic-rep-Ridge-WbnRD10_P07_bc-52.00_nc-44.20\\hetero.01.set\n",
      "4H_1or2N_sameGE_5_DNA-ALL-basic-rep-Ridge-WbnRD10-P07-DEL7.80/4H_1or2N_sameGE_5_DNA-ALL-basic-rep-Ridge-WbnRD10_P07_bc-52.00_nc-44.20\\hetero.02.set\n",
      "4H_1or2N_sameGE_5_DNA-ALL-basic-rep-Ridge-WbnRD10-P07-DEL7.80/4H_1or2N_sameGE_5_DNA-ALL-basic-rep-Ridge-WbnRD10_P07_bc-52.00_nc-44.20\\hetero.03.set\n",
      "4H_1or2N_sameGE_5_DNA-ALL-basic-rep-Ridge-WbnRD10-P07-DEL7.80/4H_1or2N_sameGE_5_DNA-ALL-basic-rep-Ridge-WbnRD10_P07_bc-52.00_nc-44.20\\hetero.04.set\n",
      "4H_1or2N_sameGE_5_DNA-ALL-basic-rep-Ridge-WbnRD10-P07-DEL7.80/4H_1or2N_sameGE_5_DNA-ALL-basic-rep-Ridge-WbnRD10_P07_bc-52.00_nc-44.20\\hetero.05.set\n",
      "4H_1or2N_sameGE_5_DNA-ALL-basic-rep-Ridge-WbnRD10-P07-DEL7.80/4H_1or2N_sameGE_5_DNA-ALL-basic-rep-Ridge-WbnRD10_P07_bc-47.00_nc-39.20\\all.00.set\n",
      "4H_1or2N_sameGE_5_DNA-ALL-basic-rep-Ridge-WbnRD10-P07-DEL7.80/4H_1or2N_sameGE_5_DNA-ALL-basic-rep-Ridge-WbnRD10_P07_bc-47.00_nc-39.20\\hetero.00.set\n",
      "4H_1or2N_sameGE_5_DNA-ALL-basic-rep-Ridge-WbnRD10-P07-DEL7.80/4H_1or2N_sameGE_5_DNA-ALL-basic-rep-Ridge-WbnRD10_P07_bc-51.00_nc-43.20\\all.00.set\n",
      "4H_1or2N_sameGE_5_DNA-ALL-basic-rep-Ridge-WbnRD10-P07-DEL7.80/4H_1or2N_sameGE_5_DNA-ALL-basic-rep-Ridge-WbnRD10_P07_bc-51.00_nc-43.20\\all.01.set\n",
      "4H_1or2N_sameGE_5_DNA-ALL-basic-rep-Ridge-WbnRD10-P07-DEL7.80/4H_1or2N_sameGE_5_DNA-ALL-basic-rep-Ridge-WbnRD10_P07_bc-51.00_nc-43.20\\all.02.set\n",
      "4H_1or2N_sameGE_5_DNA-ALL-basic-rep-Ridge-WbnRD10-P07-DEL7.80/4H_1or2N_sameGE_5_DNA-ALL-basic-rep-Ridge-WbnRD10_P07_bc-51.00_nc-43.20\\all.03.set\n",
      "4H_1or2N_sameGE_5_DNA-ALL-basic-rep-Ridge-WbnRD10-P07-DEL7.80/4H_1or2N_sameGE_5_DNA-ALL-basic-rep-Ridge-WbnRD10_P07_bc-51.00_nc-43.20\\all.04.set\n",
      "4H_1or2N_sameGE_5_DNA-ALL-basic-rep-Ridge-WbnRD10-P07-DEL7.80/4H_1or2N_sameGE_5_DNA-ALL-basic-rep-Ridge-WbnRD10_P07_bc-51.00_nc-43.20\\all.05.set\n",
      "4H_1or2N_sameGE_5_DNA-ALL-basic-rep-Ridge-WbnRD10-P07-DEL7.80/4H_1or2N_sameGE_5_DNA-ALL-basic-rep-Ridge-WbnRD10_P07_bc-51.00_nc-43.20\\all.06.set\n",
      "4H_1or2N_sameGE_5_DNA-ALL-basic-rep-Ridge-WbnRD10-P07-DEL7.80/4H_1or2N_sameGE_5_DNA-ALL-basic-rep-Ridge-WbnRD10_P07_bc-51.00_nc-43.20\\all.07.set\n",
      "4H_1or2N_sameGE_5_DNA-ALL-basic-rep-Ridge-WbnRD10-P07-DEL7.80/4H_1or2N_sameGE_5_DNA-ALL-basic-rep-Ridge-WbnRD10_P07_bc-51.00_nc-43.20\\hetero.00.set\n",
      "4H_1or2N_sameGE_5_DNA-ALL-basic-rep-Ridge-WbnRD10-P07-DEL7.80/4H_1or2N_sameGE_5_DNA-ALL-basic-rep-Ridge-WbnRD10_P07_bc-51.00_nc-43.20\\hetero.01.set\n",
      "4H_1or2N_sameGE_5_DNA-ALL-basic-rep-Ridge-WbnRD10-P07-DEL7.80/4H_1or2N_sameGE_5_DNA-ALL-basic-rep-Ridge-WbnRD10_P07_bc-51.00_nc-43.20\\hetero.02.set\n",
      "4H_1or2N_sameGE_5_DNA-ALL-basic-rep-Ridge-WbnRD10-P07-DEL7.80/4H_1or2N_sameGE_5_DNA-ALL-basic-rep-Ridge-WbnRD10_P07_bc-51.00_nc-43.20\\hetero.03.set\n",
      "4H_1or2N_sameGE_5_DNA-ALL-basic-rep-Ridge-WbnRD10-P07-DEL7.80/4H_1or2N_sameGE_5_DNA-ALL-basic-rep-Ridge-WbnRD10_P07_bc-51.00_nc-43.20\\hetero.04.set\n",
      "4H_1or2N_sameGE_5_DNA-ALL-basic-rep-Ridge-WbnRD10-P07-DEL7.80/4H_1or2N_sameGE_5_DNA-ALL-basic-rep-Ridge-WbnRD10_P07_bc-51.00_nc-43.20\\hetero.05.set\n",
      "4H_1or2N_sameGE_5_DNA-ALL-basic-rep-Ridge-WbnRD10-P07-DEL7.80/4H_1or2N_sameGE_5_DNA-ALL-basic-rep-Ridge-WbnRD10_P07_bc-51.00_nc-43.20\\hetero.06.set\n",
      "4H_1or2N_sameGE_5_DNA-ALL-basic-rep-Ridge-WbnRD10-P07-DEL7.80/4H_1or2N_sameGE_5_DNA-ALL-basic-rep-Ridge-WbnRD10_P07_bc-51.00_nc-43.20\\hetero.07.set\n",
      "4H_1or2N_sameGE_5_DNA-ALL-basic-rep-Ridge-WbnRD10-P07-DEL7.80/4H_1or2N_sameGE_5_DNA-ALL-basic-rep-Ridge-WbnRD10_P07_bc-53.00_nc-45.20\\all.00.set\n",
      "4H_1or2N_sameGE_5_DNA-ALL-basic-rep-Ridge-WbnRD10-P07-DEL7.80/4H_1or2N_sameGE_5_DNA-ALL-basic-rep-Ridge-WbnRD10_P07_bc-53.00_nc-45.20\\hetero.00.set\n",
      "Wall time: 3.16 s\n"
     ]
    }
   ],
   "source": [
    "%%time\n",
    "comp = analyse_sets(all_set_files, filtered_fasta, alignment=al, scorer_exe=None,  \n",
    "                    input_score_file=score_file, invert=True,\n",
    "                    normalization_min=None, normalization_max=None,  \n",
    "                    username=\"ajasja\", password=\"agrftAGADIR\", serial=False)\n",
    "\n",
    "\n",
    "                         \n",
    "for r in comp:\n",
    "    print(r)"
   ]
  },
  {
   "cell_type": "code",
   "execution_count": 13,
   "metadata": {},
   "outputs": [],
   "source": []
  }
 ],
 "metadata": {
  "anaconda-cloud": {},
  "hide_input": false,
  "kernelspec": {
   "display_name": "Python [default]",
   "language": "python",
   "name": "python2"
  },
  "language_info": {
   "codemirror_mode": {
    "name": "ipython",
    "version": 2
   },
   "file_extension": ".py",
   "mimetype": "text/x-python",
   "name": "python",
   "nbconvert_exporter": "python",
   "pygments_lexer": "ipython2",
   "version": "2.7.11"
  }
 },
 "nbformat": 4,
 "nbformat_minor": 2
}
