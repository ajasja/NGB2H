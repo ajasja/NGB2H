{
 "cells": [
  {
   "cell_type": "code",
   "execution_count": 1,
   "source": [
    "from __future__ import division, absolute_import\r\n",
    "%load_ext autoreload\r\n",
    "%autoreload 2\r\n",
    "import os\r\n",
    "#The current working directory\r\n",
    "os.chdir(r\"D:\\data\\ortoCC\\design-with-alignments\\4heptade-7\")\r\n",
    "print(os.getcwd())\r\n",
    "import hepran\r\n",
    "import hepran.bzipscore as bz\r\n",
    "from hepran.bzipscore import *\r\n",
    "import hepran.utils as u\r\n",
    "import hepran.registers as r\r\n",
    "import numpy as np\r\n",
    "#The location of the fast_score excecutables \r\n",
    "CCO = os.environ.get(\"CCO\",r\"C:\\Projekti_KI\\ortoCC\\CoiledCoilOrtho\")\r\n",
    "from glob import glob\r\n",
    "import pandas as pd\r\n",
    "from StringIO import StringIO"
   ],
   "outputs": [
    {
     "output_type": "stream",
     "name": "stdout",
     "text": [
      "D:\\data\\ortoCC\\design-with-alignments\\4heptade-7\n"
     ]
    }
   ],
   "metadata": {
    "collapsed": false
   }
  },
  {
   "cell_type": "code",
   "execution_count": 2,
   "source": [
    "u.ensure_dir(\"!OUT_bcf\")\r\n",
    "sets = glob(\"!OUT/*.set\")     \r\n",
    "bcf = u.load_fasta(\"bcf.fasta\")          \r\n",
    "fasta = u.load_fasta(\"full4heptad.fasta\")"
   ],
   "outputs": [],
   "metadata": {
    "collapsed": true
   }
  },
  {
   "cell_type": "code",
   "execution_count": 3,
   "source": [
    "\r\n",
    "def get_out_file(set_name, bcf_name, out_dir=\"!OUT_bcf\"):\r\n",
    "    name = os.path.basename(set_name)\r\n",
    "    name = os.path.join(out_dir, name)\r\n",
    "    name = u.replace_extension(name,bcf_name+'.set')\r\n",
    "    #print(name)\r\n",
    "    return name\r\n",
    "    \r\n",
    "get_out_file('!OUT\\\\4h-1or2N-not_first_only_B07_bc-8.60_nc-7.60-hetero.01.set','bN')== \\\r\n",
    "             '!OUT_bcf\\\\4h-1or2N-not_first_only_B07_bc-8.60_nc-7.60-hetero.01.bN.set'\r\n",
    "    \r\n",
    "    \r\n",
    "\r\n",
    "\r\n",
    "def convert_set(set_name, bcf_name, out_dir=\"!OUT_bcf\", bcf_dict=bcf, fasta=fasta):\r\n",
    "    \"\"\"Give backgrounds to a set\"\"\"\r\n",
    "    ofile = get_out_file(set_name, bcf_name, out_dir)\r\n",
    "    a_set = u.load_set(set_name)\r\n",
    "    a_IDs = bz.get_ids_from_pairs(a_set)\r\n",
    "    \r\n",
    "    #local fasta file has priority\r\n",
    "    if os.path.isfile(u.replace_extension(set_name, 'fasta')):\r\n",
    "        ffasta = u.load_fasta(u.replace_extension(set_name, 'fasta'))\r\n",
    "    else:        \r\n",
    "        ffasta = bz.filter_fasta(fasta, a_IDs)\r\n",
    "\r\n",
    "    rfasta = u.rename_fasta(ffasta, bcf_name)\r\n",
    "    rfasta = r.merge_background_fasta(bcf[bcf_name], rfasta, inplace=True, strip_whitespace=True)\r\n",
    "    r_set = u.rename_set(a_set, bcf_name)\r\n",
    "    \r\n",
    "    u.ensure_dir(out_dir)\r\n",
    "    u.save_set(r_set, ofile)\r\n",
    "    u.save_dict_to_fasta(rfasta, u.replace_extension(ofile, '.fasta'))        \r\n",
    "    \r\n",
    "\r\n",
    "\r\n",
    "    \r\n",
    "#convert_set(sets[0], \"bN\")    "
   ],
   "outputs": [],
   "metadata": {
    "collapsed": false
   }
  },
  {
   "cell_type": "code",
   "execution_count": 21,
   "source": [
    "#write a json file of all sets\r\n",
    "bcf_dict = u.load_json(\"!OUT/BCF.json\")\r\n",
    "default_bcf = bcf_dict['__default__']"
   ],
   "outputs": [],
   "metadata": {
    "collapsed": false
   }
  },
  {
   "cell_type": "code",
   "execution_count": 24,
   "source": [
    "for _set in sets:\r\n",
    "    set_name = u.replace_extension(os.path.basename(_set),'')\r\n",
    "    bcf_sites = bcf_dict.get(set_name, default_bcf)\r\n",
    "    for _bcf_name in  bcf_sites.split():\r\n",
    "        print(_set, _bcf_name)\r\n",
    "        convert_set(_set, _bcf_name)\r\n",
    "        "
   ],
   "outputs": [
    {
     "output_type": "stream",
     "name": "stdout",
     "text": [
      "('!OUT\\\\4h-1or2N-not_first_only-same_GE_B07_bc-7.95_nc-6.95-hetero.00.set', u'bN')\n",
      "('!OUT\\\\4h-1or2N-not_first_only-same_GE_B07_bc-7.95_nc-6.95-hetero.00.set', u'bH')\n",
      "('!OUT\\\\4h-1or2N-not_first_only-same_GE_B07_bc-7.95_nc-6.95-hetero.00.set', u'bA')\n",
      "('!OUT\\\\4h-1or2N-not_first_only-same_GE_B07_bc-7.95_nc-6.95-hetero.03.set', u'bN')\n",
      "('!OUT\\\\4h-1or2N-not_first_only-same_GE_B07_bc-7.95_nc-6.95-hetero.03.set', u'bH')\n",
      "('!OUT\\\\4h-1or2N-not_first_only-same_GE_B07_bc-7.95_nc-6.95-hetero.03.set', u'bA')\n",
      "('!OUT\\\\4h-1or2N-not_first_only-same_GE_B07_bc-8.40_nc-7.40-hetero.01.set', u'bN')\n",
      "('!OUT\\\\4h-1or2N-not_first_only-same_GE_B07_bc-8.40_nc-7.40-hetero.01.set', u'bH')\n",
      "('!OUT\\\\4h-1or2N-not_first_only-same_GE_B07_bc-8.40_nc-7.40-hetero.01.set', u'bA')\n",
      "('!OUT\\\\4h-1or2N-not_first_only-same_GE_B07_bc-8.95_nc-7.95-hetero.00.set', u'bN')\n",
      "('!OUT\\\\4h-1or2N-not_first_only-same_GE_B07_bc-8.95_nc-7.95-hetero.00.set', u'bH')\n",
      "('!OUT\\\\4h-1or2N-not_first_only-same_GE_B07_bc-8.95_nc-7.95-hetero.00.set', u'bA')\n",
      "('!OUT\\\\4h-1or2N-not_first_only_B07_bc-8.05_nc-7.05-all.00.set', u'bN')\n",
      "('!OUT\\\\4h-1or2N-not_first_only_B07_bc-8.05_nc-7.05-all.00.set', u'bH')\n",
      "('!OUT\\\\4h-1or2N-not_first_only_B07_bc-8.05_nc-7.05-all.00.set', u'bA')\n",
      "('!OUT\\\\4h-1or2N-not_first_only_B07_bc-8.05_nc-7.05-hetero-ex.01.00.set', u'bN')\n",
      "('!OUT\\\\4h-1or2N-not_first_only_B07_bc-8.05_nc-7.05-hetero-ex.01.00.set', u'bH')\n",
      "('!OUT\\\\4h-1or2N-not_first_only_B07_bc-8.05_nc-7.05-hetero-ex.01.00.set', u'bA')\n",
      "('!OUT\\\\4h-1or2N-not_first_only_B07_bc-8.05_nc-7.05-hetero.01.set', u'bN')\n",
      "('!OUT\\\\4h-1or2N-not_first_only_B07_bc-8.05_nc-7.05-hetero.01.set', u'bH')\n",
      "('!OUT\\\\4h-1or2N-not_first_only_B07_bc-8.05_nc-7.05-hetero.01.set', u'bA')\n",
      "('!OUT\\\\4h-1or2N-not_first_only_B07_bc-8.60_nc-7.60-all.00.set', u'bN')\n",
      "('!OUT\\\\4h-1or2N-not_first_only_B07_bc-8.60_nc-7.60-all.00.set', u'bH')\n",
      "('!OUT\\\\4h-1or2N-not_first_only_B07_bc-8.60_nc-7.60-all.00.set', u'bA')\n",
      "('!OUT\\\\4h-1or2N-not_first_only_B07_bc-8.60_nc-7.60-hetero-ex.01.00.set', u'bN')\n",
      "('!OUT\\\\4h-1or2N-not_first_only_B07_bc-8.60_nc-7.60-hetero-ex.01.00.set', u'bH')\n",
      "('!OUT\\\\4h-1or2N-not_first_only_B07_bc-8.60_nc-7.60-hetero-ex.01.00.set', u'bA')\n",
      "('!OUT\\\\4h-1or2N-not_first_only_B07_bc-8.60_nc-7.60-hetero-ex.04.00.set', u'bN')\n",
      "('!OUT\\\\4h-1or2N-not_first_only_B07_bc-8.60_nc-7.60-hetero-ex.04.00.set', u'bH')\n",
      "('!OUT\\\\4h-1or2N-not_first_only_B07_bc-8.60_nc-7.60-hetero-ex.04.00.set', u'bA')\n",
      "('!OUT\\\\4h-1or2N-not_first_only_B07_bc-8.60_nc-7.60-hetero.01.set', u'bN')\n",
      "('!OUT\\\\4h-1or2N-not_first_only_B07_bc-8.60_nc-7.60-hetero.01.set', u'bH')\n",
      "('!OUT\\\\4h-1or2N-not_first_only_B07_bc-8.60_nc-7.60-hetero.01.set', u'bA')\n",
      "('!OUT\\\\4h-1or2N-not_first_only_B07_bc-8.60_nc-7.60-hetero.04.set', u'bN')\n",
      "('!OUT\\\\4h-1or2N-not_first_only_B07_bc-8.60_nc-7.60-hetero.04.set', u'bH')\n",
      "('!OUT\\\\4h-1or2N-not_first_only_B07_bc-8.60_nc-7.60-hetero.04.set', u'bA')\n",
      "('!OUT\\\\4h-1or2N-not_first_only_B07_bc-9.00_nc-8.00-all.00.set', u'bN')\n",
      "('!OUT\\\\4h-1or2N-not_first_only_B07_bc-9.00_nc-8.00-all.00.set', u'bH')\n",
      "('!OUT\\\\4h-1or2N-not_first_only_B07_bc-9.00_nc-8.00-all.00.set', u'bA')\n",
      "('!OUT\\\\4h-1or2N-not_first_only_B07_bc-9.00_nc-8.00-hetero-ex.04.00.set', u'bN')\n",
      "('!OUT\\\\4h-1or2N-not_first_only_B07_bc-9.00_nc-8.00-hetero-ex.04.00.set', u'bH')\n",
      "('!OUT\\\\4h-1or2N-not_first_only_B07_bc-9.00_nc-8.00-hetero-ex.04.00.set', u'bA')\n",
      "('!OUT\\\\4h-1or2N-not_first_only_B07_bc-9.00_nc-8.00-hetero.01.set', u'bN')\n",
      "('!OUT\\\\4h-1or2N-not_first_only_B07_bc-9.00_nc-8.00-hetero.01.set', u'bH')\n",
      "('!OUT\\\\4h-1or2N-not_first_only_B07_bc-9.00_nc-8.00-hetero.01.set', u'bA')\n",
      "('!OUT\\\\mason.set', u'bN')\n",
      "('!OUT\\\\mason.set', u'bH')\n",
      "('!OUT\\\\mason.set', u'bA')\n",
      "('!OUT\\\\mason.set', u'bS')\n",
      "('!OUT\\\\mason.set', u'bP')\n",
      "('!OUT\\\\PNIC.set', u'bN')\n",
      "('!OUT\\\\PNIC.set', u'bH')\n",
      "('!OUT\\\\PNIC.set', u'bA')\n",
      "('!OUT\\\\PNIC.set', u'bS')\n",
      "('!OUT\\\\PNIC.set', u'bP')\n"
     ]
    }
   ],
   "metadata": {
    "collapsed": false
   }
  },
  {
   "cell_type": "code",
   "execution_count": 4,
   "source": [
    "bcf_sets = glob(\"!OUT_bcf/*.set\")  \r\n",
    "bcf_sets += glob(\"!OUT_additional/*.set\")  \r\n",
    "bcf_sets"
   ],
   "outputs": [
    {
     "output_type": "execute_result",
     "data": {
      "text/plain": [
       "['!OUT_bcf\\\\4h-1or2N-not_first_only-same_GE_B07_bc-7.95_nc-6.95-hetero.00.bA.set',\n",
       " '!OUT_bcf\\\\4h-1or2N-not_first_only-same_GE_B07_bc-7.95_nc-6.95-hetero.00.bH.set',\n",
       " '!OUT_bcf\\\\4h-1or2N-not_first_only-same_GE_B07_bc-7.95_nc-6.95-hetero.00.bN.set',\n",
       " '!OUT_bcf\\\\4h-1or2N-not_first_only-same_GE_B07_bc-7.95_nc-6.95-hetero.03.bA.set',\n",
       " '!OUT_bcf\\\\4h-1or2N-not_first_only-same_GE_B07_bc-7.95_nc-6.95-hetero.03.bH.set',\n",
       " '!OUT_bcf\\\\4h-1or2N-not_first_only-same_GE_B07_bc-7.95_nc-6.95-hetero.03.bN.set',\n",
       " '!OUT_bcf\\\\4h-1or2N-not_first_only-same_GE_B07_bc-8.40_nc-7.40-hetero.01.bA.set',\n",
       " '!OUT_bcf\\\\4h-1or2N-not_first_only-same_GE_B07_bc-8.40_nc-7.40-hetero.01.bH.set',\n",
       " '!OUT_bcf\\\\4h-1or2N-not_first_only-same_GE_B07_bc-8.40_nc-7.40-hetero.01.bN.set',\n",
       " '!OUT_bcf\\\\4h-1or2N-not_first_only-same_GE_B07_bc-8.95_nc-7.95-hetero.00.bA.set',\n",
       " '!OUT_bcf\\\\4h-1or2N-not_first_only-same_GE_B07_bc-8.95_nc-7.95-hetero.00.bH.set',\n",
       " '!OUT_bcf\\\\4h-1or2N-not_first_only-same_GE_B07_bc-8.95_nc-7.95-hetero.00.bN.set',\n",
       " '!OUT_bcf\\\\4h-1or2N-not_first_only_B07_bc-8.05_nc-7.05-all.00.bA.set',\n",
       " '!OUT_bcf\\\\4h-1or2N-not_first_only_B07_bc-8.05_nc-7.05-all.00.bH.set',\n",
       " '!OUT_bcf\\\\4h-1or2N-not_first_only_B07_bc-8.05_nc-7.05-all.00.bN.set',\n",
       " '!OUT_bcf\\\\4h-1or2N-not_first_only_B07_bc-8.05_nc-7.05-hetero-ex.01.00.bA.set',\n",
       " '!OUT_bcf\\\\4h-1or2N-not_first_only_B07_bc-8.05_nc-7.05-hetero-ex.01.00.bH.set',\n",
       " '!OUT_bcf\\\\4h-1or2N-not_first_only_B07_bc-8.05_nc-7.05-hetero-ex.01.00.bN.set',\n",
       " '!OUT_bcf\\\\4h-1or2N-not_first_only_B07_bc-8.05_nc-7.05-hetero.01.bA.set',\n",
       " '!OUT_bcf\\\\4h-1or2N-not_first_only_B07_bc-8.05_nc-7.05-hetero.01.bH.set',\n",
       " '!OUT_bcf\\\\4h-1or2N-not_first_only_B07_bc-8.05_nc-7.05-hetero.01.bN.set',\n",
       " '!OUT_bcf\\\\4h-1or2N-not_first_only_B07_bc-8.60_nc-7.60-all.00.bA.set',\n",
       " '!OUT_bcf\\\\4h-1or2N-not_first_only_B07_bc-8.60_nc-7.60-all.00.bH.set',\n",
       " '!OUT_bcf\\\\4h-1or2N-not_first_only_B07_bc-8.60_nc-7.60-all.00.bN.set',\n",
       " '!OUT_bcf\\\\4h-1or2N-not_first_only_B07_bc-8.60_nc-7.60-hetero-ex.01.00.bA.set',\n",
       " '!OUT_bcf\\\\4h-1or2N-not_first_only_B07_bc-8.60_nc-7.60-hetero-ex.01.00.bH.set',\n",
       " '!OUT_bcf\\\\4h-1or2N-not_first_only_B07_bc-8.60_nc-7.60-hetero-ex.01.00.bN.set',\n",
       " '!OUT_bcf\\\\4h-1or2N-not_first_only_B07_bc-8.60_nc-7.60-hetero-ex.04.00.bA.set',\n",
       " '!OUT_bcf\\\\4h-1or2N-not_first_only_B07_bc-8.60_nc-7.60-hetero-ex.04.00.bH.set',\n",
       " '!OUT_bcf\\\\4h-1or2N-not_first_only_B07_bc-8.60_nc-7.60-hetero-ex.04.00.bN.set',\n",
       " '!OUT_bcf\\\\4h-1or2N-not_first_only_B07_bc-8.60_nc-7.60-hetero.01.bA.set',\n",
       " '!OUT_bcf\\\\4h-1or2N-not_first_only_B07_bc-8.60_nc-7.60-hetero.01.bH.set',\n",
       " '!OUT_bcf\\\\4h-1or2N-not_first_only_B07_bc-8.60_nc-7.60-hetero.01.bN.set',\n",
       " '!OUT_bcf\\\\4h-1or2N-not_first_only_B07_bc-8.60_nc-7.60-hetero.04.bA.set',\n",
       " '!OUT_bcf\\\\4h-1or2N-not_first_only_B07_bc-8.60_nc-7.60-hetero.04.bH.set',\n",
       " '!OUT_bcf\\\\4h-1or2N-not_first_only_B07_bc-8.60_nc-7.60-hetero.04.bN.set',\n",
       " '!OUT_bcf\\\\4h-1or2N-not_first_only_B07_bc-9.00_nc-8.00-all.00.bA.set',\n",
       " '!OUT_bcf\\\\4h-1or2N-not_first_only_B07_bc-9.00_nc-8.00-all.00.bH.set',\n",
       " '!OUT_bcf\\\\4h-1or2N-not_first_only_B07_bc-9.00_nc-8.00-all.00.bN.set',\n",
       " '!OUT_bcf\\\\4h-1or2N-not_first_only_B07_bc-9.00_nc-8.00-hetero-ex.04.00.bA.set',\n",
       " '!OUT_bcf\\\\4h-1or2N-not_first_only_B07_bc-9.00_nc-8.00-hetero-ex.04.00.bH.set',\n",
       " '!OUT_bcf\\\\4h-1or2N-not_first_only_B07_bc-9.00_nc-8.00-hetero-ex.04.00.bN.set',\n",
       " '!OUT_bcf\\\\4h-1or2N-not_first_only_B07_bc-9.00_nc-8.00-hetero.01.bA.set',\n",
       " '!OUT_bcf\\\\4h-1or2N-not_first_only_B07_bc-9.00_nc-8.00-hetero.01.bH.set',\n",
       " '!OUT_bcf\\\\4h-1or2N-not_first_only_B07_bc-9.00_nc-8.00-hetero.01.bN.set',\n",
       " '!OUT_bcf\\\\mason.bA.set',\n",
       " '!OUT_bcf\\\\mason.bH.set',\n",
       " '!OUT_bcf\\\\mason.bN.set',\n",
       " '!OUT_bcf\\\\mason.bP.set',\n",
       " '!OUT_bcf\\\\mason.bS.set',\n",
       " '!OUT_bcf\\\\PNIC.bA.set',\n",
       " '!OUT_bcf\\\\PNIC.bH.set',\n",
       " '!OUT_bcf\\\\PNIC.bN.set',\n",
       " '!OUT_bcf\\\\PNIC.bP.set',\n",
       " '!OUT_bcf\\\\PNIC.bS.set',\n",
       " '!OUT_additional\\\\mason.set',\n",
       " '!OUT_additional\\\\PNIC_A.set',\n",
       " '!OUT_additional\\\\PNIC_bH1.set',\n",
       " '!OUT_additional\\\\PNIC_bHq.set',\n",
       " '!OUT_additional\\\\PNIC_mS.set',\n",
       " '!OUT_additional\\\\PNIC_mSN.set',\n",
       " '!OUT_additional\\\\PNIC_SH.set',\n",
       " '!OUT_additional\\\\PNIC_SHb.set']"
      ]
     },
     "metadata": {},
     "execution_count": 4
    }
   ],
   "metadata": {
    "collapsed": false
   }
  },
  {
   "cell_type": "code",
   "execution_count": 8,
   "source": [
    "#parallel requires \r\n",
    "#!ipcluster start "
   ],
   "outputs": [],
   "metadata": {
    "collapsed": true
   }
  },
  {
   "cell_type": "code",
   "execution_count": 5,
   "source": [
    "for bcf_set in bcf_sets:\r\n",
    "    comp = bz.analyse_sets(bcf_sets, None, alignment=\"B07\", scorer_exe=CCO+\"/fastscore.exe\",\r\n",
    "                           skip_existing=True,\r\n",
    "                           username=\"ajasja\", password=\"agrftAGADIR\", calculate_helicity=True, serial=False)\r\n",
    "\r\n",
    "for r in comp:\r\n",
    "    print(r)"
   ],
   "outputs": [
    {
     "output_type": "stream",
     "name": "stdout",
     "text": [
      "!OUT_bcf\\4h-1or2N-not_first_only-same_GE_B07_bc-7.95_nc-6.95-hetero.00.bA.set\n",
      "!OUT_bcf\\4h-1or2N-not_first_only-same_GE_B07_bc-7.95_nc-6.95-hetero.00.bH.set\n",
      "!OUT_bcf\\4h-1or2N-not_first_only-same_GE_B07_bc-7.95_nc-6.95-hetero.00.bN.set\n",
      "!OUT_bcf\\4h-1or2N-not_first_only-same_GE_B07_bc-7.95_nc-6.95-hetero.03.bA.set\n",
      "!OUT_bcf\\4h-1or2N-not_first_only-same_GE_B07_bc-7.95_nc-6.95-hetero.03.bH.set\n",
      "!OUT_bcf\\4h-1or2N-not_first_only-same_GE_B07_bc-7.95_nc-6.95-hetero.03.bN.set\n",
      "!OUT_bcf\\4h-1or2N-not_first_only-same_GE_B07_bc-8.40_nc-7.40-hetero.01.bA.set\n",
      "!OUT_bcf\\4h-1or2N-not_first_only-same_GE_B07_bc-8.40_nc-7.40-hetero.01.bH.set\n",
      "!OUT_bcf\\4h-1or2N-not_first_only-same_GE_B07_bc-8.40_nc-7.40-hetero.01.bN.set\n",
      "!OUT_bcf\\4h-1or2N-not_first_only-same_GE_B07_bc-8.95_nc-7.95-hetero.00.bA.set\n",
      "!OUT_bcf\\4h-1or2N-not_first_only-same_GE_B07_bc-8.95_nc-7.95-hetero.00.bH.set\n",
      "!OUT_bcf\\4h-1or2N-not_first_only-same_GE_B07_bc-8.95_nc-7.95-hetero.00.bN.set\n",
      "!OUT_bcf\\4h-1or2N-not_first_only_B07_bc-8.05_nc-7.05-all.00.bA.set\n",
      "!OUT_bcf\\4h-1or2N-not_first_only_B07_bc-8.05_nc-7.05-all.00.bH.set\n",
      "!OUT_bcf\\4h-1or2N-not_first_only_B07_bc-8.05_nc-7.05-all.00.bN.set\n",
      "!OUT_bcf\\4h-1or2N-not_first_only_B07_bc-8.05_nc-7.05-hetero-ex.01.00.bA.set\n",
      "!OUT_bcf\\4h-1or2N-not_first_only_B07_bc-8.05_nc-7.05-hetero-ex.01.00.bH.set\n",
      "!OUT_bcf\\4h-1or2N-not_first_only_B07_bc-8.05_nc-7.05-hetero-ex.01.00.bN.set\n",
      "!OUT_bcf\\4h-1or2N-not_first_only_B07_bc-8.05_nc-7.05-hetero.01.bA.set\n",
      "!OUT_bcf\\4h-1or2N-not_first_only_B07_bc-8.05_nc-7.05-hetero.01.bH.set\n",
      "!OUT_bcf\\4h-1or2N-not_first_only_B07_bc-8.05_nc-7.05-hetero.01.bN.set\n",
      "!OUT_bcf\\4h-1or2N-not_first_only_B07_bc-8.60_nc-7.60-all.00.bA.set\n",
      "!OUT_bcf\\4h-1or2N-not_first_only_B07_bc-8.60_nc-7.60-all.00.bH.set\n",
      "!OUT_bcf\\4h-1or2N-not_first_only_B07_bc-8.60_nc-7.60-all.00.bN.set\n",
      "!OUT_bcf\\4h-1or2N-not_first_only_B07_bc-8.60_nc-7.60-hetero-ex.01.00.bA.set\n",
      "!OUT_bcf\\4h-1or2N-not_first_only_B07_bc-8.60_nc-7.60-hetero-ex.01.00.bH.set\n",
      "!OUT_bcf\\4h-1or2N-not_first_only_B07_bc-8.60_nc-7.60-hetero-ex.01.00.bN.set\n",
      "!OUT_bcf\\4h-1or2N-not_first_only_B07_bc-8.60_nc-7.60-hetero-ex.04.00.bA.set\n",
      "!OUT_bcf\\4h-1or2N-not_first_only_B07_bc-8.60_nc-7.60-hetero-ex.04.00.bH.set\n",
      "!OUT_bcf\\4h-1or2N-not_first_only_B07_bc-8.60_nc-7.60-hetero-ex.04.00.bN.set\n",
      "!OUT_bcf\\4h-1or2N-not_first_only_B07_bc-8.60_nc-7.60-hetero.01.bA.set\n",
      "!OUT_bcf\\4h-1or2N-not_first_only_B07_bc-8.60_nc-7.60-hetero.01.bH.set\n",
      "!OUT_bcf\\4h-1or2N-not_first_only_B07_bc-8.60_nc-7.60-hetero.01.bN.set\n",
      "!OUT_bcf\\4h-1or2N-not_first_only_B07_bc-8.60_nc-7.60-hetero.04.bA.set\n",
      "!OUT_bcf\\4h-1or2N-not_first_only_B07_bc-8.60_nc-7.60-hetero.04.bH.set\n",
      "!OUT_bcf\\4h-1or2N-not_first_only_B07_bc-8.60_nc-7.60-hetero.04.bN.set\n",
      "!OUT_bcf\\4h-1or2N-not_first_only_B07_bc-9.00_nc-8.00-all.00.bA.set\n",
      "!OUT_bcf\\4h-1or2N-not_first_only_B07_bc-9.00_nc-8.00-all.00.bH.set\n",
      "!OUT_bcf\\4h-1or2N-not_first_only_B07_bc-9.00_nc-8.00-all.00.bN.set\n",
      "!OUT_bcf\\4h-1or2N-not_first_only_B07_bc-9.00_nc-8.00-hetero-ex.04.00.bA.set\n",
      "!OUT_bcf\\4h-1or2N-not_first_only_B07_bc-9.00_nc-8.00-hetero-ex.04.00.bH.set\n",
      "!OUT_bcf\\4h-1or2N-not_first_only_B07_bc-9.00_nc-8.00-hetero-ex.04.00.bN.set\n",
      "!OUT_bcf\\4h-1or2N-not_first_only_B07_bc-9.00_nc-8.00-hetero.01.bA.set\n",
      "!OUT_bcf\\4h-1or2N-not_first_only_B07_bc-9.00_nc-8.00-hetero.01.bH.set\n",
      "!OUT_bcf\\4h-1or2N-not_first_only_B07_bc-9.00_nc-8.00-hetero.01.bN.set\n",
      "!OUT_bcf\\mason.bA.set\n",
      "!OUT_bcf\\mason.bH.set\n",
      "!OUT_bcf\\mason.bN.set\n",
      "!OUT_bcf\\mason.bP.set\n",
      "!OUT_bcf\\mason.bS.set\n",
      "!OUT_bcf\\PNIC.bA.set\n",
      "!OUT_bcf\\PNIC.bH.set\n",
      "!OUT_bcf\\PNIC.bN.set\n",
      "!OUT_bcf\\PNIC.bP.set\n",
      "!OUT_bcf\\PNIC.bS.set\n",
      "!OUT_additional\\mason.set\n",
      "!OUT_additional\\PNIC_A.set\n",
      "!OUT_additional\\PNIC_bH1.set\n",
      "!OUT_additional\\PNIC_bHq.set\n",
      "!OUT_additional\\PNIC_mS.set\n",
      "!OUT_additional\\PNIC_mSN.set\n",
      "!OUT_additional\\PNIC_SH.set\n",
      "!OUT_additional\\PNIC_SHb.set\n"
     ]
    }
   ],
   "metadata": {
    "collapsed": false
   }
  },
  {
   "cell_type": "code",
   "execution_count": null,
   "source": [],
   "outputs": [],
   "metadata": {
    "collapsed": true
   }
  }
 ],
 "metadata": {
  "anaconda-cloud": {},
  "hide_input": false,
  "kernelspec": {
   "display_name": "Python [default]",
   "language": "python",
   "name": "python2"
  },
  "language_info": {
   "codemirror_mode": {
    "name": "ipython",
    "version": 2
   },
   "file_extension": ".py",
   "mimetype": "text/x-python",
   "name": "python",
   "nbconvert_exporter": "python",
   "pygments_lexer": "ipython2",
   "version": "2.7.11"
  }
 },
 "nbformat": 4,
 "nbformat_minor": 2
}