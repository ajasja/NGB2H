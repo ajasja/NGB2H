{
  "cells": [
    {
      "cell_type": "code",
      "execution_count": 80,
      "source": [
        "from __future__ import division, absolute_import\r\n",
        "%load_ext autoreload\r\n",
        "%autoreload 2\r\n",
        "import os\r\n",
        "#The current working directory\r\n",
        "os.chdir(r\"D:\\data\\ortoCC\\design-with-alignments\\4heptade-7\")\r\n",
        "print(os.getcwd())\r\n",
        "import hepran\r\n",
        "from hepran.bzipscore import *\r\n",
        "import hepran.utils as u\r\n",
        "import hepran.registers as r\r\n",
        "import numpy as np\r\n",
        "#The location of the fast_score excecutables \r\n",
        "CCO = os.environ.get(\"CCO\",r\"C:\\Projekti_KI\\ortoCC\\CoiledCoilOrtho\")\r\n",
        "from glob import glob\r\n",
        "import pandas as pd\r\n",
        "from StringIO import StringIO"
      ],
      "outputs": [
        {
          "output_type": "stream",
          "name": "stdout",
          "text": [
            "The autoreload extension is already loaded. To reload it, use:\n",
            "  %reload_ext autoreload\n",
            "D:\\data\\ortoCC\\design-with-alignments\\4heptade-7\n"
          ]
        }
      ],
      "metadata": {
        "collapsed": false
      }
    },
    {
      "cell_type": "code",
      "execution_count": 166,
      "source": [
        "def open_excel(df_row):\r\n",
        "    name = df_row[\"!full_name\"]\r\n",
        "    name = u.replace_extension(name, '.xlsx')\r\n",
        "    print(name)\r\n",
        "    !open $name\r\n",
        "    \r\n",
        "def final_name(df_row):\r\n",
        "    name = df_row[\"!full_name\"]\r\n",
        "    name = os.path.normpath(name)\r\n",
        "    p = name.split(os.sep)\r\n",
        "    fname = p[1]+\"-\"+p[2]\r\n",
        "    return fname\r\n",
        "    \r\n",
        "#final_name(sdf.iloc[0])    \r\n",
        "\r\n",
        "\r\n",
        "def copy_to_out(df_row, dirname=\"!OUT\", exts=[\".set\", \".xlsx\", \".fasta\"], open_in_excel=False):\r\n",
        "    from shutil import copyfile\r\n",
        "    name = df_row[\"!full_name\"]\r\n",
        "    fname = final_name(df_row)\r\n",
        "    fname = os.path.join(dirname, fname)\r\n",
        "    u.ensure_dir(dirname)\r\n",
        "    \r\n",
        "    print(name +\"->\\n\"+ fname+\"\\n\")           \r\n",
        "    for ext in exts:\r\n",
        "        dest_fname = u.replace_extension(name, ext)\r\n",
        "        target_fname = u.replace_extension(fname,ext)\r\n",
        "        if os.path.exists(dest_fname):\r\n",
        "            copyfile(dest_fname, target_fname)  \r\n",
        "        else:\r\n",
        "            print(\"Warning: file does not exists: \"+dest_fname)\r\n",
        "    \r\n",
        "    if open_in_excel:\r\n",
        "        open_excel(df_row)\r\n",
        "\r\n",
        "def filter_df(peptides_type, set_type, binding_cutoff):\r\n",
        "    \"\"\"Return dataset filtered acording to above criteria\"\"\"\r\n",
        "    \r\n",
        "    sdf=df[(df.peptides_type==peptides_type) & \r\n",
        "       (df.type==set_type) &\r\n",
        "       (df.binding_cutoff==binding_cutoff)]\r\n",
        "    sdf[sdf.N_pairs==sdf.N_pairs.max()]\r\n",
        "    sdf = sdf.sort_values(by=\"total_IN_mismatches total_electrostatic_mismatches orthogonality_average\".split())\r\n",
        "    return sdf\r\n",
        "    \r\n",
        "display_cols = \"basename N_pairs N_heterodimers N_homodimers orthogonality_average total_IN_mismatches total_electrostatic_mismatches\".split()    "
      ],
      "outputs": [],
      "metadata": {
        "collapsed": false
      }
    },
    {
      "cell_type": "code",
      "execution_count": 151,
      "source": [
        "set_infos = glob(\"4h*/*/*.set_info\")\n",
        "df = load_set_infos_to_dataframe(set_infos)\n",
        "df['peptides_type']=df['!full_name'].apply(lambda x: os.path.dirname(os.path.dirname(x)))\n",
        "df['basename']=df['!full_name'].apply(lambda x: os.path.basename(x))\n",
        "df.to_excel('sets.xlsx')"
      ],
      "outputs": [],
      "metadata": {
        "collapsed": false
      }
    },
    {
      "cell_type": "code",
      "execution_count": 103,
      "source": [
        "sdf = filter_df(\"4h-1or2N-not_first_only-DEL1.00\", \"all\", -8.6)\n",
        "sdf[display_cols]"
      ],
      "outputs": [
        {
          "output_type": "execute_result",
          "data": {
            "text/plain": [
              "        basename  N_pairs  N_heterodimers  N_homodimers  \\\n",
              "1158  all.00.set       21            10.0          11.0   \n",
              "\n",
              "      orthogonality_average  total_IN_mismatches  \\\n",
              "1158              -1.885931                  0.0   \n",
              "\n",
              "      total_electrostatic_mismatches  \n",
              "1158                             4.0  "
            ],
            "text/html": [
              "<div>\n",
              "<table border=\"1\" class=\"dataframe\">\n",
              "  <thead>\n",
              "    <tr style=\"text-align: right;\">\n",
              "      <th></th>\n",
              "      <th>basename</th>\n",
              "      <th>N_pairs</th>\n",
              "      <th>N_heterodimers</th>\n",
              "      <th>N_homodimers</th>\n",
              "      <th>orthogonality_average</th>\n",
              "      <th>total_IN_mismatches</th>\n",
              "      <th>total_electrostatic_mismatches</th>\n",
              "    </tr>\n",
              "  </thead>\n",
              "  <tbody>\n",
              "    <tr>\n",
              "      <th>1158</th>\n",
              "      <td>all.00.set</td>\n",
              "      <td>21</td>\n",
              "      <td>10.0</td>\n",
              "      <td>11.0</td>\n",
              "      <td>-1.885931</td>\n",
              "      <td>0.0</td>\n",
              "      <td>4.0</td>\n",
              "    </tr>\n",
              "  </tbody>\n",
              "</table>\n",
              "</div>"
            ]
          },
          "metadata": {},
          "execution_count": 103
        }
      ],
      "metadata": {
        "collapsed": false
      }
    },
    {
      "cell_type": "code",
      "execution_count": 107,
      "source": [
        "copy_to_out(sdf.iloc[0], open_in_excel=1)   \n"
      ],
      "outputs": [
        {
          "output_type": "stream",
          "name": "stdout",
          "text": [
            "('4h-1or2N-not_first_only-DEL1.00/4h-1or2N-not_first_only_B07_bc-8.60_nc-7.60/all.00.set', '!OUT\\\\4h-1or2N-not_first_only_B07_bc-8.60_nc-7.60-all.00.set')\n",
            "4h-1or2N-not_first_only-DEL1.00/4h-1or2N-not_first_only_B07_bc-8.60_nc-7.60/all.00.xlsx\n"
          ]
        }
      ],
      "metadata": {
        "collapsed": false
      }
    },
    {
      "cell_type": "code",
      "execution_count": 97,
      "source": [
        "sdf = filter_df(\"4h-1or2N-not_first_only-DEL1.00\", \"hetero\", -8.6)\n",
        "sdf[display_cols]"
      ],
      "outputs": [
        {
          "output_type": "execute_result",
          "data": {
            "text/plain": [
              "           basename  N_pairs  N_heterodimers  N_homodimers  \\\n",
              "1168  hetero.04.set       11            11.0           0.0   \n",
              "1164  hetero.00.set       11            11.0           0.0   \n",
              "1169  hetero.05.set       11            11.0           0.0   \n",
              "1167  hetero.03.set       11            11.0           0.0   \n",
              "1166  hetero.02.set       11            11.0           0.0   \n",
              "1170  hetero.06.set       11            11.0           0.0   \n",
              "1165  hetero.01.set       11            11.0           0.0   \n",
              "\n",
              "      orthogonality_average  total_IN_mismatches  \\\n",
              "1168              -1.905839                  0.0   \n",
              "1164              -1.915655                  0.0   \n",
              "1169              -1.890803                  0.0   \n",
              "1167              -1.889120                  0.0   \n",
              "1166              -1.872692                  0.0   \n",
              "1170              -1.940744                  0.0   \n",
              "1165              -1.937973                  0.0   \n",
              "\n",
              "      total_electrostatic_mismatches  \n",
              "1168                             0.0  \n",
              "1164                             1.0  \n",
              "1169                             1.0  \n",
              "1167                             1.0  \n",
              "1166                             1.0  \n",
              "1170                             2.0  \n",
              "1165                             2.0  "
            ],
            "text/html": [
              "<div>\n",
              "<table border=\"1\" class=\"dataframe\">\n",
              "  <thead>\n",
              "    <tr style=\"text-align: right;\">\n",
              "      <th></th>\n",
              "      <th>basename</th>\n",
              "      <th>N_pairs</th>\n",
              "      <th>N_heterodimers</th>\n",
              "      <th>N_homodimers</th>\n",
              "      <th>orthogonality_average</th>\n",
              "      <th>total_IN_mismatches</th>\n",
              "      <th>total_electrostatic_mismatches</th>\n",
              "    </tr>\n",
              "  </thead>\n",
              "  <tbody>\n",
              "    <tr>\n",
              "      <th>1168</th>\n",
              "      <td>hetero.04.set</td>\n",
              "      <td>11</td>\n",
              "      <td>11.0</td>\n",
              "      <td>0.0</td>\n",
              "      <td>-1.905839</td>\n",
              "      <td>0.0</td>\n",
              "      <td>0.0</td>\n",
              "    </tr>\n",
              "    <tr>\n",
              "      <th>1164</th>\n",
              "      <td>hetero.00.set</td>\n",
              "      <td>11</td>\n",
              "      <td>11.0</td>\n",
              "      <td>0.0</td>\n",
              "      <td>-1.915655</td>\n",
              "      <td>0.0</td>\n",
              "      <td>1.0</td>\n",
              "    </tr>\n",
              "    <tr>\n",
              "      <th>1169</th>\n",
              "      <td>hetero.05.set</td>\n",
              "      <td>11</td>\n",
              "      <td>11.0</td>\n",
              "      <td>0.0</td>\n",
              "      <td>-1.890803</td>\n",
              "      <td>0.0</td>\n",
              "      <td>1.0</td>\n",
              "    </tr>\n",
              "    <tr>\n",
              "      <th>1167</th>\n",
              "      <td>hetero.03.set</td>\n",
              "      <td>11</td>\n",
              "      <td>11.0</td>\n",
              "      <td>0.0</td>\n",
              "      <td>-1.889120</td>\n",
              "      <td>0.0</td>\n",
              "      <td>1.0</td>\n",
              "    </tr>\n",
              "    <tr>\n",
              "      <th>1166</th>\n",
              "      <td>hetero.02.set</td>\n",
              "      <td>11</td>\n",
              "      <td>11.0</td>\n",
              "      <td>0.0</td>\n",
              "      <td>-1.872692</td>\n",
              "      <td>0.0</td>\n",
              "      <td>1.0</td>\n",
              "    </tr>\n",
              "    <tr>\n",
              "      <th>1170</th>\n",
              "      <td>hetero.06.set</td>\n",
              "      <td>11</td>\n",
              "      <td>11.0</td>\n",
              "      <td>0.0</td>\n",
              "      <td>-1.940744</td>\n",
              "      <td>0.0</td>\n",
              "      <td>2.0</td>\n",
              "    </tr>\n",
              "    <tr>\n",
              "      <th>1165</th>\n",
              "      <td>hetero.01.set</td>\n",
              "      <td>11</td>\n",
              "      <td>11.0</td>\n",
              "      <td>0.0</td>\n",
              "      <td>-1.937973</td>\n",
              "      <td>0.0</td>\n",
              "      <td>2.0</td>\n",
              "    </tr>\n",
              "  </tbody>\n",
              "</table>\n",
              "</div>"
            ]
          },
          "metadata": {},
          "execution_count": 97
        }
      ],
      "metadata": {
        "collapsed": false
      }
    },
    {
      "cell_type": "code",
      "execution_count": 108,
      "source": [
        "copy_to_out(sdf.iloc[0], open_in_excel=1)   \n",
        "copy_to_out(sdf.iloc[-1], open_in_excel=1)   \n"
      ],
      "outputs": [
        {
          "output_type": "stream",
          "name": "stdout",
          "text": [
            "('4h-1or2N-not_first_only-DEL1.00/4h-1or2N-not_first_only_B07_bc-8.60_nc-7.60/all.00.set', '!OUT\\\\4h-1or2N-not_first_only_B07_bc-8.60_nc-7.60-all.00.set')\n",
            "4h-1or2N-not_first_only-DEL1.00/4h-1or2N-not_first_only_B07_bc-8.60_nc-7.60/all.00.xlsx\n",
            "('4h-1or2N-not_first_only-DEL1.00/4h-1or2N-not_first_only_B07_bc-8.60_nc-7.60/all.00.set', '!OUT\\\\4h-1or2N-not_first_only_B07_bc-8.60_nc-7.60-all.00.set')\n",
            "4h-1or2N-not_first_only-DEL1.00/4h-1or2N-not_first_only_B07_bc-8.60_nc-7.60/all.00.xlsx\n"
          ]
        }
      ],
      "metadata": {
        "collapsed": false
      }
    },
    {
      "cell_type": "code",
      "execution_count": 115,
      "source": [
        "sdf = filter_df(\"4h-1or2N-not_first_only-DEL1.00\", \"hetero-ex\", -8.6)\n",
        "sdf[display_cols]"
      ],
      "outputs": [
        {
          "output_type": "execute_result",
          "data": {
            "text/plain": [
              "                 basename  N_pairs  N_heterodimers  N_homodimers  \\\n",
              "1162  hetero-ex.04.00.set       15            11.0           4.0   \n",
              "1161  hetero-ex.03.00.set       15            11.0           4.0   \n",
              "1163  hetero-ex.05.00.set       15            11.0           4.0   \n",
              "1160  hetero-ex.02.00.set       15            11.0           4.0   \n",
              "1159  hetero-ex.01.00.set       15            11.0           4.0   \n",
              "\n",
              "      orthogonality_average  total_IN_mismatches  \\\n",
              "1162              -1.899556                  0.0   \n",
              "1161              -1.885344                  0.0   \n",
              "1163              -1.885305                  0.0   \n",
              "1160              -1.868238                  0.0   \n",
              "1159              -1.922225                  0.0   \n",
              "\n",
              "      total_electrostatic_mismatches  \n",
              "1162                             0.0  \n",
              "1161                             1.0  \n",
              "1163                             1.0  \n",
              "1160                             1.0  \n",
              "1159                             2.0  "
            ],
            "text/html": [
              "<div>\n",
              "<table border=\"1\" class=\"dataframe\">\n",
              "  <thead>\n",
              "    <tr style=\"text-align: right;\">\n",
              "      <th></th>\n",
              "      <th>basename</th>\n",
              "      <th>N_pairs</th>\n",
              "      <th>N_heterodimers</th>\n",
              "      <th>N_homodimers</th>\n",
              "      <th>orthogonality_average</th>\n",
              "      <th>total_IN_mismatches</th>\n",
              "      <th>total_electrostatic_mismatches</th>\n",
              "    </tr>\n",
              "  </thead>\n",
              "  <tbody>\n",
              "    <tr>\n",
              "      <th>1162</th>\n",
              "      <td>hetero-ex.04.00.set</td>\n",
              "      <td>15</td>\n",
              "      <td>11.0</td>\n",
              "      <td>4.0</td>\n",
              "      <td>-1.899556</td>\n",
              "      <td>0.0</td>\n",
              "      <td>0.0</td>\n",
              "    </tr>\n",
              "    <tr>\n",
              "      <th>1161</th>\n",
              "      <td>hetero-ex.03.00.set</td>\n",
              "      <td>15</td>\n",
              "      <td>11.0</td>\n",
              "      <td>4.0</td>\n",
              "      <td>-1.885344</td>\n",
              "      <td>0.0</td>\n",
              "      <td>1.0</td>\n",
              "    </tr>\n",
              "    <tr>\n",
              "      <th>1163</th>\n",
              "      <td>hetero-ex.05.00.set</td>\n",
              "      <td>15</td>\n",
              "      <td>11.0</td>\n",
              "      <td>4.0</td>\n",
              "      <td>-1.885305</td>\n",
              "      <td>0.0</td>\n",
              "      <td>1.0</td>\n",
              "    </tr>\n",
              "    <tr>\n",
              "      <th>1160</th>\n",
              "      <td>hetero-ex.02.00.set</td>\n",
              "      <td>15</td>\n",
              "      <td>11.0</td>\n",
              "      <td>4.0</td>\n",
              "      <td>-1.868238</td>\n",
              "      <td>0.0</td>\n",
              "      <td>1.0</td>\n",
              "    </tr>\n",
              "    <tr>\n",
              "      <th>1159</th>\n",
              "      <td>hetero-ex.01.00.set</td>\n",
              "      <td>15</td>\n",
              "      <td>11.0</td>\n",
              "      <td>4.0</td>\n",
              "      <td>-1.922225</td>\n",
              "      <td>0.0</td>\n",
              "      <td>2.0</td>\n",
              "    </tr>\n",
              "  </tbody>\n",
              "</table>\n",
              "</div>"
            ]
          },
          "metadata": {},
          "execution_count": 115
        }
      ],
      "metadata": {
        "collapsed": false
      }
    },
    {
      "cell_type": "code",
      "execution_count": 114,
      "source": [
        "copy_to_out(sdf.iloc[0], open_in_excel=0)   \n",
        "copy_to_out(sdf.iloc[-1], open_in_excel=0)   "
      ],
      "outputs": [
        {
          "output_type": "stream",
          "name": "stdout",
          "text": [
            "4h-1or2N-not_first_only-DEL1.00/4h-1or2N-not_first_only_B07_bc-8.60_nc-7.60/hetero-ex.04.00.set->\n",
            "!OUT\\4h-1or2N-not_first_only_B07_bc-8.60_nc-7.60-hetero-ex.04.00.set\n",
            "\n",
            "4h-1or2N-not_first_only-DEL1.00/4h-1or2N-not_first_only_B07_bc-8.60_nc-7.60/hetero-ex.01.00.set->\n",
            "!OUT\\4h-1or2N-not_first_only_B07_bc-8.60_nc-7.60-hetero-ex.01.00.set\n",
            "\n"
          ]
        }
      ],
      "metadata": {
        "collapsed": false
      }
    },
    {
      "cell_type": "code",
      "execution_count": 116,
      "source": [
        "sdf = filter_df(\"4h-1or2N-not_first_only-DEL1.00\", \"hetero\", -9)\n",
        "sdf[display_cols]"
      ],
      "outputs": [
        {
          "output_type": "execute_result",
          "data": {
            "text/plain": [
              "           basename  N_pairs  N_heterodimers  N_homodimers  \\\n",
              "1329  hetero.01.set        8             8.0           0.0   \n",
              "1332  hetero.04.set        8             8.0           0.0   \n",
              "1333  hetero.05.set        8             8.0           0.0   \n",
              "1328  hetero.00.set        8             8.0           0.0   \n",
              "1334  hetero.06.set        8             8.0           0.0   \n",
              "1330  hetero.02.set        8             8.0           0.0   \n",
              "1331  hetero.03.set        8             8.0           0.0   \n",
              "1335  hetero.07.set        8             8.0           0.0   \n",
              "\n",
              "      orthogonality_average  total_IN_mismatches  \\\n",
              "1329              -1.814051                  0.0   \n",
              "1332              -1.908027                  0.0   \n",
              "1333              -1.899090                  0.0   \n",
              "1328              -1.886199                  0.0   \n",
              "1334              -1.869945                  0.0   \n",
              "1330              -1.861142                  0.0   \n",
              "1331              -1.881756                  0.0   \n",
              "1335              -1.861361                  0.0   \n",
              "\n",
              "      total_electrostatic_mismatches  \n",
              "1329                             0.0  \n",
              "1332                             1.0  \n",
              "1333                             1.0  \n",
              "1328                             1.0  \n",
              "1334                             1.0  \n",
              "1330                             1.0  \n",
              "1331                             2.0  \n",
              "1335                             2.0  "
            ],
            "text/html": [
              "<div>\n",
              "<table border=\"1\" class=\"dataframe\">\n",
              "  <thead>\n",
              "    <tr style=\"text-align: right;\">\n",
              "      <th></th>\n",
              "      <th>basename</th>\n",
              "      <th>N_pairs</th>\n",
              "      <th>N_heterodimers</th>\n",
              "      <th>N_homodimers</th>\n",
              "      <th>orthogonality_average</th>\n",
              "      <th>total_IN_mismatches</th>\n",
              "      <th>total_electrostatic_mismatches</th>\n",
              "    </tr>\n",
              "  </thead>\n",
              "  <tbody>\n",
              "    <tr>\n",
              "      <th>1329</th>\n",
              "      <td>hetero.01.set</td>\n",
              "      <td>8</td>\n",
              "      <td>8.0</td>\n",
              "      <td>0.0</td>\n",
              "      <td>-1.814051</td>\n",
              "      <td>0.0</td>\n",
              "      <td>0.0</td>\n",
              "    </tr>\n",
              "    <tr>\n",
              "      <th>1332</th>\n",
              "      <td>hetero.04.set</td>\n",
              "      <td>8</td>\n",
              "      <td>8.0</td>\n",
              "      <td>0.0</td>\n",
              "      <td>-1.908027</td>\n",
              "      <td>0.0</td>\n",
              "      <td>1.0</td>\n",
              "    </tr>\n",
              "    <tr>\n",
              "      <th>1333</th>\n",
              "      <td>hetero.05.set</td>\n",
              "      <td>8</td>\n",
              "      <td>8.0</td>\n",
              "      <td>0.0</td>\n",
              "      <td>-1.899090</td>\n",
              "      <td>0.0</td>\n",
              "      <td>1.0</td>\n",
              "    </tr>\n",
              "    <tr>\n",
              "      <th>1328</th>\n",
              "      <td>hetero.00.set</td>\n",
              "      <td>8</td>\n",
              "      <td>8.0</td>\n",
              "      <td>0.0</td>\n",
              "      <td>-1.886199</td>\n",
              "      <td>0.0</td>\n",
              "      <td>1.0</td>\n",
              "    </tr>\n",
              "    <tr>\n",
              "      <th>1334</th>\n",
              "      <td>hetero.06.set</td>\n",
              "      <td>8</td>\n",
              "      <td>8.0</td>\n",
              "      <td>0.0</td>\n",
              "      <td>-1.869945</td>\n",
              "      <td>0.0</td>\n",
              "      <td>1.0</td>\n",
              "    </tr>\n",
              "    <tr>\n",
              "      <th>1330</th>\n",
              "      <td>hetero.02.set</td>\n",
              "      <td>8</td>\n",
              "      <td>8.0</td>\n",
              "      <td>0.0</td>\n",
              "      <td>-1.861142</td>\n",
              "      <td>0.0</td>\n",
              "      <td>1.0</td>\n",
              "    </tr>\n",
              "    <tr>\n",
              "      <th>1331</th>\n",
              "      <td>hetero.03.set</td>\n",
              "      <td>8</td>\n",
              "      <td>8.0</td>\n",
              "      <td>0.0</td>\n",
              "      <td>-1.881756</td>\n",
              "      <td>0.0</td>\n",
              "      <td>2.0</td>\n",
              "    </tr>\n",
              "    <tr>\n",
              "      <th>1335</th>\n",
              "      <td>hetero.07.set</td>\n",
              "      <td>8</td>\n",
              "      <td>8.0</td>\n",
              "      <td>0.0</td>\n",
              "      <td>-1.861361</td>\n",
              "      <td>0.0</td>\n",
              "      <td>2.0</td>\n",
              "    </tr>\n",
              "  </tbody>\n",
              "</table>\n",
              "</div>"
            ]
          },
          "metadata": {},
          "execution_count": 116
        }
      ],
      "metadata": {
        "collapsed": false
      }
    },
    {
      "cell_type": "code",
      "execution_count": 119,
      "source": [
        "#open_excel(sdf.iloc[0])\n",
        "copy_to_out(sdf.iloc[0], open_in_excel=0)   \n"
      ],
      "outputs": [
        {
          "output_type": "stream",
          "name": "stdout",
          "text": [
            "4h-1or2N-not_first_only-DEL1.00/4h-1or2N-not_first_only_B07_bc-9.00_nc-8.00/hetero.01.set->\n",
            "!OUT\\4h-1or2N-not_first_only_B07_bc-9.00_nc-8.00-hetero.01.set\n",
            "\n"
          ]
        }
      ],
      "metadata": {
        "collapsed": false
      }
    },
    {
      "cell_type": "code",
      "execution_count": 120,
      "source": [
        "sdf = filter_df(\"4h-1or2N-not_first_only-DEL1.00\", \"hetero-ex\", -9)\n",
        "sdf[display_cols]"
      ],
      "outputs": [
        {
          "output_type": "execute_result",
          "data": {
            "text/plain": [
              "                 basename  N_pairs  N_heterodimers  N_homodimers  \\\n",
              "1327  hetero-ex.04.00.set       12             8.0           4.0   \n",
              "\n",
              "      orthogonality_average  total_IN_mismatches  \\\n",
              "1327              -1.902092                  0.0   \n",
              "\n",
              "      total_electrostatic_mismatches  \n",
              "1327                             1.0  "
            ],
            "text/html": [
              "<div>\n",
              "<table border=\"1\" class=\"dataframe\">\n",
              "  <thead>\n",
              "    <tr style=\"text-align: right;\">\n",
              "      <th></th>\n",
              "      <th>basename</th>\n",
              "      <th>N_pairs</th>\n",
              "      <th>N_heterodimers</th>\n",
              "      <th>N_homodimers</th>\n",
              "      <th>orthogonality_average</th>\n",
              "      <th>total_IN_mismatches</th>\n",
              "      <th>total_electrostatic_mismatches</th>\n",
              "    </tr>\n",
              "  </thead>\n",
              "  <tbody>\n",
              "    <tr>\n",
              "      <th>1327</th>\n",
              "      <td>hetero-ex.04.00.set</td>\n",
              "      <td>12</td>\n",
              "      <td>8.0</td>\n",
              "      <td>4.0</td>\n",
              "      <td>-1.902092</td>\n",
              "      <td>0.0</td>\n",
              "      <td>1.0</td>\n",
              "    </tr>\n",
              "  </tbody>\n",
              "</table>\n",
              "</div>"
            ]
          },
          "metadata": {},
          "execution_count": 120
        }
      ],
      "metadata": {
        "collapsed": false
      }
    },
    {
      "cell_type": "code",
      "execution_count": 121,
      "source": [
        "copy_to_out(sdf.iloc[0], open_in_excel=0)   "
      ],
      "outputs": [
        {
          "output_type": "stream",
          "name": "stdout",
          "text": [
            "4h-1or2N-not_first_only-DEL1.00/4h-1or2N-not_first_only_B07_bc-9.00_nc-8.00/hetero-ex.04.00.set->\n",
            "!OUT\\4h-1or2N-not_first_only_B07_bc-9.00_nc-8.00-hetero-ex.04.00.set\n",
            "\n"
          ]
        }
      ],
      "metadata": {
        "collapsed": false
      }
    },
    {
      "cell_type": "code",
      "execution_count": 123,
      "source": [
        "sdf = filter_df(\"4h-1or2N-not_first_only-DEL1.00\", \"all\", -9)\n",
        "sdf[display_cols]"
      ],
      "outputs": [
        {
          "output_type": "execute_result",
          "data": {
            "text/plain": [
              "        basename  N_pairs  N_heterodimers  N_homodimers  \\\n",
              "1326  all.00.set       13             6.0           7.0   \n",
              "\n",
              "      orthogonality_average  total_IN_mismatches  \\\n",
              "1326              -1.867057                  0.0   \n",
              "\n",
              "      total_electrostatic_mismatches  \n",
              "1326                             0.0  "
            ],
            "text/html": [
              "<div>\n",
              "<table border=\"1\" class=\"dataframe\">\n",
              "  <thead>\n",
              "    <tr style=\"text-align: right;\">\n",
              "      <th></th>\n",
              "      <th>basename</th>\n",
              "      <th>N_pairs</th>\n",
              "      <th>N_heterodimers</th>\n",
              "      <th>N_homodimers</th>\n",
              "      <th>orthogonality_average</th>\n",
              "      <th>total_IN_mismatches</th>\n",
              "      <th>total_electrostatic_mismatches</th>\n",
              "    </tr>\n",
              "  </thead>\n",
              "  <tbody>\n",
              "    <tr>\n",
              "      <th>1326</th>\n",
              "      <td>all.00.set</td>\n",
              "      <td>13</td>\n",
              "      <td>6.0</td>\n",
              "      <td>7.0</td>\n",
              "      <td>-1.867057</td>\n",
              "      <td>0.0</td>\n",
              "      <td>0.0</td>\n",
              "    </tr>\n",
              "  </tbody>\n",
              "</table>\n",
              "</div>"
            ]
          },
          "metadata": {},
          "execution_count": 123
        }
      ],
      "metadata": {
        "collapsed": false
      }
    },
    {
      "cell_type": "code",
      "execution_count": 124,
      "source": [
        "copy_to_out(sdf.iloc[0], open_in_excel=0)  "
      ],
      "outputs": [
        {
          "output_type": "stream",
          "name": "stdout",
          "text": [
            "4h-1or2N-not_first_only-DEL1.00/4h-1or2N-not_first_only_B07_bc-9.00_nc-8.00/all.00.set->\n",
            "!OUT\\4h-1or2N-not_first_only_B07_bc-9.00_nc-8.00-all.00.set\n",
            "\n",
            "4h-1or2N-not_first_only-DEL1.00/4h-1or2N-not_first_only_B07_bc-9.00_nc-8.00/all.00.xlsx\n"
          ]
        }
      ],
      "metadata": {
        "collapsed": false
      }
    },
    {
      "cell_type": "code",
      "execution_count": 145,
      "source": [
        "sdf = filter_df(\"4h-1or2N-not_first_only-DEL1.00\", \"all\", -8.05)\n",
        "sdf[display_cols]"
      ],
      "outputs": [
        {
          "output_type": "execute_result",
          "data": {
            "text/plain": [
              "        basename  N_pairs  N_heterodimers  N_homodimers  \\\n",
              "1006  all.00.set       17             6.0          11.0   \n",
              "\n",
              "      orthogonality_average  total_IN_mismatches  \\\n",
              "1006               -1.71755                  0.0   \n",
              "\n",
              "      total_electrostatic_mismatches  \n",
              "1006                             3.0  "
            ],
            "text/html": [
              "<div>\n",
              "<table border=\"1\" class=\"dataframe\">\n",
              "  <thead>\n",
              "    <tr style=\"text-align: right;\">\n",
              "      <th></th>\n",
              "      <th>basename</th>\n",
              "      <th>N_pairs</th>\n",
              "      <th>N_heterodimers</th>\n",
              "      <th>N_homodimers</th>\n",
              "      <th>orthogonality_average</th>\n",
              "      <th>total_IN_mismatches</th>\n",
              "      <th>total_electrostatic_mismatches</th>\n",
              "    </tr>\n",
              "  </thead>\n",
              "  <tbody>\n",
              "    <tr>\n",
              "      <th>1006</th>\n",
              "      <td>all.00.set</td>\n",
              "      <td>17</td>\n",
              "      <td>6.0</td>\n",
              "      <td>11.0</td>\n",
              "      <td>-1.71755</td>\n",
              "      <td>0.0</td>\n",
              "      <td>3.0</td>\n",
              "    </tr>\n",
              "  </tbody>\n",
              "</table>\n",
              "</div>"
            ]
          },
          "metadata": {},
          "execution_count": 145
        }
      ],
      "metadata": {
        "collapsed": false
      }
    },
    {
      "cell_type": "code",
      "execution_count": 146,
      "source": [
        "copy_to_out(sdf.iloc[0], open_in_excel=0)  "
      ],
      "outputs": [
        {
          "output_type": "stream",
          "name": "stdout",
          "text": [
            "4h-1or2N-not_first_only-DEL1.00/4h-1or2N-not_first_only_B07_bc-8.05_nc-7.05/all.00.set->\n",
            "!OUT\\4h-1or2N-not_first_only_B07_bc-8.05_nc-7.05-all.00.set\n",
            "\n"
          ]
        }
      ],
      "metadata": {
        "collapsed": false
      }
    },
    {
      "cell_type": "code",
      "execution_count": 147,
      "source": [
        "sdf = filter_df(\"4h-1or2N-not_first_only-DEL1.00\", \"hetero\", -8.05)\n",
        "sdf[display_cols]"
      ],
      "outputs": [
        {
          "output_type": "execute_result",
          "data": {
            "text/plain": [
              "           basename  N_pairs  N_heterodimers  N_homodimers  \\\n",
              "1011  hetero.01.set        9             9.0           0.0   \n",
              "1010  hetero.00.set        9             9.0           0.0   \n",
              "1012  hetero.02.set        9             9.0           0.0   \n",
              "1013  hetero.03.set        9             9.0           0.0   \n",
              "\n",
              "      orthogonality_average  total_IN_mismatches  \\\n",
              "1011              -1.710787                  0.0   \n",
              "1010              -1.693302                  0.0   \n",
              "1012              -1.667620                  0.0   \n",
              "1013              -1.640848                  0.0   \n",
              "\n",
              "      total_electrostatic_mismatches  \n",
              "1011                             1.0  \n",
              "1010                             2.0  \n",
              "1012                             2.0  \n",
              "1013                             2.0  "
            ],
            "text/html": [
              "<div>\n",
              "<table border=\"1\" class=\"dataframe\">\n",
              "  <thead>\n",
              "    <tr style=\"text-align: right;\">\n",
              "      <th></th>\n",
              "      <th>basename</th>\n",
              "      <th>N_pairs</th>\n",
              "      <th>N_heterodimers</th>\n",
              "      <th>N_homodimers</th>\n",
              "      <th>orthogonality_average</th>\n",
              "      <th>total_IN_mismatches</th>\n",
              "      <th>total_electrostatic_mismatches</th>\n",
              "    </tr>\n",
              "  </thead>\n",
              "  <tbody>\n",
              "    <tr>\n",
              "      <th>1011</th>\n",
              "      <td>hetero.01.set</td>\n",
              "      <td>9</td>\n",
              "      <td>9.0</td>\n",
              "      <td>0.0</td>\n",
              "      <td>-1.710787</td>\n",
              "      <td>0.0</td>\n",
              "      <td>1.0</td>\n",
              "    </tr>\n",
              "    <tr>\n",
              "      <th>1010</th>\n",
              "      <td>hetero.00.set</td>\n",
              "      <td>9</td>\n",
              "      <td>9.0</td>\n",
              "      <td>0.0</td>\n",
              "      <td>-1.693302</td>\n",
              "      <td>0.0</td>\n",
              "      <td>2.0</td>\n",
              "    </tr>\n",
              "    <tr>\n",
              "      <th>1012</th>\n",
              "      <td>hetero.02.set</td>\n",
              "      <td>9</td>\n",
              "      <td>9.0</td>\n",
              "      <td>0.0</td>\n",
              "      <td>-1.667620</td>\n",
              "      <td>0.0</td>\n",
              "      <td>2.0</td>\n",
              "    </tr>\n",
              "    <tr>\n",
              "      <th>1013</th>\n",
              "      <td>hetero.03.set</td>\n",
              "      <td>9</td>\n",
              "      <td>9.0</td>\n",
              "      <td>0.0</td>\n",
              "      <td>-1.640848</td>\n",
              "      <td>0.0</td>\n",
              "      <td>2.0</td>\n",
              "    </tr>\n",
              "  </tbody>\n",
              "</table>\n",
              "</div>"
            ]
          },
          "metadata": {},
          "execution_count": 147
        }
      ],
      "metadata": {
        "collapsed": false
      }
    },
    {
      "cell_type": "code",
      "execution_count": 148,
      "source": [
        "copy_to_out(sdf.iloc[0], open_in_excel=0) "
      ],
      "outputs": [
        {
          "output_type": "stream",
          "name": "stdout",
          "text": [
            "4h-1or2N-not_first_only-DEL1.00/4h-1or2N-not_first_only_B07_bc-8.05_nc-7.05/hetero.01.set->\n",
            "!OUT\\4h-1or2N-not_first_only_B07_bc-8.05_nc-7.05-hetero.01.set\n",
            "\n",
            "4h-1or2N-not_first_only-DEL1.00/4h-1or2N-not_first_only_B07_bc-8.05_nc-7.05/hetero.01.xlsx\n"
          ]
        }
      ],
      "metadata": {
        "collapsed": false
      }
    },
    {
      "cell_type": "code",
      "execution_count": 149,
      "source": [
        "sdf = filter_df(\"4h-1or2N-not_first_only-DEL1.00\", \"hetero-ex\", -8.05)\n",
        "sdf[display_cols]"
      ],
      "outputs": [
        {
          "output_type": "execute_result",
          "data": {
            "text/plain": [
              "                 basename  N_pairs  N_heterodimers  N_homodimers  \\\n",
              "1008  hetero-ex.01.00.set       12             9.0           3.0   \n",
              "1007  hetero-ex.00.00.set       12             9.0           3.0   \n",
              "1009  hetero-ex.03.00.set       12             9.0           3.0   \n",
              "\n",
              "      orthogonality_average  total_IN_mismatches  \\\n",
              "1008              -1.704634                  0.0   \n",
              "1007              -1.690538                  0.0   \n",
              "1009              -1.654101                  0.0   \n",
              "\n",
              "      total_electrostatic_mismatches  \n",
              "1008                             1.0  \n",
              "1007                             2.0  \n",
              "1009                             2.0  "
            ],
            "text/html": [
              "<div>\n",
              "<table border=\"1\" class=\"dataframe\">\n",
              "  <thead>\n",
              "    <tr style=\"text-align: right;\">\n",
              "      <th></th>\n",
              "      <th>basename</th>\n",
              "      <th>N_pairs</th>\n",
              "      <th>N_heterodimers</th>\n",
              "      <th>N_homodimers</th>\n",
              "      <th>orthogonality_average</th>\n",
              "      <th>total_IN_mismatches</th>\n",
              "      <th>total_electrostatic_mismatches</th>\n",
              "    </tr>\n",
              "  </thead>\n",
              "  <tbody>\n",
              "    <tr>\n",
              "      <th>1008</th>\n",
              "      <td>hetero-ex.01.00.set</td>\n",
              "      <td>12</td>\n",
              "      <td>9.0</td>\n",
              "      <td>3.0</td>\n",
              "      <td>-1.704634</td>\n",
              "      <td>0.0</td>\n",
              "      <td>1.0</td>\n",
              "    </tr>\n",
              "    <tr>\n",
              "      <th>1007</th>\n",
              "      <td>hetero-ex.00.00.set</td>\n",
              "      <td>12</td>\n",
              "      <td>9.0</td>\n",
              "      <td>3.0</td>\n",
              "      <td>-1.690538</td>\n",
              "      <td>0.0</td>\n",
              "      <td>2.0</td>\n",
              "    </tr>\n",
              "    <tr>\n",
              "      <th>1009</th>\n",
              "      <td>hetero-ex.03.00.set</td>\n",
              "      <td>12</td>\n",
              "      <td>9.0</td>\n",
              "      <td>3.0</td>\n",
              "      <td>-1.654101</td>\n",
              "      <td>0.0</td>\n",
              "      <td>2.0</td>\n",
              "    </tr>\n",
              "  </tbody>\n",
              "</table>\n",
              "</div>"
            ]
          },
          "metadata": {},
          "execution_count": 149
        }
      ],
      "metadata": {
        "collapsed": false
      }
    },
    {
      "cell_type": "code",
      "execution_count": 150,
      "source": [
        "copy_to_out(sdf.iloc[0], open_in_excel=1) "
      ],
      "outputs": [
        {
          "output_type": "stream",
          "name": "stdout",
          "text": [
            "4h-1or2N-not_first_only-DEL1.00/4h-1or2N-not_first_only_B07_bc-8.05_nc-7.05/hetero-ex.01.00.set->\n",
            "!OUT\\4h-1or2N-not_first_only_B07_bc-8.05_nc-7.05-hetero-ex.01.00.set\n",
            "\n",
            "4h-1or2N-not_first_only-DEL1.00/4h-1or2N-not_first_only_B07_bc-8.05_nc-7.05/hetero-ex.01.00.xlsx\n"
          ]
        }
      ],
      "metadata": {
        "collapsed": false
      }
    },
    {
      "cell_type": "code",
      "execution_count": 157,
      "source": [
        "sdf = filter_df(\"4h-1or2N-not_first_only-same_GE-DEL1.00\", \"hetero\", -8.40)\n",
        "sdf[display_cols]"
      ],
      "outputs": [
        {
          "output_type": "execute_result",
          "data": {
            "text/plain": [
              "           basename  N_pairs  N_heterodimers  N_homodimers  \\\n",
              "1587  hetero.01.set        5             5.0           0.0   \n",
              "1586  hetero.00.set        5             5.0           0.0   \n",
              "\n",
              "      orthogonality_average  total_IN_mismatches  \\\n",
              "1587              -1.964534                  0.0   \n",
              "1586              -1.902007                  0.0   \n",
              "\n",
              "      total_electrostatic_mismatches  \n",
              "1587                             0.0  \n",
              "1586                             2.0  "
            ],
            "text/html": [
              "<div>\n",
              "<table border=\"1\" class=\"dataframe\">\n",
              "  <thead>\n",
              "    <tr style=\"text-align: right;\">\n",
              "      <th></th>\n",
              "      <th>basename</th>\n",
              "      <th>N_pairs</th>\n",
              "      <th>N_heterodimers</th>\n",
              "      <th>N_homodimers</th>\n",
              "      <th>orthogonality_average</th>\n",
              "      <th>total_IN_mismatches</th>\n",
              "      <th>total_electrostatic_mismatches</th>\n",
              "    </tr>\n",
              "  </thead>\n",
              "  <tbody>\n",
              "    <tr>\n",
              "      <th>1587</th>\n",
              "      <td>hetero.01.set</td>\n",
              "      <td>5</td>\n",
              "      <td>5.0</td>\n",
              "      <td>0.0</td>\n",
              "      <td>-1.964534</td>\n",
              "      <td>0.0</td>\n",
              "      <td>0.0</td>\n",
              "    </tr>\n",
              "    <tr>\n",
              "      <th>1586</th>\n",
              "      <td>hetero.00.set</td>\n",
              "      <td>5</td>\n",
              "      <td>5.0</td>\n",
              "      <td>0.0</td>\n",
              "      <td>-1.902007</td>\n",
              "      <td>0.0</td>\n",
              "      <td>2.0</td>\n",
              "    </tr>\n",
              "  </tbody>\n",
              "</table>\n",
              "</div>"
            ]
          },
          "metadata": {},
          "execution_count": 157
        }
      ],
      "metadata": {
        "collapsed": false
      }
    },
    {
      "cell_type": "code",
      "execution_count": 158,
      "source": [
        "copy_to_out(sdf.iloc[0], open_in_excel=1) "
      ],
      "outputs": [
        {
          "output_type": "stream",
          "name": "stdout",
          "text": [
            "4h-1or2N-not_first_only-same_GE-DEL1.00/4h-1or2N-not_first_only-same_GE_B07_bc-8.40_nc-7.40/hetero.01.set->\n",
            "!OUT\\4h-1or2N-not_first_only-same_GE_B07_bc-8.40_nc-7.40-hetero.01.set\n",
            "\n",
            "4h-1or2N-not_first_only-same_GE-DEL1.00/4h-1or2N-not_first_only-same_GE_B07_bc-8.40_nc-7.40/hetero.01.xlsx\n"
          ]
        }
      ],
      "metadata": {
        "collapsed": false
      }
    },
    {
      "cell_type": "code",
      "execution_count": 159,
      "source": [
        "sdf = filter_df(\"4h-1or2N-not_first_only-same_GE-DEL1.00\", \"hetero\", -8.95)\n",
        "sdf[display_cols]"
      ],
      "outputs": [
        {
          "output_type": "execute_result",
          "data": {
            "text/plain": [
              "           basename  N_pairs  N_heterodimers  N_homodimers  \\\n",
              "1770  hetero.00.set        4             4.0           0.0   \n",
              "1771  hetero.01.set        4             4.0           0.0   \n",
              "\n",
              "      orthogonality_average  total_IN_mismatches  \\\n",
              "1770              -1.923706                  0.0   \n",
              "1771              -1.876373                  0.0   \n",
              "\n",
              "      total_electrostatic_mismatches  \n",
              "1770                             0.0  \n",
              "1771                             0.0  "
            ],
            "text/html": [
              "<div>\n",
              "<table border=\"1\" class=\"dataframe\">\n",
              "  <thead>\n",
              "    <tr style=\"text-align: right;\">\n",
              "      <th></th>\n",
              "      <th>basename</th>\n",
              "      <th>N_pairs</th>\n",
              "      <th>N_heterodimers</th>\n",
              "      <th>N_homodimers</th>\n",
              "      <th>orthogonality_average</th>\n",
              "      <th>total_IN_mismatches</th>\n",
              "      <th>total_electrostatic_mismatches</th>\n",
              "    </tr>\n",
              "  </thead>\n",
              "  <tbody>\n",
              "    <tr>\n",
              "      <th>1770</th>\n",
              "      <td>hetero.00.set</td>\n",
              "      <td>4</td>\n",
              "      <td>4.0</td>\n",
              "      <td>0.0</td>\n",
              "      <td>-1.923706</td>\n",
              "      <td>0.0</td>\n",
              "      <td>0.0</td>\n",
              "    </tr>\n",
              "    <tr>\n",
              "      <th>1771</th>\n",
              "      <td>hetero.01.set</td>\n",
              "      <td>4</td>\n",
              "      <td>4.0</td>\n",
              "      <td>0.0</td>\n",
              "      <td>-1.876373</td>\n",
              "      <td>0.0</td>\n",
              "      <td>0.0</td>\n",
              "    </tr>\n",
              "  </tbody>\n",
              "</table>\n",
              "</div>"
            ]
          },
          "metadata": {},
          "execution_count": 159
        }
      ],
      "metadata": {
        "collapsed": false
      }
    },
    {
      "cell_type": "code",
      "execution_count": 160,
      "source": [
        "copy_to_out(sdf.iloc[0], open_in_excel=1) "
      ],
      "outputs": [
        {
          "output_type": "stream",
          "name": "stdout",
          "text": [
            "4h-1or2N-not_first_only-same_GE-DEL1.00/4h-1or2N-not_first_only-same_GE_B07_bc-8.95_nc-7.95/hetero.00.set->\n",
            "!OUT\\4h-1or2N-not_first_only-same_GE_B07_bc-8.95_nc-7.95-hetero.00.set\n",
            "\n",
            "4h-1or2N-not_first_only-same_GE-DEL1.00/4h-1or2N-not_first_only-same_GE_B07_bc-8.95_nc-7.95/hetero.00.xlsx\n"
          ]
        }
      ],
      "metadata": {
        "collapsed": false
      }
    },
    {
      "cell_type": "code",
      "execution_count": 163,
      "source": [
        "sdf = filter_df(\"4h-1or2N-not_first_only-same_GE-DEL1.00\", \"hetero\", -7.95)\n",
        "sdf[display_cols]"
      ],
      "outputs": [
        {
          "output_type": "execute_result",
          "data": {
            "text/plain": [
              "           basename  N_pairs  N_heterodimers  N_homodimers  \\\n",
              "1479  hetero.03.set        4             4.0           0.0   \n",
              "1476  hetero.00.set        4             4.0           0.0   \n",
              "1480  hetero.04.set        4             4.0           0.0   \n",
              "1478  hetero.02.set        4             4.0           0.0   \n",
              "1482  hetero.06.set        4             4.0           0.0   \n",
              "1483  hetero.07.set        4             4.0           0.0   \n",
              "1477  hetero.01.set        4             4.0           0.0   \n",
              "1481  hetero.05.set        4             4.0           0.0   \n",
              "\n",
              "      orthogonality_average  total_IN_mismatches  \\\n",
              "1479              -1.609728                  0.0   \n",
              "1476              -1.814064                  1.0   \n",
              "1480              -1.683539                  1.0   \n",
              "1478              -1.678135                  1.0   \n",
              "1482              -1.775320                  2.0   \n",
              "1483              -1.611688                  3.0   \n",
              "1477              -1.639939                  3.0   \n",
              "1481              -1.529135                  5.0   \n",
              "\n",
              "      total_electrostatic_mismatches  \n",
              "1479                             2.0  \n",
              "1476                             0.0  \n",
              "1480                             2.0  \n",
              "1478                             2.0  \n",
              "1482                             0.0  \n",
              "1483                             4.0  \n",
              "1477                             8.0  \n",
              "1481                             8.0  "
            ],
            "text/html": [
              "<div>\n",
              "<table border=\"1\" class=\"dataframe\">\n",
              "  <thead>\n",
              "    <tr style=\"text-align: right;\">\n",
              "      <th></th>\n",
              "      <th>basename</th>\n",
              "      <th>N_pairs</th>\n",
              "      <th>N_heterodimers</th>\n",
              "      <th>N_homodimers</th>\n",
              "      <th>orthogonality_average</th>\n",
              "      <th>total_IN_mismatches</th>\n",
              "      <th>total_electrostatic_mismatches</th>\n",
              "    </tr>\n",
              "  </thead>\n",
              "  <tbody>\n",
              "    <tr>\n",
              "      <th>1479</th>\n",
              "      <td>hetero.03.set</td>\n",
              "      <td>4</td>\n",
              "      <td>4.0</td>\n",
              "      <td>0.0</td>\n",
              "      <td>-1.609728</td>\n",
              "      <td>0.0</td>\n",
              "      <td>2.0</td>\n",
              "    </tr>\n",
              "    <tr>\n",
              "      <th>1476</th>\n",
              "      <td>hetero.00.set</td>\n",
              "      <td>4</td>\n",
              "      <td>4.0</td>\n",
              "      <td>0.0</td>\n",
              "      <td>-1.814064</td>\n",
              "      <td>1.0</td>\n",
              "      <td>0.0</td>\n",
              "    </tr>\n",
              "    <tr>\n",
              "      <th>1480</th>\n",
              "      <td>hetero.04.set</td>\n",
              "      <td>4</td>\n",
              "      <td>4.0</td>\n",
              "      <td>0.0</td>\n",
              "      <td>-1.683539</td>\n",
              "      <td>1.0</td>\n",
              "      <td>2.0</td>\n",
              "    </tr>\n",
              "    <tr>\n",
              "      <th>1478</th>\n",
              "      <td>hetero.02.set</td>\n",
              "      <td>4</td>\n",
              "      <td>4.0</td>\n",
              "      <td>0.0</td>\n",
              "      <td>-1.678135</td>\n",
              "      <td>1.0</td>\n",
              "      <td>2.0</td>\n",
              "    </tr>\n",
              "    <tr>\n",
              "      <th>1482</th>\n",
              "      <td>hetero.06.set</td>\n",
              "      <td>4</td>\n",
              "      <td>4.0</td>\n",
              "      <td>0.0</td>\n",
              "      <td>-1.775320</td>\n",
              "      <td>2.0</td>\n",
              "      <td>0.0</td>\n",
              "    </tr>\n",
              "    <tr>\n",
              "      <th>1483</th>\n",
              "      <td>hetero.07.set</td>\n",
              "      <td>4</td>\n",
              "      <td>4.0</td>\n",
              "      <td>0.0</td>\n",
              "      <td>-1.611688</td>\n",
              "      <td>3.0</td>\n",
              "      <td>4.0</td>\n",
              "    </tr>\n",
              "    <tr>\n",
              "      <th>1477</th>\n",
              "      <td>hetero.01.set</td>\n",
              "      <td>4</td>\n",
              "      <td>4.0</td>\n",
              "      <td>0.0</td>\n",
              "      <td>-1.639939</td>\n",
              "      <td>3.0</td>\n",
              "      <td>8.0</td>\n",
              "    </tr>\n",
              "    <tr>\n",
              "      <th>1481</th>\n",
              "      <td>hetero.05.set</td>\n",
              "      <td>4</td>\n",
              "      <td>4.0</td>\n",
              "      <td>0.0</td>\n",
              "      <td>-1.529135</td>\n",
              "      <td>5.0</td>\n",
              "      <td>8.0</td>\n",
              "    </tr>\n",
              "  </tbody>\n",
              "</table>\n",
              "</div>"
            ]
          },
          "metadata": {},
          "execution_count": 163
        }
      ],
      "metadata": {
        "collapsed": false
      }
    },
    {
      "cell_type": "code",
      "execution_count": 167,
      "source": [
        "copy_to_out(sdf.iloc[0], open_in_excel=1) \n",
        "copy_to_out(sdf.iloc[1], open_in_excel=1) "
      ],
      "outputs": [
        {
          "output_type": "stream",
          "name": "stdout",
          "text": [
            "4h-1or2N-not_first_only-same_GE-DEL1.00/4h-1or2N-not_first_only-same_GE_B07_bc-7.95_nc-6.95/hetero.03.set->\n",
            "!OUT\\4h-1or2N-not_first_only-same_GE_B07_bc-7.95_nc-6.95-hetero.03.set\n",
            "\n",
            "Warning: file does not exists: 4h-1or2N-not_first_only-same_GE-DEL1.00/4h-1or2N-not_first_only-same_GE_B07_bc-7.95_nc-6.95/hetero.03.xlsx\n",
            "4h-1or2N-not_first_only-same_GE-DEL1.00/4h-1or2N-not_first_only-same_GE_B07_bc-7.95_nc-6.95/hetero.03.xlsx\n",
            "4h-1or2N-not_first_only-same_GE-DEL1.00/4h-1or2N-not_first_only-same_GE_B07_bc-7.95_nc-6.95/hetero.00.set->\n",
            "!OUT\\4h-1or2N-not_first_only-same_GE_B07_bc-7.95_nc-6.95-hetero.00.set\n",
            "\n",
            "Warning: file does not exists: 4h-1or2N-not_first_only-same_GE-DEL1.00/4h-1or2N-not_first_only-same_GE_B07_bc-7.95_nc-6.95/hetero.00.xlsx\n",
            "4h-1or2N-not_first_only-same_GE-DEL1.00/4h-1or2N-not_first_only-same_GE_B07_bc-7.95_nc-6.95/hetero.00.xlsx\n"
          ]
        },
        {
          "output_type": "stream",
          "name": "stderr",
          "text": [
            "'4h-1or2N-not_first_only-same_GE-DEL1.00/4h-1or2N-not_first_only-same_GE_B07_bc-7.95_nc-6.95/hetero.03.xlsx' not found\n",
            "'4h-1or2N-not_first_only-same_GE-DEL1.00/4h-1or2N-not_first_only-same_GE_B07_bc-7.95_nc-6.95/hetero.00.xlsx' not found\n"
          ]
        }
      ],
      "metadata": {
        "collapsed": false
      }
    },
    {
      "cell_type": "code",
      "execution_count": null,
      "source": [],
      "outputs": [],
      "metadata": {
        "collapsed": true
      }
    }
  ],
  "metadata": {
    "anaconda-cloud": {},
    "hide_input": false,
    "kernelspec": {
      "display_name": "Python [default]",
      "language": "python",
      "name": "python2"
    },
    "language_info": {
      "codemirror_mode": {
        "name": "ipython",
        "version": 2
      },
      "file_extension": ".py",
      "mimetype": "text/x-python",
      "name": "python",
      "nbconvert_exporter": "python",
      "pygments_lexer": "ipython2",
      "version": "2.7.11"
    },
    "nteract": {
      "version": "0.15.0"
    }
  },
  "nbformat": 4,
  "nbformat_minor": 2
}